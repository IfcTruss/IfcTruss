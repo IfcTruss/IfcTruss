{
 "cells": [
  {
   "cell_type": "code",
   "execution_count": null,
   "metadata": {},
   "outputs": [],
   "source": [
    "# | hide\n",
    "import ifctruss"
   ]
  },
  {
   "cell_type": "markdown",
   "metadata": {},
   "source": [
    "# IfcTruss\n",
    "\n",
    "> Create and calculate trusses in IFC's"
   ]
  },
  {
   "cell_type": "markdown",
   "metadata": {},
   "source": [
    "::: {.callout-note}\n",
    "IfcTruss is currently in the beta stage and is subject to a feature freeze until the end of February. Its main goals are stabilizing the API and improving documentation based on user feedback.\n",
    ":::"
   ]
  },
  {
   "cell_type": "markdown",
   "metadata": {},
   "source": [
    "## Purpose\n",
    "\n",
    "This library is used to create and calculate trusses in the [Industry Foundation Classes (IFC)](https://www.buildingsmart.org/standards/bsi-standards/industry-foundation-classes/) standard. More precisely, the IFC 4.3 version is supported. This version is an [ISO standard](https://www.buildingsmart.org/ifc-4-3-approved-as-a-final-standard/).\n",
    "\n",
    "The following main functions are provided for building, viewing and solving a truss model in IFC:"
   ]
  },
  {
   "cell_type": "code",
   "execution_count": null,
   "metadata": {},
   "outputs": [
    {
     "name": "stdout",
     "output_type": "stream",
     "text": [
      "ifctruss.build\n",
      "ifctruss.view\n",
      "ifctruss.solve\n"
     ]
    }
   ],
   "source": [
    "# | echo: false\n",
    "for i in ifctruss.ifctruss.__all__:\n",
    "    if len(i.split(\"_\")) != 1:\n",
    "        continue\n",
    "    print(f\"ifctruss.{i}\")"
   ]
  },
  {
   "cell_type": "markdown",
   "metadata": {},
   "source": [
    "There are also a few additional side functions that can be used:"
   ]
  },
  {
   "cell_type": "code",
   "execution_count": null,
   "metadata": {},
   "outputs": [
    {
     "name": "stdout",
     "output_type": "stream",
     "text": [
      "ifctruss.save_ods_template\n",
      "ifctruss.save_xlsx_template\n",
      "ifctruss.build_from_ods\n",
      "ifctruss.build_from_xlsx\n",
      "ifctruss.save_result\n"
     ]
    }
   ],
   "source": [
    "# | echo: false\n",
    "for i in ifctruss.ifctruss.__all__:\n",
    "    if len(i.split(\"_\")) == 1:\n",
    "        continue\n",
    "    print(f\"ifctruss.{i}\")"
   ]
  },
  {
   "cell_type": "markdown",
   "metadata": {},
   "source": [
    "Two solvers are available for calculating the trusses. These solvers can also be used below without IFC:"
   ]
  },
  {
   "cell_type": "code",
   "execution_count": null,
   "metadata": {},
   "outputs": [
    {
     "name": "stdout",
     "output_type": "stream",
     "text": [
      "ifctruss.solver.direct_stiffness_method\n",
      "ifctruss.solver.calfem\n"
     ]
    }
   ],
   "source": [
    "# | echo: false\n",
    "for i in ifctruss.solver.__all__:\n",
    "    print(f\"ifctruss.solver.{i}\")"
   ]
  },
  {
   "cell_type": "markdown",
   "metadata": {},
   "source": [
    "Go to the [Getting Started](https://ifctruss.github.io/IfcTruss/00_General/getting_started.html) page to learn more about using this library."
   ]
  },
  {
   "cell_type": "markdown",
   "metadata": {},
   "source": [
    "## Feedback\n",
    "\n",
    "If you have any bugs, improvements, or feature requests, please submit an issue. Use the [OSArch forum](https://community.osarch.org/) to share anything else. When you share something in the [OSArch forum](https://community.osarch.org/), put the library name in the tag. So that someone else has it easier, if they are looking for a post in the [OSArch forum](https://community.osarch.org/) regarding this library.\n",
    "\n",
    "If you have nothing to share, however, like this library, just [star](https://docs.github.com/en/get-started/exploring-projects-on-github/saving-repositories-with-stars) it! This is a great encouragement for the contributors."
   ]
  },
  {
   "cell_type": "markdown",
   "metadata": {},
   "source": [
    "## Code of conduct\n",
    "\n",
    "This project adheres to the Code of Conduct adapted from the [Contributor Covenant][homepage],\n",
    "version 2.1, available at\n",
    "[https://www.contributor-covenant.org/version/2/1/code_of_conduct.html][v2.1].\n",
    "\n",
    "[homepage]: https://www.contributor-covenant.org\n",
    "[v2.1]: https://www.contributor-covenant.org/version/2/1/code_of_conduct.html"
   ]
  },
  {
   "cell_type": "markdown",
   "metadata": {},
   "source": [
    "## Changelog\n",
    "\n",
    "All notable changes to this project will be documented [in this file](https://ifctruss.github.io/IfcTruss/04_History_and_Changelog/changelog.html).\n",
    "\n",
    "The format is based on [Keep a Changelog](https://keepachangelog.com/en/1.0.0/),\n",
    "and this project adheres to [Semantic Versioning](https://semver.org/spec/v2.0.0.html)."
   ]
  },
  {
   "cell_type": "markdown",
   "metadata": {},
   "source": [
    "## Licence\n",
    "\n",
    "Copyright © 2023-2024  IfcTruss Contributors\n",
    "\n",
    "This program is free software: you can redistribute it and/or modify\n",
    "it under the terms of the GNU Lesser General Public License as published by\n",
    "the Free Software Foundation, either version 3 of the License, or\n",
    "(at your option) any later version.\n",
    "\n",
    "This program is distributed in the hope that it will be useful,\n",
    "but WITHOUT ANY WARRANTY; without even the implied warranty of\n",
    "MERCHANTABILITY or FITNESS FOR A PARTICULAR PURPOSE.  See the\n",
    "GNU Lesser General Public License for more details.\n",
    "\n",
    "You should have received a copy of the GNU Lesser General Public License\n",
    "along with this program.  If not, see <https://www.gnu.org/licenses/>."
   ]
  },
  {
   "cell_type": "code",
   "execution_count": null,
   "metadata": {},
   "outputs": [],
   "source": []
  }
 ],
 "metadata": {
  "kernelspec": {
   "display_name": "python3",
   "language": "python",
   "name": "python3"
  }
 },
 "nbformat": 4,
 "nbformat_minor": 4
}
