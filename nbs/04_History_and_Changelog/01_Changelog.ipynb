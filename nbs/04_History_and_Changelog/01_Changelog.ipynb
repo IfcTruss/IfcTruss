{
 "cells": [
  {
   "cell_type": "markdown",
   "id": "5b26c048-cf26-4976-b6d6-03ae180c2763",
   "metadata": {},
   "source": [
    "# Changelog\n",
    "\n",
    "> All notable changes to this project will be documented in this file."
   ]
  },
  {
   "cell_type": "markdown",
   "id": "0746cba2-02ec-4cd0-80d9-da8d387d5d0c",
   "metadata": {},
   "source": [
    "The format is based on [Keep a Changelog](https://keepachangelog.com/en/1.0.0/),\n",
    "and this project adheres to [Semantic Versioning](https://semver.org/spec/v2.0.0.html)."
   ]
  },
  {
   "cell_type": "code",
   "execution_count": null,
   "id": "2a4c4258-7851-4e6a-a963-01f3a7e1cb4c",
   "metadata": {},
   "outputs": [],
   "source": []
  }
 ],
 "metadata": {
  "kernelspec": {
   "display_name": "python3",
   "language": "python",
   "name": "python3"
  }
 },
 "nbformat": 4,
 "nbformat_minor": 5
}
