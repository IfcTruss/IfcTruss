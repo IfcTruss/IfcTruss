{
 "cells": [
  {
   "cell_type": "markdown",
   "id": "5b26c048-cf26-4976-b6d6-03ae180c2763",
   "metadata": {},
   "source": [
    "# Changelog\n",
    "\n",
    "> All notable changes to this project will be documented in this file."
   ]
  },
  {
   "cell_type": "markdown",
   "id": "0746cba2-02ec-4cd0-80d9-da8d387d5d0c",
   "metadata": {},
   "source": [
    "The format is based on [Keep a Changelog](https://keepachangelog.com/en/1.0.0/),\n",
    "and this project adheres to [Semantic Versioning](https://semver.org/spec/v2.0.0.html)."
   ]
  },
  {
   "cell_type": "markdown",
   "id": "a708d3fe-665c-4d79-99fc-4265bcfa6417",
   "metadata": {},
   "source": [
    "## [0.1.1] - 2024-01-27\n",
    "\n",
    "### Fixed\n",
    "\n",
    "- Error in metadata on PyPI fixed\n",
    "\n",
    "[0.1.1]: https://github.com/olivierlacan/keep-a-changelog/compare/v0.1.0...v0.1.1"
   ]
  },
  {
   "cell_type": "markdown",
   "id": "0284f46e-562b-4be8-ba77-b0e9faf1ddfd",
   "metadata": {},
   "source": [
    "## [0.1.0] - 2024-01-27\n",
    "\n",
    "### Added\n",
    "\n",
    "- First beta release\n",
    "\n",
    "[0.1.0]: https://github.com/IfcTruss/IfcTruss/releases/tag/v0.1.0"
   ]
  },
  {
   "cell_type": "code",
   "execution_count": null,
   "id": "e145d464-5f9c-4863-b7e9-55c0015126b4",
   "metadata": {},
   "outputs": [],
   "source": []
  }
 ],
 "metadata": {
  "kernelspec": {
   "display_name": "python3",
   "language": "python",
   "name": "python3"
  }
 },
 "nbformat": 4,
 "nbformat_minor": 5
}
