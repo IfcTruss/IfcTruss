{
 "cells": [
  {
   "cell_type": "markdown",
   "id": "2925b9d8-54ac-406a-bd3d-0909db40a2d8",
   "metadata": {},
   "source": [
    "# History of the software"
   ]
  },
  {
   "cell_type": "markdown",
   "id": "53ab69f6-9b92-419a-83e9-807830d738bd",
   "metadata": {},
   "source": [
    "IfcTruss was created in the late 2023 by Ashwin Kulasegaram at Karlsruhe University of Applied Sciences (HKA, see [https://www.h-ka.de/]( https://www.h-ka.de/en/)) in Germany as part of his bachelor's thesis in the [Civil Engineering Tri-national](https://www.h-ka.de/en/study/study-in-german/bachelor/civil-engineering-tri-national/profile) Degree Program.\n",
    "The bachelor thesis was supervised by Prof. Dr.-Ing. Reinhard Wimmer and Dipl.-Ing. Andreas Geiger."
   ]
  },
  {
   "cell_type": "code",
   "execution_count": null,
   "id": "bb4bfb18-f4fa-4559-a059-4a73d6887bef",
   "metadata": {},
   "outputs": [],
   "source": []
  }
 ],
 "metadata": {
  "kernelspec": {
   "display_name": "python3",
   "language": "python",
   "name": "python3"
  }
 },
 "nbformat": 4,
 "nbformat_minor": 5
}
