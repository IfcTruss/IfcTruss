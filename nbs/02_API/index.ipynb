{
 "cells": [
  {
   "cell_type": "raw",
   "id": "0f1daf03-260d-45b0-856d-97fb10106612",
   "metadata": {},
   "source": [
    "---\n",
    "title: API\n",
    "listing:\n",
    "  fields: [title, description]\n",
    "  type: table\n",
    "  sort-ui: false\n",
    "  filter-ui: false\n",
    "---"
   ]
  },
  {
   "cell_type": "markdown",
   "id": "89ae701f-fc7c-447f-bcc8-9f21902192fc",
   "metadata": {},
   "source": [
    "This section contains API details for each of IfcTruss's python modules."
   ]
  },
  {
   "cell_type": "code",
   "execution_count": null,
   "id": "4fc42789-0f8e-4d3c-bdfe-3427e8864115",
   "metadata": {},
   "outputs": [],
   "source": []
  }
 ],
 "metadata": {
  "kernelspec": {
   "display_name": "python3",
   "language": "python",
   "name": "python3"
  }
 },
 "nbformat": 4,
 "nbformat_minor": 5
}
