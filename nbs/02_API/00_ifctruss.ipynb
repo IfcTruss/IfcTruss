{
 "cells": [
  {
   "cell_type": "markdown",
   "metadata": {},
   "source": [
    "# ifctruss\n",
    "\n",
    "> Core function of IfcTruss"
   ]
  },
  {
   "cell_type": "code",
   "execution_count": null,
   "metadata": {},
   "outputs": [],
   "source": [
    "# | default_exp ifctruss"
   ]
  },
  {
   "cell_type": "code",
   "execution_count": null,
   "metadata": {},
   "outputs": [],
   "source": [
    "# | export\n",
    "\n",
    "# Copyright © 2023-2024  IfcTruss Contributors\n",
    "#\n",
    "# This program is free software: you can redistribute it and/or modify\n",
    "# it under the terms of the GNU Lesser General Public License as published by\n",
    "# the Free Software Foundation, either version 3 of the License, or\n",
    "# (at your option) any later version.\n",
    "#\n",
    "# This program is distributed in the hope that it will be useful,\n",
    "# but WITHOUT ANY WARRANTY; without even the implied warranty of\n",
    "# MERCHANTABILITY or FITNESS FOR A PARTICULAR PURPOSE.  See the\n",
    "# GNU Lesser General Public License for more details.\n",
    "#\n",
    "# You should have received a copy of the GNU Lesser General Public License\n",
    "# along with this program.  If not, see <https://www.gnu.org/licenses/>."
   ]
  },
  {
   "cell_type": "code",
   "execution_count": null,
   "metadata": {},
   "outputs": [],
   "source": [
    "# | hide\n",
    "import nbdev\n",
    "import nbdev.showdoc\n",
    "import copy"
   ]
  },
  {
   "cell_type": "code",
   "execution_count": null,
   "metadata": {},
   "outputs": [],
   "source": [
    "# | export\n",
    "from collections import namedtuple\n",
    "from typing import NamedTuple\n",
    "import ifcopenshell\n",
    "import pandas as pd"
   ]
  },
  {
   "cell_type": "code",
   "execution_count": null,
   "metadata": {},
   "outputs": [],
   "source": [
    "# | export\n",
    "import ifctruss._structural_analysis_model\n",
    "import ifctruss._view\n",
    "import ifctruss._save_result\n",
    "import ifctruss._example\n",
    "import ifctruss.solver"
   ]
  },
  {
   "cell_type": "markdown",
   "metadata": {},
   "source": [
    "## Create spreadsheet template"
   ]
  },
  {
   "cell_type": "code",
   "execution_count": null,
   "metadata": {},
   "outputs": [],
   "source": [
    "# | hide\n",
    "# | export\n",
    "_metadata = pd.DataFrame(\n",
    "    [\"https://github.com/kulasegaram/IfcTruss\",\n",
    "     \"\"], columns=[\"Metadata\"], index=[\"Repo\", \"\"]\n",
    ")"
   ]
  },
  {
   "cell_type": "code",
   "execution_count": null,
   "metadata": {},
   "outputs": [],
   "source": [
    "# | export\n",
    "def save_ods_template(\n",
    "    ods_path: str = \"ifctruss-template.ods\",  # Path to ods file\n",
    "    load_groups: bool = False,  # Create worksheet for information regarding IfcStructuralLoadGroup's\n",
    "):\n",
    "    with pd.ExcelWriter(ods_path, engine=\"odf\") as writer:\n",
    "        _metadata.to_excel(writer, sheet_name=\"IfcTruss\", index=True)\n",
    "        ifctruss._example.nodes.to_excel(\n",
    "            writer, sheet_name=\"Nodes\", index=False\n",
    "        )\n",
    "        ifctruss._example.bars.to_excel(\n",
    "            writer, sheet_name=\"Bars\", index=False\n",
    "        )\n",
    "        ifctruss._example.point_loads.to_excel(\n",
    "            writer, sheet_name=\"Point_Loads\", index=False\n",
    "        )\n",
    "        if load_groups:\n",
    "            ifctruss._example.load_groups.to_excel(\n",
    "                writer, sheet_name=\"Load_Groups\", index=False\n",
    "            )"
   ]
  },
  {
   "cell_type": "markdown",
   "metadata": {},
   "source": [
    "::: {.callout-note}\n",
    "If `load_groups` is `False`, no worksheet `Load_Groups` will be created.\n",
    ":::"
   ]
  },
  {
   "cell_type": "code",
   "execution_count": null,
   "metadata": {},
   "outputs": [],
   "source": [
    "# | hide\n",
    "save_ods_template()"
   ]
  },
  {
   "cell_type": "code",
   "execution_count": null,
   "metadata": {},
   "outputs": [],
   "source": [
    "# | export\n",
    "def save_xlsx_template(\n",
    "    xlsx_path: str = \"ifctruss-template.xlsx\",  # Path to xlsx file\n",
    "    load_groups: bool = False,  # Create worksheet for information regarding IfcStructuralLoadGroup's\n",
    "):\n",
    "    with pd.ExcelWriter(xlsx_path, engine=\"openpyxl\") as writer:\n",
    "        _metadata.to_excel(writer, sheet_name=\"IfcTruss\", index=True)\n",
    "        ifctruss._example.nodes.to_excel(\n",
    "            writer, sheet_name=\"Nodes\", index=False\n",
    "        )\n",
    "        ifctruss._example.bars.to_excel(\n",
    "            writer, sheet_name=\"Bars\", index=False\n",
    "        )\n",
    "        ifctruss._example.point_loads.to_excel(\n",
    "            writer, sheet_name=\"Point_Loads\", index=False\n",
    "        )\n",
    "        if load_groups:\n",
    "            ifctruss._example.load_groups.to_excel(\n",
    "                writer, sheet_name=\"Load_Groups\", index=False\n",
    "            )"
   ]
  },
  {
   "cell_type": "markdown",
   "metadata": {},
   "source": [
    "::: {.callout-note}\n",
    "If `load_groups` is `False`, no worksheet `Load_Groups` will be created.\n",
    ":::"
   ]
  },
  {
   "cell_type": "code",
   "execution_count": null,
   "metadata": {},
   "outputs": [],
   "source": [
    "# | hide\n",
    "save_xlsx_template()"
   ]
  },
  {
   "cell_type": "markdown",
   "metadata": {},
   "source": [
    "## Build a IFC"
   ]
  },
  {
   "cell_type": "code",
   "execution_count": null,
   "metadata": {},
   "outputs": [],
   "source": [
    "# | export\n",
    "def build(\n",
    "    nodes: pd.DataFrame,  # Pandas DataFrame with information regarding IfcStructuralPointConnection's\n",
    "    bars: pd.DataFrame,  # Pandas DataFrame with information regarding IfcStructuralCurveMember's\n",
    "    point_loads: pd.DataFrame,  # Pandas DataFrame with information regarding IfcStructuralLoadSingleForce's\n",
    "    load_groups: pd.DataFrame\n",
    "    | None = None,  # Pandas DataFrame with information regarding IfcStructuralLoadGroup's\n",
    ") -> ifcopenshell.file:  # IFC model\n",
    "    if load_groups is None:\n",
    "        # Create one load group and put all point loads into it\n",
    "        load_groups = point_loads[[\"Point_Load\"]].copy()\n",
    "        load_groups[\"Load_Group\"] = 1\n",
    "\n",
    "    truss = (\n",
    "        ifctruss._structural_analysis_model.StructuralAnalysisModelCreation()\n",
    "    )\n",
    "    truss.create_basic_structure()\n",
    "    truss.create_from_DataFrame_a_truss_model(\n",
    "        Bars=bars,\n",
    "        Nodes=nodes,\n",
    "        Point_Loads=point_loads,\n",
    "        Load_Groups=load_groups,\n",
    "    )\n",
    "    return truss.ifc_model"
   ]
  },
  {
   "cell_type": "markdown",
   "metadata": {},
   "source": [
    "::: {.callout-note}\n",
    "If `load_groups` is `None`, only one IfcStructuralLoadGroup is created and all IfcStructuralLoadSingleForce are related to it.\n",
    ":::"
   ]
  },
  {
   "cell_type": "code",
   "execution_count": null,
   "metadata": {},
   "outputs": [],
   "source": [
    "# | hide\n",
    "import ifcopenshell.validate\n",
    "from rich import print"
   ]
  },
  {
   "cell_type": "code",
   "execution_count": null,
   "metadata": {},
   "outputs": [],
   "source": [
    "# | hide\n",
    "ifc_model = build(**ifctruss._example.dfs)"
   ]
  },
  {
   "cell_type": "code",
   "execution_count": null,
   "metadata": {},
   "outputs": [],
   "source": [
    "# | hide\n",
    "json_logger = ifcopenshell.validate.json_logger()\n",
    "ifcopenshell.validate.validate(ifc_model, json_logger)\n",
    "json_list = json_logger.statements\n",
    "if json_list:\n",
    "    for i in json_list:\n",
    "        print(i)"
   ]
  },
  {
   "cell_type": "code",
   "execution_count": null,
   "metadata": {},
   "outputs": [],
   "source": [
    "# | hide\n",
    "# An empty list will evaluate to False.\n",
    "assert not json_list"
   ]
  },
  {
   "cell_type": "code",
   "execution_count": null,
   "metadata": {},
   "outputs": [],
   "source": [
    "# | export\n",
    "def build_from_ods(\n",
    "    ods_path: str,  # Path to ods file\n",
    ") -> ifcopenshell.file:  # IFC model\n",
    "    odf = pd.ExcelFile(ods_path, engine=\"odf\")\n",
    "\n",
    "    Nodes_dtype = {\n",
    "        \"Coordinate_X\": float,\n",
    "        \"Coordinate_Y\": float,\n",
    "        \"Coordinate_Z\": float,\n",
    "        \"Translational_X\": bool,\n",
    "        \"Translational_Y\": bool,\n",
    "        \"Translational_Z\": bool,\n",
    "    }\n",
    "    # try:\n",
    "    Nodes = odf.parse(\"Nodes\", dtype=Nodes_dtype)\n",
    "\n",
    "    Bars_dtype = {\n",
    "        \"Cross-sectional_area\": float,\n",
    "        \"Modulus_of_elasticity\": float,\n",
    "    }\n",
    "    # try:\n",
    "    Bars = odf.parse(\"Bars\", dtype=Bars_dtype)\n",
    "\n",
    "    Point_Loads_dtype = {\n",
    "        \"Force_X\": float,\n",
    "        \"Force_Y\": float,\n",
    "        \"Force_Z\": float,\n",
    "    }\n",
    "    # try:\n",
    "    Point_Loads = odf.parse(\"Point_Loads\", dtype=Point_Loads_dtype)\n",
    "\n",
    "    if \"Load_Groups\" in odf.sheet_names:\n",
    "        # try:\n",
    "        Load_Groups = odf.parse(\"Load_Groups\")\n",
    "    else:\n",
    "        Load_Groups = None\n",
    "\n",
    "    ifc_model = build(\n",
    "        bars=Bars,\n",
    "        nodes=Nodes,\n",
    "        point_loads=Point_Loads,\n",
    "        load_groups=Load_Groups,\n",
    "    )\n",
    "    return ifc_model"
   ]
  },
  {
   "cell_type": "markdown",
   "metadata": {},
   "source": [
    "::: {.callout-note}\n",
    "If there is no worksheet `Load_Groups`, only one IfcStructuralLoadGroup is created and all IfcStructuralLoadSingleForce are related to it.\n",
    ":::"
   ]
  },
  {
   "cell_type": "code",
   "execution_count": null,
   "metadata": {},
   "outputs": [],
   "source": [
    "# | hide\n",
    "ifc_model = build_from_ods(\"ifctruss-template.ods\")"
   ]
  },
  {
   "cell_type": "code",
   "execution_count": null,
   "metadata": {},
   "outputs": [],
   "source": [
    "# | export\n",
    "def build_from_xlsx(\n",
    "    xlsx_path: str,  # Path to xlsx file\n",
    ") -> ifcopenshell.file:  # IFC model\n",
    "    xlsx = pd.ExcelFile(xlsx_path, engine=\"openpyxl\")\n",
    "\n",
    "    Nodes_dtype = {\n",
    "        \"Coordinate_X\": float,\n",
    "        \"Coordinate_Y\": float,\n",
    "        \"Coordinate_Z\": float,\n",
    "        \"Translational_X\": bool,\n",
    "        \"Translational_Y\": bool,\n",
    "        \"Translational_Z\": bool,\n",
    "    }\n",
    "    # try:\n",
    "    Nodes = xlsx.parse(\"Nodes\", dtype=Nodes_dtype)\n",
    "\n",
    "    Bars_dtype = {\n",
    "        \"Cross-sectional_area\": float,\n",
    "        \"Modulus_of_elasticity\": float,\n",
    "    }\n",
    "    # try:\n",
    "    Bars = xlsx.parse(\"Bars\", dtype=Bars_dtype)\n",
    "\n",
    "    Point_Loads_dtype = {\n",
    "        \"Force_X\": float,\n",
    "        \"Force_Y\": float,\n",
    "        \"Force_Z\": float,\n",
    "    }\n",
    "    # try:\n",
    "    Point_Loads = xlsx.parse(\"Point_Loads\", dtype=Point_Loads_dtype)\n",
    "\n",
    "    if \"Load_Groups\" in xlsx.sheet_names:\n",
    "        # try:\n",
    "        Load_Groups = xlsx.parse(\"Load_Groups\")\n",
    "    else:\n",
    "        Load_Groups = None\n",
    "\n",
    "    ifc_model = build(\n",
    "        bars=Bars,\n",
    "        nodes=Nodes,\n",
    "        point_loads=Point_Loads,\n",
    "        load_groups=Load_Groups,\n",
    "    )\n",
    "    return ifc_model"
   ]
  },
  {
   "cell_type": "markdown",
   "metadata": {},
   "source": [
    "::: {.callout-note}\n",
    "If there is no worksheet `Load_Groups`, only one IfcStructuralLoadGroup is created and all IfcStructuralLoadSingleForce are related to it.\n",
    ":::"
   ]
  },
  {
   "cell_type": "code",
   "execution_count": null,
   "metadata": {},
   "outputs": [],
   "source": [
    "# | hide\n",
    "ifc_model = build_from_xlsx(\"ifctruss-template.xlsx\")"
   ]
  },
  {
   "cell_type": "markdown",
   "metadata": {},
   "source": [
    "## View as DataFrame"
   ]
  },
  {
   "cell_type": "code",
   "execution_count": null,
   "metadata": {},
   "outputs": [],
   "source": [
    "# | export\n",
    "def _determination_of_structural_analysis_model_load_group(\n",
    "    model,\n",
    "    structural_analysis_model,\n",
    "    load_group,\n",
    "):\n",
    "    class IfcStructuralAnalysisModelException(Exception):\n",
    "        pass\n",
    "\n",
    "    if structural_analysis_model is None:\n",
    "        structural_analysis_models = model.by_type(\n",
    "            \"IfcStructuralAnalysisModel\"\n",
    "        )\n",
    "        structural_analysis_models_count = len(structural_analysis_models)\n",
    "        if structural_analysis_models_count == 0:\n",
    "            raise IfcStructuralAnalysisModelException(\n",
    "                \"No IfcStructuralAnalysisModel found\"\n",
    "            )\n",
    "        elif structural_analysis_models_count == 1:\n",
    "            structural_analysis_model = structural_analysis_models[\n",
    "                0\n",
    "            ].GlobalId\n",
    "        elif structural_analysis_models_count > 1:\n",
    "            raise IfcStructuralAnalysisModelException(\n",
    "                f\"Found {structural_analysis_models_count} IfcStructuralAnalysisModel - please provide the GlobalId\"\n",
    "            )\n",
    "\n",
    "    class IfcStructuralLoadGroupException(Exception):\n",
    "        pass\n",
    "\n",
    "    if load_group is None:\n",
    "        load_groups = model.by_type(\"IfcStructuralLoadGroup\")\n",
    "        load_groups_count = len(load_groups)\n",
    "        if load_groups_count == 0:\n",
    "            raise IfcStructuralAnalysisModelException(\n",
    "                \"No IfcStructuralLoadGroup found\"\n",
    "            )\n",
    "        elif load_groups_count == 1:\n",
    "            load_group = load_groups[0].GlobalId\n",
    "        elif load_groups_count > 1:\n",
    "            raise IfcStructuralLoadGroupException(\n",
    "                f\"Found {load_groups_count} IfcStructuralLoadGroup - please provide the GlobalId\"\n",
    "            )\n",
    "\n",
    "    return structural_analysis_model, load_group"
   ]
  },
  {
   "cell_type": "code",
   "execution_count": null,
   "metadata": {},
   "outputs": [],
   "source": [
    "# | export\n",
    "def view(\n",
    "    model: ifcopenshell.file,  # IFC model\n",
    "    structural_analysis_model: str\n",
    "    | None = None,  # str: IfcStructuralAnalysisModel GlobalId\n",
    "    load_group: str | None = None,  # str: IfcStructuralLoadGroup GlobalId\n",
    "    result_group: str\n",
    "    | bool = False,  # str: IfcStructuralResultGroup GlobalId\n",
    ") -> NamedTuple:  # NamedTuple with Pandas DataFrame's (and str's)\n",
    "    (\n",
    "        structural_analysis_model,\n",
    "        load_group,\n",
    "    ) = _determination_of_structural_analysis_model_load_group(\n",
    "        model, structural_analysis_model, load_group\n",
    "    )\n",
    "\n",
    "    view_object = ifctruss._view.View(\n",
    "        model=model,\n",
    "        structural_analysis_model=structural_analysis_model,\n",
    "        load_group=load_group,\n",
    "    )\n",
    "\n",
    "    view_object.get_nodes_and_bars()\n",
    "    nodes_df = view_object.nodes_df\n",
    "    bars_df = view_object.bars_df\n",
    "\n",
    "    view_object.get_point_loads()\n",
    "    point_loads_df = view_object.point_loads_df\n",
    "\n",
    "    if not result_group:\n",
    "        dfs = namedtuple(\"df\", \"nodes bars point_loads\")\n",
    "\n",
    "        return dfs(nodes_df, bars_df, point_loads_df)\n",
    "\n",
    "    elif result_group and not isinstance(result_group, str):\n",
    "\n",
    "        class IfcStructuralResultGroupException(Exception):\n",
    "            pass\n",
    "\n",
    "        result_groups = model.by_type(\"IfcStructuralResultGroup\")\n",
    "        result_groups_count = len(result_groups)\n",
    "        if result_groups_count == 0:\n",
    "            raise IfcStructuralResultGroupException(\n",
    "                \"No IfcStructuralResultGroup found\"\n",
    "            )\n",
    "        elif result_groups_count == 1:\n",
    "            result_group = result_groups[0].GlobalId\n",
    "        elif result_groups_count > 1:\n",
    "            raise IfcStructuralResultGroupException(\n",
    "                f\"Found {result_groups_count} IfcStructuralResultGroup - please provide the GlobalId\"\n",
    "            )\n",
    "\n",
    "    view_object.get_result_group(result_group)\n",
    "    theory_type = view_object.theory_type\n",
    "    is_linear = view_object.is_linear\n",
    "\n",
    "    view_object.get_displacements()\n",
    "    displacments_df = view_object.displacments_df\n",
    "\n",
    "    view_object.get_forces()\n",
    "    forces_df = view_object.forces_df\n",
    "\n",
    "    view_object.get_normal_forces()\n",
    "    normal_forces_df = view_object.normal_forces_df\n",
    "\n",
    "    dfs = namedtuple(\n",
    "        \"df\",\n",
    "        \"nodes bars point_loads displacments forces normal_forces theory_type is_linear\",\n",
    "    )\n",
    "    return dfs(\n",
    "        nodes_df,\n",
    "        bars_df,\n",
    "        point_loads_df,\n",
    "        displacments_df,\n",
    "        forces_df,\n",
    "        normal_forces_df,\n",
    "        theory_type,\n",
    "        is_linear,\n",
    "    )"
   ]
  },
  {
   "cell_type": "markdown",
   "metadata": {},
   "source": [
    "::: {.callout-note}\n",
    "If `structural_analysis_model=None` or `load_group=None` or `result_group=True`: IfcStructuralAnalysisModel or IfcStructuralLoadGroup or IfcStructuralResultGroup will be searched and if there is only one possibility, also used, if not, the user will be requested to provide the respective GlobalId. \n",
    "If `result_group` is `False`, there will be no attempt to fetch the information regarding the IfcStructuralResultGroup.\n",
    ":::"
   ]
  },
  {
   "cell_type": "code",
   "execution_count": null,
   "metadata": {},
   "outputs": [],
   "source": [
    "# | hide\n",
    "nodes, bars, point_loads = view(ifc_model)"
   ]
  },
  {
   "cell_type": "code",
   "execution_count": null,
   "metadata": {},
   "outputs": [],
   "source": [
    "# | hide\n",
    "dfs = view(ifc_model)"
   ]
  },
  {
   "cell_type": "markdown",
   "metadata": {},
   "source": [
    "## Calculate and save result in IFC"
   ]
  },
  {
   "cell_type": "code",
   "execution_count": null,
   "metadata": {},
   "outputs": [],
   "source": [
    "# | export\n",
    "def save_result(\n",
    "    model: ifcopenshell.file,  # IFC model\n",
    "    displacments: pd.DataFrame,  # Pandas DataFrame with information regarding IfcStructuralPointReaction IfcStructuralLoadSingleDisplacement\n",
    "    forces: pd.DataFrame,  # Pandas DataFrame with information regarding IfcStructuralPointReaction IfcStructuralLoadSingleForce\n",
    "    normal_forces: pd.DataFrame,  # Pandas DataFrame with information regarding IfcStructuralCurveReaction\n",
    "    theory_type: str,  # IfcStructuralResultGroup TheoryType\n",
    "    is_linear: str,  # IfcStructuralResultGroup IsLinear\n",
    "    structural_analysis_model: str\n",
    "    | None = None,  # str: IfcStructuralAnalysisModel GlobalId\n",
    "    load_group: str | None = None,  # str: IfcStructuralLoadGroup GlobalId\n",
    "):\n",
    "    (\n",
    "        structural_analysis_model,\n",
    "        load_group,\n",
    "    ) = _determination_of_structural_analysis_model_load_group(\n",
    "        model, structural_analysis_model, load_group\n",
    "    )\n",
    "\n",
    "    save_result_object = ifctruss._save_result.SaveResult(\n",
    "        model=model,\n",
    "        structural_analysis_model=structural_analysis_model,\n",
    "        load_group=load_group,\n",
    "        theory_type=theory_type,\n",
    "        is_linear=is_linear,\n",
    "        displacments=displacments,\n",
    "        forces=forces,\n",
    "        normal_forces=normal_forces,\n",
    "    )\n",
    "    save_result_object.create_structural_result_group()\n",
    "    save_result_object.create_displacments()\n",
    "    save_result_object.create_forces()\n",
    "    save_result_object.create_normal_forces()\n",
    "    save_result_object.assign_to_the_result_group()"
   ]
  },
  {
   "cell_type": "markdown",
   "metadata": {},
   "source": [
    "::: {.callout-note}\n",
    "If `structural_analysis_model=None` or `load_group=None`: IfcStructuralAnalysisModel or IfcStructuralLoadGroup will be searched and if there is only one possibility, also used, if not, the user will be requested to provide the respective GlobalId.\n",
    ":::"
   ]
  },
  {
   "cell_type": "code",
   "execution_count": null,
   "metadata": {},
   "outputs": [],
   "source": [
    "# | export\n",
    "def solve(\n",
    "    model: ifcopenshell.file,  # IFC model\n",
    "    structural_analysis_model=None,  # str: IfcStructuralAnalysisModel GlobalId\n",
    "    load_group=None,  # str: IfcStructuralLoadGroup GlobalId\n",
    "    solver=\"direct_stiffness_method\",  # str: [\"direct_stiffness_method\", \"calfem\"]\n",
    "):\n",
    "    solver = solver.lower()\n",
    "    (\n",
    "        structural_analysis_model,\n",
    "        load_group,\n",
    "    ) = _determination_of_structural_analysis_model_load_group(\n",
    "        model, structural_analysis_model, load_group\n",
    "    )\n",
    "\n",
    "    dfs = view(\n",
    "        model,\n",
    "        structural_analysis_model=structural_analysis_model,\n",
    "        load_group=load_group,\n",
    "    )._asdict()\n",
    "\n",
    "    map_name_to_solver = {\n",
    "        \"direct_stiffness_method\": ifctruss.solver.direct_stiffness_method,\n",
    "        \"calfem\": ifctruss.solver.calfem,\n",
    "    }\n",
    "    if solver not in map_name_to_solver:\n",
    "        pass  # raise something\n",
    "\n",
    "    results = map_name_to_solver[solver](**dfs)._asdict()\n",
    "\n",
    "    # save result in ifc\n",
    "    save_result(\n",
    "        model,\n",
    "        **results,\n",
    "        structural_analysis_model=structural_analysis_model,\n",
    "        load_group=load_group,\n",
    "    )"
   ]
  },
  {
   "cell_type": "markdown",
   "metadata": {},
   "source": [
    "::: {.callout-note}\n",
    "If `structural_analysis_model=None` or `load_group=None`: IfcStructuralAnalysisModel or IfcStructuralLoadGroup will be searched and if there is only one possibility, also used, if not, the user will be requested to provide the respective GlobalId.\n",
    ":::"
   ]
  },
  {
   "cell_type": "code",
   "execution_count": null,
   "metadata": {},
   "outputs": [],
   "source": [
    "# | hide\n",
    "ifc_model.write(\"truss.ifc\")\n",
    "solve(ifc_model)"
   ]
  },
  {
   "cell_type": "code",
   "execution_count": null,
   "metadata": {},
   "outputs": [],
   "source": [
    "# | hide\n",
    "model_calfem = ifcopenshell.open(\"truss.ifc\")"
   ]
  },
  {
   "cell_type": "code",
   "execution_count": null,
   "metadata": {},
   "outputs": [],
   "source": [
    "# | hide\n",
    "solve(model_calfem, solver=\"calfem\")"
   ]
  },
  {
   "cell_type": "code",
   "execution_count": null,
   "metadata": {},
   "outputs": [],
   "source": [
    "# | hide\n",
    "view_dfs = view(ifc_model, result_group=True)"
   ]
  },
  {
   "cell_type": "code",
   "execution_count": null,
   "metadata": {},
   "outputs": [
    {
     "ename": "IfcStructuralResultGroupException",
     "evalue": "Found 2 IfcStructuralResultGroup - please provide the GlobalId",
     "output_type": "error",
     "traceback": [
      "\u001b[0;31m---------------------------------------------------------------------------\u001b[0m",
      "\u001b[0;31mIfcStructuralResultGroupException\u001b[0m         Traceback (most recent call last)",
      "Cell \u001b[0;32mIn[30], line 2\u001b[0m\n\u001b[1;32m      1\u001b[0m \u001b[38;5;66;03m# | hide\u001b[39;00m\n\u001b[0;32m----> 2\u001b[0m view_dfs \u001b[38;5;241m=\u001b[39m \u001b[43mview\u001b[49m\u001b[43m(\u001b[49m\u001b[43mmodel_calfem\u001b[49m\u001b[43m,\u001b[49m\u001b[43m \u001b[49m\u001b[43mresult_group\u001b[49m\u001b[38;5;241;43m=\u001b[39;49m\u001b[38;5;28;43;01mTrue\u001b[39;49;00m\u001b[43m)\u001b[49m\n",
      "Cell \u001b[0;32mIn[21], line 49\u001b[0m, in \u001b[0;36mview\u001b[0;34m(model, structural_analysis_model, load_group, result_group)\u001b[0m\n\u001b[1;32m     47\u001b[0m         result_group \u001b[38;5;241m=\u001b[39m result_groups[\u001b[38;5;241m0\u001b[39m]\u001b[38;5;241m.\u001b[39mGlobalId\n\u001b[1;32m     48\u001b[0m     \u001b[38;5;28;01melif\u001b[39;00m result_groups_count \u001b[38;5;241m>\u001b[39m \u001b[38;5;241m1\u001b[39m:\n\u001b[0;32m---> 49\u001b[0m         \u001b[38;5;28;01mraise\u001b[39;00m IfcStructuralResultGroupException(\n\u001b[1;32m     50\u001b[0m             \u001b[38;5;124mf\u001b[39m\u001b[38;5;124m\"\u001b[39m\u001b[38;5;124mFound \u001b[39m\u001b[38;5;132;01m{\u001b[39;00mresult_groups_count\u001b[38;5;132;01m}\u001b[39;00m\u001b[38;5;124m IfcStructuralResultGroup - please provide the GlobalId\u001b[39m\u001b[38;5;124m\"\u001b[39m\n\u001b[1;32m     51\u001b[0m         )\n\u001b[1;32m     53\u001b[0m view_object\u001b[38;5;241m.\u001b[39mget_result_group(result_group)\n\u001b[1;32m     54\u001b[0m theory_type \u001b[38;5;241m=\u001b[39m view_object\u001b[38;5;241m.\u001b[39mtheory_type\n",
      "\u001b[0;31mIfcStructuralResultGroupException\u001b[0m: Found 2 IfcStructuralResultGroup - please provide the GlobalId"
     ]
    }
   ],
   "source": [
    "# | hide\n",
    "view_dfs = view(model_calfem, result_group=True)"
   ]
  },
  {
   "cell_type": "code",
   "execution_count": null,
   "metadata": {},
   "outputs": [],
   "source": [
    "# | hide\n",
    "nbdev.nbdev_export()"
   ]
  },
  {
   "cell_type": "code",
   "execution_count": null,
   "metadata": {},
   "outputs": [],
   "source": []
  }
 ],
 "metadata": {
  "kernelspec": {
   "display_name": "python3",
   "language": "python",
   "name": "python3"
  }
 },
 "nbformat": 4,
 "nbformat_minor": 4
}
