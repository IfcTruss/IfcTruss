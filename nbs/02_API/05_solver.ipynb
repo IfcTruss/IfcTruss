{
 "cells": [
  {
   "cell_type": "markdown",
   "id": "e1ea819e-e615-4d84-a527-a37b80b774af",
   "metadata": {},
   "source": [
    "# ifctruss.solver\n",
    "\n",
    "> All solvers that are supported"
   ]
  },
  {
   "cell_type": "code",
   "execution_count": null,
   "id": "9f5b74a4-7930-4fdc-9f99-1e9e8c5518cd",
   "metadata": {},
   "outputs": [],
   "source": [
    "# | default_exp solver"
   ]
  },
  {
   "cell_type": "code",
   "execution_count": null,
   "id": "487d3786-1ea7-4690-924b-de8dc956b2c0",
   "metadata": {},
   "outputs": [],
   "source": [
    "# | export\n",
    "\n",
    "# Copyright © 2023-2024  IfcTruss Contributors\n",
    "#\n",
    "# This program is free software: you can redistribute it and/or modify\n",
    "# it under the terms of the GNU Lesser General Public License as published by\n",
    "# the Free Software Foundation, either version 3 of the License, or\n",
    "# (at your option) any later version.\n",
    "#\n",
    "# This program is distributed in the hope that it will be useful,\n",
    "# but WITHOUT ANY WARRANTY; without even the implied warranty of\n",
    "# MERCHANTABILITY or FITNESS FOR A PARTICULAR PURPOSE.  See the\n",
    "# GNU Lesser General Public License for more details.\n",
    "#\n",
    "# You should have received a copy of the GNU Lesser General Public License\n",
    "# along with this program.  If not, see <https://www.gnu.org/licenses/>."
   ]
  },
  {
   "cell_type": "code",
   "execution_count": null,
   "id": "c18f38eb-08b5-41ac-90ae-f50053a548d6",
   "metadata": {},
   "outputs": [],
   "source": [
    "# | hide\n",
    "import nbdev\n",
    "import nbdev.showdoc"
   ]
  },
  {
   "cell_type": "code",
   "execution_count": null,
   "id": "2d1ef7ff-eaed-44dc-bb4e-b0774813e124",
   "metadata": {},
   "outputs": [],
   "source": [
    "# | export\n",
    "from collections import namedtuple\n",
    "from typing import NamedTuple\n",
    "import pandas as pd"
   ]
  },
  {
   "cell_type": "code",
   "execution_count": null,
   "id": "6156d2b6-c9e0-43af-a5f5-2bb56658cb9f",
   "metadata": {},
   "outputs": [],
   "source": [
    "# | export\n",
    "import ifctruss._direct_stiffness_method\n",
    "import ifctruss._calfem"
   ]
  },
  {
   "cell_type": "markdown",
   "id": "2cadd2a0-124b-4151-ab85-1ef17513bfb4",
   "metadata": {},
   "source": [
    "## Solver"
   ]
  },
  {
   "cell_type": "code",
   "execution_count": null,
   "id": "7c2c74b8-f440-4afa-9728-9926d478e073",
   "metadata": {},
   "outputs": [],
   "source": [
    "# | export\n",
    "def direct_stiffness_method(\n",
    "    nodes: pd.DataFrame,  # Pandas DataFrame with information regarding IfcStructuralPointConnection's\n",
    "    bars: pd.DataFrame,  # Pandas DataFrame with information regarding IfcStructuralCurveMember's\n",
    "    point_loads: pd.DataFrame,  # Pandas DataFrame with information regarding IfcStructuralLoadSingleForce's\n",
    ") -> NamedTuple:  # NamedTuple with Pandas DataFrame's and str's\n",
    "    System = ifctruss._direct_stiffness_method.DirectStiffnessMethod(\n",
    "        bars=bars,\n",
    "        nodes=nodes,\n",
    "        point_loads=point_loads,\n",
    "    )\n",
    "    System.extend_nodes_df()\n",
    "    System.extend_bars_df()\n",
    "    System.create_element_stiffness_matrices()\n",
    "    System.create_system_stiffness_matrice()\n",
    "    System.create_force_vector()\n",
    "    System.create_reduced_system_stiffness_matrice_and_reduced_force_vector()\n",
    "    System.calculate_displacement_vector()\n",
    "\n",
    "    System.calculate_force_vector()\n",
    "    System.correct_force_vector()\n",
    "\n",
    "    System.create_internal_force_matrices()\n",
    "    System.calculate_normal_force()\n",
    "\n",
    "    System.create_displacment_df()\n",
    "    displacments = System.displacment_df\n",
    "\n",
    "    System.create_force_df()\n",
    "    forces = System.force_df\n",
    "\n",
    "    System.create_normal_force_df()\n",
    "    normal_forces = System.normal_force_df\n",
    "\n",
    "    results = namedtuple(\n",
    "        \"df\", \"displacments forces normal_forces theory_type is_linear\"\n",
    "    )\n",
    "    theory_type = \"FIRST_ORDER_THEORY\"\n",
    "    is_linear = True\n",
    "    return results(\n",
    "        displacments, forces, normal_forces, theory_type, is_linear\n",
    "    )"
   ]
  },
  {
   "cell_type": "markdown",
   "id": "a1a3fd2a-292a-4ca5-9407-036343717065",
   "metadata": {},
   "source": [
    "#### Example"
   ]
  },
  {
   "cell_type": "code",
   "execution_count": null,
   "id": "87689741-1ac5-44d9-ada8-5fa17b63e0c6",
   "metadata": {},
   "outputs": [
    {
     "data": {
      "text/html": [
       "<div>\n",
       "<style scoped>\n",
       "    .dataframe tbody tr th:only-of-type {\n",
       "        vertical-align: middle;\n",
       "    }\n",
       "\n",
       "    .dataframe tbody tr th {\n",
       "        vertical-align: top;\n",
       "    }\n",
       "\n",
       "    .dataframe thead th {\n",
       "        text-align: right;\n",
       "    }\n",
       "</style>\n",
       "<table border=\"1\" class=\"dataframe\">\n",
       "  <thead>\n",
       "    <tr style=\"text-align: right;\">\n",
       "      <th></th>\n",
       "      <th>Node</th>\n",
       "      <th>Coordinate_X</th>\n",
       "      <th>Coordinate_Y</th>\n",
       "      <th>Coordinate_Z</th>\n",
       "      <th>Translational_X</th>\n",
       "      <th>Translational_Y</th>\n",
       "      <th>Translational_Z</th>\n",
       "    </tr>\n",
       "  </thead>\n",
       "  <tbody>\n",
       "    <tr>\n",
       "      <th>0</th>\n",
       "      <td>2</td>\n",
       "      <td>0.0</td>\n",
       "      <td>0.0</td>\n",
       "      <td>3000.0</td>\n",
       "      <td>False</td>\n",
       "      <td>True</td>\n",
       "      <td>False</td>\n",
       "    </tr>\n",
       "    <tr>\n",
       "      <th>1</th>\n",
       "      <td>1</td>\n",
       "      <td>0.0</td>\n",
       "      <td>0.0</td>\n",
       "      <td>0.0</td>\n",
       "      <td>True</td>\n",
       "      <td>True</td>\n",
       "      <td>True</td>\n",
       "    </tr>\n",
       "    <tr>\n",
       "      <th>2</th>\n",
       "      <td>3</td>\n",
       "      <td>-4000.0</td>\n",
       "      <td>0.0</td>\n",
       "      <td>3000.0</td>\n",
       "      <td>True</td>\n",
       "      <td>True</td>\n",
       "      <td>True</td>\n",
       "    </tr>\n",
       "    <tr>\n",
       "      <th>3</th>\n",
       "      <td>4</td>\n",
       "      <td>-4000.0</td>\n",
       "      <td>0.0</td>\n",
       "      <td>6000.0</td>\n",
       "      <td>True</td>\n",
       "      <td>True</td>\n",
       "      <td>True</td>\n",
       "    </tr>\n",
       "  </tbody>\n",
       "</table>\n",
       "</div>"
      ],
      "text/plain": [
       "   Node  Coordinate_X  Coordinate_Y  Coordinate_Z  Translational_X  \\\n",
       "0     2           0.0           0.0        3000.0            False   \n",
       "1     1           0.0           0.0           0.0             True   \n",
       "2     3       -4000.0           0.0        3000.0             True   \n",
       "3     4       -4000.0           0.0        6000.0             True   \n",
       "\n",
       "   Translational_Y  Translational_Z  \n",
       "0             True            False  \n",
       "1             True             True  \n",
       "2             True             True  \n",
       "3             True             True  "
      ]
     },
     "execution_count": null,
     "metadata": {},
     "output_type": "execute_result"
    }
   ],
   "source": [
    "nodes = pd.DataFrame(\n",
    "    {\n",
    "        \"Node\": pd.Series([2, 1, 3, 4], dtype=int),\n",
    "        \"Coordinate_X\": pd.Series([0, 0, -4e3, -4e3], dtype=float),\n",
    "        \"Coordinate_Y\": pd.Series([0, 0, 0, 0], dtype=float),\n",
    "        \"Coordinate_Z\": pd.Series([3e3, 0, 3e3, 6e3], dtype=float),\n",
    "        \"Translational_X\": pd.Series([0, 1, 1, 1], dtype=bool),\n",
    "        \"Translational_Y\": pd.Series([1, 1, 1, 1], dtype=bool),\n",
    "        \"Translational_Z\": pd.Series([0, 1, 1, 1], dtype=bool),\n",
    "    }\n",
    ")\n",
    "\n",
    "nodes"
   ]
  },
  {
   "cell_type": "code",
   "execution_count": null,
   "id": "b36821a6-71e7-46a9-ae82-f5557b25afec",
   "metadata": {},
   "outputs": [
    {
     "data": {
      "text/html": [
       "<div>\n",
       "<style scoped>\n",
       "    .dataframe tbody tr th:only-of-type {\n",
       "        vertical-align: middle;\n",
       "    }\n",
       "\n",
       "    .dataframe tbody tr th {\n",
       "        vertical-align: top;\n",
       "    }\n",
       "\n",
       "    .dataframe thead th {\n",
       "        text-align: right;\n",
       "    }\n",
       "</style>\n",
       "<table border=\"1\" class=\"dataframe\">\n",
       "  <thead>\n",
       "    <tr style=\"text-align: right;\">\n",
       "      <th></th>\n",
       "      <th>Bar</th>\n",
       "      <th>Start_node</th>\n",
       "      <th>End_node</th>\n",
       "      <th>Cross-sectional_area</th>\n",
       "      <th>Modulus_of_elasticity</th>\n",
       "    </tr>\n",
       "  </thead>\n",
       "  <tbody>\n",
       "    <tr>\n",
       "      <th>0</th>\n",
       "      <td>1</td>\n",
       "      <td>2</td>\n",
       "      <td>1</td>\n",
       "      <td>1000.0</td>\n",
       "      <td>1000.0</td>\n",
       "    </tr>\n",
       "    <tr>\n",
       "      <th>1</th>\n",
       "      <td>2</td>\n",
       "      <td>2</td>\n",
       "      <td>3</td>\n",
       "      <td>1000.0</td>\n",
       "      <td>1000.0</td>\n",
       "    </tr>\n",
       "    <tr>\n",
       "      <th>2</th>\n",
       "      <td>3</td>\n",
       "      <td>2</td>\n",
       "      <td>4</td>\n",
       "      <td>1000.0</td>\n",
       "      <td>1000.0</td>\n",
       "    </tr>\n",
       "  </tbody>\n",
       "</table>\n",
       "</div>"
      ],
      "text/plain": [
       "   Bar  Start_node  End_node  Cross-sectional_area  Modulus_of_elasticity\n",
       "0    1           2         1        1000.0                 1000.0\n",
       "1    2           2         3        1000.0                 1000.0\n",
       "2    3           2         4        1000.0                 1000.0"
      ]
     },
     "execution_count": null,
     "metadata": {},
     "output_type": "execute_result"
    }
   ],
   "source": [
    "bars = pd.DataFrame(\n",
    "    {\n",
    "        \"Bar\": pd.Series([1, 2, 3], dtype=int),\n",
    "        \"Start_node\": pd.Series([2, 2, 2], dtype=int),\n",
    "        \"End_node\": pd.Series([1, 3, 4], dtype=int),\n",
    "        \"Cross-sectional_area\": pd.Series([1e3, 1e3, 1e3], dtype=float),\n",
    "        \"Modulus_of_elasticity\": pd.Series([1e3, 1e3, 1e3], dtype=float),\n",
    "    }\n",
    ")\n",
    "\n",
    "bars"
   ]
  },
  {
   "cell_type": "code",
   "execution_count": null,
   "id": "c12f9966-d066-4555-9a70-69c36fcebe56",
   "metadata": {},
   "outputs": [
    {
     "data": {
      "text/html": [
       "<div>\n",
       "<style scoped>\n",
       "    .dataframe tbody tr th:only-of-type {\n",
       "        vertical-align: middle;\n",
       "    }\n",
       "\n",
       "    .dataframe tbody tr th {\n",
       "        vertical-align: top;\n",
       "    }\n",
       "\n",
       "    .dataframe thead th {\n",
       "        text-align: right;\n",
       "    }\n",
       "</style>\n",
       "<table border=\"1\" class=\"dataframe\">\n",
       "  <thead>\n",
       "    <tr style=\"text-align: right;\">\n",
       "      <th></th>\n",
       "      <th>Point_Load</th>\n",
       "      <th>Node</th>\n",
       "      <th>Force_X</th>\n",
       "      <th>Force_Y</th>\n",
       "      <th>Force_Z</th>\n",
       "    </tr>\n",
       "  </thead>\n",
       "  <tbody>\n",
       "    <tr>\n",
       "      <th>0</th>\n",
       "      <td>1</td>\n",
       "      <td>2</td>\n",
       "      <td>100000.0</td>\n",
       "      <td>0.0</td>\n",
       "      <td>-100000.0</td>\n",
       "    </tr>\n",
       "  </tbody>\n",
       "</table>\n",
       "</div>"
      ],
      "text/plain": [
       "   Point_Load  Node   Force_X  Force_Y   Force_Z\n",
       "0           1     2  100000.0      0.0 -100000.0"
      ]
     },
     "execution_count": null,
     "metadata": {},
     "output_type": "execute_result"
    }
   ],
   "source": [
    "point_loads = pd.DataFrame(\n",
    "    {\n",
    "        # fmt: off\n",
    "    \"Point_Load\": pd.Series([1,], dtype=int,),\n",
    "    \"Node\": pd.Series([2,], dtype=int,),\n",
    "    \"Force_X\": pd.Series([100e3,], dtype=float,),\n",
    "    \"Force_Y\": pd.Series([0,], dtype=float,),\n",
    "    \"Force_Z\": pd.Series([-100e3,], dtype=float,),\n",
    "        # fmt: on\n",
    "    }\n",
    ")\n",
    "point_loads"
   ]
  },
  {
   "cell_type": "code",
   "execution_count": null,
   "id": "ef369fd2-6911-480b-82ef-88ad745e4d69",
   "metadata": {},
   "outputs": [],
   "source": [
    "results = direct_stiffness_method(\n",
    "    nodes=nodes, bars=bars, point_loads=point_loads\n",
    ")"
   ]
  },
  {
   "cell_type": "code",
   "execution_count": null,
   "id": "aed5ee0a-e110-43fe-8db4-464d7c4eb86e",
   "metadata": {},
   "outputs": [
    {
     "data": {
      "text/html": [
       "<div>\n",
       "<style scoped>\n",
       "    .dataframe tbody tr th:only-of-type {\n",
       "        vertical-align: middle;\n",
       "    }\n",
       "\n",
       "    .dataframe tbody tr th {\n",
       "        vertical-align: top;\n",
       "    }\n",
       "\n",
       "    .dataframe thead th {\n",
       "        text-align: right;\n",
       "    }\n",
       "</style>\n",
       "<table border=\"1\" class=\"dataframe\">\n",
       "  <thead>\n",
       "    <tr style=\"text-align: right;\">\n",
       "      <th></th>\n",
       "      <th>Node</th>\n",
       "      <th>Displacement_X</th>\n",
       "      <th>Displacement_Y</th>\n",
       "      <th>Displacement_Z</th>\n",
       "    </tr>\n",
       "  </thead>\n",
       "  <tbody>\n",
       "    <tr>\n",
       "      <th>0</th>\n",
       "      <td>2</td>\n",
       "      <td>214.814815</td>\n",
       "      <td>0.0</td>\n",
       "      <td>-195.833333</td>\n",
       "    </tr>\n",
       "  </tbody>\n",
       "</table>\n",
       "</div>"
      ],
      "text/plain": [
       "   Node  Displacement_X  Displacement_Y  Displacement_Z\n",
       "0     2      214.814815             0.0     -195.833333"
      ]
     },
     "execution_count": null,
     "metadata": {},
     "output_type": "execute_result"
    }
   ],
   "source": [
    "results.displacments"
   ]
  },
  {
   "cell_type": "code",
   "execution_count": null,
   "id": "8d50effe-5796-4cb5-924b-8aa145e65dea",
   "metadata": {},
   "outputs": [
    {
     "data": {
      "text/html": [
       "<div>\n",
       "<style scoped>\n",
       "    .dataframe tbody tr th:only-of-type {\n",
       "        vertical-align: middle;\n",
       "    }\n",
       "\n",
       "    .dataframe tbody tr th {\n",
       "        vertical-align: top;\n",
       "    }\n",
       "\n",
       "    .dataframe thead th {\n",
       "        text-align: right;\n",
       "    }\n",
       "</style>\n",
       "<table border=\"1\" class=\"dataframe\">\n",
       "  <thead>\n",
       "    <tr style=\"text-align: right;\">\n",
       "      <th></th>\n",
       "      <th>Node</th>\n",
       "      <th>Force_X</th>\n",
       "      <th>Force_Y</th>\n",
       "      <th>Force_Z</th>\n",
       "    </tr>\n",
       "  </thead>\n",
       "  <tbody>\n",
       "    <tr>\n",
       "      <th>1</th>\n",
       "      <td>1</td>\n",
       "      <td>0.000000</td>\n",
       "      <td>0.0</td>\n",
       "      <td>65277.777778</td>\n",
       "    </tr>\n",
       "    <tr>\n",
       "      <th>2</th>\n",
       "      <td>3</td>\n",
       "      <td>-53703.703704</td>\n",
       "      <td>0.0</td>\n",
       "      <td>0.000000</td>\n",
       "    </tr>\n",
       "    <tr>\n",
       "      <th>3</th>\n",
       "      <td>4</td>\n",
       "      <td>-46296.296296</td>\n",
       "      <td>0.0</td>\n",
       "      <td>34722.222222</td>\n",
       "    </tr>\n",
       "  </tbody>\n",
       "</table>\n",
       "</div>"
      ],
      "text/plain": [
       "   Node       Force_X  Force_Y       Force_Z\n",
       "1     1      0.000000      0.0  65277.777778\n",
       "2     3 -53703.703704      0.0      0.000000\n",
       "3     4 -46296.296296      0.0  34722.222222"
      ]
     },
     "execution_count": null,
     "metadata": {},
     "output_type": "execute_result"
    }
   ],
   "source": [
    "results.forces"
   ]
  },
  {
   "cell_type": "code",
   "execution_count": null,
   "id": "3c78e534-065b-4887-b758-fd65a03babf2",
   "metadata": {},
   "outputs": [],
   "source": [
    "(\n",
    "    displacments,\n",
    "    forces,\n",
    "    normal_forces,\n",
    "    theory_type,\n",
    "    is_linear,\n",
    ") = direct_stiffness_method(nodes=nodes, bars=bars, point_loads=point_loads)"
   ]
  },
  {
   "cell_type": "code",
   "execution_count": null,
   "id": "46f26684-ed97-4a05-b302-092fec02aa83",
   "metadata": {},
   "outputs": [
    {
     "data": {
      "text/html": [
       "<style type=\"text/css\">\n",
       "</style>\n",
       "<table id=\"T_591b3\">\n",
       "  <thead>\n",
       "    <tr>\n",
       "      <th class=\"blank level0\" >&nbsp;</th>\n",
       "      <th id=\"T_591b3_level0_col0\" class=\"col_heading level0 col0\" >Bar</th>\n",
       "      <th id=\"T_591b3_level0_col1\" class=\"col_heading level0 col1\" >Normal_force</th>\n",
       "      <th id=\"T_591b3_level0_col2\" class=\"col_heading level0 col2\" >Type_of_normal_force</th>\n",
       "    </tr>\n",
       "  </thead>\n",
       "  <tbody>\n",
       "    <tr>\n",
       "      <th id=\"T_591b3_level0_row0\" class=\"row_heading level0 row0\" >0</th>\n",
       "      <td id=\"T_591b3_row0_col0\" class=\"data row0 col0\" >1</td>\n",
       "      <td id=\"T_591b3_row0_col1\" class=\"data row0 col1\" >-65277.777778</td>\n",
       "      <td id=\"T_591b3_row0_col2\" class=\"data row0 col2\" >Compressive force</td>\n",
       "    </tr>\n",
       "    <tr>\n",
       "      <th id=\"T_591b3_level0_row1\" class=\"row_heading level0 row1\" >1</th>\n",
       "      <td id=\"T_591b3_row1_col0\" class=\"data row1 col0\" >2</td>\n",
       "      <td id=\"T_591b3_row1_col1\" class=\"data row1 col1\" >53703.703704</td>\n",
       "      <td id=\"T_591b3_row1_col2\" class=\"data row1 col2\" >Tensile force</td>\n",
       "    </tr>\n",
       "    <tr>\n",
       "      <th id=\"T_591b3_level0_row2\" class=\"row_heading level0 row2\" >2</th>\n",
       "      <td id=\"T_591b3_row2_col0\" class=\"data row2 col0\" >3</td>\n",
       "      <td id=\"T_591b3_row2_col1\" class=\"data row2 col1\" >57870.370370</td>\n",
       "      <td id=\"T_591b3_row2_col2\" class=\"data row2 col2\" >Tensile force</td>\n",
       "    </tr>\n",
       "  </tbody>\n",
       "</table>\n"
      ],
      "text/plain": [
       "<pandas.io.formats.style.Styler>"
      ]
     },
     "execution_count": null,
     "metadata": {},
     "output_type": "execute_result"
    }
   ],
   "source": [
    "normal_forces.style"
   ]
  },
  {
   "cell_type": "code",
   "execution_count": null,
   "id": "9908e57d-efb9-409f-8508-5c4b4ac0bcc1",
   "metadata": {},
   "outputs": [
    {
     "data": {
      "text/plain": [
       "'FIRST_ORDER_THEORY'"
      ]
     },
     "execution_count": null,
     "metadata": {},
     "output_type": "execute_result"
    }
   ],
   "source": [
    "theory_type"
   ]
  },
  {
   "cell_type": "code",
   "execution_count": null,
   "id": "16e56972-fe62-4628-9acf-da5fbc6c2ff5",
   "metadata": {},
   "outputs": [
    {
     "data": {
      "text/plain": [
       "True"
      ]
     },
     "execution_count": null,
     "metadata": {},
     "output_type": "execute_result"
    }
   ],
   "source": [
    "is_linear"
   ]
  },
  {
   "cell_type": "code",
   "execution_count": null,
   "id": "9a485018-57b9-47c1-b29b-33eb8475d4bd",
   "metadata": {},
   "outputs": [],
   "source": [
    "# | export\n",
    "def calfem(\n",
    "    nodes: pd.DataFrame,  # Pandas DataFrame with information regarding IfcStructuralPointConnection's\n",
    "    bars: pd.DataFrame,  # Pandas DataFrame with information regarding IfcStructuralCurveMember's\n",
    "    point_loads: pd.DataFrame,  # Pandas DataFrame with information regarding IfcStructuralLoadSingleForce's\n",
    ") -> NamedTuple:  # NamedTuple with Pandas DataFrame's and str's\n",
    "    System = ifctruss._calfem.CALFEM(\n",
    "        bars=bars,\n",
    "        nodes=nodes,\n",
    "        point_loads=point_loads,\n",
    "    )\n",
    "\n",
    "    System.extend_nodes_df()\n",
    "    System.extend_bars_df()\n",
    "    System.create_element_stiffness_matrices()\n",
    "    System.create_system_stiffness_matrice()\n",
    "    System.create_force_vector()\n",
    "    System.calculate_displacement_vector_and_calculate_force_vector()\n",
    "\n",
    "    System.correct_force_vector()\n",
    "\n",
    "    System.calculate_normal_force()\n",
    "\n",
    "    System.create_displacment_df()\n",
    "    displacments = System.displacment_df\n",
    "\n",
    "    System.create_force_df()\n",
    "    forces = System.force_df\n",
    "\n",
    "    System.create_normal_force_df()\n",
    "    normal_forces = System.normal_force_df\n",
    "\n",
    "    results = namedtuple(\n",
    "        \"df\", \"displacments forces normal_forces theory_type is_linear\"\n",
    "    )\n",
    "    theory_type = \"FIRST_ORDER_THEORY\"\n",
    "    is_linear = True\n",
    "    return results(\n",
    "        displacments, forces, normal_forces, theory_type, is_linear\n",
    "    )"
   ]
  },
  {
   "cell_type": "markdown",
   "id": "8775956c-cf8f-4a97-8c00-441d68660461",
   "metadata": {},
   "source": [
    "#### Example"
   ]
  },
  {
   "cell_type": "code",
   "execution_count": null,
   "id": "29ed6922",
   "metadata": {},
   "outputs": [],
   "source": [
    "results_calfem = calfem(nodes=nodes, bars=bars, point_loads=point_loads)"
   ]
  },
  {
   "cell_type": "code",
   "execution_count": null,
   "id": "7f5f631a",
   "metadata": {},
   "outputs": [
    {
     "data": {
      "text/html": [
       "<div>\n",
       "<style scoped>\n",
       "    .dataframe tbody tr th:only-of-type {\n",
       "        vertical-align: middle;\n",
       "    }\n",
       "\n",
       "    .dataframe tbody tr th {\n",
       "        vertical-align: top;\n",
       "    }\n",
       "\n",
       "    .dataframe thead th {\n",
       "        text-align: right;\n",
       "    }\n",
       "</style>\n",
       "<table border=\"1\" class=\"dataframe\">\n",
       "  <thead>\n",
       "    <tr style=\"text-align: right;\">\n",
       "      <th></th>\n",
       "      <th>Node</th>\n",
       "      <th>Displacement_X</th>\n",
       "      <th>Displacement_Y</th>\n",
       "      <th>Displacement_Z</th>\n",
       "    </tr>\n",
       "  </thead>\n",
       "  <tbody>\n",
       "    <tr>\n",
       "      <th>0</th>\n",
       "      <td>2</td>\n",
       "      <td>214.814815</td>\n",
       "      <td>0.0</td>\n",
       "      <td>-195.833333</td>\n",
       "    </tr>\n",
       "  </tbody>\n",
       "</table>\n",
       "</div>"
      ],
      "text/plain": [
       "   Node  Displacement_X  Displacement_Y  Displacement_Z\n",
       "0     2      214.814815             0.0     -195.833333"
      ]
     },
     "execution_count": null,
     "metadata": {},
     "output_type": "execute_result"
    }
   ],
   "source": [
    "results_calfem.displacments"
   ]
  },
  {
   "cell_type": "code",
   "execution_count": null,
   "id": "880e8f97",
   "metadata": {},
   "outputs": [
    {
     "data": {
      "text/html": [
       "<div>\n",
       "<style scoped>\n",
       "    .dataframe tbody tr th:only-of-type {\n",
       "        vertical-align: middle;\n",
       "    }\n",
       "\n",
       "    .dataframe tbody tr th {\n",
       "        vertical-align: top;\n",
       "    }\n",
       "\n",
       "    .dataframe thead th {\n",
       "        text-align: right;\n",
       "    }\n",
       "</style>\n",
       "<table border=\"1\" class=\"dataframe\">\n",
       "  <thead>\n",
       "    <tr style=\"text-align: right;\">\n",
       "      <th></th>\n",
       "      <th>Node</th>\n",
       "      <th>Force_X</th>\n",
       "      <th>Force_Y</th>\n",
       "      <th>Force_Z</th>\n",
       "    </tr>\n",
       "  </thead>\n",
       "  <tbody>\n",
       "    <tr>\n",
       "      <th>1</th>\n",
       "      <td>1</td>\n",
       "      <td>0.000000</td>\n",
       "      <td>0.0</td>\n",
       "      <td>65277.777778</td>\n",
       "    </tr>\n",
       "    <tr>\n",
       "      <th>2</th>\n",
       "      <td>3</td>\n",
       "      <td>-53703.703704</td>\n",
       "      <td>0.0</td>\n",
       "      <td>0.000000</td>\n",
       "    </tr>\n",
       "    <tr>\n",
       "      <th>3</th>\n",
       "      <td>4</td>\n",
       "      <td>-46296.296296</td>\n",
       "      <td>0.0</td>\n",
       "      <td>34722.222222</td>\n",
       "    </tr>\n",
       "  </tbody>\n",
       "</table>\n",
       "</div>"
      ],
      "text/plain": [
       "   Node       Force_X  Force_Y       Force_Z\n",
       "1     1      0.000000      0.0  65277.777778\n",
       "2     3 -53703.703704      0.0      0.000000\n",
       "3     4 -46296.296296      0.0  34722.222222"
      ]
     },
     "execution_count": null,
     "metadata": {},
     "output_type": "execute_result"
    }
   ],
   "source": [
    "results_calfem.forces"
   ]
  },
  {
   "cell_type": "code",
   "execution_count": null,
   "id": "066088e1",
   "metadata": {},
   "outputs": [
    {
     "data": {
      "text/html": [
       "<div>\n",
       "<style scoped>\n",
       "    .dataframe tbody tr th:only-of-type {\n",
       "        vertical-align: middle;\n",
       "    }\n",
       "\n",
       "    .dataframe tbody tr th {\n",
       "        vertical-align: top;\n",
       "    }\n",
       "\n",
       "    .dataframe thead th {\n",
       "        text-align: right;\n",
       "    }\n",
       "</style>\n",
       "<table border=\"1\" class=\"dataframe\">\n",
       "  <thead>\n",
       "    <tr style=\"text-align: right;\">\n",
       "      <th></th>\n",
       "      <th>Bar</th>\n",
       "      <th>Normal_force</th>\n",
       "      <th>Type_of_normal_force</th>\n",
       "    </tr>\n",
       "  </thead>\n",
       "  <tbody>\n",
       "    <tr>\n",
       "      <th>0</th>\n",
       "      <td>1</td>\n",
       "      <td>-65277.777778</td>\n",
       "      <td>Compressive force</td>\n",
       "    </tr>\n",
       "    <tr>\n",
       "      <th>1</th>\n",
       "      <td>2</td>\n",
       "      <td>53703.703704</td>\n",
       "      <td>Tensile force</td>\n",
       "    </tr>\n",
       "    <tr>\n",
       "      <th>2</th>\n",
       "      <td>3</td>\n",
       "      <td>57870.370370</td>\n",
       "      <td>Tensile force</td>\n",
       "    </tr>\n",
       "  </tbody>\n",
       "</table>\n",
       "</div>"
      ],
      "text/plain": [
       "   Bar  Normal_force Type_of_normal_force\n",
       "0    1 -65277.777778    Compressive force\n",
       "1    2  53703.703704        Tensile force\n",
       "2    3  57870.370370        Tensile force"
      ]
     },
     "execution_count": null,
     "metadata": {},
     "output_type": "execute_result"
    }
   ],
   "source": [
    "results_calfem.normal_forces"
   ]
  },
  {
   "cell_type": "markdown",
   "id": "307882d9-6073-4b38-af39-c8241375158e",
   "metadata": {},
   "source": [
    "## Comparison\n",
    "### Resulate"
   ]
  },
  {
   "cell_type": "markdown",
   "id": "4ce76af5-b0d3-4441-9ba6-fd4a862130c4",
   "metadata": {},
   "source": [
    "Test whether `calfem` calculates the same results as `direct_stiffness_method`:"
   ]
  },
  {
   "cell_type": "code",
   "execution_count": null,
   "id": "d57772b1-3de6-4392-ab17-64c25a6006b8",
   "metadata": {},
   "outputs": [],
   "source": [
    "import numpy as np"
   ]
  },
  {
   "cell_type": "code",
   "execution_count": null,
   "id": "8e44619e-a2c7-487d-9230-ef43f998a295",
   "metadata": {},
   "outputs": [],
   "source": [
    "assert np.all(\n",
    "    np.isclose(\n",
    "        results.normal_forces[\"Normal_force\"],\n",
    "        results_calfem.normal_forces[\"Normal_force\"],\n",
    "    )\n",
    ")"
   ]
  },
  {
   "cell_type": "code",
   "execution_count": null,
   "id": "5d8cfd8c-45b5-45db-8db5-94d563772420",
   "metadata": {},
   "outputs": [],
   "source": [
    "assert np.all(\n",
    "    np.isclose(results.forces[\"Force_X\"], results_calfem.forces[\"Force_X\"])\n",
    ")"
   ]
  },
  {
   "cell_type": "code",
   "execution_count": null,
   "id": "5e962702-007c-4ac8-bd8a-3554edcc8652",
   "metadata": {},
   "outputs": [],
   "source": [
    "assert np.all(\n",
    "    np.isclose(results.forces[\"Force_Y\"], results_calfem.forces[\"Force_Y\"])\n",
    ")"
   ]
  },
  {
   "cell_type": "code",
   "execution_count": null,
   "id": "3df752a7-9c40-48c9-b0eb-5cd47b3ee34e",
   "metadata": {},
   "outputs": [],
   "source": [
    "assert np.all(\n",
    "    np.isclose(results.forces[\"Force_Z\"], results_calfem.forces[\"Force_Z\"])\n",
    ")"
   ]
  },
  {
   "cell_type": "code",
   "execution_count": null,
   "id": "786081b8-2bcc-4b4e-a267-856c4cce671f",
   "metadata": {},
   "outputs": [],
   "source": [
    "assert np.all(\n",
    "    np.isclose(\n",
    "        results.displacments[\"Displacement_X\"],\n",
    "        results_calfem.displacments[\"Displacement_X\"],\n",
    "    )\n",
    ")"
   ]
  },
  {
   "cell_type": "code",
   "execution_count": null,
   "id": "12899cfd-8ea1-4c47-8c35-f2484c7e2319",
   "metadata": {},
   "outputs": [],
   "source": [
    "assert np.all(\n",
    "    np.isclose(\n",
    "        results.displacments[\"Displacement_Y\"],\n",
    "        results_calfem.displacments[\"Displacement_Y\"],\n",
    "    )\n",
    ")"
   ]
  },
  {
   "cell_type": "code",
   "execution_count": null,
   "id": "fbb3f47e-4eb6-4471-887c-4c6b3f788415",
   "metadata": {},
   "outputs": [],
   "source": [
    "assert np.all(\n",
    "    np.isclose(\n",
    "        results.displacments[\"Displacement_Z\"],\n",
    "        results_calfem.displacments[\"Displacement_Z\"],\n",
    "    )\n",
    ")"
   ]
  },
  {
   "cell_type": "markdown",
   "id": "1364baf6-fd58-4906-a148-cbbe9b858989",
   "metadata": {},
   "source": [
    "### Speed"
   ]
  },
  {
   "cell_type": "markdown",
   "id": "88bad3bc-994d-43e1-8b1b-1244051f00e9",
   "metadata": {},
   "source": [
    "Compare the speed of `direct_stiffness_method`and `calfem`"
   ]
  },
  {
   "cell_type": "code",
   "execution_count": null,
   "id": "df968972-17c8-4ecb-961a-7e148576f0ff",
   "metadata": {},
   "outputs": [],
   "source": [
    "import timeit\n",
    "import statistics"
   ]
  },
  {
   "cell_type": "code",
   "execution_count": null,
   "id": "6e8077fe-d75d-426b-91ae-5902f047b9fc",
   "metadata": {},
   "outputs": [
    {
     "name": "stdout",
     "output_type": "stream",
     "text": [
      "Mean execution time: 2.5156487490000603 seconds\n",
      "Standard deviation: 0.3370494115779167 seconds\n"
     ]
    }
   ],
   "source": [
    "execution_times = timeit.repeat(\n",
    "    lambda: direct_stiffness_method(\n",
    "        nodes=nodes, bars=bars, point_loads=point_loads\n",
    "    ),\n",
    "    number=200,\n",
    "    repeat=7,\n",
    ")\n",
    "\n",
    "mean_time = statistics.mean(execution_times)\n",
    "stdev_time = statistics.stdev(execution_times)\n",
    "\n",
    "print(\"Mean execution time:\", mean_time, \"seconds\")\n",
    "print(\"Standard deviation:\", stdev_time, \"seconds\")"
   ]
  },
  {
   "cell_type": "code",
   "execution_count": null,
   "id": "a98a1f69-759c-41f4-91c8-479ab7b49c43",
   "metadata": {},
   "outputs": [
    {
     "name": "stdout",
     "output_type": "stream",
     "text": [
      "Mean execution time: 3.4454708377145704 seconds\n",
      "Standard deviation: 0.19648677400024356 seconds\n"
     ]
    }
   ],
   "source": [
    "execution_times = timeit.repeat(\n",
    "    lambda: calfem(nodes=nodes, bars=bars, point_loads=point_loads),\n",
    "    number=200,\n",
    "    repeat=7,\n",
    ")\n",
    "\n",
    "mean_time = statistics.mean(execution_times)\n",
    "stdev_time = statistics.stdev(execution_times)\n",
    "\n",
    "print(\"Mean execution time:\", mean_time, \"seconds\")\n",
    "print(\"Standard deviation:\", stdev_time, \"seconds\")"
   ]
  },
  {
   "cell_type": "code",
   "execution_count": null,
   "id": "4d97a044-080c-4f9e-948d-e02b89df1947",
   "metadata": {},
   "outputs": [],
   "source": [
    "# | hide\n",
    "nbdev.nbdev_export()"
   ]
  },
  {
   "cell_type": "code",
   "execution_count": null,
   "id": "22a55792-b217-4cb6-a779-df36236d498c",
   "metadata": {},
   "outputs": [],
   "source": []
  }
 ],
 "metadata": {
  "kernelspec": {
   "display_name": "python3",
   "language": "python",
   "name": "python3"
  }
 },
 "nbformat": 4,
 "nbformat_minor": 5
}
