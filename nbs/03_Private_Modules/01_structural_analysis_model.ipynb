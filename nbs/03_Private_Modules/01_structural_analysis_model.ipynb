{
 "cells": [
  {
   "cell_type": "markdown",
   "id": "051e31f9-53da-4ddb-9622-b28c88c38cfe",
   "metadata": {},
   "source": [
    "# Structural analysis model\n",
    "\n",
    "> Creation of a truss model for structural analysis with IfcOpenShell"
   ]
  },
  {
   "cell_type": "code",
   "execution_count": null,
   "id": "1f070577-9629-4c0f-ae32-333033eb7543",
   "metadata": {},
   "outputs": [],
   "source": [
    "# | default_exp _structural_analysis_model"
   ]
  },
  {
   "cell_type": "code",
   "execution_count": null,
   "id": "487d3786-1ea7-4690-924b-de8dc956b2c0",
   "metadata": {},
   "outputs": [],
   "source": [
    "# | export\n",
    "\n",
    "# Copyright © 2023-2024  IfcTruss Contributors\n",
    "#\n",
    "# This program is free software: you can redistribute it and/or modify\n",
    "# it under the terms of the GNU Lesser General Public License as published by\n",
    "# the Free Software Foundation, either version 3 of the License, or\n",
    "# (at your option) any later version.\n",
    "#\n",
    "# This program is distributed in the hope that it will be useful,\n",
    "# but WITHOUT ANY WARRANTY; without even the implied warranty of\n",
    "# MERCHANTABILITY or FITNESS FOR A PARTICULAR PURPOSE.  See the\n",
    "# GNU Lesser General Public License for more details.\n",
    "#\n",
    "# You should have received a copy of the GNU Lesser General Public License\n",
    "# along with this program.  If not, see <https://www.gnu.org/licenses/>."
   ]
  },
  {
   "cell_type": "code",
   "execution_count": null,
   "id": "3218856a-5aa1-46b5-8d4d-7d38c0a9171b",
   "metadata": {},
   "outputs": [],
   "source": [
    "# | hide\n",
    "import nbdev\n",
    "import nbdev.showdoc"
   ]
  },
  {
   "cell_type": "markdown",
   "id": "a99bea23-270a-4d47-a8ef-b4bae677fa24",
   "metadata": {},
   "source": [
    "The package ifcopenshell will be used to interact with IFC-SPF files. For more information about all the formats IFC has, head to this site:  \n",
    "https://technical.buildingsmart.org/standards/ifc/ifc-formats/\n",
    "\n",
    "For a tutorial about the ifcopenshell package, head to this site:  \n",
    "https://blenderbim.org/docs-python/ifcopenshell-python/hello_world.html."
   ]
  },
  {
   "cell_type": "code",
   "execution_count": null,
   "id": "29da2390-7b2d-463a-8f94-e2a65df23852",
   "metadata": {},
   "outputs": [],
   "source": [
    "# | export\n",
    "from fastcore.basics import patch\n",
    "import ifcopenshell\n",
    "import numpy as np\n",
    "import pandas as pd"
   ]
  },
  {
   "cell_type": "code",
   "execution_count": null,
   "id": "e432487a-331f-4003-9032-a5fedab065da",
   "metadata": {},
   "outputs": [],
   "source": [
    "# | export\n",
    "from ifctruss import __version__ as ifctruss_version\n",
    "from ifctruss._truss_creation import TrussCreation"
   ]
  },
  {
   "cell_type": "markdown",
   "id": "da431184-18fd-4258-bc82-297080b5816f",
   "metadata": {},
   "source": [
    "`StructuralAnalysisModelCreation` contains a method to create a basic ifc file and has a high-level method to create from a DataFrame with relevant information of a truss model the corresponding one in ifc."
   ]
  },
  {
   "cell_type": "code",
   "execution_count": null,
   "id": "2e3f2350-f19e-4792-b482-43586008d6eb",
   "metadata": {},
   "outputs": [],
   "source": [
    "# | export\n",
    "class StructuralAnalysisModelCreation:\n",
    "    def __init__(self, version: str = \"IFC4X3_ADD2\"):\n",
    "        self.ifc_model: ifcopenshell.file = ifcopenshell.file(\n",
    "            schema=version\n",
    "        )\n",
    "\n",
    "        # IFC HEADER\n",
    "        self.VIEW_DEFINITION: str = \"ViewDefinition[]\"\n",
    "\n",
    "        # IfcProject\n",
    "        self.PROJECT_NAME: str = \"Structural analysis models\"\n",
    "        self.PROJECT_COORDINATE_SYSTEM = {\n",
    "            \"ORIGIN\": (0.0, 0.0, 0.0),\n",
    "            \"LOCAL_Z_AXIS\": (0.0, 0.0, 1.0),\n",
    "            \"LOCAL_X_AXIS\": (1.0, 0.0, 0.0),\n",
    "            \"COORDINATE_SPACE_DIMENSION\": 3,\n",
    "            \"PRECISION\": 0.00001,\n",
    "        }\n",
    "\n",
    "        # IfcSIUnit\n",
    "        self.SI_UNITS = (\n",
    "            (\"FORCEUNIT\", \"KILO\", \"NEWTON\"),\n",
    "            (\"PRESSUREUNIT\", \"KILO\", \"PASCAL\"),\n",
    "            (\"LENGTHUNIT\", None, \"METRE\"),\n",
    "            (\"AREAUNIT\", None, \"SQUARE_METRE\"),\n",
    "        )\n",
    "\n",
    "        # IfcStructuralAnalysisModels\n",
    "        self.structural_analysis_models = []"
   ]
  },
  {
   "attachments": {},
   "cell_type": "markdown",
   "id": "122b258a-a15e-4c9f-83c1-6dfbcb3ae241",
   "metadata": {},
   "source": [
    "Since there is no [MVD](https://technical.buildingsmart.org/standards/ifc/mvd/mvd-database/) currently for IFC4X3, the combination StructuralAnalysisView and DesignTransferView for the ViewDefinition is chosen. The [Implementation Guide for IFC Header Section](https://standards.buildingsmart.org/documents/Implementation/ImplementationGuide_IFCHeaderData_Version_1.0.2.pdf) species that there can be more than one ViewDefinition. Since there can be several structural analysis models in an ifc model, a list is created so that you have easy access to all of them."
   ]
  },
  {
   "cell_type": "markdown",
   "id": "deb369f4-da92-42b8-bf23-4625299e5ccd",
   "metadata": {},
   "source": [
    "In `create_basic_structure` a project and a context for the geometry is created, and the units are defined."
   ]
  },
  {
   "cell_type": "code",
   "execution_count": null,
   "id": "224b6cec-d3c2-45b3-bb5e-c560875f9978",
   "metadata": {},
   "outputs": [],
   "source": [
    "# | export\n",
    "@patch\n",
    "def create_basic_structure(self: StructuralAnalysisModelCreation):\n",
    "    # IFC Header\n",
    "    self.ifc_model.wrapped_data.header.file_description.description = (\n",
    "        self.VIEW_DEFINITION,\n",
    "    )\n",
    "\n",
    "    self.ifc_model.wrapped_data.header.file_name.originating_system = (\n",
    "        f\"IfcTruss v{ifctruss_version}\"\n",
    "    )\n",
    "\n",
    "    # IFC Body\n",
    "    ## Unit\n",
    "    unit = []\n",
    "    for SI_UNIT in self.SI_UNITS:\n",
    "        unit.append(self.ifc_model.createIfcSIUnit(None, *SI_UNIT))\n",
    "    units_in_context = self.ifc_model.createIfcUnitAssignment(unit)\n",
    "\n",
    "    ## Project coordinate system\n",
    "    origin = self.ifc_model.createIfcCartesianPoint(\n",
    "        self.PROJECT_COORDINATE_SYSTEM[\"ORIGIN\"]\n",
    "    )\n",
    "    z_axis = self.ifc_model.createIfcDirection(\n",
    "        self.PROJECT_COORDINATE_SYSTEM[\"LOCAL_Z_AXIS\"]\n",
    "    )\n",
    "    x_axis = self.ifc_model.createIfcDirection(\n",
    "        self.PROJECT_COORDINATE_SYSTEM[\"LOCAL_X_AXIS\"]\n",
    "    )\n",
    "    self.world_coordinate_system = self.ifc_model.createIfcAxis2Placement3D(\n",
    "        origin, z_axis, x_axis\n",
    "    )\n",
    "    self.representation_contexts = (\n",
    "        self.ifc_model.createIfcGeometricRepresentationContext(\n",
    "            \"3D\",\n",
    "            \"Model\",\n",
    "            self.PROJECT_COORDINATE_SYSTEM[\"COORDINATE_SPACE_DIMENSION\"],\n",
    "            self.PROJECT_COORDINATE_SYSTEM[\"PRECISION\"],\n",
    "            self.world_coordinate_system,\n",
    "            None,\n",
    "        )\n",
    "    )\n",
    "\n",
    "    ## Project\n",
    "    self.ifc_project = self.ifc_model.createIfcProject(\n",
    "        ifcopenshell.guid.new(),\n",
    "        None,\n",
    "        self.PROJECT_NAME,\n",
    "        None,\n",
    "        None,\n",
    "        None,\n",
    "        None,\n",
    "        [self.representation_contexts],\n",
    "        units_in_context,\n",
    "    )"
   ]
  },
  {
   "cell_type": "code",
   "execution_count": null,
   "id": "7e23f44f-abdd-4efa-9276-1f70df1a8307",
   "metadata": {},
   "outputs": [],
   "source": [
    "# | export\n",
    "@patch\n",
    "def create_from_DataFrame_a_truss_model(\n",
    "    self: StructuralAnalysisModelCreation,\n",
    "    *,\n",
    "    Bars,\n",
    "    Nodes,\n",
    "    Point_Loads,\n",
    "    Load_Groups,\n",
    "):\n",
    "    truss_model = TrussCreation(\n",
    "        model=self.ifc_model,\n",
    "        representation_contexts=self.representation_contexts,\n",
    "        world_coordinate_system=self.world_coordinate_system,\n",
    "        relating_context=self.ifc_project,\n",
    "        Bars=Bars,\n",
    "        Nodes=Nodes,\n",
    "        Point_Loads=Point_Loads,\n",
    "        Load_Groups=Load_Groups,\n",
    "    )\n",
    "\n",
    "    truss_model.create_structural_analysis_model()\n",
    "    truss_model.create_nodes()\n",
    "    truss_model.create_bars()\n",
    "    truss_model.assignment_of_nodes_and_bars_to_the_analysis_model()\n",
    "    truss_model.create_point_loads()\n",
    "    truss_model.create_load_groups()\n",
    "    truss_model.create_modulus_of_elasticitys()\n",
    "    truss_model.create_surface_areas()\n",
    "    truss_model.create_material_profiles()\n",
    "\n",
    "    self.structural_analysis_models.append(truss_model)"
   ]
  },
  {
   "cell_type": "code",
   "execution_count": null,
   "id": "8f6d845b-8b2f-4bf9-9f95-a3146efc4751",
   "metadata": {},
   "outputs": [
    {
     "data": {
      "text/html": [
       "<style type=\"text/css\">\n",
       "</style>\n",
       "<table id=\"T_8d265\">\n",
       "  <thead>\n",
       "    <tr>\n",
       "      <th id=\"T_8d265_level0_col0\" class=\"col_heading level0 col0\" >Node</th>\n",
       "      <th id=\"T_8d265_level0_col1\" class=\"col_heading level0 col1\" >Coordinate_X</th>\n",
       "      <th id=\"T_8d265_level0_col2\" class=\"col_heading level0 col2\" >Coordinate_Y</th>\n",
       "      <th id=\"T_8d265_level0_col3\" class=\"col_heading level0 col3\" >Coordinate_Z</th>\n",
       "      <th id=\"T_8d265_level0_col4\" class=\"col_heading level0 col4\" >Translational_X</th>\n",
       "      <th id=\"T_8d265_level0_col5\" class=\"col_heading level0 col5\" >Translational_Y</th>\n",
       "      <th id=\"T_8d265_level0_col6\" class=\"col_heading level0 col6\" >Translational_Z</th>\n",
       "    </tr>\n",
       "  </thead>\n",
       "  <tbody>\n",
       "    <tr>\n",
       "      <td id=\"T_8d265_row0_col0\" class=\"data row0 col0\" >1</td>\n",
       "      <td id=\"T_8d265_row0_col1\" class=\"data row0 col1\" >0.000000</td>\n",
       "      <td id=\"T_8d265_row0_col2\" class=\"data row0 col2\" >0.000000</td>\n",
       "      <td id=\"T_8d265_row0_col3\" class=\"data row0 col3\" >0.000000</td>\n",
       "      <td id=\"T_8d265_row0_col4\" class=\"data row0 col4\" >True</td>\n",
       "      <td id=\"T_8d265_row0_col5\" class=\"data row0 col5\" >True</td>\n",
       "      <td id=\"T_8d265_row0_col6\" class=\"data row0 col6\" >True</td>\n",
       "    </tr>\n",
       "    <tr>\n",
       "      <td id=\"T_8d265_row1_col0\" class=\"data row1 col0\" >2</td>\n",
       "      <td id=\"T_8d265_row1_col1\" class=\"data row1 col1\" >0.000000</td>\n",
       "      <td id=\"T_8d265_row1_col2\" class=\"data row1 col2\" >0.000000</td>\n",
       "      <td id=\"T_8d265_row1_col3\" class=\"data row1 col3\" >3000.000000</td>\n",
       "      <td id=\"T_8d265_row1_col4\" class=\"data row1 col4\" >False</td>\n",
       "      <td id=\"T_8d265_row1_col5\" class=\"data row1 col5\" >False</td>\n",
       "      <td id=\"T_8d265_row1_col6\" class=\"data row1 col6\" >False</td>\n",
       "    </tr>\n",
       "    <tr>\n",
       "      <td id=\"T_8d265_row2_col0\" class=\"data row2 col0\" >3</td>\n",
       "      <td id=\"T_8d265_row2_col1\" class=\"data row2 col1\" >-4000.000000</td>\n",
       "      <td id=\"T_8d265_row2_col2\" class=\"data row2 col2\" >0.000000</td>\n",
       "      <td id=\"T_8d265_row2_col3\" class=\"data row2 col3\" >3000.000000</td>\n",
       "      <td id=\"T_8d265_row2_col4\" class=\"data row2 col4\" >True</td>\n",
       "      <td id=\"T_8d265_row2_col5\" class=\"data row2 col5\" >True</td>\n",
       "      <td id=\"T_8d265_row2_col6\" class=\"data row2 col6\" >True</td>\n",
       "    </tr>\n",
       "    <tr>\n",
       "      <td id=\"T_8d265_row3_col0\" class=\"data row3 col0\" >4</td>\n",
       "      <td id=\"T_8d265_row3_col1\" class=\"data row3 col1\" >-4000.000000</td>\n",
       "      <td id=\"T_8d265_row3_col2\" class=\"data row3 col2\" >0.000000</td>\n",
       "      <td id=\"T_8d265_row3_col3\" class=\"data row3 col3\" >6000.000000</td>\n",
       "      <td id=\"T_8d265_row3_col4\" class=\"data row3 col4\" >True</td>\n",
       "      <td id=\"T_8d265_row3_col5\" class=\"data row3 col5\" >True</td>\n",
       "      <td id=\"T_8d265_row3_col6\" class=\"data row3 col6\" >True</td>\n",
       "    </tr>\n",
       "  </tbody>\n",
       "</table>\n"
      ],
      "text/plain": [
       "<pandas.io.formats.style.Styler>"
      ]
     },
     "execution_count": null,
     "metadata": {},
     "output_type": "execute_result"
    }
   ],
   "source": [
    "Nodes_data = {\n",
    "    \"Node\": pd.Series([1, 2, 3, 4], dtype=int),\n",
    "    \"Coordinate_X\": pd.Series([0, 0, -4e3, -4e3], dtype=float),\n",
    "    \"Coordinate_Y\": pd.Series([0, 0, 0, 0], dtype=float),\n",
    "    \"Coordinate_Z\": pd.Series([0, 3e3, 3e3, 6e3], dtype=float),\n",
    "    \"Translational_X\": pd.Series([1, 0, 1, 1], dtype=bool),\n",
    "    \"Translational_Y\": pd.Series([1, 0, 1, 1], dtype=bool),\n",
    "    \"Translational_Z\": pd.Series([1, 0, 1, 1], dtype=bool),\n",
    "}\n",
    "\n",
    "Nodes = pd.DataFrame(Nodes_data)\n",
    "Nodes.style.hide(axis=\"index\")"
   ]
  },
  {
   "cell_type": "code",
   "execution_count": null,
   "id": "b71b2278-1966-49e5-bd1a-210501315355",
   "metadata": {},
   "outputs": [
    {
     "data": {
      "text/html": [
       "<style type=\"text/css\">\n",
       "</style>\n",
       "<table id=\"T_ffbc2\">\n",
       "  <thead>\n",
       "    <tr>\n",
       "      <th id=\"T_ffbc2_level0_col0\" class=\"col_heading level0 col0\" >Bar</th>\n",
       "      <th id=\"T_ffbc2_level0_col1\" class=\"col_heading level0 col1\" >Start_node</th>\n",
       "      <th id=\"T_ffbc2_level0_col2\" class=\"col_heading level0 col2\" >End_node</th>\n",
       "      <th id=\"T_ffbc2_level0_col3\" class=\"col_heading level0 col3\" >Cross-sectional_area</th>\n",
       "      <th id=\"T_ffbc2_level0_col4\" class=\"col_heading level0 col4\" >Modulus_of_elasticity</th>\n",
       "    </tr>\n",
       "  </thead>\n",
       "  <tbody>\n",
       "    <tr>\n",
       "      <td id=\"T_ffbc2_row0_col0\" class=\"data row0 col0\" >1</td>\n",
       "      <td id=\"T_ffbc2_row0_col1\" class=\"data row0 col1\" >2</td>\n",
       "      <td id=\"T_ffbc2_row0_col2\" class=\"data row0 col2\" >1</td>\n",
       "      <td id=\"T_ffbc2_row0_col3\" class=\"data row0 col3\" >1000.000000</td>\n",
       "      <td id=\"T_ffbc2_row0_col4\" class=\"data row0 col4\" >1000.000000</td>\n",
       "    </tr>\n",
       "    <tr>\n",
       "      <td id=\"T_ffbc2_row1_col0\" class=\"data row1 col0\" >2</td>\n",
       "      <td id=\"T_ffbc2_row1_col1\" class=\"data row1 col1\" >2</td>\n",
       "      <td id=\"T_ffbc2_row1_col2\" class=\"data row1 col2\" >3</td>\n",
       "      <td id=\"T_ffbc2_row1_col3\" class=\"data row1 col3\" >1000.000000</td>\n",
       "      <td id=\"T_ffbc2_row1_col4\" class=\"data row1 col4\" >1000.000000</td>\n",
       "    </tr>\n",
       "    <tr>\n",
       "      <td id=\"T_ffbc2_row2_col0\" class=\"data row2 col0\" >3</td>\n",
       "      <td id=\"T_ffbc2_row2_col1\" class=\"data row2 col1\" >2</td>\n",
       "      <td id=\"T_ffbc2_row2_col2\" class=\"data row2 col2\" >4</td>\n",
       "      <td id=\"T_ffbc2_row2_col3\" class=\"data row2 col3\" >1000.000000</td>\n",
       "      <td id=\"T_ffbc2_row2_col4\" class=\"data row2 col4\" >1000.000000</td>\n",
       "    </tr>\n",
       "  </tbody>\n",
       "</table>\n"
      ],
      "text/plain": [
       "<pandas.io.formats.style.Styler>"
      ]
     },
     "execution_count": null,
     "metadata": {},
     "output_type": "execute_result"
    }
   ],
   "source": [
    "Bars_data = {\n",
    "    \"Bar\": pd.Series([1, 2, 3], dtype=int),\n",
    "    \"Start_node\": pd.Series([2, 2, 2], dtype=int),\n",
    "    \"End_node\": pd.Series([1, 3, 4], dtype=int),\n",
    "    \"Cross-sectional_area\": pd.Series([1e3, 1e3, 1e3], dtype=float),\n",
    "    \"Modulus_of_elasticity\": pd.Series([1e3, 1e3, 1e3], dtype=float),\n",
    "}\n",
    "Bars = pd.DataFrame(Bars_data)\n",
    "Bars.style.hide(axis=\"index\")"
   ]
  },
  {
   "cell_type": "code",
   "execution_count": null,
   "id": "0701ed30-0bbe-4e25-a76e-fb8148b46e27",
   "metadata": {},
   "outputs": [
    {
     "data": {
      "text/html": [
       "<style type=\"text/css\">\n",
       "</style>\n",
       "<table id=\"T_bfe09\">\n",
       "  <thead>\n",
       "    <tr>\n",
       "      <th id=\"T_bfe09_level0_col0\" class=\"col_heading level0 col0\" >Point_Load</th>\n",
       "      <th id=\"T_bfe09_level0_col1\" class=\"col_heading level0 col1\" >Node</th>\n",
       "      <th id=\"T_bfe09_level0_col2\" class=\"col_heading level0 col2\" >Force_X</th>\n",
       "      <th id=\"T_bfe09_level0_col3\" class=\"col_heading level0 col3\" >Force_Y</th>\n",
       "      <th id=\"T_bfe09_level0_col4\" class=\"col_heading level0 col4\" >Force_Z</th>\n",
       "    </tr>\n",
       "  </thead>\n",
       "  <tbody>\n",
       "    <tr>\n",
       "      <td id=\"T_bfe09_row0_col0\" class=\"data row0 col0\" >1</td>\n",
       "      <td id=\"T_bfe09_row0_col1\" class=\"data row0 col1\" >2</td>\n",
       "      <td id=\"T_bfe09_row0_col2\" class=\"data row0 col2\" >100000.000000</td>\n",
       "      <td id=\"T_bfe09_row0_col3\" class=\"data row0 col3\" >0.000000</td>\n",
       "      <td id=\"T_bfe09_row0_col4\" class=\"data row0 col4\" >-100000.000000</td>\n",
       "    </tr>\n",
       "  </tbody>\n",
       "</table>\n"
      ],
      "text/plain": [
       "<pandas.io.formats.style.Styler>"
      ]
     },
     "execution_count": null,
     "metadata": {},
     "output_type": "execute_result"
    }
   ],
   "source": [
    "Point_Loads_data = {\n",
    "    \"Point_Load\": pd.Series(\n",
    "        [\n",
    "            1,\n",
    "        ],\n",
    "        dtype=int,\n",
    "    ),\n",
    "    \"Node\": pd.Series(\n",
    "        [\n",
    "            2,\n",
    "        ],\n",
    "        dtype=int,\n",
    "    ),\n",
    "    \"Force_X\": pd.Series(\n",
    "        [\n",
    "            100e3,\n",
    "        ],\n",
    "        dtype=float,\n",
    "    ),\n",
    "    \"Force_Y\": pd.Series(\n",
    "        [\n",
    "            0,\n",
    "        ],\n",
    "        dtype=float,\n",
    "    ),\n",
    "    \"Force_Z\": pd.Series(\n",
    "        [\n",
    "            -100e3,\n",
    "        ],\n",
    "        dtype=float,\n",
    "    ),\n",
    "}\n",
    "Point_Loads = pd.DataFrame(Point_Loads_data)\n",
    "Point_Loads.style.hide(axis=\"index\")"
   ]
  },
  {
   "cell_type": "code",
   "execution_count": null,
   "id": "a7c751bd-cfa6-494d-823c-eb73eb3d31a2",
   "metadata": {},
   "outputs": [
    {
     "data": {
      "text/html": [
       "<style type=\"text/css\">\n",
       "</style>\n",
       "<table id=\"T_84273\">\n",
       "  <thead>\n",
       "    <tr>\n",
       "      <th id=\"T_84273_level0_col0\" class=\"col_heading level0 col0\" >Load_Group</th>\n",
       "      <th id=\"T_84273_level0_col1\" class=\"col_heading level0 col1\" >Point_Load</th>\n",
       "    </tr>\n",
       "  </thead>\n",
       "  <tbody>\n",
       "    <tr>\n",
       "      <td id=\"T_84273_row0_col0\" class=\"data row0 col0\" >1</td>\n",
       "      <td id=\"T_84273_row0_col1\" class=\"data row0 col1\" >1</td>\n",
       "    </tr>\n",
       "  </tbody>\n",
       "</table>\n"
      ],
      "text/plain": [
       "<pandas.io.formats.style.Styler>"
      ]
     },
     "execution_count": null,
     "metadata": {},
     "output_type": "execute_result"
    }
   ],
   "source": [
    "Load_Groups_data = {\n",
    "    \"Load_Group\": pd.Series(\n",
    "        [\n",
    "            1,\n",
    "        ],\n",
    "        dtype=int,\n",
    "    ),\n",
    "    \"Point_Load\": pd.Series(\n",
    "        [\n",
    "            1,\n",
    "        ],\n",
    "        dtype=int,\n",
    "    ),\n",
    "}\n",
    "Load_Groups = pd.DataFrame(Load_Groups_data)\n",
    "Load_Groups.style.hide(axis=\"index\")"
   ]
  },
  {
   "cell_type": "code",
   "execution_count": null,
   "id": "cfd2bc1c-d5da-4d2a-b944-a4aa38cb70ba",
   "metadata": {},
   "outputs": [],
   "source": [
    "truss_test = StructuralAnalysisModelCreation()\n",
    "truss_test.create_basic_structure()"
   ]
  },
  {
   "cell_type": "code",
   "execution_count": null,
   "id": "dd6c643d-772d-478e-80cb-e3f47bf6a614",
   "metadata": {},
   "outputs": [],
   "source": [
    "truss_test.create_from_DataFrame_a_truss_model(\n",
    "    Bars=Bars, Nodes=Nodes, Point_Loads=Point_Loads, Load_Groups=Load_Groups\n",
    ")"
   ]
  },
  {
   "cell_type": "code",
   "execution_count": null,
   "id": "e89a4def-b6be-4a2f-a6af-c2ed9d53a7d8",
   "metadata": {},
   "outputs": [],
   "source": [
    "truss_test.ifc_model.write(\"truss_excel_example.ifc\")"
   ]
  },
  {
   "cell_type": "code",
   "execution_count": null,
   "id": "a71798bc-694d-4882-b0e9-537d5204bd14",
   "metadata": {},
   "outputs": [],
   "source": [
    "assert isinstance(truss_test.ifc_model, ifcopenshell.file)"
   ]
  },
  {
   "cell_type": "code",
   "execution_count": null,
   "id": "465e3d34-b397-462a-a1d9-ca84f78c5f88",
   "metadata": {},
   "outputs": [
    {
     "name": "stdout",
     "output_type": "stream",
     "text": [
      "ISO-10303-21;\n",
      "HEADER;\n",
      "FILE_DESCRIPTION(('ViewDefinition[]'),'2;1');\n",
      "FILE_NAME('','2024-01-09T21:32:02',(),(),'IfcOpenShell v0.7.0-6c9e130ca','IfcTruss v0.1.0','');\n",
      "FILE_SCHEMA(('IFC4X3_ADD2'));\n",
      "ENDSEC;\n",
      "DATA;\n",
      "#1=IFCSIUNIT(*,.FORCEUNIT.,.KILO.,.NEWTON.);\n",
      "#2=IFCSIUNIT(*,.PRESSUREUNIT.,.KILO.,.PASCAL.);\n",
      "#3=IFCSIUNIT(*,.LENGTHUNIT.,$,.METRE.);\n",
      "#4=IFCSIUNIT(*,.AREAUNIT.,$,.SQUARE_METRE.);\n",
      "#5=IFCUNITASSIGNMENT((#1,#2,#3,#4));\n",
      "#6=IFCCARTESIANPOINT((0.,0.,0.));\n",
      "#7=IFCDIRECTION((0.,0.,1.));\n",
      "#8=IFCDIRECTION((1.,0.,0.));\n",
      "#9=IFCAXIS2PLACEMENT3D(#6,#7,#8);\n",
      "#10=IFCGEOMETRICREPRESENTATIONCONTEXT('3D','Model',3,1.E-05,#9,$);\n",
      "#11=IFCPROJECT('08fw6p4fzDbP_Gh8fassG5',$,'Structural analysis models',$,$,$,$,(#10),#5);\n",
      "#12=IFCBOUNDARYNODECONDITION('Joint',IFCBOOLEAN(.T.),IFCBOOLEAN(.T.),IFCBOOLEAN(.T.),IFCBOOLEAN(.F.),IFCBOOLEAN(.F.),IFCBOOLEAN(.F.));\n",
      "#13=IFCLOCALPLACEMENT($,#9);\n",
      "#14=IFCSTRUCTURALANALYSISMODEL('2896RxNMrAewIjEG8KdTtn',$,'Truss model',$,$,.NOTDEFINED.,#9,(#66),$,#13);\n",
      "#15=IFCRELDECLARES('1duTfVWo902w_xRsJk5NZY',$,$,$,#11,(#14));\n",
      "#16=IFCLOCALPLACEMENT(#13,#9);\n",
      "#17=IFCBOUNDARYNODECONDITION('Support',IFCBOOLEAN(.T.),IFCBOOLEAN(.T.),IFCBOOLEAN(.T.),IFCBOOLEAN(.F.),IFCBOOLEAN(.F.),IFCBOOLEAN(.F.));\n",
      "#18=IFCCARTESIANPOINT((0.,0.,0.));\n",
      "#19=IFCVERTEXPOINT(#18);\n",
      "#20=IFCTOPOLOGYREPRESENTATION(#10,'Reference','Vertex',(#19));\n",
      "#21=IFCPRODUCTDEFINITIONSHAPE($,$,(#20));\n",
      "#22=IFCSTRUCTURALPOINTCONNECTION('3MN2T0txj95eJolDqD2kMm',$,'Node 1',$,$,#16,#21,#17,$);\n",
      "#23=IFCBOUNDARYNODECONDITION('Support',IFCBOOLEAN(.F.),IFCBOOLEAN(.F.),IFCBOOLEAN(.F.),IFCBOOLEAN(.F.),IFCBOOLEAN(.F.),IFCBOOLEAN(.F.));\n",
      "#24=IFCCARTESIANPOINT((0.,0.,3000.));\n",
      "#25=IFCVERTEXPOINT(#24);\n",
      "#26=IFCTOPOLOGYREPRESENTATION(#10,'Reference','Vertex',(#25));\n",
      "#27=IFCPRODUCTDEFINITIONSHAPE($,$,(#26));\n",
      "#28=IFCSTRUCTURALPOINTCONNECTION('2EWY4kYAPBTvNACuxMJJdM',$,'Node 2',$,$,#16,#27,#23,$);\n",
      "#29=IFCBOUNDARYNODECONDITION('Support',IFCBOOLEAN(.T.),IFCBOOLEAN(.T.),IFCBOOLEAN(.T.),IFCBOOLEAN(.F.),IFCBOOLEAN(.F.),IFCBOOLEAN(.F.));\n",
      "#30=IFCCARTESIANPOINT((-4000.,0.,3000.));\n",
      "#31=IFCVERTEXPOINT(#30);\n",
      "#32=IFCTOPOLOGYREPRESENTATION(#10,'Reference','Vertex',(#31));\n",
      "#33=IFCPRODUCTDEFINITIONSHAPE($,$,(#32));\n",
      "#34=IFCSTRUCTURALPOINTCONNECTION('0tqpHRfb92o9tJuIt8mgiA',$,'Node 3',$,$,#16,#33,#29,$);\n",
      "#35=IFCBOUNDARYNODECONDITION('Support',IFCBOOLEAN(.T.),IFCBOOLEAN(.T.),IFCBOOLEAN(.T.),IFCBOOLEAN(.F.),IFCBOOLEAN(.F.),IFCBOOLEAN(.F.));\n",
      "#36=IFCCARTESIANPOINT((-4000.,0.,6000.));\n",
      "#37=IFCVERTEXPOINT(#36);\n",
      "#38=IFCTOPOLOGYREPRESENTATION(#10,'Reference','Vertex',(#37));\n",
      "#39=IFCPRODUCTDEFINITIONSHAPE($,$,(#38));\n",
      "#40=IFCSTRUCTURALPOINTCONNECTION('0606S2Ds50ffwxAuqIHlbk',$,'Node 4',$,$,#16,#39,#35,$);\n",
      "#41=IFCEDGE(#25,#19);\n",
      "#42=IFCTOPOLOGYREPRESENTATION(#10,'Reference','Edge',(#41));\n",
      "#43=IFCPRODUCTDEFINITIONSHAPE($,$,(#42));\n",
      "#44=IFCDIRECTION((1.,0.,0.));\n",
      "#45=IFCSTRUCTURALCURVEMEMBER('1EqWBhyhn6jQsCRqXYe_ll',$,'Truss member',$,$,#16,#43,.PIN_JOINED_MEMBER.,#44);\n",
      "#46=IFCRELCONNECTSSTRUCTURALMEMBER('1qU6k$9PjFMRDD6VicFPT$',$,'Joint',$,#45,#28,#12,$,$,$);\n",
      "#47=IFCRELCONNECTSSTRUCTURALMEMBER('3aMwDqEkL14fd01rgfqN2j',$,'Joint',$,#45,#22,#12,$,$,$);\n",
      "#48=IFCEDGE(#25,#31);\n",
      "#49=IFCTOPOLOGYREPRESENTATION(#10,'Reference','Edge',(#48));\n",
      "#50=IFCPRODUCTDEFINITIONSHAPE($,$,(#49));\n",
      "#51=IFCDIRECTION((1.,0.,0.));\n",
      "#52=IFCSTRUCTURALCURVEMEMBER('2pfet9ME94hwZlKI7ZuTwc',$,'Truss member',$,$,#16,#50,.PIN_JOINED_MEMBER.,#51);\n",
      "#53=IFCRELCONNECTSSTRUCTURALMEMBER('2G6X9dg4X919tNY4KjdYpC',$,'Joint',$,#52,#28,#12,$,$,$);\n",
      "#54=IFCRELCONNECTSSTRUCTURALMEMBER('2LkrqUFfP2c8K3D5Oq8YQe',$,'Joint',$,#52,#34,#12,$,$,$);\n",
      "#55=IFCEDGE(#25,#37);\n",
      "#56=IFCTOPOLOGYREPRESENTATION(#10,'Reference','Edge',(#55));\n",
      "#57=IFCPRODUCTDEFINITIONSHAPE($,$,(#56));\n",
      "#58=IFCDIRECTION((1.,0.,0.));\n",
      "#59=IFCSTRUCTURALCURVEMEMBER('3kj5K19RD0JAsfuAF4xHj7',$,'Truss member',$,$,#16,#57,.PIN_JOINED_MEMBER.,#58);\n",
      "#60=IFCRELCONNECTSSTRUCTURALMEMBER('09JlQezlj8PgJ2e5DjN5w6',$,'Joint',$,#59,#28,#12,$,$,$);\n",
      "#61=IFCRELCONNECTSSTRUCTURALMEMBER('3WGxMkwMr3DgPJYO3Bke_7',$,'Joint',$,#59,#40,#12,$,$,$);\n",
      "#62=IFCRELASSIGNSTOGROUP('3IBJ0$LML4SOsOmw_vCIGM',$,$,$,(#22,#28,#34,#40,#45,#52,#59),$,#14);\n",
      "#63=IFCSTRUCTURALLOADSINGLEFORCE('Point Load 1',100000.,0.,-100000.,$,$,$);\n",
      "#64=IFCSTRUCTURALPOINTACTION('0nTtRBor19lQ$_oJBlGeLU',$,'Point Load 1',$,$,$,$,#63,.GLOBAL_COORDS.,$);\n",
      "#65=IFCRELCONNECTSSTRUCTURALACTIVITY('0Opl_KY0vFMxMwR_BjcaPr',$,$,$,#28,#64);\n",
      "#66=IFCSTRUCTURALLOADGROUP('0qKS7CYr93IPLAGYwyu_Xv',$,'Load Group 1',$,$,.LOAD_GROUP.,.NOTDEFINED.,.NOTDEFINED.,$,$);\n",
      "#67=IFCRELASSIGNSTOGROUP('3o3ATI42XDkhtP2UGaBezk',$,$,$,(#64),$,#66);\n",
      "#68=IFCMATERIAL('Modulus of elasticity',$,$);\n",
      "#69=IFCPROPERTYSINGLEVALUE('YoungModulus',$,IFCMODULUSOFELASTICITYMEASURE(1000.),$);\n",
      "#70=IFCMATERIALPROPERTIES('Pset_MaterialMechanical',$,(#69),#68);\n",
      "#71=IFCPROFILEDEF(.AREA.,$);\n",
      "#72=IFCPROPERTYSINGLEVALUE('CrossSectionArea',$,IFCAREAMEASURE(1000.),$);\n",
      "#73=IFCPROFILEPROPERTIES('Pset_ProfileMechanical',$,(#72),#71);\n",
      "#74=IFCMATERIALPROFILE($,$,#68,#71,$,$);\n",
      "#75=IFCMATERIALPROFILESET($,$,(#74),$);\n",
      "#76=IFCRELASSOCIATESMATERIAL('0msgYL6cj6Wv7_Fht7HR1y',$,$,$,(#45,#52,#59),#75);\n",
      "ENDSEC;\n",
      "END-ISO-10303-21;\n"
     ]
    }
   ],
   "source": [
    "!cat \"truss_excel_example.ifc\""
   ]
  },
  {
   "cell_type": "markdown",
   "id": "5760675b-4455-4a2f-adb2-21ec862932b4",
   "metadata": {},
   "source": [
    "Control the created IFC file with IfcOpenShell internal validation service."
   ]
  },
  {
   "cell_type": "code",
   "execution_count": null,
   "id": "500cec93-fe24-4c8e-bd87-7b90c7ff2468",
   "metadata": {},
   "outputs": [],
   "source": [
    "import ifcopenshell.validate\n",
    "from rich import print"
   ]
  },
  {
   "cell_type": "code",
   "execution_count": null,
   "id": "897d7fc7-b983-423b-9937-4f9176e864e6",
   "metadata": {},
   "outputs": [],
   "source": [
    "json_logger = ifcopenshell.validate.json_logger()\n",
    "ifcopenshell.validate.validate(truss_test.ifc_model, json_logger)\n",
    "json_list = json_logger.statements\n",
    "if json_list:\n",
    "    for i in json_list:\n",
    "        print(i)"
   ]
  },
  {
   "cell_type": "markdown",
   "id": "301f9600-c28f-4e31-ad0f-570a04711439",
   "metadata": {},
   "source": [
    "An empty list will evaluate to False."
   ]
  },
  {
   "cell_type": "code",
   "execution_count": null,
   "id": "d4aacff9-e6c5-4b7f-b6bf-c60ea098548a",
   "metadata": {},
   "outputs": [],
   "source": [
    "assert not json_list"
   ]
  },
  {
   "cell_type": "code",
   "execution_count": null,
   "id": "294de88d-179b-4445-b690-3a7385244d3e",
   "metadata": {},
   "outputs": [],
   "source": [
    "# | hide\n",
    "nbdev.nbdev_export()"
   ]
  },
  {
   "cell_type": "code",
   "execution_count": null,
   "id": "9e6b4e92-52de-4bf7-8cd8-ff08c5ce0a15",
   "metadata": {},
   "outputs": [],
   "source": []
  }
 ],
 "metadata": {
  "kernelspec": {
   "display_name": "python3",
   "language": "python",
   "name": "python3"
  }
 },
 "nbformat": 4,
 "nbformat_minor": 5
}
