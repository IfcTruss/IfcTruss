{
 "cells": [
  {
   "cell_type": "markdown",
   "id": "d9a95ce2-903d-4d4c-9878-232727a31102",
   "metadata": {},
   "source": [
    "# CALFEM\n",
    "\n",
    "> Fill in a module description here"
   ]
  },
  {
   "cell_type": "code",
   "execution_count": null,
   "id": "ccaabbf6-c21a-41ee-bc1e-d5a6b0c36ab0",
   "metadata": {},
   "outputs": [],
   "source": [
    "# | default_exp _calfem"
   ]
  },
  {
   "cell_type": "code",
   "execution_count": null,
   "id": "487d3786-1ea7-4690-924b-de8dc956b2c0",
   "metadata": {},
   "outputs": [],
   "source": [
    "# | export\n",
    "\n",
    "# Copyright © 2023-2024  IfcTruss Contributors\n",
    "#\n",
    "# This program is free software: you can redistribute it and/or modify\n",
    "# it under the terms of the GNU Lesser General Public License as published by\n",
    "# the Free Software Foundation, either version 3 of the License, or\n",
    "# (at your option) any later version.\n",
    "#\n",
    "# This program is distributed in the hope that it will be useful,\n",
    "# but WITHOUT ANY WARRANTY; without even the implied warranty of\n",
    "# MERCHANTABILITY or FITNESS FOR A PARTICULAR PURPOSE.  See the\n",
    "# GNU Lesser General Public License for more details.\n",
    "#\n",
    "# You should have received a copy of the GNU Lesser General Public License\n",
    "# along with this program.  If not, see <https://www.gnu.org/licenses/>."
   ]
  },
  {
   "cell_type": "code",
   "execution_count": null,
   "id": "c06fe0e3-2a2a-4c06-92bb-c841cd5dee59",
   "metadata": {},
   "outputs": [],
   "source": [
    "# | hide\n",
    "import nbdev\n",
    "import nbdev.showdoc"
   ]
  },
  {
   "cell_type": "code",
   "execution_count": null,
   "id": "9f5b4760-a857-4059-9f03-0fd581c63561",
   "metadata": {},
   "outputs": [],
   "source": [
    "from rich import print"
   ]
  },
  {
   "cell_type": "code",
   "execution_count": null,
   "id": "f20851a7-a94e-468f-bf83-6282a6133579",
   "metadata": {},
   "outputs": [],
   "source": [
    "# | export\n",
    "from fastcore.basics import patch\n",
    "import numpy as np\n",
    "import pandas as pd"
   ]
  },
  {
   "cell_type": "code",
   "execution_count": null,
   "id": "07506f95-01f6-4f07-a15d-b5026970e466",
   "metadata": {},
   "outputs": [],
   "source": [
    "# | export\n",
    "try:\n",
    "    import calfem.core as cfc\n",
    "except ImportError:\n",
    "    pass"
   ]
  },
  {
   "cell_type": "code",
   "execution_count": null,
   "id": "34ceada1-bac3-40c1-b1d3-b365440cf0f2",
   "metadata": {},
   "outputs": [],
   "source": [
    "# | export\n",
    "class CALFEMException(Exception):\n",
    "    pass"
   ]
  },
  {
   "cell_type": "code",
   "execution_count": null,
   "id": "fcc1e29f-927d-4368-b6ac-0b35996d93f1",
   "metadata": {},
   "outputs": [],
   "source": [
    "# | export\n",
    "class CALFEM:\n",
    "    def __init__(\n",
    "        self,\n",
    "        *,\n",
    "        bars,\n",
    "        nodes,\n",
    "        point_loads,\n",
    "    ):\n",
    "        # copied from DirectStiffnessMethod class\n",
    "        self.bars = bars\n",
    "        self.nodes = nodes\n",
    "        self.point_loads = point_loads"
   ]
  },
  {
   "cell_type": "code",
   "execution_count": null,
   "id": "678e7040-0792-492f-b152-3f404e1045dc",
   "metadata": {},
   "outputs": [
    {
     "data": {
      "text/html": [
       "<style type=\"text/css\">\n",
       "</style>\n",
       "<table id=\"T_2f206\">\n",
       "  <thead>\n",
       "    <tr>\n",
       "      <th id=\"T_2f206_level0_col0\" class=\"col_heading level0 col0\" >Node</th>\n",
       "      <th id=\"T_2f206_level0_col1\" class=\"col_heading level0 col1\" >Coordinate_X</th>\n",
       "      <th id=\"T_2f206_level0_col2\" class=\"col_heading level0 col2\" >Coordinate_Y</th>\n",
       "      <th id=\"T_2f206_level0_col3\" class=\"col_heading level0 col3\" >Coordinate_Z</th>\n",
       "      <th id=\"T_2f206_level0_col4\" class=\"col_heading level0 col4\" >Translational_X</th>\n",
       "      <th id=\"T_2f206_level0_col5\" class=\"col_heading level0 col5\" >Translational_Y</th>\n",
       "      <th id=\"T_2f206_level0_col6\" class=\"col_heading level0 col6\" >Translational_Z</th>\n",
       "    </tr>\n",
       "  </thead>\n",
       "  <tbody>\n",
       "    <tr>\n",
       "      <td id=\"T_2f206_row0_col0\" class=\"data row0 col0\" >2</td>\n",
       "      <td id=\"T_2f206_row0_col1\" class=\"data row0 col1\" >0.000000</td>\n",
       "      <td id=\"T_2f206_row0_col2\" class=\"data row0 col2\" >0.000000</td>\n",
       "      <td id=\"T_2f206_row0_col3\" class=\"data row0 col3\" >3000.000000</td>\n",
       "      <td id=\"T_2f206_row0_col4\" class=\"data row0 col4\" >False</td>\n",
       "      <td id=\"T_2f206_row0_col5\" class=\"data row0 col5\" >True</td>\n",
       "      <td id=\"T_2f206_row0_col6\" class=\"data row0 col6\" >False</td>\n",
       "    </tr>\n",
       "    <tr>\n",
       "      <td id=\"T_2f206_row1_col0\" class=\"data row1 col0\" >1</td>\n",
       "      <td id=\"T_2f206_row1_col1\" class=\"data row1 col1\" >0.000000</td>\n",
       "      <td id=\"T_2f206_row1_col2\" class=\"data row1 col2\" >0.000000</td>\n",
       "      <td id=\"T_2f206_row1_col3\" class=\"data row1 col3\" >0.000000</td>\n",
       "      <td id=\"T_2f206_row1_col4\" class=\"data row1 col4\" >True</td>\n",
       "      <td id=\"T_2f206_row1_col5\" class=\"data row1 col5\" >True</td>\n",
       "      <td id=\"T_2f206_row1_col6\" class=\"data row1 col6\" >True</td>\n",
       "    </tr>\n",
       "    <tr>\n",
       "      <td id=\"T_2f206_row2_col0\" class=\"data row2 col0\" >3</td>\n",
       "      <td id=\"T_2f206_row2_col1\" class=\"data row2 col1\" >-4000.000000</td>\n",
       "      <td id=\"T_2f206_row2_col2\" class=\"data row2 col2\" >0.000000</td>\n",
       "      <td id=\"T_2f206_row2_col3\" class=\"data row2 col3\" >3000.000000</td>\n",
       "      <td id=\"T_2f206_row2_col4\" class=\"data row2 col4\" >True</td>\n",
       "      <td id=\"T_2f206_row2_col5\" class=\"data row2 col5\" >True</td>\n",
       "      <td id=\"T_2f206_row2_col6\" class=\"data row2 col6\" >True</td>\n",
       "    </tr>\n",
       "    <tr>\n",
       "      <td id=\"T_2f206_row3_col0\" class=\"data row3 col0\" >4</td>\n",
       "      <td id=\"T_2f206_row3_col1\" class=\"data row3 col1\" >-4000.000000</td>\n",
       "      <td id=\"T_2f206_row3_col2\" class=\"data row3 col2\" >0.000000</td>\n",
       "      <td id=\"T_2f206_row3_col3\" class=\"data row3 col3\" >6000.000000</td>\n",
       "      <td id=\"T_2f206_row3_col4\" class=\"data row3 col4\" >True</td>\n",
       "      <td id=\"T_2f206_row3_col5\" class=\"data row3 col5\" >True</td>\n",
       "      <td id=\"T_2f206_row3_col6\" class=\"data row3 col6\" >True</td>\n",
       "    </tr>\n",
       "  </tbody>\n",
       "</table>\n"
      ],
      "text/plain": [
       "<pandas.io.formats.style.Styler>"
      ]
     },
     "execution_count": null,
     "metadata": {},
     "output_type": "execute_result"
    }
   ],
   "source": [
    "Nodes_data = {\n",
    "    \"Node\": pd.Series([2, 1, 3, 4], dtype=int),\n",
    "    \"Coordinate_X\": pd.Series([0, 0, -4e3, -4e3], dtype=float),\n",
    "    \"Coordinate_Y\": pd.Series([0, 0, 0, 0], dtype=float),\n",
    "    \"Coordinate_Z\": pd.Series([3e3, 0, 3e3, 6e3], dtype=float),\n",
    "    \"Translational_X\": pd.Series([0, 1, 1, 1], dtype=bool),\n",
    "    \"Translational_Y\": pd.Series([1, 1, 1, 1], dtype=bool),\n",
    "    \"Translational_Z\": pd.Series([0, 1, 1, 1], dtype=bool),\n",
    "}\n",
    "\n",
    "Nodes = pd.DataFrame(Nodes_data)\n",
    "Nodes.style.hide(axis=\"index\")"
   ]
  },
  {
   "cell_type": "code",
   "execution_count": null,
   "id": "42d05b9a-f2fd-4e78-9308-17773351ce02",
   "metadata": {},
   "outputs": [
    {
     "data": {
      "text/html": [
       "<style type=\"text/css\">\n",
       "</style>\n",
       "<table id=\"T_c167f\">\n",
       "  <thead>\n",
       "    <tr>\n",
       "      <th id=\"T_c167f_level0_col0\" class=\"col_heading level0 col0\" >Bar</th>\n",
       "      <th id=\"T_c167f_level0_col1\" class=\"col_heading level0 col1\" >Start_node</th>\n",
       "      <th id=\"T_c167f_level0_col2\" class=\"col_heading level0 col2\" >End_node</th>\n",
       "      <th id=\"T_c167f_level0_col3\" class=\"col_heading level0 col3\" >Cross-sectional_area</th>\n",
       "      <th id=\"T_c167f_level0_col4\" class=\"col_heading level0 col4\" >Modulus_of_elasticity</th>\n",
       "    </tr>\n",
       "  </thead>\n",
       "  <tbody>\n",
       "    <tr>\n",
       "      <td id=\"T_c167f_row0_col0\" class=\"data row0 col0\" >1</td>\n",
       "      <td id=\"T_c167f_row0_col1\" class=\"data row0 col1\" >2</td>\n",
       "      <td id=\"T_c167f_row0_col2\" class=\"data row0 col2\" >1</td>\n",
       "      <td id=\"T_c167f_row0_col3\" class=\"data row0 col3\" >1000.000000</td>\n",
       "      <td id=\"T_c167f_row0_col4\" class=\"data row0 col4\" >1000.000000</td>\n",
       "    </tr>\n",
       "    <tr>\n",
       "      <td id=\"T_c167f_row1_col0\" class=\"data row1 col0\" >2</td>\n",
       "      <td id=\"T_c167f_row1_col1\" class=\"data row1 col1\" >2</td>\n",
       "      <td id=\"T_c167f_row1_col2\" class=\"data row1 col2\" >3</td>\n",
       "      <td id=\"T_c167f_row1_col3\" class=\"data row1 col3\" >1000.000000</td>\n",
       "      <td id=\"T_c167f_row1_col4\" class=\"data row1 col4\" >1000.000000</td>\n",
       "    </tr>\n",
       "    <tr>\n",
       "      <td id=\"T_c167f_row2_col0\" class=\"data row2 col0\" >3</td>\n",
       "      <td id=\"T_c167f_row2_col1\" class=\"data row2 col1\" >2</td>\n",
       "      <td id=\"T_c167f_row2_col2\" class=\"data row2 col2\" >4</td>\n",
       "      <td id=\"T_c167f_row2_col3\" class=\"data row2 col3\" >1000.000000</td>\n",
       "      <td id=\"T_c167f_row2_col4\" class=\"data row2 col4\" >1000.000000</td>\n",
       "    </tr>\n",
       "  </tbody>\n",
       "</table>\n"
      ],
      "text/plain": [
       "<pandas.io.formats.style.Styler>"
      ]
     },
     "execution_count": null,
     "metadata": {},
     "output_type": "execute_result"
    }
   ],
   "source": [
    "Bars_data = {\n",
    "    \"Bar\": pd.Series([1, 2, 3], dtype=int),\n",
    "    \"Start_node\": pd.Series([2, 2, 2], dtype=int),\n",
    "    \"End_node\": pd.Series([1, 3, 4], dtype=int),\n",
    "    \"Cross-sectional_area\": pd.Series([1e3, 1e3, 1e3], dtype=float),\n",
    "    \"Modulus_of_elasticity\": pd.Series([1e3, 1e3, 1e3], dtype=float),\n",
    "}\n",
    "Bars = pd.DataFrame(Bars_data)\n",
    "Bars.style.hide(axis=\"index\")"
   ]
  },
  {
   "cell_type": "code",
   "execution_count": null,
   "id": "3d0d050c-0e5b-4b92-a2f7-828062a4868a",
   "metadata": {},
   "outputs": [
    {
     "data": {
      "text/html": [
       "<style type=\"text/css\">\n",
       "</style>\n",
       "<table id=\"T_981e6\">\n",
       "  <thead>\n",
       "    <tr>\n",
       "      <th id=\"T_981e6_level0_col0\" class=\"col_heading level0 col0\" >Point_Load</th>\n",
       "      <th id=\"T_981e6_level0_col1\" class=\"col_heading level0 col1\" >Node</th>\n",
       "      <th id=\"T_981e6_level0_col2\" class=\"col_heading level0 col2\" >Force_X</th>\n",
       "      <th id=\"T_981e6_level0_col3\" class=\"col_heading level0 col3\" >Force_Y</th>\n",
       "      <th id=\"T_981e6_level0_col4\" class=\"col_heading level0 col4\" >Force_Z</th>\n",
       "    </tr>\n",
       "  </thead>\n",
       "  <tbody>\n",
       "    <tr>\n",
       "      <td id=\"T_981e6_row0_col0\" class=\"data row0 col0\" >1</td>\n",
       "      <td id=\"T_981e6_row0_col1\" class=\"data row0 col1\" >2</td>\n",
       "      <td id=\"T_981e6_row0_col2\" class=\"data row0 col2\" >100000.000000</td>\n",
       "      <td id=\"T_981e6_row0_col3\" class=\"data row0 col3\" >0.000000</td>\n",
       "      <td id=\"T_981e6_row0_col4\" class=\"data row0 col4\" >-100000.000000</td>\n",
       "    </tr>\n",
       "    <tr>\n",
       "      <td id=\"T_981e6_row1_col0\" class=\"data row1 col0\" >2</td>\n",
       "      <td id=\"T_981e6_row1_col1\" class=\"data row1 col1\" >4</td>\n",
       "      <td id=\"T_981e6_row1_col2\" class=\"data row1 col2\" >100000.000000</td>\n",
       "      <td id=\"T_981e6_row1_col3\" class=\"data row1 col3\" >0.000000</td>\n",
       "      <td id=\"T_981e6_row1_col4\" class=\"data row1 col4\" >0.000000</td>\n",
       "    </tr>\n",
       "    <tr>\n",
       "      <td id=\"T_981e6_row2_col0\" class=\"data row2 col0\" >3</td>\n",
       "      <td id=\"T_981e6_row2_col1\" class=\"data row2 col1\" >4</td>\n",
       "      <td id=\"T_981e6_row2_col2\" class=\"data row2 col2\" >50000.000000</td>\n",
       "      <td id=\"T_981e6_row2_col3\" class=\"data row2 col3\" >0.000000</td>\n",
       "      <td id=\"T_981e6_row2_col4\" class=\"data row2 col4\" >50000.000000</td>\n",
       "    </tr>\n",
       "  </tbody>\n",
       "</table>\n"
      ],
      "text/plain": [
       "<pandas.io.formats.style.Styler>"
      ]
     },
     "execution_count": null,
     "metadata": {},
     "output_type": "execute_result"
    }
   ],
   "source": [
    "Point_Loads_data = {\n",
    "    \"Point_Load\": pd.Series(\n",
    "        [\n",
    "            1,\n",
    "            2,\n",
    "            3,\n",
    "        ],\n",
    "        dtype=int,\n",
    "    ),\n",
    "    \"Node\": pd.Series(\n",
    "        [2, 4, 4],\n",
    "        dtype=int,\n",
    "    ),\n",
    "    \"Force_X\": pd.Series(\n",
    "        [100e3, 100e3, 50e3],\n",
    "        dtype=float,\n",
    "    ),\n",
    "    \"Force_Y\": pd.Series(\n",
    "        [0, 0, 0],\n",
    "        dtype=float,\n",
    "    ),\n",
    "    \"Force_Z\": pd.Series(\n",
    "        [-100e3, 0, 50e3],\n",
    "        dtype=float,\n",
    "    ),\n",
    "}\n",
    "Point_Loads = pd.DataFrame(Point_Loads_data)\n",
    "Point_Loads.style.hide(axis=\"index\")"
   ]
  },
  {
   "cell_type": "code",
   "execution_count": null,
   "id": "3c3fca61-0cf4-425b-83a3-5ed34c5901aa",
   "metadata": {},
   "outputs": [],
   "source": [
    "System = CALFEM(\n",
    "    bars=Bars,\n",
    "    nodes=Nodes,\n",
    "    point_loads=Point_Loads,\n",
    ")"
   ]
  },
  {
   "cell_type": "code",
   "execution_count": null,
   "id": "c27e33bb-2267-4062-b6a2-244e497d48ff",
   "metadata": {},
   "outputs": [],
   "source": [
    "# | export\n",
    "@patch\n",
    "def extend_nodes_df(\n",
    "    self: CALFEM,\n",
    "):\n",
    "    # copied from DirectStiffnessMethod class\n",
    "    self.number_of_rows = self.nodes.shape[0]\n",
    "    self.dimensions = 3\n",
    "\n",
    "    self.number_of_degrees_of_freedom = (\n",
    "        self.number_of_rows * self.dimensions\n",
    "    )\n",
    "\n",
    "    self.nodes[\"Degrees_of_freedom\"] = pd.Series(\n",
    "        np.split(\n",
    "            np.arange(self.number_of_degrees_of_freedom),\n",
    "            self.number_of_rows,\n",
    "        )\n",
    "    )"
   ]
  },
  {
   "cell_type": "code",
   "execution_count": null,
   "id": "3869abb8-b549-49cb-b384-d4c0e44b5ae4",
   "metadata": {},
   "outputs": [],
   "source": [
    "System.extend_nodes_df()"
   ]
  },
  {
   "cell_type": "code",
   "execution_count": null,
   "id": "08d4b96a-2c1a-4fd4-807a-274a9a1013a4",
   "metadata": {},
   "outputs": [
    {
     "data": {
      "text/html": [
       "<style type=\"text/css\">\n",
       "</style>\n",
       "<table id=\"T_a4a0d\">\n",
       "  <thead>\n",
       "    <tr>\n",
       "      <th id=\"T_a4a0d_level0_col0\" class=\"col_heading level0 col0\" >Node</th>\n",
       "      <th id=\"T_a4a0d_level0_col1\" class=\"col_heading level0 col1\" >Coordinate_X</th>\n",
       "      <th id=\"T_a4a0d_level0_col2\" class=\"col_heading level0 col2\" >Coordinate_Y</th>\n",
       "      <th id=\"T_a4a0d_level0_col3\" class=\"col_heading level0 col3\" >Coordinate_Z</th>\n",
       "      <th id=\"T_a4a0d_level0_col4\" class=\"col_heading level0 col4\" >Translational_X</th>\n",
       "      <th id=\"T_a4a0d_level0_col5\" class=\"col_heading level0 col5\" >Translational_Y</th>\n",
       "      <th id=\"T_a4a0d_level0_col6\" class=\"col_heading level0 col6\" >Translational_Z</th>\n",
       "      <th id=\"T_a4a0d_level0_col7\" class=\"col_heading level0 col7\" >Degrees_of_freedom</th>\n",
       "    </tr>\n",
       "  </thead>\n",
       "  <tbody>\n",
       "    <tr>\n",
       "      <td id=\"T_a4a0d_row0_col0\" class=\"data row0 col0\" >2</td>\n",
       "      <td id=\"T_a4a0d_row0_col1\" class=\"data row0 col1\" >0.000000</td>\n",
       "      <td id=\"T_a4a0d_row0_col2\" class=\"data row0 col2\" >0.000000</td>\n",
       "      <td id=\"T_a4a0d_row0_col3\" class=\"data row0 col3\" >3000.000000</td>\n",
       "      <td id=\"T_a4a0d_row0_col4\" class=\"data row0 col4\" >False</td>\n",
       "      <td id=\"T_a4a0d_row0_col5\" class=\"data row0 col5\" >True</td>\n",
       "      <td id=\"T_a4a0d_row0_col6\" class=\"data row0 col6\" >False</td>\n",
       "      <td id=\"T_a4a0d_row0_col7\" class=\"data row0 col7\" >[0 1 2]</td>\n",
       "    </tr>\n",
       "    <tr>\n",
       "      <td id=\"T_a4a0d_row1_col0\" class=\"data row1 col0\" >1</td>\n",
       "      <td id=\"T_a4a0d_row1_col1\" class=\"data row1 col1\" >0.000000</td>\n",
       "      <td id=\"T_a4a0d_row1_col2\" class=\"data row1 col2\" >0.000000</td>\n",
       "      <td id=\"T_a4a0d_row1_col3\" class=\"data row1 col3\" >0.000000</td>\n",
       "      <td id=\"T_a4a0d_row1_col4\" class=\"data row1 col4\" >True</td>\n",
       "      <td id=\"T_a4a0d_row1_col5\" class=\"data row1 col5\" >True</td>\n",
       "      <td id=\"T_a4a0d_row1_col6\" class=\"data row1 col6\" >True</td>\n",
       "      <td id=\"T_a4a0d_row1_col7\" class=\"data row1 col7\" >[3 4 5]</td>\n",
       "    </tr>\n",
       "    <tr>\n",
       "      <td id=\"T_a4a0d_row2_col0\" class=\"data row2 col0\" >3</td>\n",
       "      <td id=\"T_a4a0d_row2_col1\" class=\"data row2 col1\" >-4000.000000</td>\n",
       "      <td id=\"T_a4a0d_row2_col2\" class=\"data row2 col2\" >0.000000</td>\n",
       "      <td id=\"T_a4a0d_row2_col3\" class=\"data row2 col3\" >3000.000000</td>\n",
       "      <td id=\"T_a4a0d_row2_col4\" class=\"data row2 col4\" >True</td>\n",
       "      <td id=\"T_a4a0d_row2_col5\" class=\"data row2 col5\" >True</td>\n",
       "      <td id=\"T_a4a0d_row2_col6\" class=\"data row2 col6\" >True</td>\n",
       "      <td id=\"T_a4a0d_row2_col7\" class=\"data row2 col7\" >[6 7 8]</td>\n",
       "    </tr>\n",
       "    <tr>\n",
       "      <td id=\"T_a4a0d_row3_col0\" class=\"data row3 col0\" >4</td>\n",
       "      <td id=\"T_a4a0d_row3_col1\" class=\"data row3 col1\" >-4000.000000</td>\n",
       "      <td id=\"T_a4a0d_row3_col2\" class=\"data row3 col2\" >0.000000</td>\n",
       "      <td id=\"T_a4a0d_row3_col3\" class=\"data row3 col3\" >6000.000000</td>\n",
       "      <td id=\"T_a4a0d_row3_col4\" class=\"data row3 col4\" >True</td>\n",
       "      <td id=\"T_a4a0d_row3_col5\" class=\"data row3 col5\" >True</td>\n",
       "      <td id=\"T_a4a0d_row3_col6\" class=\"data row3 col6\" >True</td>\n",
       "      <td id=\"T_a4a0d_row3_col7\" class=\"data row3 col7\" >[ 9 10 11]</td>\n",
       "    </tr>\n",
       "  </tbody>\n",
       "</table>\n"
      ],
      "text/plain": [
       "<pandas.io.formats.style.Styler>"
      ]
     },
     "execution_count": null,
     "metadata": {},
     "output_type": "execute_result"
    }
   ],
   "source": [
    "System.nodes.style.hide(axis=\"index\")"
   ]
  },
  {
   "cell_type": "code",
   "execution_count": null,
   "id": "7ffe3964-b554-46f3-8340-a82fb06ebc04",
   "metadata": {},
   "outputs": [],
   "source": [
    "# | export\n",
    "@patch\n",
    "def extend_bars_df(\n",
    "    self: CALFEM,\n",
    "):\n",
    "    # copied from DirectStiffnessMethod class\n",
    "    start_node = self.nodes.rename(\n",
    "        columns={\n",
    "            \"Node\": \"Start_node\",\n",
    "            \"Coordinate_X\": \"x_1\",\n",
    "            \"Coordinate_Y\": \"y_1\",\n",
    "            \"Coordinate_Z\": \"z_1\",\n",
    "            \"Degrees_of_freedom\": \"Degrees_of_freedom_1\",\n",
    "        }\n",
    "    )\n",
    "\n",
    "    bars_start = pd.merge(\n",
    "        self.bars,\n",
    "        start_node[\n",
    "            [\"Start_node\", \"x_1\", \"y_1\", \"z_1\", \"Degrees_of_freedom_1\"]\n",
    "        ],\n",
    "        on=\"Start_node\",\n",
    "    )\n",
    "\n",
    "    end_node = self.nodes.rename(\n",
    "        columns={\n",
    "            \"Node\": \"End_node\",\n",
    "            \"Coordinate_X\": \"x_2\",\n",
    "            \"Coordinate_Y\": \"y_2\",\n",
    "            \"Coordinate_Z\": \"z_2\",\n",
    "            \"Degrees_of_freedom\": \"Degrees_of_freedom_2\",\n",
    "        }\n",
    "    )\n",
    "\n",
    "    self.bars_extended = pd.merge(\n",
    "        bars_start,\n",
    "        end_node[[\"End_node\", \"x_2\", \"y_2\", \"z_2\", \"Degrees_of_freedom_2\"]],\n",
    "        on=\"End_node\",\n",
    "    )"
   ]
  },
  {
   "cell_type": "code",
   "execution_count": null,
   "id": "0fe993b7-f65a-4e2e-8e52-e92579fd8520",
   "metadata": {},
   "outputs": [],
   "source": [
    "System.extend_bars_df()"
   ]
  },
  {
   "cell_type": "code",
   "execution_count": null,
   "id": "67425deb-2c21-4bdf-a0dd-82a778e1172a",
   "metadata": {},
   "outputs": [
    {
     "data": {
      "text/html": [
       "<style type=\"text/css\">\n",
       "</style>\n",
       "<table id=\"T_9c57f\">\n",
       "  <thead>\n",
       "    <tr>\n",
       "      <th id=\"T_9c57f_level0_col0\" class=\"col_heading level0 col0\" >Bar</th>\n",
       "      <th id=\"T_9c57f_level0_col1\" class=\"col_heading level0 col1\" >Start_node</th>\n",
       "      <th id=\"T_9c57f_level0_col2\" class=\"col_heading level0 col2\" >End_node</th>\n",
       "      <th id=\"T_9c57f_level0_col3\" class=\"col_heading level0 col3\" >Cross-sectional_area</th>\n",
       "      <th id=\"T_9c57f_level0_col4\" class=\"col_heading level0 col4\" >Modulus_of_elasticity</th>\n",
       "      <th id=\"T_9c57f_level0_col5\" class=\"col_heading level0 col5\" >x_1</th>\n",
       "      <th id=\"T_9c57f_level0_col6\" class=\"col_heading level0 col6\" >y_1</th>\n",
       "      <th id=\"T_9c57f_level0_col7\" class=\"col_heading level0 col7\" >z_1</th>\n",
       "      <th id=\"T_9c57f_level0_col8\" class=\"col_heading level0 col8\" >Degrees_of_freedom_1</th>\n",
       "      <th id=\"T_9c57f_level0_col9\" class=\"col_heading level0 col9\" >x_2</th>\n",
       "      <th id=\"T_9c57f_level0_col10\" class=\"col_heading level0 col10\" >y_2</th>\n",
       "      <th id=\"T_9c57f_level0_col11\" class=\"col_heading level0 col11\" >z_2</th>\n",
       "      <th id=\"T_9c57f_level0_col12\" class=\"col_heading level0 col12\" >Degrees_of_freedom_2</th>\n",
       "    </tr>\n",
       "  </thead>\n",
       "  <tbody>\n",
       "    <tr>\n",
       "      <td id=\"T_9c57f_row0_col0\" class=\"data row0 col0\" >1</td>\n",
       "      <td id=\"T_9c57f_row0_col1\" class=\"data row0 col1\" >2</td>\n",
       "      <td id=\"T_9c57f_row0_col2\" class=\"data row0 col2\" >1</td>\n",
       "      <td id=\"T_9c57f_row0_col3\" class=\"data row0 col3\" >1000.000000</td>\n",
       "      <td id=\"T_9c57f_row0_col4\" class=\"data row0 col4\" >1000.000000</td>\n",
       "      <td id=\"T_9c57f_row0_col5\" class=\"data row0 col5\" >0.000000</td>\n",
       "      <td id=\"T_9c57f_row0_col6\" class=\"data row0 col6\" >0.000000</td>\n",
       "      <td id=\"T_9c57f_row0_col7\" class=\"data row0 col7\" >3000.000000</td>\n",
       "      <td id=\"T_9c57f_row0_col8\" class=\"data row0 col8\" >[0 1 2]</td>\n",
       "      <td id=\"T_9c57f_row0_col9\" class=\"data row0 col9\" >0.000000</td>\n",
       "      <td id=\"T_9c57f_row0_col10\" class=\"data row0 col10\" >0.000000</td>\n",
       "      <td id=\"T_9c57f_row0_col11\" class=\"data row0 col11\" >0.000000</td>\n",
       "      <td id=\"T_9c57f_row0_col12\" class=\"data row0 col12\" >[3 4 5]</td>\n",
       "    </tr>\n",
       "    <tr>\n",
       "      <td id=\"T_9c57f_row1_col0\" class=\"data row1 col0\" >2</td>\n",
       "      <td id=\"T_9c57f_row1_col1\" class=\"data row1 col1\" >2</td>\n",
       "      <td id=\"T_9c57f_row1_col2\" class=\"data row1 col2\" >3</td>\n",
       "      <td id=\"T_9c57f_row1_col3\" class=\"data row1 col3\" >1000.000000</td>\n",
       "      <td id=\"T_9c57f_row1_col4\" class=\"data row1 col4\" >1000.000000</td>\n",
       "      <td id=\"T_9c57f_row1_col5\" class=\"data row1 col5\" >0.000000</td>\n",
       "      <td id=\"T_9c57f_row1_col6\" class=\"data row1 col6\" >0.000000</td>\n",
       "      <td id=\"T_9c57f_row1_col7\" class=\"data row1 col7\" >3000.000000</td>\n",
       "      <td id=\"T_9c57f_row1_col8\" class=\"data row1 col8\" >[0 1 2]</td>\n",
       "      <td id=\"T_9c57f_row1_col9\" class=\"data row1 col9\" >-4000.000000</td>\n",
       "      <td id=\"T_9c57f_row1_col10\" class=\"data row1 col10\" >0.000000</td>\n",
       "      <td id=\"T_9c57f_row1_col11\" class=\"data row1 col11\" >3000.000000</td>\n",
       "      <td id=\"T_9c57f_row1_col12\" class=\"data row1 col12\" >[6 7 8]</td>\n",
       "    </tr>\n",
       "    <tr>\n",
       "      <td id=\"T_9c57f_row2_col0\" class=\"data row2 col0\" >3</td>\n",
       "      <td id=\"T_9c57f_row2_col1\" class=\"data row2 col1\" >2</td>\n",
       "      <td id=\"T_9c57f_row2_col2\" class=\"data row2 col2\" >4</td>\n",
       "      <td id=\"T_9c57f_row2_col3\" class=\"data row2 col3\" >1000.000000</td>\n",
       "      <td id=\"T_9c57f_row2_col4\" class=\"data row2 col4\" >1000.000000</td>\n",
       "      <td id=\"T_9c57f_row2_col5\" class=\"data row2 col5\" >0.000000</td>\n",
       "      <td id=\"T_9c57f_row2_col6\" class=\"data row2 col6\" >0.000000</td>\n",
       "      <td id=\"T_9c57f_row2_col7\" class=\"data row2 col7\" >3000.000000</td>\n",
       "      <td id=\"T_9c57f_row2_col8\" class=\"data row2 col8\" >[0 1 2]</td>\n",
       "      <td id=\"T_9c57f_row2_col9\" class=\"data row2 col9\" >-4000.000000</td>\n",
       "      <td id=\"T_9c57f_row2_col10\" class=\"data row2 col10\" >0.000000</td>\n",
       "      <td id=\"T_9c57f_row2_col11\" class=\"data row2 col11\" >6000.000000</td>\n",
       "      <td id=\"T_9c57f_row2_col12\" class=\"data row2 col12\" >[ 9 10 11]</td>\n",
       "    </tr>\n",
       "  </tbody>\n",
       "</table>\n"
      ],
      "text/plain": [
       "<pandas.io.formats.style.Styler>"
      ]
     },
     "execution_count": null,
     "metadata": {},
     "output_type": "execute_result"
    }
   ],
   "source": [
    "System.bars_extended.style.hide(axis=\"index\")"
   ]
  },
  {
   "cell_type": "code",
   "execution_count": null,
   "id": "c0a74675-cc1e-4e18-848b-293c464278cd",
   "metadata": {},
   "outputs": [],
   "source": [
    "# | export\n",
    "@patch\n",
    "def create_element_stiffness_matrice(self: CALFEM, row):\n",
    "    ex = row[[\"x_1\", \"x_2\"]]\n",
    "    ey = row[[\"y_1\", \"y_2\"]]\n",
    "    ez = row[[\"z_1\", \"z_2\"]]\n",
    "    ep = [row[\"Modulus_of_elasticity\"], row[\"Cross-sectional_area\"]]\n",
    "    K_e = cfc.bar3e(ex, ey, ez, ep)\n",
    "\n",
    "    return K_e"
   ]
  },
  {
   "cell_type": "code",
   "execution_count": null,
   "id": "a8e1f6a6-20e3-40c7-a12e-92d0d3689f8f",
   "metadata": {},
   "outputs": [],
   "source": [
    "# | export\n",
    "@patch\n",
    "def create_element_stiffness_matrices(\n",
    "    self: CALFEM,\n",
    "):\n",
    "    self.bars_extended[\"Element_Matrice\"] = self.bars_extended.apply(\n",
    "        self.create_element_stiffness_matrice, axis=1\n",
    "    )\n",
    "\n",
    "    self.bars_extended[\"Degrees_of_freedom\"] = self.bars_extended.apply(\n",
    "        lambda row: np.concatenate(\n",
    "            (row[\"Degrees_of_freedom_1\"], row[\"Degrees_of_freedom_2\"])\n",
    "        ),\n",
    "        axis=1,\n",
    "    )\n",
    "\n",
    "    self.element_stiffness_matrices_df = self.bars_extended[\n",
    "        [\"Bar\", \"Element_Matrice\", \"Degrees_of_freedom\"]\n",
    "    ]"
   ]
  },
  {
   "cell_type": "code",
   "execution_count": null,
   "id": "6d2e483c-e24c-476f-a300-3b781bc5462e",
   "metadata": {},
   "outputs": [
    {
     "data": {
      "text/plain": [
       "array([[    0.,     0.],\n",
       "       [    0., -4000.],\n",
       "       [    0., -4000.]])"
      ]
     },
     "execution_count": null,
     "metadata": {},
     "output_type": "execute_result"
    }
   ],
   "source": [
    "System.bars_extended[[\"x_1\", \"x_2\"]].values"
   ]
  },
  {
   "cell_type": "code",
   "execution_count": null,
   "id": "981dcffe-db8e-4884-bb71-e9c243747c5a",
   "metadata": {},
   "outputs": [],
   "source": [
    "System.create_element_stiffness_matrices()"
   ]
  },
  {
   "cell_type": "code",
   "execution_count": null,
   "id": "bfcd616d-857c-46a3-8c90-229c1d13fb74",
   "metadata": {},
   "outputs": [
    {
     "data": {
      "text/html": [
       "<div>\n",
       "<style scoped>\n",
       "    .dataframe tbody tr th:only-of-type {\n",
       "        vertical-align: middle;\n",
       "    }\n",
       "\n",
       "    .dataframe tbody tr th {\n",
       "        vertical-align: top;\n",
       "    }\n",
       "\n",
       "    .dataframe thead th {\n",
       "        text-align: right;\n",
       "    }\n",
       "</style>\n",
       "<table border=\"1\" class=\"dataframe\">\n",
       "  <thead>\n",
       "    <tr style=\"text-align: right;\">\n",
       "      <th></th>\n",
       "      <th>Bar</th>\n",
       "      <th>Element_Matrice</th>\n",
       "      <th>Degrees_of_freedom</th>\n",
       "    </tr>\n",
       "  </thead>\n",
       "  <tbody>\n",
       "    <tr>\n",
       "      <th>0</th>\n",
       "      <td>1</td>\n",
       "      <td>[[0.0, 0.0, 0.0, 0.0, 0.0, 0.0], [0.0, 0.0, 0....</td>\n",
       "      <td>[0, 1, 2, 3, 4, 5]</td>\n",
       "    </tr>\n",
       "    <tr>\n",
       "      <th>1</th>\n",
       "      <td>2</td>\n",
       "      <td>[[250.0, 0.0, 0.0, -250.0, 0.0, 0.0], [0.0, 0....</td>\n",
       "      <td>[0, 1, 2, 6, 7, 8]</td>\n",
       "    </tr>\n",
       "    <tr>\n",
       "      <th>2</th>\n",
       "      <td>3</td>\n",
       "      <td>[[128.0, 0.0, -96.0, -128.0, 0.0, 96.0], [0.0,...</td>\n",
       "      <td>[0, 1, 2, 9, 10, 11]</td>\n",
       "    </tr>\n",
       "  </tbody>\n",
       "</table>\n",
       "</div>"
      ],
      "text/plain": [
       "   Bar                                    Element_Matrice  \\\n",
       "0    1  [[0.0, 0.0, 0.0, 0.0, 0.0, 0.0], [0.0, 0.0, 0....   \n",
       "1    2  [[250.0, 0.0, 0.0, -250.0, 0.0, 0.0], [0.0, 0....   \n",
       "2    3  [[128.0, 0.0, -96.0, -128.0, 0.0, 96.0], [0.0,...   \n",
       "\n",
       "     Degrees_of_freedom  \n",
       "0    [0, 1, 2, 3, 4, 5]  \n",
       "1    [0, 1, 2, 6, 7, 8]  \n",
       "2  [0, 1, 2, 9, 10, 11]  "
      ]
     },
     "execution_count": null,
     "metadata": {},
     "output_type": "execute_result"
    }
   ],
   "source": [
    "System.element_stiffness_matrices_df"
   ]
  },
  {
   "cell_type": "code",
   "execution_count": null,
   "id": "4cf33ed1-67b0-49ff-a221-2c4da1346444",
   "metadata": {},
   "outputs": [],
   "source": [
    "# | export\n",
    "@patch\n",
    "def create_system_stiffness_matrice(\n",
    "    self: CALFEM,\n",
    "):\n",
    "    self.K_f = np.zeros(\n",
    "        (\n",
    "            self.number_of_degrees_of_freedom,\n",
    "            self.number_of_degrees_of_freedom,\n",
    "        )\n",
    "    )\n",
    "\n",
    "    for element_matrice, degrees_of_freedom in zip(\n",
    "        self.element_stiffness_matrices_df[\"Element_Matrice\"],\n",
    "        self.element_stiffness_matrices_df[\"Degrees_of_freedom\"],\n",
    "    ):\n",
    "        cfc.assem(degrees_of_freedom + 1, self.K_f, element_matrice)"
   ]
  },
  {
   "cell_type": "code",
   "execution_count": null,
   "id": "4d7f83d0-5f08-4692-9257-8962efdeee40",
   "metadata": {},
   "outputs": [],
   "source": [
    "System.create_system_stiffness_matrice()"
   ]
  },
  {
   "cell_type": "code",
   "execution_count": null,
   "id": "3816de6f-c9d1-46b2-889c-f6375a7d46dd",
   "metadata": {},
   "outputs": [
    {
     "data": {
      "text/html": [
       "<pre style=\"white-space:pre;overflow-x:auto;line-height:normal;font-family:Menlo,'DejaVu Sans Mono',consolas,'Courier New',monospace\"><span style=\"font-weight: bold\">[[</span> <span style=\"color: #008080; text-decoration-color: #008080; font-weight: bold\">378</span>.            <span style=\"color: #008080; text-decoration-color: #008080; font-weight: bold\">0</span>.          <span style=\"color: #008080; text-decoration-color: #008080; font-weight: bold\">-96</span>.            <span style=\"color: #008080; text-decoration-color: #008080; font-weight: bold\">0</span>.            <span style=\"color: #008080; text-decoration-color: #008080; font-weight: bold\">0</span>.\n",
       "     <span style=\"color: #008080; text-decoration-color: #008080; font-weight: bold\">0</span>.         <span style=\"color: #008080; text-decoration-color: #008080; font-weight: bold\">-250</span>.            <span style=\"color: #008080; text-decoration-color: #008080; font-weight: bold\">0</span>.            <span style=\"color: #008080; text-decoration-color: #008080; font-weight: bold\">0</span>.         <span style=\"color: #008080; text-decoration-color: #008080; font-weight: bold\">-128</span>.\n",
       "     <span style=\"color: #008080; text-decoration-color: #008080; font-weight: bold\">0</span>.           <span style=\"color: #008080; text-decoration-color: #008080; font-weight: bold\">96</span>.        <span style=\"font-weight: bold\">]</span>\n",
       " <span style=\"font-weight: bold\">[</span>   <span style=\"color: #008080; text-decoration-color: #008080; font-weight: bold\">0</span>.            <span style=\"color: #008080; text-decoration-color: #008080; font-weight: bold\">0</span>.            <span style=\"color: #008080; text-decoration-color: #008080; font-weight: bold\">0</span>.            <span style=\"color: #008080; text-decoration-color: #008080; font-weight: bold\">0</span>.            <span style=\"color: #008080; text-decoration-color: #008080; font-weight: bold\">0</span>.\n",
       "     <span style=\"color: #008080; text-decoration-color: #008080; font-weight: bold\">0</span>.            <span style=\"color: #008080; text-decoration-color: #008080; font-weight: bold\">0</span>.            <span style=\"color: #008080; text-decoration-color: #008080; font-weight: bold\">0</span>.            <span style=\"color: #008080; text-decoration-color: #008080; font-weight: bold\">0</span>.            <span style=\"color: #008080; text-decoration-color: #008080; font-weight: bold\">0</span>.\n",
       "     <span style=\"color: #008080; text-decoration-color: #008080; font-weight: bold\">0</span>.            <span style=\"color: #008080; text-decoration-color: #008080; font-weight: bold\">0</span>.        <span style=\"font-weight: bold\">]</span>\n",
       " <span style=\"font-weight: bold\">[</span> <span style=\"color: #008080; text-decoration-color: #008080; font-weight: bold\">-96</span>.            <span style=\"color: #008080; text-decoration-color: #008080; font-weight: bold\">0</span>.          <span style=\"color: #008080; text-decoration-color: #008080; font-weight: bold\">405.33333333</span>    <span style=\"color: #008080; text-decoration-color: #008080; font-weight: bold\">0</span>.            <span style=\"color: #008080; text-decoration-color: #008080; font-weight: bold\">0</span>.\n",
       "  <span style=\"color: #008080; text-decoration-color: #008080; font-weight: bold\">-333.33333333</span>    <span style=\"color: #008080; text-decoration-color: #008080; font-weight: bold\">0</span>.            <span style=\"color: #008080; text-decoration-color: #008080; font-weight: bold\">0</span>.            <span style=\"color: #008080; text-decoration-color: #008080; font-weight: bold\">0</span>.           <span style=\"color: #008080; text-decoration-color: #008080; font-weight: bold\">96</span>.\n",
       "     <span style=\"color: #008080; text-decoration-color: #008080; font-weight: bold\">0</span>.          <span style=\"color: #008080; text-decoration-color: #008080; font-weight: bold\">-72</span>.        <span style=\"font-weight: bold\">]</span>\n",
       " <span style=\"font-weight: bold\">[</span>   <span style=\"color: #008080; text-decoration-color: #008080; font-weight: bold\">0</span>.            <span style=\"color: #008080; text-decoration-color: #008080; font-weight: bold\">0</span>.            <span style=\"color: #008080; text-decoration-color: #008080; font-weight: bold\">0</span>.            <span style=\"color: #008080; text-decoration-color: #008080; font-weight: bold\">0</span>.            <span style=\"color: #008080; text-decoration-color: #008080; font-weight: bold\">0</span>.\n",
       "     <span style=\"color: #008080; text-decoration-color: #008080; font-weight: bold\">0</span>.            <span style=\"color: #008080; text-decoration-color: #008080; font-weight: bold\">0</span>.            <span style=\"color: #008080; text-decoration-color: #008080; font-weight: bold\">0</span>.            <span style=\"color: #008080; text-decoration-color: #008080; font-weight: bold\">0</span>.            <span style=\"color: #008080; text-decoration-color: #008080; font-weight: bold\">0</span>.\n",
       "     <span style=\"color: #008080; text-decoration-color: #008080; font-weight: bold\">0</span>.            <span style=\"color: #008080; text-decoration-color: #008080; font-weight: bold\">0</span>.        <span style=\"font-weight: bold\">]</span>\n",
       " <span style=\"font-weight: bold\">[</span>   <span style=\"color: #008080; text-decoration-color: #008080; font-weight: bold\">0</span>.            <span style=\"color: #008080; text-decoration-color: #008080; font-weight: bold\">0</span>.            <span style=\"color: #008080; text-decoration-color: #008080; font-weight: bold\">0</span>.            <span style=\"color: #008080; text-decoration-color: #008080; font-weight: bold\">0</span>.            <span style=\"color: #008080; text-decoration-color: #008080; font-weight: bold\">0</span>.\n",
       "     <span style=\"color: #008080; text-decoration-color: #008080; font-weight: bold\">0</span>.            <span style=\"color: #008080; text-decoration-color: #008080; font-weight: bold\">0</span>.            <span style=\"color: #008080; text-decoration-color: #008080; font-weight: bold\">0</span>.            <span style=\"color: #008080; text-decoration-color: #008080; font-weight: bold\">0</span>.            <span style=\"color: #008080; text-decoration-color: #008080; font-weight: bold\">0</span>.\n",
       "     <span style=\"color: #008080; text-decoration-color: #008080; font-weight: bold\">0</span>.            <span style=\"color: #008080; text-decoration-color: #008080; font-weight: bold\">0</span>.        <span style=\"font-weight: bold\">]</span>\n",
       " <span style=\"font-weight: bold\">[</span>   <span style=\"color: #008080; text-decoration-color: #008080; font-weight: bold\">0</span>.            <span style=\"color: #008080; text-decoration-color: #008080; font-weight: bold\">0</span>.         <span style=\"color: #008080; text-decoration-color: #008080; font-weight: bold\">-333.33333333</span>    <span style=\"color: #008080; text-decoration-color: #008080; font-weight: bold\">0</span>.            <span style=\"color: #008080; text-decoration-color: #008080; font-weight: bold\">0</span>.\n",
       "   <span style=\"color: #008080; text-decoration-color: #008080; font-weight: bold\">333.33333333</span>    <span style=\"color: #008080; text-decoration-color: #008080; font-weight: bold\">0</span>.            <span style=\"color: #008080; text-decoration-color: #008080; font-weight: bold\">0</span>.            <span style=\"color: #008080; text-decoration-color: #008080; font-weight: bold\">0</span>.            <span style=\"color: #008080; text-decoration-color: #008080; font-weight: bold\">0</span>.\n",
       "     <span style=\"color: #008080; text-decoration-color: #008080; font-weight: bold\">0</span>.            <span style=\"color: #008080; text-decoration-color: #008080; font-weight: bold\">0</span>.        <span style=\"font-weight: bold\">]</span>\n",
       " <span style=\"font-weight: bold\">[</span><span style=\"color: #008080; text-decoration-color: #008080; font-weight: bold\">-250</span>.            <span style=\"color: #008080; text-decoration-color: #008080; font-weight: bold\">0</span>.            <span style=\"color: #008080; text-decoration-color: #008080; font-weight: bold\">0</span>.            <span style=\"color: #008080; text-decoration-color: #008080; font-weight: bold\">0</span>.            <span style=\"color: #008080; text-decoration-color: #008080; font-weight: bold\">0</span>.\n",
       "     <span style=\"color: #008080; text-decoration-color: #008080; font-weight: bold\">0</span>.          <span style=\"color: #008080; text-decoration-color: #008080; font-weight: bold\">250</span>.            <span style=\"color: #008080; text-decoration-color: #008080; font-weight: bold\">0</span>.            <span style=\"color: #008080; text-decoration-color: #008080; font-weight: bold\">0</span>.            <span style=\"color: #008080; text-decoration-color: #008080; font-weight: bold\">0</span>.\n",
       "     <span style=\"color: #008080; text-decoration-color: #008080; font-weight: bold\">0</span>.            <span style=\"color: #008080; text-decoration-color: #008080; font-weight: bold\">0</span>.        <span style=\"font-weight: bold\">]</span>\n",
       " <span style=\"font-weight: bold\">[</span>   <span style=\"color: #008080; text-decoration-color: #008080; font-weight: bold\">0</span>.            <span style=\"color: #008080; text-decoration-color: #008080; font-weight: bold\">0</span>.            <span style=\"color: #008080; text-decoration-color: #008080; font-weight: bold\">0</span>.            <span style=\"color: #008080; text-decoration-color: #008080; font-weight: bold\">0</span>.            <span style=\"color: #008080; text-decoration-color: #008080; font-weight: bold\">0</span>.\n",
       "     <span style=\"color: #008080; text-decoration-color: #008080; font-weight: bold\">0</span>.            <span style=\"color: #008080; text-decoration-color: #008080; font-weight: bold\">0</span>.            <span style=\"color: #008080; text-decoration-color: #008080; font-weight: bold\">0</span>.            <span style=\"color: #008080; text-decoration-color: #008080; font-weight: bold\">0</span>.            <span style=\"color: #008080; text-decoration-color: #008080; font-weight: bold\">0</span>.\n",
       "     <span style=\"color: #008080; text-decoration-color: #008080; font-weight: bold\">0</span>.            <span style=\"color: #008080; text-decoration-color: #008080; font-weight: bold\">0</span>.        <span style=\"font-weight: bold\">]</span>\n",
       " <span style=\"font-weight: bold\">[</span>   <span style=\"color: #008080; text-decoration-color: #008080; font-weight: bold\">0</span>.            <span style=\"color: #008080; text-decoration-color: #008080; font-weight: bold\">0</span>.            <span style=\"color: #008080; text-decoration-color: #008080; font-weight: bold\">0</span>.            <span style=\"color: #008080; text-decoration-color: #008080; font-weight: bold\">0</span>.            <span style=\"color: #008080; text-decoration-color: #008080; font-weight: bold\">0</span>.\n",
       "     <span style=\"color: #008080; text-decoration-color: #008080; font-weight: bold\">0</span>.            <span style=\"color: #008080; text-decoration-color: #008080; font-weight: bold\">0</span>.            <span style=\"color: #008080; text-decoration-color: #008080; font-weight: bold\">0</span>.            <span style=\"color: #008080; text-decoration-color: #008080; font-weight: bold\">0</span>.            <span style=\"color: #008080; text-decoration-color: #008080; font-weight: bold\">0</span>.\n",
       "     <span style=\"color: #008080; text-decoration-color: #008080; font-weight: bold\">0</span>.            <span style=\"color: #008080; text-decoration-color: #008080; font-weight: bold\">0</span>.        <span style=\"font-weight: bold\">]</span>\n",
       " <span style=\"font-weight: bold\">[</span><span style=\"color: #008080; text-decoration-color: #008080; font-weight: bold\">-128</span>.            <span style=\"color: #008080; text-decoration-color: #008080; font-weight: bold\">0</span>.           <span style=\"color: #008080; text-decoration-color: #008080; font-weight: bold\">96</span>.            <span style=\"color: #008080; text-decoration-color: #008080; font-weight: bold\">0</span>.            <span style=\"color: #008080; text-decoration-color: #008080; font-weight: bold\">0</span>.\n",
       "     <span style=\"color: #008080; text-decoration-color: #008080; font-weight: bold\">0</span>.            <span style=\"color: #008080; text-decoration-color: #008080; font-weight: bold\">0</span>.            <span style=\"color: #008080; text-decoration-color: #008080; font-weight: bold\">0</span>.            <span style=\"color: #008080; text-decoration-color: #008080; font-weight: bold\">0</span>.          <span style=\"color: #008080; text-decoration-color: #008080; font-weight: bold\">128</span>.\n",
       "     <span style=\"color: #008080; text-decoration-color: #008080; font-weight: bold\">0</span>.          <span style=\"color: #008080; text-decoration-color: #008080; font-weight: bold\">-96</span>.        <span style=\"font-weight: bold\">]</span>\n",
       " <span style=\"font-weight: bold\">[</span>   <span style=\"color: #008080; text-decoration-color: #008080; font-weight: bold\">0</span>.            <span style=\"color: #008080; text-decoration-color: #008080; font-weight: bold\">0</span>.            <span style=\"color: #008080; text-decoration-color: #008080; font-weight: bold\">0</span>.            <span style=\"color: #008080; text-decoration-color: #008080; font-weight: bold\">0</span>.            <span style=\"color: #008080; text-decoration-color: #008080; font-weight: bold\">0</span>.\n",
       "     <span style=\"color: #008080; text-decoration-color: #008080; font-weight: bold\">0</span>.            <span style=\"color: #008080; text-decoration-color: #008080; font-weight: bold\">0</span>.            <span style=\"color: #008080; text-decoration-color: #008080; font-weight: bold\">0</span>.            <span style=\"color: #008080; text-decoration-color: #008080; font-weight: bold\">0</span>.            <span style=\"color: #008080; text-decoration-color: #008080; font-weight: bold\">0</span>.\n",
       "     <span style=\"color: #008080; text-decoration-color: #008080; font-weight: bold\">0</span>.            <span style=\"color: #008080; text-decoration-color: #008080; font-weight: bold\">0</span>.        <span style=\"font-weight: bold\">]</span>\n",
       " <span style=\"font-weight: bold\">[</span>  <span style=\"color: #008080; text-decoration-color: #008080; font-weight: bold\">96</span>.            <span style=\"color: #008080; text-decoration-color: #008080; font-weight: bold\">0</span>.          <span style=\"color: #008080; text-decoration-color: #008080; font-weight: bold\">-72</span>.            <span style=\"color: #008080; text-decoration-color: #008080; font-weight: bold\">0</span>.            <span style=\"color: #008080; text-decoration-color: #008080; font-weight: bold\">0</span>.\n",
       "     <span style=\"color: #008080; text-decoration-color: #008080; font-weight: bold\">0</span>.            <span style=\"color: #008080; text-decoration-color: #008080; font-weight: bold\">0</span>.            <span style=\"color: #008080; text-decoration-color: #008080; font-weight: bold\">0</span>.            <span style=\"color: #008080; text-decoration-color: #008080; font-weight: bold\">0</span>.          <span style=\"color: #008080; text-decoration-color: #008080; font-weight: bold\">-96</span>.\n",
       "     <span style=\"color: #008080; text-decoration-color: #008080; font-weight: bold\">0</span>.           <span style=\"color: #008080; text-decoration-color: #008080; font-weight: bold\">72</span>.        <span style=\"font-weight: bold\">]]</span>\n",
       "</pre>\n"
      ],
      "text/plain": [
       "\u001b[1m[\u001b[0m\u001b[1m[\u001b[0m \u001b[1;36m378\u001b[0m.            \u001b[1;36m0\u001b[0m.          \u001b[1;36m-96\u001b[0m.            \u001b[1;36m0\u001b[0m.            \u001b[1;36m0\u001b[0m.\n",
       "     \u001b[1;36m0\u001b[0m.         \u001b[1;36m-250\u001b[0m.            \u001b[1;36m0\u001b[0m.            \u001b[1;36m0\u001b[0m.         \u001b[1;36m-128\u001b[0m.\n",
       "     \u001b[1;36m0\u001b[0m.           \u001b[1;36m96\u001b[0m.        \u001b[1m]\u001b[0m\n",
       " \u001b[1m[\u001b[0m   \u001b[1;36m0\u001b[0m.            \u001b[1;36m0\u001b[0m.            \u001b[1;36m0\u001b[0m.            \u001b[1;36m0\u001b[0m.            \u001b[1;36m0\u001b[0m.\n",
       "     \u001b[1;36m0\u001b[0m.            \u001b[1;36m0\u001b[0m.            \u001b[1;36m0\u001b[0m.            \u001b[1;36m0\u001b[0m.            \u001b[1;36m0\u001b[0m.\n",
       "     \u001b[1;36m0\u001b[0m.            \u001b[1;36m0\u001b[0m.        \u001b[1m]\u001b[0m\n",
       " \u001b[1m[\u001b[0m \u001b[1;36m-96\u001b[0m.            \u001b[1;36m0\u001b[0m.          \u001b[1;36m405.33333333\u001b[0m    \u001b[1;36m0\u001b[0m.            \u001b[1;36m0\u001b[0m.\n",
       "  \u001b[1;36m-333.33333333\u001b[0m    \u001b[1;36m0\u001b[0m.            \u001b[1;36m0\u001b[0m.            \u001b[1;36m0\u001b[0m.           \u001b[1;36m96\u001b[0m.\n",
       "     \u001b[1;36m0\u001b[0m.          \u001b[1;36m-72\u001b[0m.        \u001b[1m]\u001b[0m\n",
       " \u001b[1m[\u001b[0m   \u001b[1;36m0\u001b[0m.            \u001b[1;36m0\u001b[0m.            \u001b[1;36m0\u001b[0m.            \u001b[1;36m0\u001b[0m.            \u001b[1;36m0\u001b[0m.\n",
       "     \u001b[1;36m0\u001b[0m.            \u001b[1;36m0\u001b[0m.            \u001b[1;36m0\u001b[0m.            \u001b[1;36m0\u001b[0m.            \u001b[1;36m0\u001b[0m.\n",
       "     \u001b[1;36m0\u001b[0m.            \u001b[1;36m0\u001b[0m.        \u001b[1m]\u001b[0m\n",
       " \u001b[1m[\u001b[0m   \u001b[1;36m0\u001b[0m.            \u001b[1;36m0\u001b[0m.            \u001b[1;36m0\u001b[0m.            \u001b[1;36m0\u001b[0m.            \u001b[1;36m0\u001b[0m.\n",
       "     \u001b[1;36m0\u001b[0m.            \u001b[1;36m0\u001b[0m.            \u001b[1;36m0\u001b[0m.            \u001b[1;36m0\u001b[0m.            \u001b[1;36m0\u001b[0m.\n",
       "     \u001b[1;36m0\u001b[0m.            \u001b[1;36m0\u001b[0m.        \u001b[1m]\u001b[0m\n",
       " \u001b[1m[\u001b[0m   \u001b[1;36m0\u001b[0m.            \u001b[1;36m0\u001b[0m.         \u001b[1;36m-333.33333333\u001b[0m    \u001b[1;36m0\u001b[0m.            \u001b[1;36m0\u001b[0m.\n",
       "   \u001b[1;36m333.33333333\u001b[0m    \u001b[1;36m0\u001b[0m.            \u001b[1;36m0\u001b[0m.            \u001b[1;36m0\u001b[0m.            \u001b[1;36m0\u001b[0m.\n",
       "     \u001b[1;36m0\u001b[0m.            \u001b[1;36m0\u001b[0m.        \u001b[1m]\u001b[0m\n",
       " \u001b[1m[\u001b[0m\u001b[1;36m-250\u001b[0m.            \u001b[1;36m0\u001b[0m.            \u001b[1;36m0\u001b[0m.            \u001b[1;36m0\u001b[0m.            \u001b[1;36m0\u001b[0m.\n",
       "     \u001b[1;36m0\u001b[0m.          \u001b[1;36m250\u001b[0m.            \u001b[1;36m0\u001b[0m.            \u001b[1;36m0\u001b[0m.            \u001b[1;36m0\u001b[0m.\n",
       "     \u001b[1;36m0\u001b[0m.            \u001b[1;36m0\u001b[0m.        \u001b[1m]\u001b[0m\n",
       " \u001b[1m[\u001b[0m   \u001b[1;36m0\u001b[0m.            \u001b[1;36m0\u001b[0m.            \u001b[1;36m0\u001b[0m.            \u001b[1;36m0\u001b[0m.            \u001b[1;36m0\u001b[0m.\n",
       "     \u001b[1;36m0\u001b[0m.            \u001b[1;36m0\u001b[0m.            \u001b[1;36m0\u001b[0m.            \u001b[1;36m0\u001b[0m.            \u001b[1;36m0\u001b[0m.\n",
       "     \u001b[1;36m0\u001b[0m.            \u001b[1;36m0\u001b[0m.        \u001b[1m]\u001b[0m\n",
       " \u001b[1m[\u001b[0m   \u001b[1;36m0\u001b[0m.            \u001b[1;36m0\u001b[0m.            \u001b[1;36m0\u001b[0m.            \u001b[1;36m0\u001b[0m.            \u001b[1;36m0\u001b[0m.\n",
       "     \u001b[1;36m0\u001b[0m.            \u001b[1;36m0\u001b[0m.            \u001b[1;36m0\u001b[0m.            \u001b[1;36m0\u001b[0m.            \u001b[1;36m0\u001b[0m.\n",
       "     \u001b[1;36m0\u001b[0m.            \u001b[1;36m0\u001b[0m.        \u001b[1m]\u001b[0m\n",
       " \u001b[1m[\u001b[0m\u001b[1;36m-128\u001b[0m.            \u001b[1;36m0\u001b[0m.           \u001b[1;36m96\u001b[0m.            \u001b[1;36m0\u001b[0m.            \u001b[1;36m0\u001b[0m.\n",
       "     \u001b[1;36m0\u001b[0m.            \u001b[1;36m0\u001b[0m.            \u001b[1;36m0\u001b[0m.            \u001b[1;36m0\u001b[0m.          \u001b[1;36m128\u001b[0m.\n",
       "     \u001b[1;36m0\u001b[0m.          \u001b[1;36m-96\u001b[0m.        \u001b[1m]\u001b[0m\n",
       " \u001b[1m[\u001b[0m   \u001b[1;36m0\u001b[0m.            \u001b[1;36m0\u001b[0m.            \u001b[1;36m0\u001b[0m.            \u001b[1;36m0\u001b[0m.            \u001b[1;36m0\u001b[0m.\n",
       "     \u001b[1;36m0\u001b[0m.            \u001b[1;36m0\u001b[0m.            \u001b[1;36m0\u001b[0m.            \u001b[1;36m0\u001b[0m.            \u001b[1;36m0\u001b[0m.\n",
       "     \u001b[1;36m0\u001b[0m.            \u001b[1;36m0\u001b[0m.        \u001b[1m]\u001b[0m\n",
       " \u001b[1m[\u001b[0m  \u001b[1;36m96\u001b[0m.            \u001b[1;36m0\u001b[0m.          \u001b[1;36m-72\u001b[0m.            \u001b[1;36m0\u001b[0m.            \u001b[1;36m0\u001b[0m.\n",
       "     \u001b[1;36m0\u001b[0m.            \u001b[1;36m0\u001b[0m.            \u001b[1;36m0\u001b[0m.            \u001b[1;36m0\u001b[0m.          \u001b[1;36m-96\u001b[0m.\n",
       "     \u001b[1;36m0\u001b[0m.           \u001b[1;36m72\u001b[0m.        \u001b[1m]\u001b[0m\u001b[1m]\u001b[0m\n"
      ]
     },
     "metadata": {},
     "output_type": "display_data"
    }
   ],
   "source": [
    "print(System.K_f)"
   ]
  },
  {
   "cell_type": "code",
   "execution_count": null,
   "id": "a3218398-6b87-4481-81a7-8f7dde24be0b",
   "metadata": {},
   "outputs": [],
   "source": [
    "# | export\n",
    "@patch\n",
    "def create_force_vector(\n",
    "    self: CALFEM,\n",
    "):\n",
    "    # copied from DirectStiffnessMethod class\n",
    "    self.F_f = np.zeros(self.number_of_degrees_of_freedom)\n",
    "\n",
    "    self.point_loads_extended = pd.merge(\n",
    "        self.point_loads,\n",
    "        self.nodes[[\"Node\", \"Degrees_of_freedom\"]],\n",
    "        on=\"Node\",\n",
    "    )\n",
    "\n",
    "    np.add.at(\n",
    "        self.F_f,\n",
    "        np.concatenate(\n",
    "            self.point_loads_extended[\"Degrees_of_freedom\"].values\n",
    "        ),\n",
    "        np.concatenate(\n",
    "            self.point_loads_extended[\n",
    "                [\"Force_X\", \"Force_Y\", \"Force_Z\"]\n",
    "            ].values\n",
    "        ),\n",
    "    )"
   ]
  },
  {
   "cell_type": "code",
   "execution_count": null,
   "id": "fd0e2be7-03f6-4ebc-ab35-18815b389c82",
   "metadata": {},
   "outputs": [],
   "source": [
    "System.create_force_vector()"
   ]
  },
  {
   "cell_type": "code",
   "execution_count": null,
   "id": "44b05fe8-0b75-4e5d-8f31-692a31ae819a",
   "metadata": {},
   "outputs": [
    {
     "data": {
      "text/plain": [
       "array([ 100000.,       0., -100000.,       0.,       0.,       0.,\n",
       "             0.,       0.,       0.,  150000.,       0.,   50000.])"
      ]
     },
     "execution_count": null,
     "metadata": {},
     "output_type": "execute_result"
    }
   ],
   "source": [
    "System.F_f"
   ]
  },
  {
   "cell_type": "code",
   "execution_count": null,
   "id": "1f660b3c-9309-474c-bcc7-a8d42427b527",
   "metadata": {},
   "outputs": [],
   "source": [
    "# | export\n",
    "@patch\n",
    "def calculate_displacement_vector_and_calculate_force_vector(\n",
    "    self: CALFEM,\n",
    "):\n",
    "    self.degrees_of_freedom = (\n",
    "        np.concatenate(\n",
    "            self.nodes[\n",
    "                [\n",
    "                    \"Degrees_of_freedom\",\n",
    "                ]\n",
    "            ].values.flatten()\n",
    "        )\n",
    "        + 1\n",
    "    )\n",
    "\n",
    "    self.translationals = np.logical_not(\n",
    "        self.nodes[\n",
    "            [\n",
    "                \"Translational_X\",\n",
    "                \"Translational_Y\",\n",
    "                \"Translational_Z\",\n",
    "            ]\n",
    "        ].values.flatten()\n",
    "    )\n",
    "    self.bc = self.degrees_of_freedom[~self.translationals]\n",
    "\n",
    "    # Point Load in support are zero for the following calculation\n",
    "    F = self.F_f.copy()\n",
    "    F[~self.translationals] = 0\n",
    "\n",
    "    try:\n",
    "        self.u_f, self.F_f_calculated = cfc.solveq(\n",
    "            self.K_f,\n",
    "            F.reshape((self.number_of_degrees_of_freedom, 1)),\n",
    "            self.bc,\n",
    "        )\n",
    "    except np.linalg.LinAlgError as l:\n",
    "        if str(l) == \"Singular matrix\":\n",
    "            raise CALFEMException(\"Mechanism - The system is unstable\")\n",
    "        else:\n",
    "            raise l\n",
    "    self.u_f = np.array(self.u_f).reshape(self.number_of_degrees_of_freedom)\n",
    "\n",
    "    self.F_f_calculated = np.array(self.F_f_calculated).reshape(\n",
    "        self.number_of_degrees_of_freedom\n",
    "    )"
   ]
  },
  {
   "cell_type": "code",
   "execution_count": null,
   "id": "d93b3513-b81d-4803-86c8-29c2755ee549",
   "metadata": {},
   "outputs": [],
   "source": [
    "System.calculate_displacement_vector_and_calculate_force_vector()"
   ]
  },
  {
   "cell_type": "code",
   "execution_count": null,
   "id": "e6cb95db-fb88-499b-8970-2abbbf23ea95",
   "metadata": {},
   "outputs": [
    {
     "data": {
      "text/plain": [
       "array([ 2,  4,  5,  6,  7,  8,  9, 10, 11, 12])"
      ]
     },
     "execution_count": null,
     "metadata": {},
     "output_type": "execute_result"
    }
   ],
   "source": [
    "System.bc"
   ]
  },
  {
   "cell_type": "code",
   "execution_count": null,
   "id": "fb5bc5cd-55f0-4e03-98ae-838b19b37ceb",
   "metadata": {},
   "outputs": [
    {
     "data": {
      "text/plain": [
       "array([ 214.81481481,    0.        , -195.83333333,    0.        ,\n",
       "          0.        ,    0.        ,    0.        ,    0.        ,\n",
       "          0.        ,    0.        ,    0.        ,    0.        ])"
      ]
     },
     "execution_count": null,
     "metadata": {},
     "output_type": "execute_result"
    }
   ],
   "source": [
    "System.u_f"
   ]
  },
  {
   "cell_type": "code",
   "execution_count": null,
   "id": "96632060-807f-4a55-84e4-1d05c8c91360",
   "metadata": {},
   "outputs": [
    {
     "data": {
      "text/plain": [
       "array([ 0.00000000e+00,  0.00000000e+00,  1.45519152e-11,  0.00000000e+00,\n",
       "        0.00000000e+00,  6.52777778e+04, -5.37037037e+04,  0.00000000e+00,\n",
       "        0.00000000e+00, -4.62962963e+04,  0.00000000e+00,  3.47222222e+04])"
      ]
     },
     "execution_count": null,
     "metadata": {},
     "output_type": "execute_result"
    }
   ],
   "source": [
    "System.F_f_calculated"
   ]
  },
  {
   "cell_type": "markdown",
   "id": "d29bfe72-967c-4edf-b084-badf94008698",
   "metadata": {},
   "source": [
    "If the user has defined a point load in the support, this force must be considered in the support forces. This is achieved with the function `correct_force_vector`."
   ]
  },
  {
   "cell_type": "code",
   "execution_count": null,
   "id": "5e756eca-6965-4332-be03-36baa3dca71e",
   "metadata": {},
   "outputs": [],
   "source": [
    "# | export\n",
    "@patch\n",
    "def correct_force_vector(\n",
    "    self: CALFEM,\n",
    "):\n",
    "    self.F_f_nodes = self.F_f.copy()\n",
    "    self.F_f_nodes[self.translationals] = -self.F_f_nodes[\n",
    "        self.translationals\n",
    "    ]\n",
    "\n",
    "    self.F_f_corrected = self.F_f_calculated - self.F_f_nodes"
   ]
  },
  {
   "cell_type": "code",
   "execution_count": null,
   "id": "a1c90a27-d999-4d0e-930b-130e126f4ae6",
   "metadata": {},
   "outputs": [],
   "source": [
    "System.correct_force_vector()"
   ]
  },
  {
   "cell_type": "code",
   "execution_count": null,
   "id": "3540cc6a-832a-4799-a083-7532186f7a86",
   "metadata": {},
   "outputs": [
    {
     "data": {
      "text/plain": [
       "array([ 0.00000000e+00,  0.00000000e+00,  1.45519152e-11,  0.00000000e+00,\n",
       "        0.00000000e+00,  6.52777778e+04, -5.37037037e+04,  0.00000000e+00,\n",
       "        0.00000000e+00, -4.62962963e+04,  0.00000000e+00,  3.47222222e+04])"
      ]
     },
     "execution_count": null,
     "metadata": {},
     "output_type": "execute_result"
    }
   ],
   "source": [
    "System.F_f_calculated"
   ]
  },
  {
   "cell_type": "code",
   "execution_count": null,
   "id": "2db01b04-5d99-4574-9044-416e7c8d79df",
   "metadata": {},
   "outputs": [
    {
     "data": {
      "text/plain": [
       "array([ 100000.        ,       0.        , -100000.        ,\n",
       "             0.        ,       0.        ,   65277.77777778,\n",
       "        -53703.7037037 ,       0.        ,       0.        ,\n",
       "       -196296.2962963 ,       0.        ,  -15277.77777778])"
      ]
     },
     "execution_count": null,
     "metadata": {},
     "output_type": "execute_result"
    }
   ],
   "source": [
    "System.F_f_corrected"
   ]
  },
  {
   "cell_type": "code",
   "execution_count": null,
   "id": "13823b21-7f33-4ad5-af65-a0e62e433874",
   "metadata": {},
   "outputs": [],
   "source": [
    "# | export\n",
    "@patch\n",
    "def calculate_normal_force_in_df(self: CALFEM, row):\n",
    "    ex = row[[\"x_1\", \"x_2\"]]\n",
    "    ey = row[[\"y_1\", \"y_2\"]]\n",
    "    ez = row[[\"z_1\", \"z_2\"]]\n",
    "    ep = [row[\"Modulus_of_elasticity\"], row[\"Cross-sectional_area\"]]\n",
    "    degrees_of_freedom = row[\"Degrees_of_freedom\"]\n",
    "    ed = cfc.extractEldisp(\n",
    "        degrees_of_freedom + 1,\n",
    "        self.u_f.reshape((self.number_of_degrees_of_freedom, 1)),\n",
    "    )\n",
    "\n",
    "    N = cfc.bar3s(ex, ey, ez, ep, ed)\n",
    "    return N[0][0]"
   ]
  },
  {
   "cell_type": "code",
   "execution_count": null,
   "id": "ce7edf3b-eab3-435e-bdc5-a41ad8101a03",
   "metadata": {},
   "outputs": [],
   "source": [
    "# | export\n",
    "@patch\n",
    "def calculate_normal_force(self: CALFEM):\n",
    "    # copied from DirectStiffnessMethod class\n",
    "    self.bars_extended[\"Normal_force\"] = self.bars_extended.apply(\n",
    "        self.calculate_normal_force_in_df, axis=1\n",
    "    )"
   ]
  },
  {
   "cell_type": "code",
   "execution_count": null,
   "id": "b542c5c6-ee26-4d4c-897d-6d21f0967f03",
   "metadata": {},
   "outputs": [],
   "source": [
    "System.calculate_normal_force()"
   ]
  },
  {
   "cell_type": "code",
   "execution_count": null,
   "id": "dbf0b66e-c587-4f06-bdd3-7eef2e8863cf",
   "metadata": {},
   "outputs": [
    {
     "data": {
      "text/html": [
       "<div>\n",
       "<style scoped>\n",
       "    .dataframe tbody tr th:only-of-type {\n",
       "        vertical-align: middle;\n",
       "    }\n",
       "\n",
       "    .dataframe tbody tr th {\n",
       "        vertical-align: top;\n",
       "    }\n",
       "\n",
       "    .dataframe thead th {\n",
       "        text-align: right;\n",
       "    }\n",
       "</style>\n",
       "<table border=\"1\" class=\"dataframe\">\n",
       "  <thead>\n",
       "    <tr style=\"text-align: right;\">\n",
       "      <th></th>\n",
       "      <th>Bar</th>\n",
       "      <th>Start_node</th>\n",
       "      <th>End_node</th>\n",
       "      <th>Cross-sectional_area</th>\n",
       "      <th>Modulus_of_elasticity</th>\n",
       "      <th>x_1</th>\n",
       "      <th>y_1</th>\n",
       "      <th>z_1</th>\n",
       "      <th>Degrees_of_freedom_1</th>\n",
       "      <th>x_2</th>\n",
       "      <th>y_2</th>\n",
       "      <th>z_2</th>\n",
       "      <th>Degrees_of_freedom_2</th>\n",
       "      <th>Element_Matrice</th>\n",
       "      <th>Degrees_of_freedom</th>\n",
       "      <th>Normal_force</th>\n",
       "    </tr>\n",
       "  </thead>\n",
       "  <tbody>\n",
       "    <tr>\n",
       "      <th>0</th>\n",
       "      <td>1</td>\n",
       "      <td>2</td>\n",
       "      <td>1</td>\n",
       "      <td>1000.0</td>\n",
       "      <td>1000.0</td>\n",
       "      <td>0.0</td>\n",
       "      <td>0.0</td>\n",
       "      <td>3000.0</td>\n",
       "      <td>[0, 1, 2]</td>\n",
       "      <td>0.0</td>\n",
       "      <td>0.0</td>\n",
       "      <td>0.0</td>\n",
       "      <td>[3, 4, 5]</td>\n",
       "      <td>[[0.0, 0.0, 0.0, 0.0, 0.0, 0.0], [0.0, 0.0, 0....</td>\n",
       "      <td>[0, 1, 2, 3, 4, 5]</td>\n",
       "      <td>-65277.777778</td>\n",
       "    </tr>\n",
       "    <tr>\n",
       "      <th>1</th>\n",
       "      <td>2</td>\n",
       "      <td>2</td>\n",
       "      <td>3</td>\n",
       "      <td>1000.0</td>\n",
       "      <td>1000.0</td>\n",
       "      <td>0.0</td>\n",
       "      <td>0.0</td>\n",
       "      <td>3000.0</td>\n",
       "      <td>[0, 1, 2]</td>\n",
       "      <td>-4000.0</td>\n",
       "      <td>0.0</td>\n",
       "      <td>3000.0</td>\n",
       "      <td>[6, 7, 8]</td>\n",
       "      <td>[[250.0, 0.0, 0.0, -250.0, 0.0, 0.0], [0.0, 0....</td>\n",
       "      <td>[0, 1, 2, 6, 7, 8]</td>\n",
       "      <td>53703.703704</td>\n",
       "    </tr>\n",
       "    <tr>\n",
       "      <th>2</th>\n",
       "      <td>3</td>\n",
       "      <td>2</td>\n",
       "      <td>4</td>\n",
       "      <td>1000.0</td>\n",
       "      <td>1000.0</td>\n",
       "      <td>0.0</td>\n",
       "      <td>0.0</td>\n",
       "      <td>3000.0</td>\n",
       "      <td>[0, 1, 2]</td>\n",
       "      <td>-4000.0</td>\n",
       "      <td>0.0</td>\n",
       "      <td>6000.0</td>\n",
       "      <td>[9, 10, 11]</td>\n",
       "      <td>[[128.0, 0.0, -96.0, -128.0, 0.0, 96.0], [0.0,...</td>\n",
       "      <td>[0, 1, 2, 9, 10, 11]</td>\n",
       "      <td>57870.370370</td>\n",
       "    </tr>\n",
       "  </tbody>\n",
       "</table>\n",
       "</div>"
      ],
      "text/plain": [
       "   Bar  Start_node  End_node  Cross-sectional_area  Modulus_of_elasticity  x_1  y_1  \\\n",
       "0    1           2         1        1000.0                 1000.0  0.0  0.0   \n",
       "1    2           2         3        1000.0                 1000.0  0.0  0.0   \n",
       "2    3           2         4        1000.0                 1000.0  0.0  0.0   \n",
       "\n",
       "      z_1 Degrees_of_freedom_1     x_2  y_2     z_2 Degrees_of_freedom_2  \\\n",
       "0  3000.0            [0, 1, 2]     0.0  0.0     0.0            [3, 4, 5]   \n",
       "1  3000.0            [0, 1, 2] -4000.0  0.0  3000.0            [6, 7, 8]   \n",
       "2  3000.0            [0, 1, 2] -4000.0  0.0  6000.0          [9, 10, 11]   \n",
       "\n",
       "                                     Element_Matrice    Degrees_of_freedom  \\\n",
       "0  [[0.0, 0.0, 0.0, 0.0, 0.0, 0.0], [0.0, 0.0, 0....    [0, 1, 2, 3, 4, 5]   \n",
       "1  [[250.0, 0.0, 0.0, -250.0, 0.0, 0.0], [0.0, 0....    [0, 1, 2, 6, 7, 8]   \n",
       "2  [[128.0, 0.0, -96.0, -128.0, 0.0, 96.0], [0.0,...  [0, 1, 2, 9, 10, 11]   \n",
       "\n",
       "   Normal_force  \n",
       "0 -65277.777778  \n",
       "1  53703.703704  \n",
       "2  57870.370370  "
      ]
     },
     "execution_count": null,
     "metadata": {},
     "output_type": "execute_result"
    }
   ],
   "source": [
    "System.bars_extended"
   ]
  },
  {
   "cell_type": "code",
   "execution_count": null,
   "id": "7fc7947b-67dc-4af2-8b81-ecaee6f881ff",
   "metadata": {},
   "outputs": [
    {
     "data": {
      "text/plain": [
       "0   -65277.777778\n",
       "1    53703.703704\n",
       "2    57870.370370\n",
       "Name: Normal_force, dtype: float64"
      ]
     },
     "execution_count": null,
     "metadata": {},
     "output_type": "execute_result"
    }
   ],
   "source": [
    "System.bars_extended[\"Normal_force\"]"
   ]
  },
  {
   "cell_type": "code",
   "execution_count": null,
   "id": "61de8ab8-ac19-4573-96f2-2ae5d78fe7ca",
   "metadata": {},
   "outputs": [
    {
     "data": {
      "text/plain": [
       "array([ 214.81481481,    0.        , -195.83333333,    0.        ,\n",
       "          0.        ,    0.        ,    0.        ,    0.        ,\n",
       "          0.        ,    0.        ,    0.        ,    0.        ])"
      ]
     },
     "execution_count": null,
     "metadata": {},
     "output_type": "execute_result"
    }
   ],
   "source": [
    "System.u_f"
   ]
  },
  {
   "cell_type": "code",
   "execution_count": null,
   "id": "613fec7a-b7fd-4c50-8b2f-dba02f7fedbe",
   "metadata": {},
   "outputs": [
    {
     "data": {
      "text/html": [
       "<div>\n",
       "<style scoped>\n",
       "    .dataframe tbody tr th:only-of-type {\n",
       "        vertical-align: middle;\n",
       "    }\n",
       "\n",
       "    .dataframe tbody tr th {\n",
       "        vertical-align: top;\n",
       "    }\n",
       "\n",
       "    .dataframe thead th {\n",
       "        text-align: right;\n",
       "    }\n",
       "</style>\n",
       "<table border=\"1\" class=\"dataframe\">\n",
       "  <thead>\n",
       "    <tr style=\"text-align: right;\">\n",
       "      <th></th>\n",
       "      <th>Node</th>\n",
       "      <th>Coordinate_X</th>\n",
       "      <th>Coordinate_Y</th>\n",
       "      <th>Coordinate_Z</th>\n",
       "      <th>Translational_X</th>\n",
       "      <th>Translational_Y</th>\n",
       "      <th>Translational_Z</th>\n",
       "      <th>Degrees_of_freedom</th>\n",
       "    </tr>\n",
       "  </thead>\n",
       "  <tbody>\n",
       "    <tr>\n",
       "      <th>0</th>\n",
       "      <td>2</td>\n",
       "      <td>0.0</td>\n",
       "      <td>0.0</td>\n",
       "      <td>3000.0</td>\n",
       "      <td>False</td>\n",
       "      <td>True</td>\n",
       "      <td>False</td>\n",
       "      <td>[0, 1, 2]</td>\n",
       "    </tr>\n",
       "    <tr>\n",
       "      <th>1</th>\n",
       "      <td>1</td>\n",
       "      <td>0.0</td>\n",
       "      <td>0.0</td>\n",
       "      <td>0.0</td>\n",
       "      <td>True</td>\n",
       "      <td>True</td>\n",
       "      <td>True</td>\n",
       "      <td>[3, 4, 5]</td>\n",
       "    </tr>\n",
       "    <tr>\n",
       "      <th>2</th>\n",
       "      <td>3</td>\n",
       "      <td>-4000.0</td>\n",
       "      <td>0.0</td>\n",
       "      <td>3000.0</td>\n",
       "      <td>True</td>\n",
       "      <td>True</td>\n",
       "      <td>True</td>\n",
       "      <td>[6, 7, 8]</td>\n",
       "    </tr>\n",
       "    <tr>\n",
       "      <th>3</th>\n",
       "      <td>4</td>\n",
       "      <td>-4000.0</td>\n",
       "      <td>0.0</td>\n",
       "      <td>6000.0</td>\n",
       "      <td>True</td>\n",
       "      <td>True</td>\n",
       "      <td>True</td>\n",
       "      <td>[9, 10, 11]</td>\n",
       "    </tr>\n",
       "  </tbody>\n",
       "</table>\n",
       "</div>"
      ],
      "text/plain": [
       "   Node  Coordinate_X  Coordinate_Y  Coordinate_Z  Translational_X  \\\n",
       "0     2           0.0           0.0        3000.0            False   \n",
       "1     1           0.0           0.0           0.0             True   \n",
       "2     3       -4000.0           0.0        3000.0             True   \n",
       "3     4       -4000.0           0.0        6000.0             True   \n",
       "\n",
       "   Translational_Y  Translational_Z Degrees_of_freedom  \n",
       "0             True            False          [0, 1, 2]  \n",
       "1             True             True          [3, 4, 5]  \n",
       "2             True             True          [6, 7, 8]  \n",
       "3             True             True        [9, 10, 11]  "
      ]
     },
     "execution_count": null,
     "metadata": {},
     "output_type": "execute_result"
    }
   ],
   "source": [
    "System.nodes"
   ]
  },
  {
   "cell_type": "code",
   "execution_count": null,
   "id": "c53c5e9f-9824-4906-ba15-72d10b150790",
   "metadata": {},
   "outputs": [],
   "source": [
    "# | export\n",
    "@patch\n",
    "def create_displacment_df(self: CALFEM):\n",
    "    # copied from DirectStiffnessMethod class\n",
    "    self.dimensions_names = [\"X\", \"Y\", \"Z\"]\n",
    "    for index, name in enumerate(self.dimensions_names):\n",
    "        self.nodes[f\"Displacement_{name}\"] = self.u_f[\n",
    "            index :: self.dimensions\n",
    "        ]\n",
    "\n",
    "    self.translational_names = [\n",
    "        \"Translational_X\",\n",
    "        \"Translational_X\",\n",
    "        \"Translational_X\",\n",
    "    ]\n",
    "    self.displacment_df = self.nodes[\n",
    "        ~(self.nodes[self.translational_names].all(axis=1))\n",
    "    ]\n",
    "\n",
    "    self.displacment_df = self.displacment_df[\n",
    "        [\"Node\", \"Displacement_X\", \"Displacement_Y\", \"Displacement_Z\"]\n",
    "    ]"
   ]
  },
  {
   "cell_type": "code",
   "execution_count": null,
   "id": "9dfebea4-1825-4ca2-9f06-894ff33f1476",
   "metadata": {},
   "outputs": [],
   "source": [
    "System.create_displacment_df()"
   ]
  },
  {
   "cell_type": "code",
   "execution_count": null,
   "id": "e738093e-3edb-4927-a93b-fd496f2c3552",
   "metadata": {},
   "outputs": [
    {
     "data": {
      "text/html": [
       "<style type=\"text/css\">\n",
       "</style>\n",
       "<table id=\"T_e9f1f\">\n",
       "  <thead>\n",
       "    <tr>\n",
       "      <th id=\"T_e9f1f_level0_col0\" class=\"col_heading level0 col0\" >Node</th>\n",
       "      <th id=\"T_e9f1f_level0_col1\" class=\"col_heading level0 col1\" >Displacement_X</th>\n",
       "      <th id=\"T_e9f1f_level0_col2\" class=\"col_heading level0 col2\" >Displacement_Y</th>\n",
       "      <th id=\"T_e9f1f_level0_col3\" class=\"col_heading level0 col3\" >Displacement_Z</th>\n",
       "    </tr>\n",
       "  </thead>\n",
       "  <tbody>\n",
       "    <tr>\n",
       "      <td id=\"T_e9f1f_row0_col0\" class=\"data row0 col0\" >2</td>\n",
       "      <td id=\"T_e9f1f_row0_col1\" class=\"data row0 col1\" >214.814815</td>\n",
       "      <td id=\"T_e9f1f_row0_col2\" class=\"data row0 col2\" >0.000000</td>\n",
       "      <td id=\"T_e9f1f_row0_col3\" class=\"data row0 col3\" >-195.833333</td>\n",
       "    </tr>\n",
       "  </tbody>\n",
       "</table>\n"
      ],
      "text/plain": [
       "<pandas.io.formats.style.Styler>"
      ]
     },
     "execution_count": null,
     "metadata": {},
     "output_type": "execute_result"
    }
   ],
   "source": [
    "System.displacment_df.style.hide(axis=\"index\")"
   ]
  },
  {
   "cell_type": "code",
   "execution_count": null,
   "id": "14045d5a-37af-454f-926e-1478324a90b5",
   "metadata": {},
   "outputs": [],
   "source": [
    "# | export\n",
    "@patch\n",
    "def create_force_df(self: CALFEM):\n",
    "    # copied from DirectStiffnessMethod class\n",
    "    for index, name in enumerate(self.dimensions_names):\n",
    "        self.nodes[f\"Force_{name}\"] = self.F_f_corrected[\n",
    "            index :: self.dimensions\n",
    "        ]\n",
    "\n",
    "    self.force_df = self.nodes[\n",
    "        (self.nodes[self.translational_names].all(axis=1))\n",
    "    ]\n",
    "\n",
    "    self.force_df = self.force_df[[\"Node\", \"Force_X\", \"Force_Y\", \"Force_Z\"]]"
   ]
  },
  {
   "cell_type": "code",
   "execution_count": null,
   "id": "5243a9e4-66b5-4b05-9e3f-1bc5946ed478",
   "metadata": {},
   "outputs": [],
   "source": [
    "System.create_force_df()"
   ]
  },
  {
   "cell_type": "code",
   "execution_count": null,
   "id": "2b78144a-aa5b-4094-9259-e0fe7d5a4ef3",
   "metadata": {},
   "outputs": [
    {
     "data": {
      "text/html": [
       "<style type=\"text/css\">\n",
       "</style>\n",
       "<table id=\"T_5308a\">\n",
       "  <thead>\n",
       "    <tr>\n",
       "      <th id=\"T_5308a_level0_col0\" class=\"col_heading level0 col0\" >Node</th>\n",
       "      <th id=\"T_5308a_level0_col1\" class=\"col_heading level0 col1\" >Force_X</th>\n",
       "      <th id=\"T_5308a_level0_col2\" class=\"col_heading level0 col2\" >Force_Y</th>\n",
       "      <th id=\"T_5308a_level0_col3\" class=\"col_heading level0 col3\" >Force_Z</th>\n",
       "    </tr>\n",
       "  </thead>\n",
       "  <tbody>\n",
       "    <tr>\n",
       "      <td id=\"T_5308a_row0_col0\" class=\"data row0 col0\" >1</td>\n",
       "      <td id=\"T_5308a_row0_col1\" class=\"data row0 col1\" >0.000000</td>\n",
       "      <td id=\"T_5308a_row0_col2\" class=\"data row0 col2\" >0.000000</td>\n",
       "      <td id=\"T_5308a_row0_col3\" class=\"data row0 col3\" >65277.777778</td>\n",
       "    </tr>\n",
       "    <tr>\n",
       "      <td id=\"T_5308a_row1_col0\" class=\"data row1 col0\" >3</td>\n",
       "      <td id=\"T_5308a_row1_col1\" class=\"data row1 col1\" >-53703.703704</td>\n",
       "      <td id=\"T_5308a_row1_col2\" class=\"data row1 col2\" >0.000000</td>\n",
       "      <td id=\"T_5308a_row1_col3\" class=\"data row1 col3\" >0.000000</td>\n",
       "    </tr>\n",
       "    <tr>\n",
       "      <td id=\"T_5308a_row2_col0\" class=\"data row2 col0\" >4</td>\n",
       "      <td id=\"T_5308a_row2_col1\" class=\"data row2 col1\" >-196296.296296</td>\n",
       "      <td id=\"T_5308a_row2_col2\" class=\"data row2 col2\" >0.000000</td>\n",
       "      <td id=\"T_5308a_row2_col3\" class=\"data row2 col3\" >-15277.777778</td>\n",
       "    </tr>\n",
       "  </tbody>\n",
       "</table>\n"
      ],
      "text/plain": [
       "<pandas.io.formats.style.Styler>"
      ]
     },
     "execution_count": null,
     "metadata": {},
     "output_type": "execute_result"
    }
   ],
   "source": [
    "System.force_df.style.hide(axis=\"index\")"
   ]
  },
  {
   "cell_type": "code",
   "execution_count": null,
   "id": "fa8b662d-40c7-4cfa-b472-065be446ea14",
   "metadata": {},
   "outputs": [],
   "source": [
    "# | export\n",
    "@patch\n",
    "def create_normal_force_df(self: CALFEM):\n",
    "    # copied from DirectStiffnessMethod class\n",
    "    self.normal_force_df = self.bars_extended[\n",
    "        [\"Bar\", \"Normal_force\"]\n",
    "    ].copy()\n",
    "    self.normal_force_df[\"Type_of_normal_force\"] = self.normal_force_df[\n",
    "        \"Normal_force\"\n",
    "    ].apply(\n",
    "        lambda x: (\n",
    "            \"Tensile force\"\n",
    "            if x > 0\n",
    "            else (\"Compressive force\" if x < 0 else \"Zero-force\")\n",
    "        )\n",
    "    )"
   ]
  },
  {
   "cell_type": "code",
   "execution_count": null,
   "id": "652ddc5f-a764-4f55-9036-16cb50f3e1d9",
   "metadata": {},
   "outputs": [],
   "source": [
    "System.create_normal_force_df()"
   ]
  },
  {
   "cell_type": "code",
   "execution_count": null,
   "id": "be4c9eb7-2051-4a94-9096-7fc87cb35f86",
   "metadata": {},
   "outputs": [
    {
     "data": {
      "text/html": [
       "<style type=\"text/css\">\n",
       "</style>\n",
       "<table id=\"T_7884d\">\n",
       "  <thead>\n",
       "    <tr>\n",
       "      <th id=\"T_7884d_level0_col0\" class=\"col_heading level0 col0\" >Bar</th>\n",
       "      <th id=\"T_7884d_level0_col1\" class=\"col_heading level0 col1\" >Normal_force</th>\n",
       "      <th id=\"T_7884d_level0_col2\" class=\"col_heading level0 col2\" >Type_of_normal_force</th>\n",
       "    </tr>\n",
       "  </thead>\n",
       "  <tbody>\n",
       "    <tr>\n",
       "      <td id=\"T_7884d_row0_col0\" class=\"data row0 col0\" >1</td>\n",
       "      <td id=\"T_7884d_row0_col1\" class=\"data row0 col1\" >-65277.777778</td>\n",
       "      <td id=\"T_7884d_row0_col2\" class=\"data row0 col2\" >Compressive force</td>\n",
       "    </tr>\n",
       "    <tr>\n",
       "      <td id=\"T_7884d_row1_col0\" class=\"data row1 col0\" >2</td>\n",
       "      <td id=\"T_7884d_row1_col1\" class=\"data row1 col1\" >53703.703704</td>\n",
       "      <td id=\"T_7884d_row1_col2\" class=\"data row1 col2\" >Tensile force</td>\n",
       "    </tr>\n",
       "    <tr>\n",
       "      <td id=\"T_7884d_row2_col0\" class=\"data row2 col0\" >3</td>\n",
       "      <td id=\"T_7884d_row2_col1\" class=\"data row2 col1\" >57870.370370</td>\n",
       "      <td id=\"T_7884d_row2_col2\" class=\"data row2 col2\" >Tensile force</td>\n",
       "    </tr>\n",
       "  </tbody>\n",
       "</table>\n"
      ],
      "text/plain": [
       "<pandas.io.formats.style.Styler>"
      ]
     },
     "execution_count": null,
     "metadata": {},
     "output_type": "execute_result"
    }
   ],
   "source": [
    "System.normal_force_df.style.hide(axis=\"index\")"
   ]
  },
  {
   "cell_type": "code",
   "execution_count": null,
   "id": "492e283d-d615-4271-9da9-4511e811f07c",
   "metadata": {},
   "outputs": [],
   "source": [
    "# | hide\n",
    "nbdev.nbdev_export()"
   ]
  },
  {
   "cell_type": "code",
   "execution_count": null,
   "id": "b197e265-5c20-4355-9630-f8b5d420645a",
   "metadata": {},
   "outputs": [],
   "source": []
  }
 ],
 "metadata": {
  "kernelspec": {
   "display_name": "python3",
   "language": "python",
   "name": "python3"
  }
 },
 "nbformat": 4,
 "nbformat_minor": 5
}
