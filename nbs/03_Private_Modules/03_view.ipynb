{
 "cells": [
  {
   "cell_type": "markdown",
   "id": "8a174ce2-fb79-4e58-8a28-1c2c7c255c8f",
   "metadata": {},
   "source": [
    "# View\n",
    "\n",
    "> Display information from IFC in Panda's DataFrames"
   ]
  },
  {
   "cell_type": "code",
   "execution_count": null,
   "id": "d8b69623-4488-455f-a83f-1e048d590e23",
   "metadata": {},
   "outputs": [],
   "source": [
    "# | default_exp _view"
   ]
  },
  {
   "cell_type": "code",
   "execution_count": null,
   "id": "487d3786-1ea7-4690-924b-de8dc956b2c0",
   "metadata": {},
   "outputs": [],
   "source": [
    "# | export\n",
    "\n",
    "# Copyright © 2023-2024  IfcTruss Contributors\n",
    "#\n",
    "# This program is free software: you can redistribute it and/or modify\n",
    "# it under the terms of the GNU Lesser General Public License as published by\n",
    "# the Free Software Foundation, either version 3 of the License, or\n",
    "# (at your option) any later version.\n",
    "#\n",
    "# This program is distributed in the hope that it will be useful,\n",
    "# but WITHOUT ANY WARRANTY; without even the implied warranty of\n",
    "# MERCHANTABILITY or FITNESS FOR A PARTICULAR PURPOSE.  See the\n",
    "# GNU Lesser General Public License for more details.\n",
    "#\n",
    "# You should have received a copy of the GNU Lesser General Public License\n",
    "# along with this program.  If not, see <https://www.gnu.org/licenses/>."
   ]
  },
  {
   "cell_type": "code",
   "execution_count": null,
   "id": "5fa073f4-5410-4407-9a55-ef506fe4db2c",
   "metadata": {},
   "outputs": [],
   "source": [
    "# | hide\n",
    "import nbdev\n",
    "import nbdev.showdoc"
   ]
  },
  {
   "cell_type": "code",
   "execution_count": null,
   "id": "b3a1f82d-2fc0-4140-9710-e3f3a7dd5e28",
   "metadata": {},
   "outputs": [],
   "source": [
    "# | export\n",
    "from fastcore.basics import patch\n",
    "import ifcopenshell\n",
    "import numpy as np\n",
    "import pandas as pd"
   ]
  },
  {
   "cell_type": "code",
   "execution_count": null,
   "id": "8d04bf4d-1e2c-4dcc-a6ba-f5e406b46711",
   "metadata": {},
   "outputs": [],
   "source": [
    "import ifctruss._example\n",
    "import ifctruss.ifctruss"
   ]
  },
  {
   "cell_type": "code",
   "execution_count": null,
   "id": "f8b9b6db-e810-4832-92b5-c82940f83ed6",
   "metadata": {},
   "outputs": [],
   "source": [
    "# | export\n",
    "class View:\n",
    "    def __init__(\n",
    "        self,\n",
    "        model: ifcopenshell.file,\n",
    "        *,\n",
    "        structural_analysis_model: str,\n",
    "        load_group: str\n",
    "    ):\n",
    "        self.ifc_model = model\n",
    "        self.ifc_structural_analysis_model = self.ifc_model.by_guid(\n",
    "            structural_analysis_model\n",
    "        )\n",
    "        self.load_group = self.ifc_model.by_guid(load_group)"
   ]
  },
  {
   "cell_type": "code",
   "execution_count": null,
   "id": "0065f3e8-3f8c-45d1-bed9-94d6d3134f87",
   "metadata": {},
   "outputs": [],
   "source": [
    "dfs = {\n",
    "    \"nodes\": ifctruss._example.nodes,\n",
    "    \"bars\": ifctruss._example.bars,\n",
    "    \"point_loads\": ifctruss._example.point_loads,\n",
    "}"
   ]
  },
  {
   "cell_type": "code",
   "execution_count": null,
   "id": "ca0a9667-c102-4a66-8a51-dcb7b28ce13d",
   "metadata": {},
   "outputs": [],
   "source": [
    "model = ifctruss.ifctruss.build(**dfs)"
   ]
  },
  {
   "cell_type": "code",
   "execution_count": null,
   "id": "693e1580-3b89-4f67-946c-eb125ff6cd75",
   "metadata": {},
   "outputs": [
    {
     "data": {
      "text/plain": [
       "[#14=IfcStructuralAnalysisModel('0x_8t47bn5NwN19Kz51uq5',$,'Truss model',$,$,.NOTDEFINED.,#9,(#66),$,#13)]"
      ]
     },
     "execution_count": null,
     "metadata": {},
     "output_type": "execute_result"
    }
   ],
   "source": [
    "model.by_type(\"IfcStructuralAnalysisModel\")"
   ]
  },
  {
   "cell_type": "code",
   "execution_count": null,
   "id": "659a110a-06f2-49b0-8605-63b01b4667e4",
   "metadata": {},
   "outputs": [],
   "source": [
    "structural_analysis_model = model.by_type(\"IfcStructuralAnalysisModel\")[\n",
    "    0\n",
    "].GlobalId"
   ]
  },
  {
   "cell_type": "code",
   "execution_count": null,
   "id": "5560afe8-1eeb-434a-9e31-d5e1dc63dc8d",
   "metadata": {},
   "outputs": [
    {
     "data": {
      "text/plain": [
       "(#66=IfcStructuralLoadGroup('06PfYn$Rr6VQvHsU$2enhS',$,'Load Group 1',$,$,.LOAD_GROUP.,.NOTDEFINED.,.NOTDEFINED.,$,$),)"
      ]
     },
     "execution_count": null,
     "metadata": {},
     "output_type": "execute_result"
    }
   ],
   "source": [
    "model.by_type(\"IfcStructuralAnalysisModel\")[0].LoadedBy"
   ]
  },
  {
   "cell_type": "code",
   "execution_count": null,
   "id": "eff0f279-4bfb-4d43-97e5-cd1d1d2e750d",
   "metadata": {},
   "outputs": [],
   "source": [
    "load_group = (\n",
    "    model.by_type(\"IfcStructuralAnalysisModel\")[0].LoadedBy[0].GlobalId\n",
    ")"
   ]
  },
  {
   "cell_type": "code",
   "execution_count": null,
   "id": "e4387f05-c97e-49ee-afa8-3fedd38d45fd",
   "metadata": {},
   "outputs": [],
   "source": [
    "System = View(\n",
    "    model,\n",
    "    structural_analysis_model=structural_analysis_model,\n",
    "    load_group=load_group,\n",
    ")"
   ]
  },
  {
   "cell_type": "code",
   "execution_count": null,
   "id": "53321e6f-be1a-4ea3-9783-198716cf65ac",
   "metadata": {},
   "outputs": [
    {
     "data": {
      "text/plain": [
       "#66=IfcStructuralLoadGroup('06PfYn$Rr6VQvHsU$2enhS',$,'Load Group 1',$,$,.LOAD_GROUP.,.NOTDEFINED.,.NOTDEFINED.,$,$)"
      ]
     },
     "execution_count": null,
     "metadata": {},
     "output_type": "execute_result"
    }
   ],
   "source": [
    "System.load_group"
   ]
  },
  {
   "cell_type": "code",
   "execution_count": null,
   "id": "ec0d4171-c7e4-48f4-8347-e858333f76f8",
   "metadata": {},
   "outputs": [],
   "source": [
    "nodes_and_bars = System.ifc_structural_analysis_model.IsGroupedBy[\n",
    "    0\n",
    "].RelatedObjects"
   ]
  },
  {
   "cell_type": "code",
   "execution_count": null,
   "id": "96b5796a-03a9-4c88-9d6c-5d5767a5da1d",
   "metadata": {},
   "outputs": [
    {
     "data": {
      "text/plain": [
       "(#22=IfcStructuralPointConnection('2pRj5mp2n9meHLovYC9E37',$,'Node 2',$,$,#16,#21,#17,$),\n",
       " #28=IfcStructuralPointConnection('0l8conwJL1BBCnJaaTJOrS',$,'Node 1',$,$,#16,#27,#23,$),\n",
       " #34=IfcStructuralPointConnection('08lPOE44r8VfWKpVuEhIr_',$,'Node 3',$,$,#16,#33,#29,$),\n",
       " #40=IfcStructuralPointConnection('1fMF6F8Q15vAtwp3XlXYpQ',$,'Node 4',$,$,#16,#39,#35,$),\n",
       " #45=IfcStructuralCurveMember('0GK40u5TD5nuzsl7$QTb_H',$,'Truss member',$,$,#16,#43,.PIN_JOINED_MEMBER.,#44),\n",
       " #52=IfcStructuralCurveMember('28D$6D$AD8_vHHIAz18ej6',$,'Truss member',$,$,#16,#50,.PIN_JOINED_MEMBER.,#51),\n",
       " #59=IfcStructuralCurveMember('1w1gl_0E13hBklt59T6yn0',$,'Truss member',$,$,#16,#57,.PIN_JOINED_MEMBER.,#58))"
      ]
     },
     "execution_count": null,
     "metadata": {},
     "output_type": "execute_result"
    }
   ],
   "source": [
    "nodes_and_bars"
   ]
  },
  {
   "cell_type": "code",
   "execution_count": null,
   "id": "b22992a9-04e4-4aa5-88a6-468ef3cf00f9",
   "metadata": {},
   "outputs": [],
   "source": [
    "nodes = [\n",
    "    (node.GlobalId, node, node.AppliedCondition)\n",
    "    for node in nodes_and_bars\n",
    "    if node.is_a(\"IfcStructuralPointConnection\")\n",
    "]"
   ]
  },
  {
   "cell_type": "code",
   "execution_count": null,
   "id": "516e7be6-1f7c-4fea-89da-c1da31ea386d",
   "metadata": {},
   "outputs": [
    {
     "data": {
      "text/plain": [
       "(0.0, 0.0, 3000.0)"
      ]
     },
     "execution_count": null,
     "metadata": {},
     "output_type": "execute_result"
    }
   ],
   "source": [
    "nodes[0][1].Representation.Representations[0].Items[\n",
    "    0\n",
    "].VertexGeometry.Coordinates"
   ]
  },
  {
   "cell_type": "code",
   "execution_count": null,
   "id": "ba8ac66c-4c8c-4b5e-b4ef-af51adad5534",
   "metadata": {},
   "outputs": [
    {
     "data": {
      "text/plain": [
       "tuple"
      ]
     },
     "execution_count": null,
     "metadata": {},
     "output_type": "execute_result"
    }
   ],
   "source": [
    "type(\n",
    "    nodes[0][1]\n",
    "    .Representation.Representations[0]\n",
    "    .Items[0]\n",
    "    .VertexGeometry.Coordinates\n",
    ")"
   ]
  },
  {
   "cell_type": "code",
   "execution_count": null,
   "id": "8613c57c-583e-4003-8c4f-07c734a24dc5",
   "metadata": {},
   "outputs": [
    {
     "data": {
      "text/plain": [
       "array([   0.,    0., 3000.])"
      ]
     },
     "execution_count": null,
     "metadata": {},
     "output_type": "execute_result"
    }
   ],
   "source": [
    "np.array(\n",
    "    nodes[0][1]\n",
    "    .Representation.Representations[0]\n",
    "    .Items[0]\n",
    "    .VertexGeometry.Coordinates\n",
    ")"
   ]
  },
  {
   "cell_type": "code",
   "execution_count": null,
   "id": "c5036fbf-e680-44cf-b186-15f378e768c7",
   "metadata": {},
   "outputs": [
    {
     "data": {
      "text/html": [
       "<div>\n",
       "<style scoped>\n",
       "    .dataframe tbody tr th:only-of-type {\n",
       "        vertical-align: middle;\n",
       "    }\n",
       "\n",
       "    .dataframe tbody tr th {\n",
       "        vertical-align: top;\n",
       "    }\n",
       "\n",
       "    .dataframe thead th {\n",
       "        text-align: right;\n",
       "    }\n",
       "</style>\n",
       "<table border=\"1\" class=\"dataframe\">\n",
       "  <thead>\n",
       "    <tr style=\"text-align: right;\">\n",
       "      <th></th>\n",
       "      <th>Node_GlobalId</th>\n",
       "      <th>Ifc_Nodee</th>\n",
       "      <th>Node_AppliedCondition</th>\n",
       "    </tr>\n",
       "  </thead>\n",
       "  <tbody>\n",
       "    <tr>\n",
       "      <th>0</th>\n",
       "      <td>2pRj5mp2n9meHLovYC9E37</td>\n",
       "      <td>[2pRj5mp2n9meHLovYC9E37, None, Node 2, None, N...</td>\n",
       "      <td>[Support, [False], [True], [False], [False], [...</td>\n",
       "    </tr>\n",
       "    <tr>\n",
       "      <th>1</th>\n",
       "      <td>0l8conwJL1BBCnJaaTJOrS</td>\n",
       "      <td>[0l8conwJL1BBCnJaaTJOrS, None, Node 1, None, N...</td>\n",
       "      <td>[Support, [True], [True], [True], [False], [Fa...</td>\n",
       "    </tr>\n",
       "    <tr>\n",
       "      <th>2</th>\n",
       "      <td>08lPOE44r8VfWKpVuEhIr_</td>\n",
       "      <td>[08lPOE44r8VfWKpVuEhIr_, None, Node 3, None, N...</td>\n",
       "      <td>[Support, [True], [True], [True], [False], [Fa...</td>\n",
       "    </tr>\n",
       "    <tr>\n",
       "      <th>3</th>\n",
       "      <td>1fMF6F8Q15vAtwp3XlXYpQ</td>\n",
       "      <td>[1fMF6F8Q15vAtwp3XlXYpQ, None, Node 4, None, N...</td>\n",
       "      <td>[Support, [True], [True], [True], [False], [Fa...</td>\n",
       "    </tr>\n",
       "  </tbody>\n",
       "</table>\n",
       "</div>"
      ],
      "text/plain": [
       "            Node_GlobalId                                          Ifc_Nodee  \\\n",
       "0  2pRj5mp2n9meHLovYC9E37  [2pRj5mp2n9meHLovYC9E37, None, Node 2, None, N...   \n",
       "1  0l8conwJL1BBCnJaaTJOrS  [0l8conwJL1BBCnJaaTJOrS, None, Node 1, None, N...   \n",
       "2  08lPOE44r8VfWKpVuEhIr_  [08lPOE44r8VfWKpVuEhIr_, None, Node 3, None, N...   \n",
       "3  1fMF6F8Q15vAtwp3XlXYpQ  [1fMF6F8Q15vAtwp3XlXYpQ, None, Node 4, None, N...   \n",
       "\n",
       "                               Node_AppliedCondition  \n",
       "0  [Support, [False], [True], [False], [False], [...  \n",
       "1  [Support, [True], [True], [True], [False], [Fa...  \n",
       "2  [Support, [True], [True], [True], [False], [Fa...  \n",
       "3  [Support, [True], [True], [True], [False], [Fa...  "
      ]
     },
     "execution_count": null,
     "metadata": {},
     "output_type": "execute_result"
    }
   ],
   "source": [
    "pd.DataFrame(\n",
    "    nodes, columns=[\"Node_GlobalId\", \"Ifc_Nodee\", \"Node_AppliedCondition\"]\n",
    ")"
   ]
  },
  {
   "cell_type": "code",
   "execution_count": null,
   "id": "843d395a-c25c-4a9b-8d7f-24f0dacb9857",
   "metadata": {},
   "outputs": [],
   "source": [
    "bars = [\n",
    "    (bar.GlobalId, bar)\n",
    "    for bar in nodes_and_bars\n",
    "    if bar.is_a(\"IfcStructuralCurveMember\")\n",
    "]"
   ]
  },
  {
   "cell_type": "code",
   "execution_count": null,
   "id": "85e986e2-b524-48c2-b9e2-66acfc725867",
   "metadata": {},
   "outputs": [
    {
     "data": {
      "text/plain": [
       "(#53=IfcRelConnectsStructuralMember('06Oc0UdYP3aBPF8mJbjTvs',$,'Joint',$,#52,#22,#12,$,$,$),\n",
       " #54=IfcRelConnectsStructuralMember('2EVElF$QbA9wtrYNw7WD7r',$,'Joint',$,#52,#34,#12,$,$,$))"
      ]
     },
     "execution_count": null,
     "metadata": {},
     "output_type": "execute_result"
    }
   ],
   "source": [
    "bars[1][1].ConnectedBy"
   ]
  },
  {
   "cell_type": "code",
   "execution_count": null,
   "id": "3981d759-caa9-4f8b-a63d-a398894d7e1d",
   "metadata": {},
   "outputs": [
    {
     "data": {
      "text/plain": [
       "(0.0, 0.0, 3000.0)"
      ]
     },
     "execution_count": null,
     "metadata": {},
     "output_type": "execute_result"
    }
   ],
   "source": [
    "bars[1][1].Representation.Representations[0].Items[\n",
    "    0\n",
    "].EdgeStart.VertexGeometry.Coordinates"
   ]
  },
  {
   "cell_type": "code",
   "execution_count": null,
   "id": "9399f896-ee9c-496e-b272-dc756c71147b",
   "metadata": {},
   "outputs": [
    {
     "data": {
      "text/plain": [
       "(#74=IfcMaterialProfile($,$,#68,#71,$,$),)"
      ]
     },
     "execution_count": null,
     "metadata": {},
     "output_type": "execute_result"
    }
   ],
   "source": [
    "bars[1][1].HasAssociations[0].RelatingMaterial.MaterialProfiles"
   ]
  },
  {
   "cell_type": "code",
   "execution_count": null,
   "id": "6251fb90-71b1-4a01-8c8f-327ab2ae83ad",
   "metadata": {},
   "outputs": [],
   "source": [
    "# | export\n",
    "@patch\n",
    "def get_coordinates(self: View, node):\n",
    "    coordinates = (\n",
    "        node.Representation.Representations[0]\n",
    "        .Items[0]\n",
    "        .VertexGeometry.Coordinates\n",
    "    )\n",
    "    return coordinates"
   ]
  },
  {
   "cell_type": "code",
   "execution_count": null,
   "id": "54e03e45-7c37-4b33-adc3-24c1d0548600",
   "metadata": {},
   "outputs": [],
   "source": [
    "# | export\n",
    "@patch\n",
    "def get_translational_x(self: View, node):\n",
    "    translational_x = node.AppliedCondition.TranslationalStiffnessX[0]\n",
    "    return translational_x"
   ]
  },
  {
   "cell_type": "code",
   "execution_count": null,
   "id": "af18c885-aa01-452f-8555-e35255e93186",
   "metadata": {},
   "outputs": [],
   "source": [
    "# | export\n",
    "@patch\n",
    "def get_translational_y(self: View, node):\n",
    "    translational_y = node.AppliedCondition.TranslationalStiffnessY[0]\n",
    "    return translational_y"
   ]
  },
  {
   "cell_type": "code",
   "execution_count": null,
   "id": "fc55e83a-0fe8-487b-8f6b-0810a36c853c",
   "metadata": {},
   "outputs": [],
   "source": [
    "# | export\n",
    "@patch\n",
    "def get_translational_z(self: View, node):\n",
    "    translational_z = node.AppliedCondition.TranslationalStiffnessZ[0]\n",
    "    return translational_z"
   ]
  },
  {
   "cell_type": "code",
   "execution_count": null,
   "id": "997bee5e-afd5-4321-a6fe-cf5e1d8c4c7b",
   "metadata": {},
   "outputs": [],
   "source": [
    "# | export\n",
    "@patch\n",
    "def get_start_node(self: View, bar):\n",
    "    # This implementation cannot guarantee that it is really the start_node\n",
    "    # defined by EdgeStart\n",
    "    start_node = bar.ConnectedBy[0].RelatedStructuralConnection.GlobalId\n",
    "    return start_node"
   ]
  },
  {
   "cell_type": "code",
   "execution_count": null,
   "id": "7acbe8c1-78aa-49c6-afa9-89294b8189db",
   "metadata": {},
   "outputs": [],
   "source": [
    "# | export\n",
    "@patch\n",
    "def get_end_node(self: View, bar):\n",
    "    # This implementation cannot guarantee that it is really the end_node\n",
    "    # defined by EdgeEnd\n",
    "    end_node = bar.ConnectedBy[1].RelatedStructuralConnection.GlobalId\n",
    "    return end_node"
   ]
  },
  {
   "cell_type": "code",
   "execution_count": null,
   "id": "79b5955d-4e40-42d3-996a-1c46fa4cfb73",
   "metadata": {},
   "outputs": [
    {
     "data": {
      "text/plain": [
       "1000.0"
      ]
     },
     "execution_count": null,
     "metadata": {},
     "output_type": "execute_result"
    }
   ],
   "source": [
    "(\n",
    "    bars[1][1]\n",
    "    .HasAssociations[0]\n",
    "    .RelatingMaterial.MaterialProfiles[0]\n",
    "    .Profile.HasProperties[0]\n",
    "    .Properties[0]\n",
    "    .NominalValue[0]\n",
    ")"
   ]
  },
  {
   "cell_type": "code",
   "execution_count": null,
   "id": "b7717492-8550-4e18-a580-72362ad9086a",
   "metadata": {},
   "outputs": [],
   "source": [
    "(\n",
    "    bars[1][1]\n",
    "    .HasAssociations[0]\n",
    "    .RelatingMaterial.MaterialProfiles[0]\n",
    "    .Profile.HasProperties[0]\n",
    "    .Properties[0]\n",
    "    .Unit\n",
    ")"
   ]
  },
  {
   "cell_type": "code",
   "execution_count": null,
   "id": "90d6fed7-ec02-49e2-9f88-a4fa6564c5cc",
   "metadata": {},
   "outputs": [],
   "source": [
    "# | export\n",
    "@patch\n",
    "def get_surface_area(self: View, bar):\n",
    "    surface_area = (\n",
    "        bar.HasAssociations[0]\n",
    "        .RelatingMaterial.MaterialProfiles[0]\n",
    "        .Profile.HasProperties[0]\n",
    "        .Properties[0]\n",
    "        .NominalValue[0]\n",
    "    )\n",
    "    return surface_area"
   ]
  },
  {
   "cell_type": "code",
   "execution_count": null,
   "id": "957215a8-5b6a-46e0-89d1-281e286ff673",
   "metadata": {},
   "outputs": [
    {
     "data": {
      "text/plain": [
       "1000.0"
      ]
     },
     "execution_count": null,
     "metadata": {},
     "output_type": "execute_result"
    }
   ],
   "source": [
    "(\n",
    "    bars[1][1]\n",
    "    .HasAssociations[0]\n",
    "    .RelatingMaterial.MaterialProfiles[0]\n",
    "    .Material.HasProperties[0]\n",
    "    .Properties[0]\n",
    "    .NominalValue[0]\n",
    ")"
   ]
  },
  {
   "cell_type": "code",
   "execution_count": null,
   "id": "13097dcc-a05f-4929-8bd2-ff6adf8c4bee",
   "metadata": {},
   "outputs": [
    {
     "data": {
      "text/plain": [
       "#69=IfcPropertySingleValue('YoungModulus',$,IfcModulusOfElasticityMeasure(1000.),$)"
      ]
     },
     "execution_count": null,
     "metadata": {},
     "output_type": "execute_result"
    }
   ],
   "source": [
    "(\n",
    "    bars[1][1]\n",
    "    .HasAssociations[0]\n",
    "    .RelatingMaterial.MaterialProfiles[0]\n",
    "    .Material.HasProperties[0]\n",
    "    .Properties[0]\n",
    ")"
   ]
  },
  {
   "cell_type": "code",
   "execution_count": null,
   "id": "ff64ada2-546e-490e-b6ee-d3b7e66f6567",
   "metadata": {},
   "outputs": [],
   "source": [
    "# | export\n",
    "@patch\n",
    "def get_modulus_of_elasticity(self: View, bar):\n",
    "    modulus_of_elasticity = (\n",
    "        bar.HasAssociations[0]\n",
    "        .RelatingMaterial.MaterialProfiles[0]\n",
    "        .Material.HasProperties[0]\n",
    "        .Properties[0]\n",
    "        .NominalValue[0]\n",
    "    )\n",
    "    return modulus_of_elasticity"
   ]
  },
  {
   "cell_type": "code",
   "execution_count": null,
   "id": "525d51ab-eccf-4a4e-91fc-693de6e06f2a",
   "metadata": {},
   "outputs": [],
   "source": [
    "# | export\n",
    "@patch\n",
    "def get_nodes_and_bars(self: View):\n",
    "    self.nodes_and_bars = self.ifc_structural_analysis_model.IsGroupedBy[\n",
    "        0\n",
    "    ].RelatedObjects\n",
    "    self.nodes = [\n",
    "        (\n",
    "            node.GlobalId,\n",
    "            *self.get_coordinates(node),\n",
    "            self.get_translational_x(node),\n",
    "            self.get_translational_y(node),\n",
    "            self.get_translational_z(node),\n",
    "        )\n",
    "        for node in self.nodes_and_bars\n",
    "        if node.is_a(\"IfcStructuralPointConnection\")\n",
    "    ]\n",
    "    self.bars = [\n",
    "        (\n",
    "            bar.GlobalId,\n",
    "            self.get_start_node(bar),\n",
    "            self.get_end_node(bar),\n",
    "            self.get_surface_area(bar),\n",
    "            self.get_modulus_of_elasticity(bar),\n",
    "        )\n",
    "        for bar in self.nodes_and_bars\n",
    "        if bar.is_a(\"IfcStructuralCurveMember\")\n",
    "    ]\n",
    "    self.nodes_df = pd.DataFrame(\n",
    "        self.nodes,\n",
    "        columns=[\n",
    "            \"Node\",\n",
    "            \"Coordinate_X\",\n",
    "            \"Coordinate_Y\",\n",
    "            \"Coordinate_Z\",\n",
    "            \"Translational_X\",\n",
    "            \"Translational_Y\",\n",
    "            \"Translational_Z\",\n",
    "        ],\n",
    "    )\n",
    "    self.bars_df = pd.DataFrame(\n",
    "        self.bars,\n",
    "        columns=[\n",
    "            \"Bar\",\n",
    "            \"Start_node\",\n",
    "            \"End_node\",\n",
    "            \"Cross-sectional_area\",\n",
    "            \"Modulus_of_elasticity\",\n",
    "        ],\n",
    "    )"
   ]
  },
  {
   "cell_type": "code",
   "execution_count": null,
   "id": "9f0598bc-d3a8-430f-8f71-6624dd5ac449",
   "metadata": {},
   "outputs": [],
   "source": [
    "System.get_nodes_and_bars()"
   ]
  },
  {
   "cell_type": "code",
   "execution_count": null,
   "id": "0fb2a5db-9006-4694-89df-0199adb74942",
   "metadata": {},
   "outputs": [
    {
     "data": {
      "text/html": [
       "<style type=\"text/css\">\n",
       "</style>\n",
       "<table id=\"T_50cf7\">\n",
       "  <thead>\n",
       "    <tr>\n",
       "      <th id=\"T_50cf7_level0_col0\" class=\"col_heading level0 col0\" >Node</th>\n",
       "      <th id=\"T_50cf7_level0_col1\" class=\"col_heading level0 col1\" >Coordinate_X</th>\n",
       "      <th id=\"T_50cf7_level0_col2\" class=\"col_heading level0 col2\" >Coordinate_Y</th>\n",
       "      <th id=\"T_50cf7_level0_col3\" class=\"col_heading level0 col3\" >Coordinate_Z</th>\n",
       "      <th id=\"T_50cf7_level0_col4\" class=\"col_heading level0 col4\" >Translational_X</th>\n",
       "      <th id=\"T_50cf7_level0_col5\" class=\"col_heading level0 col5\" >Translational_Y</th>\n",
       "      <th id=\"T_50cf7_level0_col6\" class=\"col_heading level0 col6\" >Translational_Z</th>\n",
       "    </tr>\n",
       "  </thead>\n",
       "  <tbody>\n",
       "    <tr>\n",
       "      <td id=\"T_50cf7_row0_col0\" class=\"data row0 col0\" >2pRj5mp2n9meHLovYC9E37</td>\n",
       "      <td id=\"T_50cf7_row0_col1\" class=\"data row0 col1\" >0.000000</td>\n",
       "      <td id=\"T_50cf7_row0_col2\" class=\"data row0 col2\" >0.000000</td>\n",
       "      <td id=\"T_50cf7_row0_col3\" class=\"data row0 col3\" >3000.000000</td>\n",
       "      <td id=\"T_50cf7_row0_col4\" class=\"data row0 col4\" >False</td>\n",
       "      <td id=\"T_50cf7_row0_col5\" class=\"data row0 col5\" >True</td>\n",
       "      <td id=\"T_50cf7_row0_col6\" class=\"data row0 col6\" >False</td>\n",
       "    </tr>\n",
       "    <tr>\n",
       "      <td id=\"T_50cf7_row1_col0\" class=\"data row1 col0\" >0l8conwJL1BBCnJaaTJOrS</td>\n",
       "      <td id=\"T_50cf7_row1_col1\" class=\"data row1 col1\" >0.000000</td>\n",
       "      <td id=\"T_50cf7_row1_col2\" class=\"data row1 col2\" >0.000000</td>\n",
       "      <td id=\"T_50cf7_row1_col3\" class=\"data row1 col3\" >0.000000</td>\n",
       "      <td id=\"T_50cf7_row1_col4\" class=\"data row1 col4\" >True</td>\n",
       "      <td id=\"T_50cf7_row1_col5\" class=\"data row1 col5\" >True</td>\n",
       "      <td id=\"T_50cf7_row1_col6\" class=\"data row1 col6\" >True</td>\n",
       "    </tr>\n",
       "    <tr>\n",
       "      <td id=\"T_50cf7_row2_col0\" class=\"data row2 col0\" >08lPOE44r8VfWKpVuEhIr_</td>\n",
       "      <td id=\"T_50cf7_row2_col1\" class=\"data row2 col1\" >-4000.000000</td>\n",
       "      <td id=\"T_50cf7_row2_col2\" class=\"data row2 col2\" >0.000000</td>\n",
       "      <td id=\"T_50cf7_row2_col3\" class=\"data row2 col3\" >3000.000000</td>\n",
       "      <td id=\"T_50cf7_row2_col4\" class=\"data row2 col4\" >True</td>\n",
       "      <td id=\"T_50cf7_row2_col5\" class=\"data row2 col5\" >True</td>\n",
       "      <td id=\"T_50cf7_row2_col6\" class=\"data row2 col6\" >True</td>\n",
       "    </tr>\n",
       "    <tr>\n",
       "      <td id=\"T_50cf7_row3_col0\" class=\"data row3 col0\" >1fMF6F8Q15vAtwp3XlXYpQ</td>\n",
       "      <td id=\"T_50cf7_row3_col1\" class=\"data row3 col1\" >-4000.000000</td>\n",
       "      <td id=\"T_50cf7_row3_col2\" class=\"data row3 col2\" >0.000000</td>\n",
       "      <td id=\"T_50cf7_row3_col3\" class=\"data row3 col3\" >6000.000000</td>\n",
       "      <td id=\"T_50cf7_row3_col4\" class=\"data row3 col4\" >True</td>\n",
       "      <td id=\"T_50cf7_row3_col5\" class=\"data row3 col5\" >True</td>\n",
       "      <td id=\"T_50cf7_row3_col6\" class=\"data row3 col6\" >True</td>\n",
       "    </tr>\n",
       "  </tbody>\n",
       "</table>\n"
      ],
      "text/plain": [
       "<pandas.io.formats.style.Styler>"
      ]
     },
     "execution_count": null,
     "metadata": {},
     "output_type": "execute_result"
    }
   ],
   "source": [
    "System.nodes_df.style.hide(axis=\"index\")"
   ]
  },
  {
   "cell_type": "code",
   "execution_count": null,
   "id": "73c1608f-c42c-4cb4-a896-525bef923a43",
   "metadata": {},
   "outputs": [
    {
     "data": {
      "text/html": [
       "<style type=\"text/css\">\n",
       "</style>\n",
       "<table id=\"T_f5a6a\">\n",
       "  <thead>\n",
       "    <tr>\n",
       "      <th id=\"T_f5a6a_level0_col0\" class=\"col_heading level0 col0\" >Bar</th>\n",
       "      <th id=\"T_f5a6a_level0_col1\" class=\"col_heading level0 col1\" >Start_node</th>\n",
       "      <th id=\"T_f5a6a_level0_col2\" class=\"col_heading level0 col2\" >End_node</th>\n",
       "      <th id=\"T_f5a6a_level0_col3\" class=\"col_heading level0 col3\" >Cross-sectional_area</th>\n",
       "      <th id=\"T_f5a6a_level0_col4\" class=\"col_heading level0 col4\" >Modulus_of_elasticity</th>\n",
       "    </tr>\n",
       "  </thead>\n",
       "  <tbody>\n",
       "    <tr>\n",
       "      <td id=\"T_f5a6a_row0_col0\" class=\"data row0 col0\" >0GK40u5TD5nuzsl7$QTb_H</td>\n",
       "      <td id=\"T_f5a6a_row0_col1\" class=\"data row0 col1\" >2pRj5mp2n9meHLovYC9E37</td>\n",
       "      <td id=\"T_f5a6a_row0_col2\" class=\"data row0 col2\" >0l8conwJL1BBCnJaaTJOrS</td>\n",
       "      <td id=\"T_f5a6a_row0_col3\" class=\"data row0 col3\" >1000.000000</td>\n",
       "      <td id=\"T_f5a6a_row0_col4\" class=\"data row0 col4\" >1000.000000</td>\n",
       "    </tr>\n",
       "    <tr>\n",
       "      <td id=\"T_f5a6a_row1_col0\" class=\"data row1 col0\" >28D$6D$AD8_vHHIAz18ej6</td>\n",
       "      <td id=\"T_f5a6a_row1_col1\" class=\"data row1 col1\" >2pRj5mp2n9meHLovYC9E37</td>\n",
       "      <td id=\"T_f5a6a_row1_col2\" class=\"data row1 col2\" >08lPOE44r8VfWKpVuEhIr_</td>\n",
       "      <td id=\"T_f5a6a_row1_col3\" class=\"data row1 col3\" >1000.000000</td>\n",
       "      <td id=\"T_f5a6a_row1_col4\" class=\"data row1 col4\" >1000.000000</td>\n",
       "    </tr>\n",
       "    <tr>\n",
       "      <td id=\"T_f5a6a_row2_col0\" class=\"data row2 col0\" >1w1gl_0E13hBklt59T6yn0</td>\n",
       "      <td id=\"T_f5a6a_row2_col1\" class=\"data row2 col1\" >2pRj5mp2n9meHLovYC9E37</td>\n",
       "      <td id=\"T_f5a6a_row2_col2\" class=\"data row2 col2\" >1fMF6F8Q15vAtwp3XlXYpQ</td>\n",
       "      <td id=\"T_f5a6a_row2_col3\" class=\"data row2 col3\" >1000.000000</td>\n",
       "      <td id=\"T_f5a6a_row2_col4\" class=\"data row2 col4\" >1000.000000</td>\n",
       "    </tr>\n",
       "  </tbody>\n",
       "</table>\n"
      ],
      "text/plain": [
       "<pandas.io.formats.style.Styler>"
      ]
     },
     "execution_count": null,
     "metadata": {},
     "output_type": "execute_result"
    }
   ],
   "source": [
    "System.bars_df.style.hide(axis=\"index\")"
   ]
  },
  {
   "cell_type": "code",
   "execution_count": null,
   "id": "a386044d-0f98-40ac-bcd1-aee62790c5c6",
   "metadata": {},
   "outputs": [],
   "source": [
    "point_load = System.load_group.IsGroupedBy[0].RelatedObjects[0]"
   ]
  },
  {
   "cell_type": "code",
   "execution_count": null,
   "id": "88c7ef5d-85b4-41b3-bec5-3391d6b29f6a",
   "metadata": {},
   "outputs": [
    {
     "data": {
      "text/plain": [
       "#22=IfcStructuralPointConnection('2pRj5mp2n9meHLovYC9E37',$,'Node 2',$,$,#16,#21,#17,$)"
      ]
     },
     "execution_count": null,
     "metadata": {},
     "output_type": "execute_result"
    }
   ],
   "source": [
    "point_load.AssignedToStructuralItem[0].RelatingElement"
   ]
  },
  {
   "cell_type": "code",
   "execution_count": null,
   "id": "df183e5d-bdc1-4aed-b63e-c37d6c835f02",
   "metadata": {},
   "outputs": [
    {
     "data": {
      "text/plain": [
       "100000.0"
      ]
     },
     "execution_count": null,
     "metadata": {},
     "output_type": "execute_result"
    }
   ],
   "source": [
    "point_load.AppliedLoad.ForceX"
   ]
  },
  {
   "cell_type": "code",
   "execution_count": null,
   "id": "7bf161cd-611d-40f0-9a4c-1d1a2ad62c90",
   "metadata": {},
   "outputs": [],
   "source": [
    "# | export\n",
    "@patch\n",
    "def get_force_x(self: View, point_load):\n",
    "    force_x = point_load.AppliedLoad.ForceX\n",
    "    return force_x"
   ]
  },
  {
   "cell_type": "code",
   "execution_count": null,
   "id": "7c40afdc-895e-4c3f-a0e1-531c4ee6c476",
   "metadata": {},
   "outputs": [],
   "source": [
    "# | export\n",
    "@patch\n",
    "def get_force_y(self: View, point_load):\n",
    "    force_y = point_load.AppliedLoad.ForceY\n",
    "    return force_y"
   ]
  },
  {
   "cell_type": "code",
   "execution_count": null,
   "id": "a571cc49-b625-4f0d-911f-aeca6773e7f3",
   "metadata": {},
   "outputs": [],
   "source": [
    "# | export\n",
    "@patch\n",
    "def get_force_z(self: View, point_load):\n",
    "    force_z = point_load.AppliedLoad.ForceZ\n",
    "    return force_z"
   ]
  },
  {
   "cell_type": "code",
   "execution_count": null,
   "id": "70543e7c-feda-4861-9949-34c03194f45f",
   "metadata": {},
   "outputs": [],
   "source": [
    "# | export\n",
    "@patch\n",
    "def get_node_for_point_load(self: View, point_load):\n",
    "    node = point_load.AssignedToStructuralItem[0].RelatingElement.GlobalId\n",
    "    return node"
   ]
  },
  {
   "cell_type": "code",
   "execution_count": null,
   "id": "5be9b22b-49be-4130-ad03-28bb000fd221",
   "metadata": {},
   "outputs": [],
   "source": [
    "# | export\n",
    "@patch\n",
    "def get_point_loads(self: View):\n",
    "    self.point_loads = [\n",
    "        (\n",
    "            point_load.GlobalId,\n",
    "            self.get_node_for_point_load(point_load),\n",
    "            self.get_force_x(point_load),\n",
    "            self.get_force_y(point_load),\n",
    "            self.get_force_z(point_load),\n",
    "        )\n",
    "        for point_load in self.load_group.IsGroupedBy[0].RelatedObjects\n",
    "    ]\n",
    "\n",
    "    self.point_loads_df = pd.DataFrame(\n",
    "        self.point_loads,\n",
    "        columns=[\"Point_Load\", \"Node\", \"Force_X\", \"Force_Y\", \"Force_Z\"],\n",
    "    )"
   ]
  },
  {
   "cell_type": "code",
   "execution_count": null,
   "id": "b455efaf-7dbd-410d-a1c7-d0cf0b54346b",
   "metadata": {},
   "outputs": [],
   "source": [
    "System.get_point_loads()"
   ]
  },
  {
   "cell_type": "code",
   "execution_count": null,
   "id": "1fe7db6d-a278-4c00-814d-a5f40c58b631",
   "metadata": {},
   "outputs": [
    {
     "data": {
      "text/html": [
       "<style type=\"text/css\">\n",
       "</style>\n",
       "<table id=\"T_a2734\">\n",
       "  <thead>\n",
       "    <tr>\n",
       "      <th id=\"T_a2734_level0_col0\" class=\"col_heading level0 col0\" >Point_Load</th>\n",
       "      <th id=\"T_a2734_level0_col1\" class=\"col_heading level0 col1\" >Node</th>\n",
       "      <th id=\"T_a2734_level0_col2\" class=\"col_heading level0 col2\" >Force_X</th>\n",
       "      <th id=\"T_a2734_level0_col3\" class=\"col_heading level0 col3\" >Force_Y</th>\n",
       "      <th id=\"T_a2734_level0_col4\" class=\"col_heading level0 col4\" >Force_Z</th>\n",
       "    </tr>\n",
       "  </thead>\n",
       "  <tbody>\n",
       "    <tr>\n",
       "      <td id=\"T_a2734_row0_col0\" class=\"data row0 col0\" >1EEwRxFIX0OwvpdEJv4Em2</td>\n",
       "      <td id=\"T_a2734_row0_col1\" class=\"data row0 col1\" >2pRj5mp2n9meHLovYC9E37</td>\n",
       "      <td id=\"T_a2734_row0_col2\" class=\"data row0 col2\" >100000.000000</td>\n",
       "      <td id=\"T_a2734_row0_col3\" class=\"data row0 col3\" >0.000000</td>\n",
       "      <td id=\"T_a2734_row0_col4\" class=\"data row0 col4\" >-100000.000000</td>\n",
       "    </tr>\n",
       "  </tbody>\n",
       "</table>\n"
      ],
      "text/plain": [
       "<pandas.io.formats.style.Styler>"
      ]
     },
     "execution_count": null,
     "metadata": {},
     "output_type": "execute_result"
    }
   ],
   "source": [
    "System.point_loads_df.style.hide(axis=\"index\")"
   ]
  },
  {
   "cell_type": "markdown",
   "id": "38028599-ffa6-40bf-beb8-399ca45c1541",
   "metadata": {},
   "source": [
    "# Result group"
   ]
  },
  {
   "cell_type": "code",
   "execution_count": null,
   "id": "6eb7ad13-103d-41bd-9869-d221171d6451",
   "metadata": {},
   "outputs": [],
   "source": [
    "ifctruss.ifctruss.solve(model)"
   ]
  },
  {
   "cell_type": "code",
   "execution_count": null,
   "id": "c8a20220-87b1-469f-9c1d-f806eba05b9f",
   "metadata": {},
   "outputs": [],
   "source": [
    "# | export\n",
    "@patch\n",
    "def get_result_group(self: View, result_group):\n",
    "    self.result_group = self.ifc_model.by_guid(result_group)\n",
    "    self.theory_type = self.result_group.TheoryType\n",
    "    self.is_linear = self.result_group.IsLinear"
   ]
  },
  {
   "cell_type": "code",
   "execution_count": null,
   "id": "cd684b7b-31f9-4528-9fda-d075ca01f86a",
   "metadata": {},
   "outputs": [],
   "source": [
    "result_group = model.by_type(\"IfcStructuralResultGroup\")[0].GlobalId"
   ]
  },
  {
   "cell_type": "code",
   "execution_count": null,
   "id": "d955a5b8-2b26-49d4-83bd-9851145a6e07",
   "metadata": {},
   "outputs": [],
   "source": [
    "System.get_result_group(result_group)"
   ]
  },
  {
   "cell_type": "code",
   "execution_count": null,
   "id": "53765662-5c6d-40a8-8417-3563d147e46c",
   "metadata": {},
   "outputs": [
    {
     "data": {
      "text/plain": [
       "'FIRST_ORDER_THEORY'"
      ]
     },
     "execution_count": null,
     "metadata": {},
     "output_type": "execute_result"
    }
   ],
   "source": [
    "System.theory_type"
   ]
  },
  {
   "cell_type": "code",
   "execution_count": null,
   "id": "247914c6-0411-45f4-acdc-ee536b7a2e5e",
   "metadata": {},
   "outputs": [
    {
     "data": {
      "text/plain": [
       "True"
      ]
     },
     "execution_count": null,
     "metadata": {},
     "output_type": "execute_result"
    }
   ],
   "source": [
    "System.is_linear"
   ]
  },
  {
   "cell_type": "code",
   "execution_count": null,
   "id": "511bf246-0de8-41fc-9f73-24f5d2c64d96",
   "metadata": {},
   "outputs": [
    {
     "data": {
      "text/plain": [
       "(#79=IfcStructuralPointReaction('0mNpOoNuP8Wg3h25BnSTt6',$,'Result_Displacement',$,$,$,$,#78,.GLOBAL_COORDS.),\n",
       " #82=IfcStructuralPointReaction('2$VUW7hXz9rBtzvUG2JSh9',$,'Result_Force',$,$,$,$,#81,.GLOBAL_COORDS.),\n",
       " #85=IfcStructuralPointReaction('3oWPZNTuf8FOoRE6N3QIra',$,'Result_Force',$,$,$,$,#84,.GLOBAL_COORDS.),\n",
       " #88=IfcStructuralPointReaction('3$8SvgKg9Bt9zwSOIFLHJz',$,'Result_Force',$,$,$,$,#87,.GLOBAL_COORDS.),\n",
       " #93=IfcStructuralCurveReaction('2kErAON3rDGQkfdMIwAk14',$,'Result_Normal_Force',$,$,$,$,#92,.LOCAL_COORDS.,.DISCRETE.),\n",
       " #98=IfcStructuralCurveReaction('1mIo5kJNn9gBGv0REQFP4b',$,'Result_Normal_Force',$,$,$,$,#97,.LOCAL_COORDS.,.DISCRETE.),\n",
       " #103=IfcStructuralCurveReaction('0b77Hjq5vEGf2QB8e$8oBv',$,'Result_Normal_Force',$,$,$,$,#102,.LOCAL_COORDS.,.DISCRETE.))"
      ]
     },
     "execution_count": null,
     "metadata": {},
     "output_type": "execute_result"
    }
   ],
   "source": [
    "System.result_group.IsGroupedBy[0].RelatedObjects"
   ]
  },
  {
   "cell_type": "code",
   "execution_count": null,
   "id": "d94be506-0edd-42d6-b81a-aadbe44fb117",
   "metadata": {},
   "outputs": [
    {
     "data": {
      "text/plain": [
       "#78=IfcStructuralLoadSingleDisplacement('Result_Displacement',214.814814814815,0.,-195.833333333333,$,$,$)"
      ]
     },
     "execution_count": null,
     "metadata": {},
     "output_type": "execute_result"
    }
   ],
   "source": [
    "System.result_group.IsGroupedBy[0].RelatedObjects[0].AppliedLoad"
   ]
  },
  {
   "cell_type": "code",
   "execution_count": null,
   "id": "ea8a5a15-33de-42d3-885f-93ed521152ce",
   "metadata": {},
   "outputs": [
    {
     "data": {
      "text/plain": [
       "#22=IfcStructuralPointConnection('2pRj5mp2n9meHLovYC9E37',$,'Node 2',$,$,#16,#21,#17,$)"
      ]
     },
     "execution_count": null,
     "metadata": {},
     "output_type": "execute_result"
    }
   ],
   "source": [
    "System.result_group.IsGroupedBy[0].RelatedObjects[\n",
    "    0\n",
    "].AssignedToStructuralItem[0].RelatingElement"
   ]
  },
  {
   "cell_type": "code",
   "execution_count": null,
   "id": "f97019a5-b901-41bb-aa9e-df549c9ca94f",
   "metadata": {},
   "outputs": [],
   "source": [
    "# | export\n",
    "@patch\n",
    "def get_displacement_x(self: View, point_reaction):\n",
    "    displacement_x = point_reaction.AppliedLoad.DisplacementX\n",
    "    return displacement_x"
   ]
  },
  {
   "cell_type": "code",
   "execution_count": null,
   "id": "069770dc-3c97-4867-8ac4-eb6349ab2304",
   "metadata": {},
   "outputs": [],
   "source": [
    "# | export\n",
    "@patch\n",
    "def get_displacement_y(self: View, point_reaction):\n",
    "    displacement_y = point_reaction.AppliedLoad.DisplacementY\n",
    "    return displacement_y"
   ]
  },
  {
   "cell_type": "code",
   "execution_count": null,
   "id": "13cb033e-767d-4496-9f4b-36bbe6d376cc",
   "metadata": {},
   "outputs": [],
   "source": [
    "# | export\n",
    "@patch\n",
    "def get_displacement_z(self: View, point_reaction):\n",
    "    displacement_z = point_reaction.AppliedLoad.DisplacementZ\n",
    "    return displacement_z"
   ]
  },
  {
   "cell_type": "code",
   "execution_count": null,
   "id": "d4e031b2-f4ac-4e7d-83f9-97330e7499c4",
   "metadata": {},
   "outputs": [],
   "source": [
    "# | export\n",
    "@patch\n",
    "def get_node_for_displacement(self: View, point_reaction):\n",
    "    node = point_reaction.AssignedToStructuralItem[\n",
    "        0\n",
    "    ].RelatingElement.GlobalId\n",
    "    return node"
   ]
  },
  {
   "cell_type": "code",
   "execution_count": null,
   "id": "18000a27-4d01-4c7a-97d4-e1bace9f63de",
   "metadata": {},
   "outputs": [],
   "source": [
    "# | export\n",
    "@patch\n",
    "def get_displacements(self: View):\n",
    "    self.point_reactions = [\n",
    "        point_reaction\n",
    "        for point_reaction in self.result_group.IsGroupedBy[\n",
    "            0\n",
    "        ].RelatedObjects\n",
    "        if point_reaction.is_a(\"IfcStructuralPointReaction\")\n",
    "    ]\n",
    "\n",
    "    self.displacments = [\n",
    "        (\n",
    "            self.get_node_for_displacement(point_reaction),\n",
    "            self.get_displacement_x(point_reaction),\n",
    "            self.get_displacement_y(point_reaction),\n",
    "            self.get_displacement_z(point_reaction),\n",
    "        )\n",
    "        for point_reaction in self.point_reactions\n",
    "        if point_reaction.AppliedLoad.is_a(\n",
    "            \"IfcStructuralLoadSingleDisplacement\"\n",
    "        )\n",
    "    ]\n",
    "\n",
    "    self.displacments_df = pd.DataFrame(\n",
    "        self.displacments,\n",
    "        columns=[\n",
    "            \"Node\",\n",
    "            \"Displacement_X\",\n",
    "            \"Displacement_Y\",\n",
    "            \"Displacement_Z\",\n",
    "        ],\n",
    "    )"
   ]
  },
  {
   "cell_type": "code",
   "execution_count": null,
   "id": "7705ba16-7375-4327-b400-4df8397ec9a1",
   "metadata": {},
   "outputs": [],
   "source": [
    "System.get_displacements()"
   ]
  },
  {
   "cell_type": "code",
   "execution_count": null,
   "id": "c57e3e1a-494f-4f02-9cc6-740115e501f8",
   "metadata": {},
   "outputs": [
    {
     "data": {
      "text/plain": [
       "[#79=IfcStructuralPointReaction('0mNpOoNuP8Wg3h25BnSTt6',$,'Result_Displacement',$,$,$,$,#78,.GLOBAL_COORDS.),\n",
       " #82=IfcStructuralPointReaction('2$VUW7hXz9rBtzvUG2JSh9',$,'Result_Force',$,$,$,$,#81,.GLOBAL_COORDS.),\n",
       " #85=IfcStructuralPointReaction('3oWPZNTuf8FOoRE6N3QIra',$,'Result_Force',$,$,$,$,#84,.GLOBAL_COORDS.),\n",
       " #88=IfcStructuralPointReaction('3$8SvgKg9Bt9zwSOIFLHJz',$,'Result_Force',$,$,$,$,#87,.GLOBAL_COORDS.)]"
      ]
     },
     "execution_count": null,
     "metadata": {},
     "output_type": "execute_result"
    }
   ],
   "source": [
    "System.point_reactions"
   ]
  },
  {
   "cell_type": "code",
   "execution_count": null,
   "id": "a0a79e7f-bedd-4351-be17-d8d8baa2ee8e",
   "metadata": {},
   "outputs": [
    {
     "data": {
      "text/plain": [
       "[('2pRj5mp2n9meHLovYC9E37', 214.8148148148148, 0.0, -195.83333333333334)]"
      ]
     },
     "execution_count": null,
     "metadata": {},
     "output_type": "execute_result"
    }
   ],
   "source": [
    "System.displacments"
   ]
  },
  {
   "cell_type": "code",
   "execution_count": null,
   "id": "2bfa623c-906d-4daf-89f0-8444d5e37e18",
   "metadata": {},
   "outputs": [
    {
     "data": {
      "text/html": [
       "<div>\n",
       "<style scoped>\n",
       "    .dataframe tbody tr th:only-of-type {\n",
       "        vertical-align: middle;\n",
       "    }\n",
       "\n",
       "    .dataframe tbody tr th {\n",
       "        vertical-align: top;\n",
       "    }\n",
       "\n",
       "    .dataframe thead th {\n",
       "        text-align: right;\n",
       "    }\n",
       "</style>\n",
       "<table border=\"1\" class=\"dataframe\">\n",
       "  <thead>\n",
       "    <tr style=\"text-align: right;\">\n",
       "      <th></th>\n",
       "      <th>Node</th>\n",
       "      <th>Displacement_X</th>\n",
       "      <th>Displacement_Y</th>\n",
       "      <th>Displacement_Z</th>\n",
       "    </tr>\n",
       "  </thead>\n",
       "  <tbody>\n",
       "    <tr>\n",
       "      <th>0</th>\n",
       "      <td>2pRj5mp2n9meHLovYC9E37</td>\n",
       "      <td>214.814815</td>\n",
       "      <td>0.0</td>\n",
       "      <td>-195.833333</td>\n",
       "    </tr>\n",
       "  </tbody>\n",
       "</table>\n",
       "</div>"
      ],
      "text/plain": [
       "                     Node  Displacement_X  Displacement_Y  Displacement_Z\n",
       "0  2pRj5mp2n9meHLovYC9E37      214.814815             0.0     -195.833333"
      ]
     },
     "execution_count": null,
     "metadata": {},
     "output_type": "execute_result"
    }
   ],
   "source": [
    "System.displacments_df"
   ]
  },
  {
   "cell_type": "code",
   "execution_count": null,
   "id": "9793df89-dd65-48ab-84eb-53f8142c53cf",
   "metadata": {},
   "outputs": [],
   "source": [
    "# | export\n",
    "@patch\n",
    "def get_forces(self: View):\n",
    "    self.forces = [\n",
    "        (\n",
    "            # Since they are similar relationships,\n",
    "            # the methods used for Point_load are reused.\n",
    "            self.get_node_for_point_load(point_reaction),\n",
    "            self.get_force_x(point_reaction),\n",
    "            self.get_force_y(point_reaction),\n",
    "            self.get_force_z(point_reaction),\n",
    "        )\n",
    "        for point_reaction in self.point_reactions\n",
    "        if point_reaction.AppliedLoad.is_a(\"IfcStructuralLoadSingleForce\")\n",
    "    ]\n",
    "\n",
    "    self.forces_df = pd.DataFrame(\n",
    "        self.forces,\n",
    "        columns=[\n",
    "            \"Node\",\n",
    "            \"Force_X\",\n",
    "            \"Force_Y\",\n",
    "            \"Force_Z\",\n",
    "        ],\n",
    "    )"
   ]
  },
  {
   "cell_type": "code",
   "execution_count": null,
   "id": "493de3c1-6b00-449d-87ad-ea285a0fb404",
   "metadata": {},
   "outputs": [],
   "source": [
    "System.get_forces()"
   ]
  },
  {
   "cell_type": "code",
   "execution_count": null,
   "id": "56271575-5d59-4875-9649-549358af17cc",
   "metadata": {},
   "outputs": [
    {
     "data": {
      "text/html": [
       "<div>\n",
       "<style scoped>\n",
       "    .dataframe tbody tr th:only-of-type {\n",
       "        vertical-align: middle;\n",
       "    }\n",
       "\n",
       "    .dataframe tbody tr th {\n",
       "        vertical-align: top;\n",
       "    }\n",
       "\n",
       "    .dataframe thead th {\n",
       "        text-align: right;\n",
       "    }\n",
       "</style>\n",
       "<table border=\"1\" class=\"dataframe\">\n",
       "  <thead>\n",
       "    <tr style=\"text-align: right;\">\n",
       "      <th></th>\n",
       "      <th>Node</th>\n",
       "      <th>Force_X</th>\n",
       "      <th>Force_Y</th>\n",
       "      <th>Force_Z</th>\n",
       "    </tr>\n",
       "  </thead>\n",
       "  <tbody>\n",
       "    <tr>\n",
       "      <th>0</th>\n",
       "      <td>0l8conwJL1BBCnJaaTJOrS</td>\n",
       "      <td>0.000000</td>\n",
       "      <td>0.0</td>\n",
       "      <td>65277.777778</td>\n",
       "    </tr>\n",
       "    <tr>\n",
       "      <th>1</th>\n",
       "      <td>08lPOE44r8VfWKpVuEhIr_</td>\n",
       "      <td>-53703.703704</td>\n",
       "      <td>0.0</td>\n",
       "      <td>0.000000</td>\n",
       "    </tr>\n",
       "    <tr>\n",
       "      <th>2</th>\n",
       "      <td>1fMF6F8Q15vAtwp3XlXYpQ</td>\n",
       "      <td>-46296.296296</td>\n",
       "      <td>0.0</td>\n",
       "      <td>34722.222222</td>\n",
       "    </tr>\n",
       "  </tbody>\n",
       "</table>\n",
       "</div>"
      ],
      "text/plain": [
       "                     Node       Force_X  Force_Y       Force_Z\n",
       "0  0l8conwJL1BBCnJaaTJOrS      0.000000      0.0  65277.777778\n",
       "1  08lPOE44r8VfWKpVuEhIr_ -53703.703704      0.0      0.000000\n",
       "2  1fMF6F8Q15vAtwp3XlXYpQ -46296.296296      0.0  34722.222222"
      ]
     },
     "execution_count": null,
     "metadata": {},
     "output_type": "execute_result"
    }
   ],
   "source": [
    "System.forces_df"
   ]
  },
  {
   "cell_type": "code",
   "execution_count": null,
   "id": "b7da58a3-a876-491f-bac5-3ba152dd58e3",
   "metadata": {},
   "outputs": [],
   "source": [
    "# | export\n",
    "@patch\n",
    "def get_normal_force(self: View, curve_reaction):\n",
    "    first_location = curve_reaction.AppliedLoad.Locations[0][0]\n",
    "    second_location = curve_reaction.AppliedLoad.Locations[1][0]\n",
    "\n",
    "    first_value = curve_reaction.AppliedLoad.Values[0]\n",
    "    second_value = curve_reaction.AppliedLoad.Values[1]\n",
    "\n",
    "    if first_location < second_location:\n",
    "        normal_force = second_value.ForceX\n",
    "    elif first_location > second_location:\n",
    "        normal_force = first_value.ForceX\n",
    "\n",
    "    if normal_force > 0:\n",
    "        type_of_normal_force = \"Tensile force\"\n",
    "    elif normal_force < 0:\n",
    "        type_of_normal_force = \"Compressive force\"\n",
    "    elif normal_force == 0:\n",
    "        type_of_normal_force = \"Zero-force\"\n",
    "\n",
    "    return normal_force, type_of_normal_force"
   ]
  },
  {
   "cell_type": "code",
   "execution_count": null,
   "id": "fb8244b0-4b5d-4f26-a730-fa82477de76c",
   "metadata": {},
   "outputs": [],
   "source": [
    "# | export\n",
    "@patch\n",
    "def get_normal_forces(self: View):\n",
    "    self.curve_reactions = [\n",
    "        curve_reaction\n",
    "        for curve_reaction in self.result_group.IsGroupedBy[\n",
    "            0\n",
    "        ].RelatedObjects\n",
    "        if curve_reaction.is_a(\"IfcStructuralCurveReaction\")\n",
    "    ]\n",
    "\n",
    "    self.normal_forces = [\n",
    "        (\n",
    "            # Since they are similar relationships,\n",
    "            # the methods used for Point_load are reused.\n",
    "            self.get_node_for_point_load(curve_reaction),\n",
    "            *self.get_normal_force(curve_reaction),\n",
    "        )\n",
    "        for curve_reaction in self.curve_reactions\n",
    "    ]\n",
    "\n",
    "    self.normal_forces_df = pd.DataFrame(\n",
    "        self.normal_forces,\n",
    "        columns=[\n",
    "            \"Bar\",\n",
    "            \"Normal_force\",\n",
    "            \"Type_of_normal_force\",\n",
    "        ],\n",
    "    )"
   ]
  },
  {
   "cell_type": "code",
   "execution_count": null,
   "id": "c42607c1-0535-4932-b62f-09cb79437ec5",
   "metadata": {},
   "outputs": [],
   "source": [
    "System.get_normal_forces()"
   ]
  },
  {
   "cell_type": "code",
   "execution_count": null,
   "id": "6ea773f8-ad8b-44e9-a2f3-361fc2c1a5dd",
   "metadata": {},
   "outputs": [
    {
     "data": {
      "text/html": [
       "<div>\n",
       "<style scoped>\n",
       "    .dataframe tbody tr th:only-of-type {\n",
       "        vertical-align: middle;\n",
       "    }\n",
       "\n",
       "    .dataframe tbody tr th {\n",
       "        vertical-align: top;\n",
       "    }\n",
       "\n",
       "    .dataframe thead th {\n",
       "        text-align: right;\n",
       "    }\n",
       "</style>\n",
       "<table border=\"1\" class=\"dataframe\">\n",
       "  <thead>\n",
       "    <tr style=\"text-align: right;\">\n",
       "      <th></th>\n",
       "      <th>Bar</th>\n",
       "      <th>Normal_force</th>\n",
       "      <th>Type_of_normal_force</th>\n",
       "    </tr>\n",
       "  </thead>\n",
       "  <tbody>\n",
       "    <tr>\n",
       "      <th>0</th>\n",
       "      <td>0GK40u5TD5nuzsl7$QTb_H</td>\n",
       "      <td>-65277.777778</td>\n",
       "      <td>Compressive force</td>\n",
       "    </tr>\n",
       "    <tr>\n",
       "      <th>1</th>\n",
       "      <td>28D$6D$AD8_vHHIAz18ej6</td>\n",
       "      <td>53703.703704</td>\n",
       "      <td>Tensile force</td>\n",
       "    </tr>\n",
       "    <tr>\n",
       "      <th>2</th>\n",
       "      <td>1w1gl_0E13hBklt59T6yn0</td>\n",
       "      <td>57870.370370</td>\n",
       "      <td>Tensile force</td>\n",
       "    </tr>\n",
       "  </tbody>\n",
       "</table>\n",
       "</div>"
      ],
      "text/plain": [
       "                      Bar  Normal_force Type_of_normal_force\n",
       "0  0GK40u5TD5nuzsl7$QTb_H -65277.777778    Compressive force\n",
       "1  28D$6D$AD8_vHHIAz18ej6  53703.703704        Tensile force\n",
       "2  1w1gl_0E13hBklt59T6yn0  57870.370370        Tensile force"
      ]
     },
     "execution_count": null,
     "metadata": {},
     "output_type": "execute_result"
    }
   ],
   "source": [
    "System.normal_forces_df"
   ]
  },
  {
   "cell_type": "code",
   "execution_count": null,
   "id": "4fd84c6f-6e95-49d0-a7d8-2450cec91f09",
   "metadata": {},
   "outputs": [
    {
     "data": {
      "text/plain": [
       "[#93=IfcStructuralCurveReaction('2kErAON3rDGQkfdMIwAk14',$,'Result_Normal_Force',$,$,$,$,#92,.LOCAL_COORDS.,.DISCRETE.),\n",
       " #98=IfcStructuralCurveReaction('1mIo5kJNn9gBGv0REQFP4b',$,'Result_Normal_Force',$,$,$,$,#97,.LOCAL_COORDS.,.DISCRETE.),\n",
       " #103=IfcStructuralCurveReaction('0b77Hjq5vEGf2QB8e$8oBv',$,'Result_Normal_Force',$,$,$,$,#102,.LOCAL_COORDS.,.DISCRETE.)]"
      ]
     },
     "execution_count": null,
     "metadata": {},
     "output_type": "execute_result"
    }
   ],
   "source": [
    "System.curve_reactions"
   ]
  },
  {
   "cell_type": "code",
   "execution_count": null,
   "id": "f7d5568a-2f64-42c0-bf42-814b7d996be0",
   "metadata": {},
   "outputs": [],
   "source": [
    "test_value = System.get_node_for_point_load(System.curve_reactions[0])"
   ]
  },
  {
   "cell_type": "code",
   "execution_count": null,
   "id": "385f8832-310f-4894-a5dd-71c5551d6d63",
   "metadata": {},
   "outputs": [
    {
     "data": {
      "text/plain": [
       "('0GK40u5TD5nuzsl7$QTb_H', -65277.777777777774, 'Compressive force')"
      ]
     },
     "execution_count": null,
     "metadata": {},
     "output_type": "execute_result"
    }
   ],
   "source": [
    "(test_value, *System.get_normal_force(System.curve_reactions[0]))"
   ]
  },
  {
   "cell_type": "code",
   "execution_count": null,
   "id": "98fcd476-2df6-488e-aa11-668e7499a32f",
   "metadata": {},
   "outputs": [
    {
     "data": {
      "text/plain": [
       "3000.0"
      ]
     },
     "execution_count": null,
     "metadata": {},
     "output_type": "execute_result"
    }
   ],
   "source": [
    "System.curve_reactions[0].AppliedLoad.Locations[1][0]"
   ]
  },
  {
   "cell_type": "code",
   "execution_count": null,
   "id": "c7c66338-976c-4096-9a36-7f38190ef6e3",
   "metadata": {},
   "outputs": [
    {
     "data": {
      "text/plain": [
       "-65277.777777777774"
      ]
     },
     "execution_count": null,
     "metadata": {},
     "output_type": "execute_result"
    }
   ],
   "source": [
    "System.curve_reactions[0].AppliedLoad.Values[1].ForceX"
   ]
  },
  {
   "cell_type": "code",
   "execution_count": null,
   "id": "fd87c279-368a-4bd5-a943-45c966c144ab",
   "metadata": {},
   "outputs": [],
   "source": [
    "# | hide\n",
    "nbdev.nbdev_export()"
   ]
  }
 ],
 "metadata": {
  "kernelspec": {
   "display_name": "python3",
   "language": "python",
   "name": "python3"
  }
 },
 "nbformat": 4,
 "nbformat_minor": 5
}
