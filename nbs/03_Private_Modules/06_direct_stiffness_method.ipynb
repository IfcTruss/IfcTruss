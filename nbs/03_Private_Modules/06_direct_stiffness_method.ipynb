{
 "cells": [
  {
   "cell_type": "markdown",
   "metadata": {},
   "source": [
    "# Direct stiffness method\n",
    "\n",
    "> A custom solver for trusses"
   ]
  },
  {
   "cell_type": "markdown",
   "metadata": {},
   "source": [
    "https://en.wikipedia.org/wiki/Direct_stiffness_method"
   ]
  },
  {
   "cell_type": "code",
   "execution_count": null,
   "metadata": {},
   "outputs": [],
   "source": [
    "# | default_exp _direct_stiffness_method"
   ]
  },
  {
   "cell_type": "code",
   "execution_count": null,
   "metadata": {},
   "outputs": [],
   "source": [
    "# | export\n",
    "\n",
    "# Copyright © 2023-2024  IfcTruss Contributors\n",
    "#\n",
    "# This program is free software: you can redistribute it and/or modify\n",
    "# it under the terms of the GNU Lesser General Public License as published by\n",
    "# the Free Software Foundation, either version 3 of the License, or\n",
    "# (at your option) any later version.\n",
    "#\n",
    "# This program is distributed in the hope that it will be useful,\n",
    "# but WITHOUT ANY WARRANTY; without even the implied warranty of\n",
    "# MERCHANTABILITY or FITNESS FOR A PARTICULAR PURPOSE.  See the\n",
    "# GNU Lesser General Public License for more details.\n",
    "#\n",
    "# You should have received a copy of the GNU Lesser General Public License\n",
    "# along with this program.  If not, see <https://www.gnu.org/licenses/>."
   ]
  },
  {
   "cell_type": "code",
   "execution_count": null,
   "metadata": {},
   "outputs": [],
   "source": [
    "# | hide\n",
    "import nbdev\n",
    "import nbdev.showdoc"
   ]
  },
  {
   "cell_type": "code",
   "execution_count": null,
   "metadata": {},
   "outputs": [],
   "source": [
    "from rich import print"
   ]
  },
  {
   "cell_type": "code",
   "execution_count": null,
   "metadata": {},
   "outputs": [],
   "source": [
    "# | export\n",
    "from fastcore.basics import patch\n",
    "import numpy as np\n",
    "import pandas as pd"
   ]
  },
  {
   "cell_type": "markdown",
   "metadata": {},
   "source": [
    "Each `DirectStiffnessMethod` does calculate for one structural analysis model's load group the results."
   ]
  },
  {
   "cell_type": "code",
   "execution_count": null,
   "metadata": {},
   "outputs": [],
   "source": [
    "# | export\n",
    "class DirectStiffnessMethodException(Exception):\n",
    "    pass"
   ]
  },
  {
   "cell_type": "code",
   "execution_count": null,
   "metadata": {},
   "outputs": [],
   "source": [
    "# | export\n",
    "class DirectStiffnessMethod:\n",
    "    def __init__(\n",
    "        self,\n",
    "        *,\n",
    "        bars,\n",
    "        nodes,\n",
    "        point_loads,\n",
    "    ):\n",
    "        self.bars = bars\n",
    "        self.nodes = nodes\n",
    "        self.point_loads = point_loads"
   ]
  },
  {
   "cell_type": "code",
   "execution_count": null,
   "metadata": {},
   "outputs": [
    {
     "data": {
      "text/html": [
       "<style type=\"text/css\">\n",
       "</style>\n",
       "<table id=\"T_81d87\">\n",
       "  <thead>\n",
       "    <tr>\n",
       "      <th id=\"T_81d87_level0_col0\" class=\"col_heading level0 col0\" >Node</th>\n",
       "      <th id=\"T_81d87_level0_col1\" class=\"col_heading level0 col1\" >Coordinate_X</th>\n",
       "      <th id=\"T_81d87_level0_col2\" class=\"col_heading level0 col2\" >Coordinate_Y</th>\n",
       "      <th id=\"T_81d87_level0_col3\" class=\"col_heading level0 col3\" >Coordinate_Z</th>\n",
       "      <th id=\"T_81d87_level0_col4\" class=\"col_heading level0 col4\" >Translational_X</th>\n",
       "      <th id=\"T_81d87_level0_col5\" class=\"col_heading level0 col5\" >Translational_Y</th>\n",
       "      <th id=\"T_81d87_level0_col6\" class=\"col_heading level0 col6\" >Translational_Z</th>\n",
       "    </tr>\n",
       "  </thead>\n",
       "  <tbody>\n",
       "    <tr>\n",
       "      <td id=\"T_81d87_row0_col0\" class=\"data row0 col0\" >2</td>\n",
       "      <td id=\"T_81d87_row0_col1\" class=\"data row0 col1\" >0.000000</td>\n",
       "      <td id=\"T_81d87_row0_col2\" class=\"data row0 col2\" >0.000000</td>\n",
       "      <td id=\"T_81d87_row0_col3\" class=\"data row0 col3\" >3000.000000</td>\n",
       "      <td id=\"T_81d87_row0_col4\" class=\"data row0 col4\" >False</td>\n",
       "      <td id=\"T_81d87_row0_col5\" class=\"data row0 col5\" >True</td>\n",
       "      <td id=\"T_81d87_row0_col6\" class=\"data row0 col6\" >False</td>\n",
       "    </tr>\n",
       "    <tr>\n",
       "      <td id=\"T_81d87_row1_col0\" class=\"data row1 col0\" >1</td>\n",
       "      <td id=\"T_81d87_row1_col1\" class=\"data row1 col1\" >0.000000</td>\n",
       "      <td id=\"T_81d87_row1_col2\" class=\"data row1 col2\" >0.000000</td>\n",
       "      <td id=\"T_81d87_row1_col3\" class=\"data row1 col3\" >0.000000</td>\n",
       "      <td id=\"T_81d87_row1_col4\" class=\"data row1 col4\" >True</td>\n",
       "      <td id=\"T_81d87_row1_col5\" class=\"data row1 col5\" >True</td>\n",
       "      <td id=\"T_81d87_row1_col6\" class=\"data row1 col6\" >True</td>\n",
       "    </tr>\n",
       "    <tr>\n",
       "      <td id=\"T_81d87_row2_col0\" class=\"data row2 col0\" >3</td>\n",
       "      <td id=\"T_81d87_row2_col1\" class=\"data row2 col1\" >-4000.000000</td>\n",
       "      <td id=\"T_81d87_row2_col2\" class=\"data row2 col2\" >0.000000</td>\n",
       "      <td id=\"T_81d87_row2_col3\" class=\"data row2 col3\" >3000.000000</td>\n",
       "      <td id=\"T_81d87_row2_col4\" class=\"data row2 col4\" >True</td>\n",
       "      <td id=\"T_81d87_row2_col5\" class=\"data row2 col5\" >True</td>\n",
       "      <td id=\"T_81d87_row2_col6\" class=\"data row2 col6\" >True</td>\n",
       "    </tr>\n",
       "    <tr>\n",
       "      <td id=\"T_81d87_row3_col0\" class=\"data row3 col0\" >4</td>\n",
       "      <td id=\"T_81d87_row3_col1\" class=\"data row3 col1\" >-4000.000000</td>\n",
       "      <td id=\"T_81d87_row3_col2\" class=\"data row3 col2\" >0.000000</td>\n",
       "      <td id=\"T_81d87_row3_col3\" class=\"data row3 col3\" >6000.000000</td>\n",
       "      <td id=\"T_81d87_row3_col4\" class=\"data row3 col4\" >True</td>\n",
       "      <td id=\"T_81d87_row3_col5\" class=\"data row3 col5\" >True</td>\n",
       "      <td id=\"T_81d87_row3_col6\" class=\"data row3 col6\" >True</td>\n",
       "    </tr>\n",
       "  </tbody>\n",
       "</table>\n"
      ],
      "text/plain": [
       "<pandas.io.formats.style.Styler>"
      ]
     },
     "execution_count": null,
     "metadata": {},
     "output_type": "execute_result"
    }
   ],
   "source": [
    "Nodes_data = {\n",
    "    \"Node\": pd.Series([2, 1, 3, 4], dtype=int),\n",
    "    \"Coordinate_X\": pd.Series([0, 0, -4e3, -4e3], dtype=float),\n",
    "    \"Coordinate_Y\": pd.Series([0, 0, 0, 0], dtype=float),\n",
    "    \"Coordinate_Z\": pd.Series([3e3, 0, 3e3, 6e3], dtype=float),\n",
    "    \"Translational_X\": pd.Series([0, 1, 1, 1], dtype=bool),\n",
    "    \"Translational_Y\": pd.Series([1, 1, 1, 1], dtype=bool),\n",
    "    \"Translational_Z\": pd.Series([0, 1, 1, 1], dtype=bool),\n",
    "}\n",
    "\n",
    "Nodes = pd.DataFrame(Nodes_data)\n",
    "Nodes.style.hide(axis=\"index\")"
   ]
  },
  {
   "cell_type": "code",
   "execution_count": null,
   "metadata": {},
   "outputs": [
    {
     "data": {
      "text/html": [
       "<style type=\"text/css\">\n",
       "</style>\n",
       "<table id=\"T_d9ac3\">\n",
       "  <thead>\n",
       "    <tr>\n",
       "      <th id=\"T_d9ac3_level0_col0\" class=\"col_heading level0 col0\" >Bar</th>\n",
       "      <th id=\"T_d9ac3_level0_col1\" class=\"col_heading level0 col1\" >Start_node</th>\n",
       "      <th id=\"T_d9ac3_level0_col2\" class=\"col_heading level0 col2\" >End_node</th>\n",
       "      <th id=\"T_d9ac3_level0_col3\" class=\"col_heading level0 col3\" >Cross-sectional_area</th>\n",
       "      <th id=\"T_d9ac3_level0_col4\" class=\"col_heading level0 col4\" >Modulus_of_elasticity</th>\n",
       "    </tr>\n",
       "  </thead>\n",
       "  <tbody>\n",
       "    <tr>\n",
       "      <td id=\"T_d9ac3_row0_col0\" class=\"data row0 col0\" >1</td>\n",
       "      <td id=\"T_d9ac3_row0_col1\" class=\"data row0 col1\" >2</td>\n",
       "      <td id=\"T_d9ac3_row0_col2\" class=\"data row0 col2\" >1</td>\n",
       "      <td id=\"T_d9ac3_row0_col3\" class=\"data row0 col3\" >1000.000000</td>\n",
       "      <td id=\"T_d9ac3_row0_col4\" class=\"data row0 col4\" >1000.000000</td>\n",
       "    </tr>\n",
       "    <tr>\n",
       "      <td id=\"T_d9ac3_row1_col0\" class=\"data row1 col0\" >2</td>\n",
       "      <td id=\"T_d9ac3_row1_col1\" class=\"data row1 col1\" >2</td>\n",
       "      <td id=\"T_d9ac3_row1_col2\" class=\"data row1 col2\" >3</td>\n",
       "      <td id=\"T_d9ac3_row1_col3\" class=\"data row1 col3\" >1000.000000</td>\n",
       "      <td id=\"T_d9ac3_row1_col4\" class=\"data row1 col4\" >1000.000000</td>\n",
       "    </tr>\n",
       "    <tr>\n",
       "      <td id=\"T_d9ac3_row2_col0\" class=\"data row2 col0\" >3</td>\n",
       "      <td id=\"T_d9ac3_row2_col1\" class=\"data row2 col1\" >2</td>\n",
       "      <td id=\"T_d9ac3_row2_col2\" class=\"data row2 col2\" >4</td>\n",
       "      <td id=\"T_d9ac3_row2_col3\" class=\"data row2 col3\" >1000.000000</td>\n",
       "      <td id=\"T_d9ac3_row2_col4\" class=\"data row2 col4\" >1000.000000</td>\n",
       "    </tr>\n",
       "  </tbody>\n",
       "</table>\n"
      ],
      "text/plain": [
       "<pandas.io.formats.style.Styler>"
      ]
     },
     "execution_count": null,
     "metadata": {},
     "output_type": "execute_result"
    }
   ],
   "source": [
    "Bars_data = {\n",
    "    \"Bar\": pd.Series([1, 2, 3], dtype=int),\n",
    "    \"Start_node\": pd.Series([2, 2, 2], dtype=int),\n",
    "    \"End_node\": pd.Series([1, 3, 4], dtype=int),\n",
    "    \"Cross-sectional_area\": pd.Series([1e3, 1e3, 1e3], dtype=float),\n",
    "    \"Modulus_of_elasticity\": pd.Series([1e3, 1e3, 1e3], dtype=float),\n",
    "}\n",
    "Bars = pd.DataFrame(Bars_data)\n",
    "Bars.style.hide(axis=\"index\")"
   ]
  },
  {
   "cell_type": "code",
   "execution_count": null,
   "metadata": {},
   "outputs": [
    {
     "data": {
      "text/html": [
       "<style type=\"text/css\">\n",
       "</style>\n",
       "<table id=\"T_8525d\">\n",
       "  <thead>\n",
       "    <tr>\n",
       "      <th id=\"T_8525d_level0_col0\" class=\"col_heading level0 col0\" >Point_Load</th>\n",
       "      <th id=\"T_8525d_level0_col1\" class=\"col_heading level0 col1\" >Node</th>\n",
       "      <th id=\"T_8525d_level0_col2\" class=\"col_heading level0 col2\" >Force_X</th>\n",
       "      <th id=\"T_8525d_level0_col3\" class=\"col_heading level0 col3\" >Force_Y</th>\n",
       "      <th id=\"T_8525d_level0_col4\" class=\"col_heading level0 col4\" >Force_Z</th>\n",
       "    </tr>\n",
       "  </thead>\n",
       "  <tbody>\n",
       "    <tr>\n",
       "      <td id=\"T_8525d_row0_col0\" class=\"data row0 col0\" >1</td>\n",
       "      <td id=\"T_8525d_row0_col1\" class=\"data row0 col1\" >2</td>\n",
       "      <td id=\"T_8525d_row0_col2\" class=\"data row0 col2\" >100000.000000</td>\n",
       "      <td id=\"T_8525d_row0_col3\" class=\"data row0 col3\" >0.000000</td>\n",
       "      <td id=\"T_8525d_row0_col4\" class=\"data row0 col4\" >-100000.000000</td>\n",
       "    </tr>\n",
       "    <tr>\n",
       "      <td id=\"T_8525d_row1_col0\" class=\"data row1 col0\" >2</td>\n",
       "      <td id=\"T_8525d_row1_col1\" class=\"data row1 col1\" >4</td>\n",
       "      <td id=\"T_8525d_row1_col2\" class=\"data row1 col2\" >100000.000000</td>\n",
       "      <td id=\"T_8525d_row1_col3\" class=\"data row1 col3\" >0.000000</td>\n",
       "      <td id=\"T_8525d_row1_col4\" class=\"data row1 col4\" >0.000000</td>\n",
       "    </tr>\n",
       "    <tr>\n",
       "      <td id=\"T_8525d_row2_col0\" class=\"data row2 col0\" >3</td>\n",
       "      <td id=\"T_8525d_row2_col1\" class=\"data row2 col1\" >4</td>\n",
       "      <td id=\"T_8525d_row2_col2\" class=\"data row2 col2\" >50000.000000</td>\n",
       "      <td id=\"T_8525d_row2_col3\" class=\"data row2 col3\" >0.000000</td>\n",
       "      <td id=\"T_8525d_row2_col4\" class=\"data row2 col4\" >50000.000000</td>\n",
       "    </tr>\n",
       "  </tbody>\n",
       "</table>\n"
      ],
      "text/plain": [
       "<pandas.io.formats.style.Styler>"
      ]
     },
     "execution_count": null,
     "metadata": {},
     "output_type": "execute_result"
    }
   ],
   "source": [
    "Point_Loads_data = {\n",
    "    \"Point_Load\": pd.Series(\n",
    "        [\n",
    "            1,\n",
    "            2,\n",
    "            3,\n",
    "        ],\n",
    "        dtype=int,\n",
    "    ),\n",
    "    \"Node\": pd.Series(\n",
    "        [2, 4, 4],\n",
    "        dtype=int,\n",
    "    ),\n",
    "    \"Force_X\": pd.Series(\n",
    "        [100e3, 100e3, 50e3],\n",
    "        dtype=float,\n",
    "    ),\n",
    "    \"Force_Y\": pd.Series(\n",
    "        [0, 0, 0],\n",
    "        dtype=float,\n",
    "    ),\n",
    "    \"Force_Z\": pd.Series(\n",
    "        [-100e3, 0, 50e3],\n",
    "        dtype=float,\n",
    "    ),\n",
    "}\n",
    "Point_Loads = pd.DataFrame(Point_Loads_data)\n",
    "Point_Loads.style.hide(axis=\"index\")"
   ]
  },
  {
   "cell_type": "code",
   "execution_count": null,
   "metadata": {},
   "outputs": [],
   "source": [
    "System = DirectStiffnessMethod(\n",
    "    bars=Bars,\n",
    "    nodes=Nodes,\n",
    "    point_loads=Point_Loads,\n",
    ")"
   ]
  },
  {
   "cell_type": "code",
   "execution_count": null,
   "metadata": {},
   "outputs": [
    {
     "data": {
      "text/plain": [
       "4"
      ]
     },
     "execution_count": null,
     "metadata": {},
     "output_type": "execute_result"
    }
   ],
   "source": [
    "System.nodes.shape[0]"
   ]
  },
  {
   "cell_type": "code",
   "execution_count": null,
   "metadata": {},
   "outputs": [],
   "source": [
    "# | export\n",
    "@patch\n",
    "def extend_nodes_df(\n",
    "    self: DirectStiffnessMethod,\n",
    "):\n",
    "    self.number_of_rows = self.nodes.shape[0]\n",
    "    self.dimensions = 3\n",
    "\n",
    "    self.number_of_degrees_of_freedom = (\n",
    "        self.number_of_rows * self.dimensions\n",
    "    )\n",
    "\n",
    "    self.nodes[\"Degrees_of_freedom\"] = pd.Series(\n",
    "        np.split(\n",
    "            np.arange(self.number_of_degrees_of_freedom),\n",
    "            self.number_of_rows,\n",
    "        )\n",
    "    )"
   ]
  },
  {
   "cell_type": "code",
   "execution_count": null,
   "metadata": {},
   "outputs": [],
   "source": [
    "System.extend_nodes_df()"
   ]
  },
  {
   "cell_type": "code",
   "execution_count": null,
   "metadata": {},
   "outputs": [
    {
     "data": {
      "text/html": [
       "<style type=\"text/css\">\n",
       "</style>\n",
       "<table id=\"T_d7ea3\">\n",
       "  <thead>\n",
       "    <tr>\n",
       "      <th id=\"T_d7ea3_level0_col0\" class=\"col_heading level0 col0\" >Node</th>\n",
       "      <th id=\"T_d7ea3_level0_col1\" class=\"col_heading level0 col1\" >Coordinate_X</th>\n",
       "      <th id=\"T_d7ea3_level0_col2\" class=\"col_heading level0 col2\" >Coordinate_Y</th>\n",
       "      <th id=\"T_d7ea3_level0_col3\" class=\"col_heading level0 col3\" >Coordinate_Z</th>\n",
       "      <th id=\"T_d7ea3_level0_col4\" class=\"col_heading level0 col4\" >Translational_X</th>\n",
       "      <th id=\"T_d7ea3_level0_col5\" class=\"col_heading level0 col5\" >Translational_Y</th>\n",
       "      <th id=\"T_d7ea3_level0_col6\" class=\"col_heading level0 col6\" >Translational_Z</th>\n",
       "      <th id=\"T_d7ea3_level0_col7\" class=\"col_heading level0 col7\" >Degrees_of_freedom</th>\n",
       "    </tr>\n",
       "  </thead>\n",
       "  <tbody>\n",
       "    <tr>\n",
       "      <td id=\"T_d7ea3_row0_col0\" class=\"data row0 col0\" >2</td>\n",
       "      <td id=\"T_d7ea3_row0_col1\" class=\"data row0 col1\" >0.000000</td>\n",
       "      <td id=\"T_d7ea3_row0_col2\" class=\"data row0 col2\" >0.000000</td>\n",
       "      <td id=\"T_d7ea3_row0_col3\" class=\"data row0 col3\" >3000.000000</td>\n",
       "      <td id=\"T_d7ea3_row0_col4\" class=\"data row0 col4\" >False</td>\n",
       "      <td id=\"T_d7ea3_row0_col5\" class=\"data row0 col5\" >True</td>\n",
       "      <td id=\"T_d7ea3_row0_col6\" class=\"data row0 col6\" >False</td>\n",
       "      <td id=\"T_d7ea3_row0_col7\" class=\"data row0 col7\" >[0 1 2]</td>\n",
       "    </tr>\n",
       "    <tr>\n",
       "      <td id=\"T_d7ea3_row1_col0\" class=\"data row1 col0\" >1</td>\n",
       "      <td id=\"T_d7ea3_row1_col1\" class=\"data row1 col1\" >0.000000</td>\n",
       "      <td id=\"T_d7ea3_row1_col2\" class=\"data row1 col2\" >0.000000</td>\n",
       "      <td id=\"T_d7ea3_row1_col3\" class=\"data row1 col3\" >0.000000</td>\n",
       "      <td id=\"T_d7ea3_row1_col4\" class=\"data row1 col4\" >True</td>\n",
       "      <td id=\"T_d7ea3_row1_col5\" class=\"data row1 col5\" >True</td>\n",
       "      <td id=\"T_d7ea3_row1_col6\" class=\"data row1 col6\" >True</td>\n",
       "      <td id=\"T_d7ea3_row1_col7\" class=\"data row1 col7\" >[3 4 5]</td>\n",
       "    </tr>\n",
       "    <tr>\n",
       "      <td id=\"T_d7ea3_row2_col0\" class=\"data row2 col0\" >3</td>\n",
       "      <td id=\"T_d7ea3_row2_col1\" class=\"data row2 col1\" >-4000.000000</td>\n",
       "      <td id=\"T_d7ea3_row2_col2\" class=\"data row2 col2\" >0.000000</td>\n",
       "      <td id=\"T_d7ea3_row2_col3\" class=\"data row2 col3\" >3000.000000</td>\n",
       "      <td id=\"T_d7ea3_row2_col4\" class=\"data row2 col4\" >True</td>\n",
       "      <td id=\"T_d7ea3_row2_col5\" class=\"data row2 col5\" >True</td>\n",
       "      <td id=\"T_d7ea3_row2_col6\" class=\"data row2 col6\" >True</td>\n",
       "      <td id=\"T_d7ea3_row2_col7\" class=\"data row2 col7\" >[6 7 8]</td>\n",
       "    </tr>\n",
       "    <tr>\n",
       "      <td id=\"T_d7ea3_row3_col0\" class=\"data row3 col0\" >4</td>\n",
       "      <td id=\"T_d7ea3_row3_col1\" class=\"data row3 col1\" >-4000.000000</td>\n",
       "      <td id=\"T_d7ea3_row3_col2\" class=\"data row3 col2\" >0.000000</td>\n",
       "      <td id=\"T_d7ea3_row3_col3\" class=\"data row3 col3\" >6000.000000</td>\n",
       "      <td id=\"T_d7ea3_row3_col4\" class=\"data row3 col4\" >True</td>\n",
       "      <td id=\"T_d7ea3_row3_col5\" class=\"data row3 col5\" >True</td>\n",
       "      <td id=\"T_d7ea3_row3_col6\" class=\"data row3 col6\" >True</td>\n",
       "      <td id=\"T_d7ea3_row3_col7\" class=\"data row3 col7\" >[ 9 10 11]</td>\n",
       "    </tr>\n",
       "  </tbody>\n",
       "</table>\n"
      ],
      "text/plain": [
       "<pandas.io.formats.style.Styler>"
      ]
     },
     "execution_count": null,
     "metadata": {},
     "output_type": "execute_result"
    }
   ],
   "source": [
    "System.nodes.style.hide(axis=\"index\")"
   ]
  },
  {
   "cell_type": "code",
   "execution_count": null,
   "metadata": {},
   "outputs": [],
   "source": [
    "# | export\n",
    "@patch\n",
    "def extend_bars_df(\n",
    "    self: DirectStiffnessMethod,\n",
    "):\n",
    "    start_node = self.nodes.rename(\n",
    "        columns={\n",
    "            \"Node\": \"Start_node\",\n",
    "            \"Coordinate_X\": \"x_1\",\n",
    "            \"Coordinate_Y\": \"y_1\",\n",
    "            \"Coordinate_Z\": \"z_1\",\n",
    "            \"Degrees_of_freedom\": \"Degrees_of_freedom_1\",\n",
    "        }\n",
    "    )\n",
    "\n",
    "    bars_start = pd.merge(\n",
    "        self.bars,\n",
    "        start_node[\n",
    "            [\"Start_node\", \"x_1\", \"y_1\", \"z_1\", \"Degrees_of_freedom_1\"]\n",
    "        ],\n",
    "        on=\"Start_node\",\n",
    "    )\n",
    "\n",
    "    end_node = self.nodes.rename(\n",
    "        columns={\n",
    "            \"Node\": \"End_node\",\n",
    "            \"Coordinate_X\": \"x_2\",\n",
    "            \"Coordinate_Y\": \"y_2\",\n",
    "            \"Coordinate_Z\": \"z_2\",\n",
    "            \"Degrees_of_freedom\": \"Degrees_of_freedom_2\",\n",
    "        }\n",
    "    )\n",
    "\n",
    "    self.bars_extended = pd.merge(\n",
    "        bars_start,\n",
    "        end_node[[\"End_node\", \"x_2\", \"y_2\", \"z_2\", \"Degrees_of_freedom_2\"]],\n",
    "        on=\"End_node\",\n",
    "    )"
   ]
  },
  {
   "cell_type": "code",
   "execution_count": null,
   "metadata": {},
   "outputs": [],
   "source": [
    "System.extend_bars_df()"
   ]
  },
  {
   "cell_type": "code",
   "execution_count": null,
   "metadata": {},
   "outputs": [
    {
     "data": {
      "text/html": [
       "<style type=\"text/css\">\n",
       "</style>\n",
       "<table id=\"T_47bb8\">\n",
       "  <thead>\n",
       "    <tr>\n",
       "      <th id=\"T_47bb8_level0_col0\" class=\"col_heading level0 col0\" >Bar</th>\n",
       "      <th id=\"T_47bb8_level0_col1\" class=\"col_heading level0 col1\" >Start_node</th>\n",
       "      <th id=\"T_47bb8_level0_col2\" class=\"col_heading level0 col2\" >End_node</th>\n",
       "      <th id=\"T_47bb8_level0_col3\" class=\"col_heading level0 col3\" >Cross-sectional_area</th>\n",
       "      <th id=\"T_47bb8_level0_col4\" class=\"col_heading level0 col4\" >Modulus_of_elasticity</th>\n",
       "      <th id=\"T_47bb8_level0_col5\" class=\"col_heading level0 col5\" >x_1</th>\n",
       "      <th id=\"T_47bb8_level0_col6\" class=\"col_heading level0 col6\" >y_1</th>\n",
       "      <th id=\"T_47bb8_level0_col7\" class=\"col_heading level0 col7\" >z_1</th>\n",
       "      <th id=\"T_47bb8_level0_col8\" class=\"col_heading level0 col8\" >Degrees_of_freedom_1</th>\n",
       "      <th id=\"T_47bb8_level0_col9\" class=\"col_heading level0 col9\" >x_2</th>\n",
       "      <th id=\"T_47bb8_level0_col10\" class=\"col_heading level0 col10\" >y_2</th>\n",
       "      <th id=\"T_47bb8_level0_col11\" class=\"col_heading level0 col11\" >z_2</th>\n",
       "      <th id=\"T_47bb8_level0_col12\" class=\"col_heading level0 col12\" >Degrees_of_freedom_2</th>\n",
       "    </tr>\n",
       "  </thead>\n",
       "  <tbody>\n",
       "    <tr>\n",
       "      <td id=\"T_47bb8_row0_col0\" class=\"data row0 col0\" >1</td>\n",
       "      <td id=\"T_47bb8_row0_col1\" class=\"data row0 col1\" >2</td>\n",
       "      <td id=\"T_47bb8_row0_col2\" class=\"data row0 col2\" >1</td>\n",
       "      <td id=\"T_47bb8_row0_col3\" class=\"data row0 col3\" >1000.000000</td>\n",
       "      <td id=\"T_47bb8_row0_col4\" class=\"data row0 col4\" >1000.000000</td>\n",
       "      <td id=\"T_47bb8_row0_col5\" class=\"data row0 col5\" >0.000000</td>\n",
       "      <td id=\"T_47bb8_row0_col6\" class=\"data row0 col6\" >0.000000</td>\n",
       "      <td id=\"T_47bb8_row0_col7\" class=\"data row0 col7\" >3000.000000</td>\n",
       "      <td id=\"T_47bb8_row0_col8\" class=\"data row0 col8\" >[0 1 2]</td>\n",
       "      <td id=\"T_47bb8_row0_col9\" class=\"data row0 col9\" >0.000000</td>\n",
       "      <td id=\"T_47bb8_row0_col10\" class=\"data row0 col10\" >0.000000</td>\n",
       "      <td id=\"T_47bb8_row0_col11\" class=\"data row0 col11\" >0.000000</td>\n",
       "      <td id=\"T_47bb8_row0_col12\" class=\"data row0 col12\" >[3 4 5]</td>\n",
       "    </tr>\n",
       "    <tr>\n",
       "      <td id=\"T_47bb8_row1_col0\" class=\"data row1 col0\" >2</td>\n",
       "      <td id=\"T_47bb8_row1_col1\" class=\"data row1 col1\" >2</td>\n",
       "      <td id=\"T_47bb8_row1_col2\" class=\"data row1 col2\" >3</td>\n",
       "      <td id=\"T_47bb8_row1_col3\" class=\"data row1 col3\" >1000.000000</td>\n",
       "      <td id=\"T_47bb8_row1_col4\" class=\"data row1 col4\" >1000.000000</td>\n",
       "      <td id=\"T_47bb8_row1_col5\" class=\"data row1 col5\" >0.000000</td>\n",
       "      <td id=\"T_47bb8_row1_col6\" class=\"data row1 col6\" >0.000000</td>\n",
       "      <td id=\"T_47bb8_row1_col7\" class=\"data row1 col7\" >3000.000000</td>\n",
       "      <td id=\"T_47bb8_row1_col8\" class=\"data row1 col8\" >[0 1 2]</td>\n",
       "      <td id=\"T_47bb8_row1_col9\" class=\"data row1 col9\" >-4000.000000</td>\n",
       "      <td id=\"T_47bb8_row1_col10\" class=\"data row1 col10\" >0.000000</td>\n",
       "      <td id=\"T_47bb8_row1_col11\" class=\"data row1 col11\" >3000.000000</td>\n",
       "      <td id=\"T_47bb8_row1_col12\" class=\"data row1 col12\" >[6 7 8]</td>\n",
       "    </tr>\n",
       "    <tr>\n",
       "      <td id=\"T_47bb8_row2_col0\" class=\"data row2 col0\" >3</td>\n",
       "      <td id=\"T_47bb8_row2_col1\" class=\"data row2 col1\" >2</td>\n",
       "      <td id=\"T_47bb8_row2_col2\" class=\"data row2 col2\" >4</td>\n",
       "      <td id=\"T_47bb8_row2_col3\" class=\"data row2 col3\" >1000.000000</td>\n",
       "      <td id=\"T_47bb8_row2_col4\" class=\"data row2 col4\" >1000.000000</td>\n",
       "      <td id=\"T_47bb8_row2_col5\" class=\"data row2 col5\" >0.000000</td>\n",
       "      <td id=\"T_47bb8_row2_col6\" class=\"data row2 col6\" >0.000000</td>\n",
       "      <td id=\"T_47bb8_row2_col7\" class=\"data row2 col7\" >3000.000000</td>\n",
       "      <td id=\"T_47bb8_row2_col8\" class=\"data row2 col8\" >[0 1 2]</td>\n",
       "      <td id=\"T_47bb8_row2_col9\" class=\"data row2 col9\" >-4000.000000</td>\n",
       "      <td id=\"T_47bb8_row2_col10\" class=\"data row2 col10\" >0.000000</td>\n",
       "      <td id=\"T_47bb8_row2_col11\" class=\"data row2 col11\" >6000.000000</td>\n",
       "      <td id=\"T_47bb8_row2_col12\" class=\"data row2 col12\" >[ 9 10 11]</td>\n",
       "    </tr>\n",
       "  </tbody>\n",
       "</table>\n"
      ],
      "text/plain": [
       "<pandas.io.formats.style.Styler>"
      ]
     },
     "execution_count": null,
     "metadata": {},
     "output_type": "execute_result"
    }
   ],
   "source": [
    "System.bars_extended.style.hide(axis=\"index\")"
   ]
  },
  {
   "cell_type": "markdown",
   "metadata": {},
   "source": [
    "$$l_x = x_2 - x_1, \\quad l_y = y_2 - y_1, \\quad l_z = z_2 - z_1$$"
   ]
  },
  {
   "cell_type": "code",
   "execution_count": null,
   "metadata": {},
   "outputs": [],
   "source": [
    "# | export\n",
    "@patch\n",
    "def calculate_differences(\n",
    "    self: DirectStiffnessMethod, x_1, y_1, z_1, x_2, y_2, z_2\n",
    "):\n",
    "    l_x = x_2 - x_1\n",
    "    l_y = y_2 - y_1\n",
    "    l_z = z_2 - z_1\n",
    "    return l_x, l_y, l_z"
   ]
  },
  {
   "cell_type": "markdown",
   "metadata": {},
   "source": [
    "$$l = \\sqrt{l_x^2 + l_y^2 + l_z^2}$$"
   ]
  },
  {
   "cell_type": "code",
   "execution_count": null,
   "metadata": {},
   "outputs": [],
   "source": [
    "# | export\n",
    "@patch\n",
    "def calculate_distance(self: DirectStiffnessMethod, l_x, l_y, l_z):\n",
    "    vector = np.array([l_x, l_y, l_z])\n",
    "    l = np.linalg.norm(vector)\n",
    "    return l"
   ]
  },
  {
   "cell_type": "markdown",
   "metadata": {},
   "source": [
    "$$K_e = \\frac{E \\cdot A}{l^3} \\cdot \\begin{bmatrix}\n",
    "l_x^2 & l_x \\cdot l_y & l_x \\cdot l_z & -l_x^2 & -l_x \\cdot l_y & -l_x \\cdot l_z \\\\\n",
    "l_x \\cdot l_y & l_y^2 & l_y \\cdot l_z & -l_x \\cdot l_y & -l_y^2 & -l_y \\cdot l_z \\\\\n",
    "l_x \\cdot l_z & l_y \\cdot l_z & l_z^2 & -l_x \\cdot l_z & -l_y \\cdot l_z & -l_z^2 \\\\\n",
    "-l_x^2 & -l_x \\cdot l_y & -l_x \\cdot l_z & l_x^2 & l_x \\cdot l_y & l_x \\cdot l_z \\\\\n",
    "-l_x \\cdot l_y & -l_y^2 & -l_y \\cdot l_z & l_x \\cdot l_y & l_y^2 & l_y \\cdot l_z \\\\\n",
    "-l_x \\cdot l_z & -l_y \\cdot l_z & -l_z^2 & l_x \\cdot l_z & l_y \\cdot l_z & l_z^2 \\\\\n",
    "\\end{bmatrix}$$"
   ]
  },
  {
   "cell_type": "code",
   "execution_count": null,
   "metadata": {},
   "outputs": [],
   "source": [
    "# | export\n",
    "@patch\n",
    "def create_element_stiffness_matrice(\n",
    "    self: DirectStiffnessMethod, E, A, x_1, y_1, z_1, x_2, y_2, z_2\n",
    "):\n",
    "    l_x, l_y, l_z = self.calculate_differences(x_1, y_1, z_1, x_2, y_2, z_2)\n",
    "\n",
    "    l = self.calculate_distance(l_x, l_y, l_z)\n",
    "\n",
    "    K_e = (E * A / (l**3)) * np.array(\n",
    "        [\n",
    "            [\n",
    "                l_x**2,\n",
    "                l_x * l_y,\n",
    "                l_x * l_z,\n",
    "                -(l_x**2),\n",
    "                -l_x * l_y,\n",
    "                -l_x * l_z,\n",
    "            ],\n",
    "            [\n",
    "                l_x * l_y,\n",
    "                l_y**2,\n",
    "                l_y * l_z,\n",
    "                -l_x * l_y,\n",
    "                -(l_y**2),\n",
    "                -l_y * l_z,\n",
    "            ],\n",
    "            [\n",
    "                l_x * l_z,\n",
    "                l_y * l_z,\n",
    "                l_z**2,\n",
    "                -l_x * l_z,\n",
    "                -l_y * l_z,\n",
    "                -(l_z**2),\n",
    "            ],\n",
    "            [\n",
    "                -(l_x**2),\n",
    "                -l_x * l_y,\n",
    "                -l_x * l_z,\n",
    "                l_x**2,\n",
    "                l_x * l_y,\n",
    "                l_x * l_z,\n",
    "            ],\n",
    "            [\n",
    "                -l_x * l_y,\n",
    "                -(l_y**2),\n",
    "                -l_y * l_z,\n",
    "                l_x * l_y,\n",
    "                l_y**2,\n",
    "                l_y * l_z,\n",
    "            ],\n",
    "            [\n",
    "                -l_x * l_z,\n",
    "                -l_y * l_z,\n",
    "                -(l_z**2),\n",
    "                l_x * l_z,\n",
    "                l_y * l_z,\n",
    "                l_z**2,\n",
    "            ],\n",
    "        ]\n",
    "    )\n",
    "\n",
    "    return K_e"
   ]
  },
  {
   "cell_type": "code",
   "execution_count": null,
   "metadata": {},
   "outputs": [],
   "source": [
    "# | export\n",
    "@patch\n",
    "def create_element_stiffness_matrices(\n",
    "    self: DirectStiffnessMethod,\n",
    "):\n",
    "    self.element_stiffness_matrices = [\n",
    "        (\n",
    "            name,\n",
    "            self.create_element_stiffness_matrice(\n",
    "                E, A, x_1, y_1, z_1, x_2, y_2, z_2\n",
    "            ),\n",
    "            np.concatenate((degrees_of_freedom_1, degrees_of_freedom_2)),\n",
    "        )\n",
    "        for name, E, A, x_1, y_1, z_1, x_2, y_2, z_2, degrees_of_freedom_1, degrees_of_freedom_2 in zip(\n",
    "            self.bars_extended[\"Bar\"],\n",
    "            self.bars_extended[\"Modulus_of_elasticity\"],\n",
    "            self.bars_extended[\"Cross-sectional_area\"],\n",
    "            self.bars_extended[\"x_1\"],\n",
    "            self.bars_extended[\"y_1\"],\n",
    "            self.bars_extended[\"z_1\"],\n",
    "            self.bars_extended[\"x_2\"],\n",
    "            self.bars_extended[\"y_2\"],\n",
    "            self.bars_extended[\"z_2\"],\n",
    "            self.bars_extended[\"Degrees_of_freedom_1\"],\n",
    "            self.bars_extended[\"Degrees_of_freedom_2\"],\n",
    "        )\n",
    "    ]\n",
    "\n",
    "    self.element_stiffness_matrices_df = pd.DataFrame(\n",
    "        self.element_stiffness_matrices,\n",
    "        columns=[\"Bar\", \"Element_Matrice\", \"Degrees_of_freedom\"],\n",
    "    )"
   ]
  },
  {
   "cell_type": "code",
   "execution_count": null,
   "metadata": {},
   "outputs": [],
   "source": [
    "System.create_element_stiffness_matrices()"
   ]
  },
  {
   "cell_type": "code",
   "execution_count": null,
   "metadata": {},
   "outputs": [
    {
     "data": {
      "text/html": [
       "<div>\n",
       "<style scoped>\n",
       "    .dataframe tbody tr th:only-of-type {\n",
       "        vertical-align: middle;\n",
       "    }\n",
       "\n",
       "    .dataframe tbody tr th {\n",
       "        vertical-align: top;\n",
       "    }\n",
       "\n",
       "    .dataframe thead th {\n",
       "        text-align: right;\n",
       "    }\n",
       "</style>\n",
       "<table border=\"1\" class=\"dataframe\">\n",
       "  <thead>\n",
       "    <tr style=\"text-align: right;\">\n",
       "      <th></th>\n",
       "      <th>Bar</th>\n",
       "      <th>Element_Matrice</th>\n",
       "      <th>Degrees_of_freedom</th>\n",
       "    </tr>\n",
       "  </thead>\n",
       "  <tbody>\n",
       "    <tr>\n",
       "      <th>0</th>\n",
       "      <td>1</td>\n",
       "      <td>[[0.0, 0.0, -0.0, -0.0, -0.0, 0.0], [0.0, 0.0,...</td>\n",
       "      <td>[0, 1, 2, 3, 4, 5]</td>\n",
       "    </tr>\n",
       "    <tr>\n",
       "      <th>1</th>\n",
       "      <td>2</td>\n",
       "      <td>[[250.0, -0.0, -0.0, -250.0, 0.0, 0.0], [-0.0,...</td>\n",
       "      <td>[0, 1, 2, 6, 7, 8]</td>\n",
       "    </tr>\n",
       "    <tr>\n",
       "      <th>2</th>\n",
       "      <td>3</td>\n",
       "      <td>[[128.0, -0.0, -96.0, -128.0, 0.0, 96.0], [-0....</td>\n",
       "      <td>[0, 1, 2, 9, 10, 11]</td>\n",
       "    </tr>\n",
       "  </tbody>\n",
       "</table>\n",
       "</div>"
      ],
      "text/plain": [
       "   Bar                                    Element_Matrice  \\\n",
       "0    1  [[0.0, 0.0, -0.0, -0.0, -0.0, 0.0], [0.0, 0.0,...   \n",
       "1    2  [[250.0, -0.0, -0.0, -250.0, 0.0, 0.0], [-0.0,...   \n",
       "2    3  [[128.0, -0.0, -96.0, -128.0, 0.0, 96.0], [-0....   \n",
       "\n",
       "     Degrees_of_freedom  \n",
       "0    [0, 1, 2, 3, 4, 5]  \n",
       "1    [0, 1, 2, 6, 7, 8]  \n",
       "2  [0, 1, 2, 9, 10, 11]  "
      ]
     },
     "execution_count": null,
     "metadata": {},
     "output_type": "execute_result"
    }
   ],
   "source": [
    "System.element_stiffness_matrices_df"
   ]
  },
  {
   "cell_type": "code",
   "execution_count": null,
   "metadata": {},
   "outputs": [
    {
     "data": {
      "text/html": [
       "<pre style=\"white-space:pre;overflow-x:auto;line-height:normal;font-family:Menlo,'DejaVu Sans Mono',consolas,'Courier New',monospace\"><span style=\"font-weight: bold\">[[</span> <span style=\"color: #008080; text-decoration-color: #008080; font-weight: bold\">128</span>.   <span style=\"color: #008080; text-decoration-color: #008080; font-weight: bold\">-0</span>.  <span style=\"color: #008080; text-decoration-color: #008080; font-weight: bold\">-96</span>. <span style=\"color: #008080; text-decoration-color: #008080; font-weight: bold\">-128</span>.    <span style=\"color: #008080; text-decoration-color: #008080; font-weight: bold\">0</span>.   <span style=\"color: #008080; text-decoration-color: #008080; font-weight: bold\">96</span>.<span style=\"font-weight: bold\">]</span>\n",
       " <span style=\"font-weight: bold\">[</span>  <span style=\"color: #008080; text-decoration-color: #008080; font-weight: bold\">-0</span>.    <span style=\"color: #008080; text-decoration-color: #008080; font-weight: bold\">0</span>.    <span style=\"color: #008080; text-decoration-color: #008080; font-weight: bold\">0</span>.    <span style=\"color: #008080; text-decoration-color: #008080; font-weight: bold\">0</span>.   <span style=\"color: #008080; text-decoration-color: #008080; font-weight: bold\">-0</span>.   <span style=\"color: #008080; text-decoration-color: #008080; font-weight: bold\">-0</span>.<span style=\"font-weight: bold\">]</span>\n",
       " <span style=\"font-weight: bold\">[</span> <span style=\"color: #008080; text-decoration-color: #008080; font-weight: bold\">-96</span>.    <span style=\"color: #008080; text-decoration-color: #008080; font-weight: bold\">0</span>.   <span style=\"color: #008080; text-decoration-color: #008080; font-weight: bold\">72</span>.   <span style=\"color: #008080; text-decoration-color: #008080; font-weight: bold\">96</span>.   <span style=\"color: #008080; text-decoration-color: #008080; font-weight: bold\">-0</span>.  <span style=\"color: #008080; text-decoration-color: #008080; font-weight: bold\">-72</span>.<span style=\"font-weight: bold\">]</span>\n",
       " <span style=\"font-weight: bold\">[</span><span style=\"color: #008080; text-decoration-color: #008080; font-weight: bold\">-128</span>.    <span style=\"color: #008080; text-decoration-color: #008080; font-weight: bold\">0</span>.   <span style=\"color: #008080; text-decoration-color: #008080; font-weight: bold\">96</span>.  <span style=\"color: #008080; text-decoration-color: #008080; font-weight: bold\">128</span>.   <span style=\"color: #008080; text-decoration-color: #008080; font-weight: bold\">-0</span>.  <span style=\"color: #008080; text-decoration-color: #008080; font-weight: bold\">-96</span>.<span style=\"font-weight: bold\">]</span>\n",
       " <span style=\"font-weight: bold\">[</span>   <span style=\"color: #008080; text-decoration-color: #008080; font-weight: bold\">0</span>.   <span style=\"color: #008080; text-decoration-color: #008080; font-weight: bold\">-0</span>.   <span style=\"color: #008080; text-decoration-color: #008080; font-weight: bold\">-0</span>.   <span style=\"color: #008080; text-decoration-color: #008080; font-weight: bold\">-0</span>.    <span style=\"color: #008080; text-decoration-color: #008080; font-weight: bold\">0</span>.    <span style=\"color: #008080; text-decoration-color: #008080; font-weight: bold\">0</span>.<span style=\"font-weight: bold\">]</span>\n",
       " <span style=\"font-weight: bold\">[</span>  <span style=\"color: #008080; text-decoration-color: #008080; font-weight: bold\">96</span>.   <span style=\"color: #008080; text-decoration-color: #008080; font-weight: bold\">-0</span>.  <span style=\"color: #008080; text-decoration-color: #008080; font-weight: bold\">-72</span>.  <span style=\"color: #008080; text-decoration-color: #008080; font-weight: bold\">-96</span>.    <span style=\"color: #008080; text-decoration-color: #008080; font-weight: bold\">0</span>.   <span style=\"color: #008080; text-decoration-color: #008080; font-weight: bold\">72</span>.<span style=\"font-weight: bold\">]]</span>\n",
       "</pre>\n"
      ],
      "text/plain": [
       "\u001b[1m[\u001b[0m\u001b[1m[\u001b[0m \u001b[1;36m128\u001b[0m.   \u001b[1;36m-0\u001b[0m.  \u001b[1;36m-96\u001b[0m. \u001b[1;36m-128\u001b[0m.    \u001b[1;36m0\u001b[0m.   \u001b[1;36m96\u001b[0m.\u001b[1m]\u001b[0m\n",
       " \u001b[1m[\u001b[0m  \u001b[1;36m-0\u001b[0m.    \u001b[1;36m0\u001b[0m.    \u001b[1;36m0\u001b[0m.    \u001b[1;36m0\u001b[0m.   \u001b[1;36m-0\u001b[0m.   \u001b[1;36m-0\u001b[0m.\u001b[1m]\u001b[0m\n",
       " \u001b[1m[\u001b[0m \u001b[1;36m-96\u001b[0m.    \u001b[1;36m0\u001b[0m.   \u001b[1;36m72\u001b[0m.   \u001b[1;36m96\u001b[0m.   \u001b[1;36m-0\u001b[0m.  \u001b[1;36m-72\u001b[0m.\u001b[1m]\u001b[0m\n",
       " \u001b[1m[\u001b[0m\u001b[1;36m-128\u001b[0m.    \u001b[1;36m0\u001b[0m.   \u001b[1;36m96\u001b[0m.  \u001b[1;36m128\u001b[0m.   \u001b[1;36m-0\u001b[0m.  \u001b[1;36m-96\u001b[0m.\u001b[1m]\u001b[0m\n",
       " \u001b[1m[\u001b[0m   \u001b[1;36m0\u001b[0m.   \u001b[1;36m-0\u001b[0m.   \u001b[1;36m-0\u001b[0m.   \u001b[1;36m-0\u001b[0m.    \u001b[1;36m0\u001b[0m.    \u001b[1;36m0\u001b[0m.\u001b[1m]\u001b[0m\n",
       " \u001b[1m[\u001b[0m  \u001b[1;36m96\u001b[0m.   \u001b[1;36m-0\u001b[0m.  \u001b[1;36m-72\u001b[0m.  \u001b[1;36m-96\u001b[0m.    \u001b[1;36m0\u001b[0m.   \u001b[1;36m72\u001b[0m.\u001b[1m]\u001b[0m\u001b[1m]\u001b[0m\n"
      ]
     },
     "metadata": {},
     "output_type": "display_data"
    }
   ],
   "source": [
    "print(System.element_stiffness_matrices[2][1])"
   ]
  },
  {
   "cell_type": "code",
   "execution_count": null,
   "metadata": {},
   "outputs": [],
   "source": [
    "test = np.array(\n",
    "    [\n",
    "        [\n",
    "            1,\n",
    "            2,\n",
    "            30,\n",
    "        ],\n",
    "        [\n",
    "            6,\n",
    "            4,\n",
    "            80,\n",
    "        ],\n",
    "        [\n",
    "            5,\n",
    "            8,\n",
    "            70,\n",
    "        ],\n",
    "    ]\n",
    ")"
   ]
  },
  {
   "cell_type": "code",
   "execution_count": null,
   "metadata": {},
   "outputs": [],
   "source": [
    "index = np.array([1, 5, 6])"
   ]
  },
  {
   "cell_type": "code",
   "execution_count": null,
   "metadata": {},
   "outputs": [
    {
     "data": {
      "text/html": [
       "<pre style=\"white-space:pre;overflow-x:auto;line-height:normal;font-family:Menlo,'DejaVu Sans Mono',consolas,'Courier New',monospace\"><span style=\"font-weight: bold\">[</span><span style=\"color: #008080; text-decoration-color: #008080; font-weight: bold\">1</span> <span style=\"color: #008080; text-decoration-color: #008080; font-weight: bold\">5</span> <span style=\"color: #008080; text-decoration-color: #008080; font-weight: bold\">6</span> <span style=\"color: #008080; text-decoration-color: #008080; font-weight: bold\">1</span> <span style=\"color: #008080; text-decoration-color: #008080; font-weight: bold\">5</span> <span style=\"color: #008080; text-decoration-color: #008080; font-weight: bold\">6</span> <span style=\"color: #008080; text-decoration-color: #008080; font-weight: bold\">1</span> <span style=\"color: #008080; text-decoration-color: #008080; font-weight: bold\">5</span> <span style=\"color: #008080; text-decoration-color: #008080; font-weight: bold\">6</span><span style=\"font-weight: bold\">]</span>\n",
       "</pre>\n"
      ],
      "text/plain": [
       "\u001b[1m[\u001b[0m\u001b[1;36m1\u001b[0m \u001b[1;36m5\u001b[0m \u001b[1;36m6\u001b[0m \u001b[1;36m1\u001b[0m \u001b[1;36m5\u001b[0m \u001b[1;36m6\u001b[0m \u001b[1;36m1\u001b[0m \u001b[1;36m5\u001b[0m \u001b[1;36m6\u001b[0m\u001b[1m]\u001b[0m\n"
      ]
     },
     "metadata": {},
     "output_type": "display_data"
    }
   ],
   "source": [
    "original_array = np.array([1, 5, 6])\n",
    "replicated_array = np.tile(original_array, 3)\n",
    "print(replicated_array)"
   ]
  },
  {
   "cell_type": "code",
   "execution_count": null,
   "metadata": {},
   "outputs": [
    {
     "data": {
      "text/html": [
       "<pre style=\"white-space:pre;overflow-x:auto;line-height:normal;font-family:Menlo,'DejaVu Sans Mono',consolas,'Courier New',monospace\"><span style=\"font-weight: bold\">[</span><span style=\"color: #008080; text-decoration-color: #008080; font-weight: bold\">1</span> <span style=\"color: #008080; text-decoration-color: #008080; font-weight: bold\">1</span> <span style=\"color: #008080; text-decoration-color: #008080; font-weight: bold\">1</span> <span style=\"color: #008080; text-decoration-color: #008080; font-weight: bold\">5</span> <span style=\"color: #008080; text-decoration-color: #008080; font-weight: bold\">5</span> <span style=\"color: #008080; text-decoration-color: #008080; font-weight: bold\">5</span> <span style=\"color: #008080; text-decoration-color: #008080; font-weight: bold\">6</span> <span style=\"color: #008080; text-decoration-color: #008080; font-weight: bold\">6</span> <span style=\"color: #008080; text-decoration-color: #008080; font-weight: bold\">6</span><span style=\"font-weight: bold\">]</span>\n",
       "</pre>\n"
      ],
      "text/plain": [
       "\u001b[1m[\u001b[0m\u001b[1;36m1\u001b[0m \u001b[1;36m1\u001b[0m \u001b[1;36m1\u001b[0m \u001b[1;36m5\u001b[0m \u001b[1;36m5\u001b[0m \u001b[1;36m5\u001b[0m \u001b[1;36m6\u001b[0m \u001b[1;36m6\u001b[0m \u001b[1;36m6\u001b[0m\u001b[1m]\u001b[0m\n"
      ]
     },
     "metadata": {},
     "output_type": "display_data"
    }
   ],
   "source": [
    "original_array = np.array([1, 5, 6])\n",
    "repeated_array = np.repeat(\n",
    "    original_array, 3\n",
    ")  # Repeats each element 3 times\n",
    "print(repeated_array)"
   ]
  },
  {
   "cell_type": "code",
   "execution_count": null,
   "metadata": {},
   "outputs": [
    {
     "data": {
      "text/html": [
       "<pre style=\"white-space:pre;overflow-x:auto;line-height:normal;font-family:Menlo,'DejaVu Sans Mono',consolas,'Courier New',monospace\"><span style=\"color: #008080; text-decoration-color: #008080; font-weight: bold\">1</span> <span style=\"color: #008080; text-decoration-color: #008080; font-weight: bold\">1</span> <span style=\"color: #008080; text-decoration-color: #008080; font-weight: bold\">1</span>\n",
       "</pre>\n"
      ],
      "text/plain": [
       "\u001b[1;36m1\u001b[0m \u001b[1;36m1\u001b[0m \u001b[1;36m1\u001b[0m\n"
      ]
     },
     "metadata": {},
     "output_type": "display_data"
    },
    {
     "data": {
      "text/html": [
       "<pre style=\"white-space:pre;overflow-x:auto;line-height:normal;font-family:Menlo,'DejaVu Sans Mono',consolas,'Courier New',monospace\"><span style=\"color: #008080; text-decoration-color: #008080; font-weight: bold\">1</span> <span style=\"color: #008080; text-decoration-color: #008080; font-weight: bold\">5</span> <span style=\"color: #008080; text-decoration-color: #008080; font-weight: bold\">2</span>\n",
       "</pre>\n"
      ],
      "text/plain": [
       "\u001b[1;36m1\u001b[0m \u001b[1;36m5\u001b[0m \u001b[1;36m2\u001b[0m\n"
      ]
     },
     "metadata": {},
     "output_type": "display_data"
    },
    {
     "data": {
      "text/html": [
       "<pre style=\"white-space:pre;overflow-x:auto;line-height:normal;font-family:Menlo,'DejaVu Sans Mono',consolas,'Courier New',monospace\"><span style=\"color: #008080; text-decoration-color: #008080; font-weight: bold\">1</span> <span style=\"color: #008080; text-decoration-color: #008080; font-weight: bold\">6</span> <span style=\"color: #008080; text-decoration-color: #008080; font-weight: bold\">30</span>\n",
       "</pre>\n"
      ],
      "text/plain": [
       "\u001b[1;36m1\u001b[0m \u001b[1;36m6\u001b[0m \u001b[1;36m30\u001b[0m\n"
      ]
     },
     "metadata": {},
     "output_type": "display_data"
    },
    {
     "data": {
      "text/html": [
       "<pre style=\"white-space:pre;overflow-x:auto;line-height:normal;font-family:Menlo,'DejaVu Sans Mono',consolas,'Courier New',monospace\"><span style=\"color: #008080; text-decoration-color: #008080; font-weight: bold\">5</span> <span style=\"color: #008080; text-decoration-color: #008080; font-weight: bold\">1</span> <span style=\"color: #008080; text-decoration-color: #008080; font-weight: bold\">6</span>\n",
       "</pre>\n"
      ],
      "text/plain": [
       "\u001b[1;36m5\u001b[0m \u001b[1;36m1\u001b[0m \u001b[1;36m6\u001b[0m\n"
      ]
     },
     "metadata": {},
     "output_type": "display_data"
    },
    {
     "data": {
      "text/html": [
       "<pre style=\"white-space:pre;overflow-x:auto;line-height:normal;font-family:Menlo,'DejaVu Sans Mono',consolas,'Courier New',monospace\"><span style=\"color: #008080; text-decoration-color: #008080; font-weight: bold\">5</span> <span style=\"color: #008080; text-decoration-color: #008080; font-weight: bold\">5</span> <span style=\"color: #008080; text-decoration-color: #008080; font-weight: bold\">4</span>\n",
       "</pre>\n"
      ],
      "text/plain": [
       "\u001b[1;36m5\u001b[0m \u001b[1;36m5\u001b[0m \u001b[1;36m4\u001b[0m\n"
      ]
     },
     "metadata": {},
     "output_type": "display_data"
    },
    {
     "data": {
      "text/html": [
       "<pre style=\"white-space:pre;overflow-x:auto;line-height:normal;font-family:Menlo,'DejaVu Sans Mono',consolas,'Courier New',monospace\"><span style=\"color: #008080; text-decoration-color: #008080; font-weight: bold\">5</span> <span style=\"color: #008080; text-decoration-color: #008080; font-weight: bold\">6</span> <span style=\"color: #008080; text-decoration-color: #008080; font-weight: bold\">80</span>\n",
       "</pre>\n"
      ],
      "text/plain": [
       "\u001b[1;36m5\u001b[0m \u001b[1;36m6\u001b[0m \u001b[1;36m80\u001b[0m\n"
      ]
     },
     "metadata": {},
     "output_type": "display_data"
    },
    {
     "data": {
      "text/html": [
       "<pre style=\"white-space:pre;overflow-x:auto;line-height:normal;font-family:Menlo,'DejaVu Sans Mono',consolas,'Courier New',monospace\"><span style=\"color: #008080; text-decoration-color: #008080; font-weight: bold\">6</span> <span style=\"color: #008080; text-decoration-color: #008080; font-weight: bold\">1</span> <span style=\"color: #008080; text-decoration-color: #008080; font-weight: bold\">5</span>\n",
       "</pre>\n"
      ],
      "text/plain": [
       "\u001b[1;36m6\u001b[0m \u001b[1;36m1\u001b[0m \u001b[1;36m5\u001b[0m\n"
      ]
     },
     "metadata": {},
     "output_type": "display_data"
    },
    {
     "data": {
      "text/html": [
       "<pre style=\"white-space:pre;overflow-x:auto;line-height:normal;font-family:Menlo,'DejaVu Sans Mono',consolas,'Courier New',monospace\"><span style=\"color: #008080; text-decoration-color: #008080; font-weight: bold\">6</span> <span style=\"color: #008080; text-decoration-color: #008080; font-weight: bold\">5</span> <span style=\"color: #008080; text-decoration-color: #008080; font-weight: bold\">8</span>\n",
       "</pre>\n"
      ],
      "text/plain": [
       "\u001b[1;36m6\u001b[0m \u001b[1;36m5\u001b[0m \u001b[1;36m8\u001b[0m\n"
      ]
     },
     "metadata": {},
     "output_type": "display_data"
    },
    {
     "data": {
      "text/html": [
       "<pre style=\"white-space:pre;overflow-x:auto;line-height:normal;font-family:Menlo,'DejaVu Sans Mono',consolas,'Courier New',monospace\"><span style=\"color: #008080; text-decoration-color: #008080; font-weight: bold\">6</span> <span style=\"color: #008080; text-decoration-color: #008080; font-weight: bold\">6</span> <span style=\"color: #008080; text-decoration-color: #008080; font-weight: bold\">70</span>\n",
       "</pre>\n"
      ],
      "text/plain": [
       "\u001b[1;36m6\u001b[0m \u001b[1;36m6\u001b[0m \u001b[1;36m70\u001b[0m\n"
      ]
     },
     "metadata": {},
     "output_type": "display_data"
    }
   ],
   "source": [
    "for idx_horizontal, idx_vertical, value in zip(\n",
    "    np.repeat(original_array, 3), np.tile(original_array, 3), test.flat\n",
    "):\n",
    "    print(idx_horizontal, idx_vertical, value)"
   ]
  },
  {
   "cell_type": "code",
   "execution_count": null,
   "metadata": {},
   "outputs": [],
   "source": [
    "# | export\n",
    "@patch\n",
    "def create_system_stiffness_matrice(\n",
    "    self: DirectStiffnessMethod,\n",
    "):\n",
    "    self.K_f = np.zeros(\n",
    "        (\n",
    "            self.number_of_degrees_of_freedom,\n",
    "            self.number_of_degrees_of_freedom,\n",
    "        )\n",
    "    )\n",
    "\n",
    "    for element_matrice, degrees_of_freedom in zip(\n",
    "        self.element_stiffness_matrices_df[\"Element_Matrice\"],\n",
    "        self.element_stiffness_matrices_df[\"Degrees_of_freedom\"],\n",
    "    ):\n",
    "        for idx_horizontal, idx_vertical, value in zip(\n",
    "            np.repeat(degrees_of_freedom, len(degrees_of_freedom)),\n",
    "            np.tile(degrees_of_freedom, len(degrees_of_freedom)),\n",
    "            element_matrice.flat,\n",
    "        ):\n",
    "            self.K_f[idx_horizontal, idx_vertical] += value"
   ]
  },
  {
   "cell_type": "code",
   "execution_count": null,
   "metadata": {},
   "outputs": [],
   "source": [
    "System.create_system_stiffness_matrice()"
   ]
  },
  {
   "cell_type": "code",
   "execution_count": null,
   "metadata": {},
   "outputs": [
    {
     "data": {
      "text/html": [
       "<pre style=\"white-space:pre;overflow-x:auto;line-height:normal;font-family:Menlo,'DejaVu Sans Mono',consolas,'Courier New',monospace\"><span style=\"font-weight: bold\">[[</span> <span style=\"color: #008080; text-decoration-color: #008080; font-weight: bold\">378</span>.            <span style=\"color: #008080; text-decoration-color: #008080; font-weight: bold\">0</span>.          <span style=\"color: #008080; text-decoration-color: #008080; font-weight: bold\">-96</span>.            <span style=\"color: #008080; text-decoration-color: #008080; font-weight: bold\">0</span>.            <span style=\"color: #008080; text-decoration-color: #008080; font-weight: bold\">0</span>.\n",
       "     <span style=\"color: #008080; text-decoration-color: #008080; font-weight: bold\">0</span>.         <span style=\"color: #008080; text-decoration-color: #008080; font-weight: bold\">-250</span>.            <span style=\"color: #008080; text-decoration-color: #008080; font-weight: bold\">0</span>.            <span style=\"color: #008080; text-decoration-color: #008080; font-weight: bold\">0</span>.         <span style=\"color: #008080; text-decoration-color: #008080; font-weight: bold\">-128</span>.\n",
       "     <span style=\"color: #008080; text-decoration-color: #008080; font-weight: bold\">0</span>.           <span style=\"color: #008080; text-decoration-color: #008080; font-weight: bold\">96</span>.        <span style=\"font-weight: bold\">]</span>\n",
       " <span style=\"font-weight: bold\">[</span>   <span style=\"color: #008080; text-decoration-color: #008080; font-weight: bold\">0</span>.            <span style=\"color: #008080; text-decoration-color: #008080; font-weight: bold\">0</span>.            <span style=\"color: #008080; text-decoration-color: #008080; font-weight: bold\">0</span>.            <span style=\"color: #008080; text-decoration-color: #008080; font-weight: bold\">0</span>.            <span style=\"color: #008080; text-decoration-color: #008080; font-weight: bold\">0</span>.\n",
       "     <span style=\"color: #008080; text-decoration-color: #008080; font-weight: bold\">0</span>.            <span style=\"color: #008080; text-decoration-color: #008080; font-weight: bold\">0</span>.            <span style=\"color: #008080; text-decoration-color: #008080; font-weight: bold\">0</span>.            <span style=\"color: #008080; text-decoration-color: #008080; font-weight: bold\">0</span>.            <span style=\"color: #008080; text-decoration-color: #008080; font-weight: bold\">0</span>.\n",
       "     <span style=\"color: #008080; text-decoration-color: #008080; font-weight: bold\">0</span>.            <span style=\"color: #008080; text-decoration-color: #008080; font-weight: bold\">0</span>.        <span style=\"font-weight: bold\">]</span>\n",
       " <span style=\"font-weight: bold\">[</span> <span style=\"color: #008080; text-decoration-color: #008080; font-weight: bold\">-96</span>.            <span style=\"color: #008080; text-decoration-color: #008080; font-weight: bold\">0</span>.          <span style=\"color: #008080; text-decoration-color: #008080; font-weight: bold\">405.33333333</span>    <span style=\"color: #008080; text-decoration-color: #008080; font-weight: bold\">0</span>.            <span style=\"color: #008080; text-decoration-color: #008080; font-weight: bold\">0</span>.\n",
       "  <span style=\"color: #008080; text-decoration-color: #008080; font-weight: bold\">-333.33333333</span>    <span style=\"color: #008080; text-decoration-color: #008080; font-weight: bold\">0</span>.            <span style=\"color: #008080; text-decoration-color: #008080; font-weight: bold\">0</span>.            <span style=\"color: #008080; text-decoration-color: #008080; font-weight: bold\">0</span>.           <span style=\"color: #008080; text-decoration-color: #008080; font-weight: bold\">96</span>.\n",
       "     <span style=\"color: #008080; text-decoration-color: #008080; font-weight: bold\">0</span>.          <span style=\"color: #008080; text-decoration-color: #008080; font-weight: bold\">-72</span>.        <span style=\"font-weight: bold\">]</span>\n",
       " <span style=\"font-weight: bold\">[</span>   <span style=\"color: #008080; text-decoration-color: #008080; font-weight: bold\">0</span>.            <span style=\"color: #008080; text-decoration-color: #008080; font-weight: bold\">0</span>.            <span style=\"color: #008080; text-decoration-color: #008080; font-weight: bold\">0</span>.            <span style=\"color: #008080; text-decoration-color: #008080; font-weight: bold\">0</span>.            <span style=\"color: #008080; text-decoration-color: #008080; font-weight: bold\">0</span>.\n",
       "     <span style=\"color: #008080; text-decoration-color: #008080; font-weight: bold\">0</span>.            <span style=\"color: #008080; text-decoration-color: #008080; font-weight: bold\">0</span>.            <span style=\"color: #008080; text-decoration-color: #008080; font-weight: bold\">0</span>.            <span style=\"color: #008080; text-decoration-color: #008080; font-weight: bold\">0</span>.            <span style=\"color: #008080; text-decoration-color: #008080; font-weight: bold\">0</span>.\n",
       "     <span style=\"color: #008080; text-decoration-color: #008080; font-weight: bold\">0</span>.            <span style=\"color: #008080; text-decoration-color: #008080; font-weight: bold\">0</span>.        <span style=\"font-weight: bold\">]</span>\n",
       " <span style=\"font-weight: bold\">[</span>   <span style=\"color: #008080; text-decoration-color: #008080; font-weight: bold\">0</span>.            <span style=\"color: #008080; text-decoration-color: #008080; font-weight: bold\">0</span>.            <span style=\"color: #008080; text-decoration-color: #008080; font-weight: bold\">0</span>.            <span style=\"color: #008080; text-decoration-color: #008080; font-weight: bold\">0</span>.            <span style=\"color: #008080; text-decoration-color: #008080; font-weight: bold\">0</span>.\n",
       "     <span style=\"color: #008080; text-decoration-color: #008080; font-weight: bold\">0</span>.            <span style=\"color: #008080; text-decoration-color: #008080; font-weight: bold\">0</span>.            <span style=\"color: #008080; text-decoration-color: #008080; font-weight: bold\">0</span>.            <span style=\"color: #008080; text-decoration-color: #008080; font-weight: bold\">0</span>.            <span style=\"color: #008080; text-decoration-color: #008080; font-weight: bold\">0</span>.\n",
       "     <span style=\"color: #008080; text-decoration-color: #008080; font-weight: bold\">0</span>.            <span style=\"color: #008080; text-decoration-color: #008080; font-weight: bold\">0</span>.        <span style=\"font-weight: bold\">]</span>\n",
       " <span style=\"font-weight: bold\">[</span>   <span style=\"color: #008080; text-decoration-color: #008080; font-weight: bold\">0</span>.            <span style=\"color: #008080; text-decoration-color: #008080; font-weight: bold\">0</span>.         <span style=\"color: #008080; text-decoration-color: #008080; font-weight: bold\">-333.33333333</span>    <span style=\"color: #008080; text-decoration-color: #008080; font-weight: bold\">0</span>.            <span style=\"color: #008080; text-decoration-color: #008080; font-weight: bold\">0</span>.\n",
       "   <span style=\"color: #008080; text-decoration-color: #008080; font-weight: bold\">333.33333333</span>    <span style=\"color: #008080; text-decoration-color: #008080; font-weight: bold\">0</span>.            <span style=\"color: #008080; text-decoration-color: #008080; font-weight: bold\">0</span>.            <span style=\"color: #008080; text-decoration-color: #008080; font-weight: bold\">0</span>.            <span style=\"color: #008080; text-decoration-color: #008080; font-weight: bold\">0</span>.\n",
       "     <span style=\"color: #008080; text-decoration-color: #008080; font-weight: bold\">0</span>.            <span style=\"color: #008080; text-decoration-color: #008080; font-weight: bold\">0</span>.        <span style=\"font-weight: bold\">]</span>\n",
       " <span style=\"font-weight: bold\">[</span><span style=\"color: #008080; text-decoration-color: #008080; font-weight: bold\">-250</span>.            <span style=\"color: #008080; text-decoration-color: #008080; font-weight: bold\">0</span>.            <span style=\"color: #008080; text-decoration-color: #008080; font-weight: bold\">0</span>.            <span style=\"color: #008080; text-decoration-color: #008080; font-weight: bold\">0</span>.            <span style=\"color: #008080; text-decoration-color: #008080; font-weight: bold\">0</span>.\n",
       "     <span style=\"color: #008080; text-decoration-color: #008080; font-weight: bold\">0</span>.          <span style=\"color: #008080; text-decoration-color: #008080; font-weight: bold\">250</span>.            <span style=\"color: #008080; text-decoration-color: #008080; font-weight: bold\">0</span>.            <span style=\"color: #008080; text-decoration-color: #008080; font-weight: bold\">0</span>.            <span style=\"color: #008080; text-decoration-color: #008080; font-weight: bold\">0</span>.\n",
       "     <span style=\"color: #008080; text-decoration-color: #008080; font-weight: bold\">0</span>.            <span style=\"color: #008080; text-decoration-color: #008080; font-weight: bold\">0</span>.        <span style=\"font-weight: bold\">]</span>\n",
       " <span style=\"font-weight: bold\">[</span>   <span style=\"color: #008080; text-decoration-color: #008080; font-weight: bold\">0</span>.            <span style=\"color: #008080; text-decoration-color: #008080; font-weight: bold\">0</span>.            <span style=\"color: #008080; text-decoration-color: #008080; font-weight: bold\">0</span>.            <span style=\"color: #008080; text-decoration-color: #008080; font-weight: bold\">0</span>.            <span style=\"color: #008080; text-decoration-color: #008080; font-weight: bold\">0</span>.\n",
       "     <span style=\"color: #008080; text-decoration-color: #008080; font-weight: bold\">0</span>.            <span style=\"color: #008080; text-decoration-color: #008080; font-weight: bold\">0</span>.            <span style=\"color: #008080; text-decoration-color: #008080; font-weight: bold\">0</span>.            <span style=\"color: #008080; text-decoration-color: #008080; font-weight: bold\">0</span>.            <span style=\"color: #008080; text-decoration-color: #008080; font-weight: bold\">0</span>.\n",
       "     <span style=\"color: #008080; text-decoration-color: #008080; font-weight: bold\">0</span>.            <span style=\"color: #008080; text-decoration-color: #008080; font-weight: bold\">0</span>.        <span style=\"font-weight: bold\">]</span>\n",
       " <span style=\"font-weight: bold\">[</span>   <span style=\"color: #008080; text-decoration-color: #008080; font-weight: bold\">0</span>.            <span style=\"color: #008080; text-decoration-color: #008080; font-weight: bold\">0</span>.            <span style=\"color: #008080; text-decoration-color: #008080; font-weight: bold\">0</span>.            <span style=\"color: #008080; text-decoration-color: #008080; font-weight: bold\">0</span>.            <span style=\"color: #008080; text-decoration-color: #008080; font-weight: bold\">0</span>.\n",
       "     <span style=\"color: #008080; text-decoration-color: #008080; font-weight: bold\">0</span>.            <span style=\"color: #008080; text-decoration-color: #008080; font-weight: bold\">0</span>.            <span style=\"color: #008080; text-decoration-color: #008080; font-weight: bold\">0</span>.            <span style=\"color: #008080; text-decoration-color: #008080; font-weight: bold\">0</span>.            <span style=\"color: #008080; text-decoration-color: #008080; font-weight: bold\">0</span>.\n",
       "     <span style=\"color: #008080; text-decoration-color: #008080; font-weight: bold\">0</span>.            <span style=\"color: #008080; text-decoration-color: #008080; font-weight: bold\">0</span>.        <span style=\"font-weight: bold\">]</span>\n",
       " <span style=\"font-weight: bold\">[</span><span style=\"color: #008080; text-decoration-color: #008080; font-weight: bold\">-128</span>.            <span style=\"color: #008080; text-decoration-color: #008080; font-weight: bold\">0</span>.           <span style=\"color: #008080; text-decoration-color: #008080; font-weight: bold\">96</span>.            <span style=\"color: #008080; text-decoration-color: #008080; font-weight: bold\">0</span>.            <span style=\"color: #008080; text-decoration-color: #008080; font-weight: bold\">0</span>.\n",
       "     <span style=\"color: #008080; text-decoration-color: #008080; font-weight: bold\">0</span>.            <span style=\"color: #008080; text-decoration-color: #008080; font-weight: bold\">0</span>.            <span style=\"color: #008080; text-decoration-color: #008080; font-weight: bold\">0</span>.            <span style=\"color: #008080; text-decoration-color: #008080; font-weight: bold\">0</span>.          <span style=\"color: #008080; text-decoration-color: #008080; font-weight: bold\">128</span>.\n",
       "     <span style=\"color: #008080; text-decoration-color: #008080; font-weight: bold\">0</span>.          <span style=\"color: #008080; text-decoration-color: #008080; font-weight: bold\">-96</span>.        <span style=\"font-weight: bold\">]</span>\n",
       " <span style=\"font-weight: bold\">[</span>   <span style=\"color: #008080; text-decoration-color: #008080; font-weight: bold\">0</span>.            <span style=\"color: #008080; text-decoration-color: #008080; font-weight: bold\">0</span>.            <span style=\"color: #008080; text-decoration-color: #008080; font-weight: bold\">0</span>.            <span style=\"color: #008080; text-decoration-color: #008080; font-weight: bold\">0</span>.            <span style=\"color: #008080; text-decoration-color: #008080; font-weight: bold\">0</span>.\n",
       "     <span style=\"color: #008080; text-decoration-color: #008080; font-weight: bold\">0</span>.            <span style=\"color: #008080; text-decoration-color: #008080; font-weight: bold\">0</span>.            <span style=\"color: #008080; text-decoration-color: #008080; font-weight: bold\">0</span>.            <span style=\"color: #008080; text-decoration-color: #008080; font-weight: bold\">0</span>.            <span style=\"color: #008080; text-decoration-color: #008080; font-weight: bold\">0</span>.\n",
       "     <span style=\"color: #008080; text-decoration-color: #008080; font-weight: bold\">0</span>.            <span style=\"color: #008080; text-decoration-color: #008080; font-weight: bold\">0</span>.        <span style=\"font-weight: bold\">]</span>\n",
       " <span style=\"font-weight: bold\">[</span>  <span style=\"color: #008080; text-decoration-color: #008080; font-weight: bold\">96</span>.            <span style=\"color: #008080; text-decoration-color: #008080; font-weight: bold\">0</span>.          <span style=\"color: #008080; text-decoration-color: #008080; font-weight: bold\">-72</span>.            <span style=\"color: #008080; text-decoration-color: #008080; font-weight: bold\">0</span>.            <span style=\"color: #008080; text-decoration-color: #008080; font-weight: bold\">0</span>.\n",
       "     <span style=\"color: #008080; text-decoration-color: #008080; font-weight: bold\">0</span>.            <span style=\"color: #008080; text-decoration-color: #008080; font-weight: bold\">0</span>.            <span style=\"color: #008080; text-decoration-color: #008080; font-weight: bold\">0</span>.            <span style=\"color: #008080; text-decoration-color: #008080; font-weight: bold\">0</span>.          <span style=\"color: #008080; text-decoration-color: #008080; font-weight: bold\">-96</span>.\n",
       "     <span style=\"color: #008080; text-decoration-color: #008080; font-weight: bold\">0</span>.           <span style=\"color: #008080; text-decoration-color: #008080; font-weight: bold\">72</span>.        <span style=\"font-weight: bold\">]]</span>\n",
       "</pre>\n"
      ],
      "text/plain": [
       "\u001b[1m[\u001b[0m\u001b[1m[\u001b[0m \u001b[1;36m378\u001b[0m.            \u001b[1;36m0\u001b[0m.          \u001b[1;36m-96\u001b[0m.            \u001b[1;36m0\u001b[0m.            \u001b[1;36m0\u001b[0m.\n",
       "     \u001b[1;36m0\u001b[0m.         \u001b[1;36m-250\u001b[0m.            \u001b[1;36m0\u001b[0m.            \u001b[1;36m0\u001b[0m.         \u001b[1;36m-128\u001b[0m.\n",
       "     \u001b[1;36m0\u001b[0m.           \u001b[1;36m96\u001b[0m.        \u001b[1m]\u001b[0m\n",
       " \u001b[1m[\u001b[0m   \u001b[1;36m0\u001b[0m.            \u001b[1;36m0\u001b[0m.            \u001b[1;36m0\u001b[0m.            \u001b[1;36m0\u001b[0m.            \u001b[1;36m0\u001b[0m.\n",
       "     \u001b[1;36m0\u001b[0m.            \u001b[1;36m0\u001b[0m.            \u001b[1;36m0\u001b[0m.            \u001b[1;36m0\u001b[0m.            \u001b[1;36m0\u001b[0m.\n",
       "     \u001b[1;36m0\u001b[0m.            \u001b[1;36m0\u001b[0m.        \u001b[1m]\u001b[0m\n",
       " \u001b[1m[\u001b[0m \u001b[1;36m-96\u001b[0m.            \u001b[1;36m0\u001b[0m.          \u001b[1;36m405.33333333\u001b[0m    \u001b[1;36m0\u001b[0m.            \u001b[1;36m0\u001b[0m.\n",
       "  \u001b[1;36m-333.33333333\u001b[0m    \u001b[1;36m0\u001b[0m.            \u001b[1;36m0\u001b[0m.            \u001b[1;36m0\u001b[0m.           \u001b[1;36m96\u001b[0m.\n",
       "     \u001b[1;36m0\u001b[0m.          \u001b[1;36m-72\u001b[0m.        \u001b[1m]\u001b[0m\n",
       " \u001b[1m[\u001b[0m   \u001b[1;36m0\u001b[0m.            \u001b[1;36m0\u001b[0m.            \u001b[1;36m0\u001b[0m.            \u001b[1;36m0\u001b[0m.            \u001b[1;36m0\u001b[0m.\n",
       "     \u001b[1;36m0\u001b[0m.            \u001b[1;36m0\u001b[0m.            \u001b[1;36m0\u001b[0m.            \u001b[1;36m0\u001b[0m.            \u001b[1;36m0\u001b[0m.\n",
       "     \u001b[1;36m0\u001b[0m.            \u001b[1;36m0\u001b[0m.        \u001b[1m]\u001b[0m\n",
       " \u001b[1m[\u001b[0m   \u001b[1;36m0\u001b[0m.            \u001b[1;36m0\u001b[0m.            \u001b[1;36m0\u001b[0m.            \u001b[1;36m0\u001b[0m.            \u001b[1;36m0\u001b[0m.\n",
       "     \u001b[1;36m0\u001b[0m.            \u001b[1;36m0\u001b[0m.            \u001b[1;36m0\u001b[0m.            \u001b[1;36m0\u001b[0m.            \u001b[1;36m0\u001b[0m.\n",
       "     \u001b[1;36m0\u001b[0m.            \u001b[1;36m0\u001b[0m.        \u001b[1m]\u001b[0m\n",
       " \u001b[1m[\u001b[0m   \u001b[1;36m0\u001b[0m.            \u001b[1;36m0\u001b[0m.         \u001b[1;36m-333.33333333\u001b[0m    \u001b[1;36m0\u001b[0m.            \u001b[1;36m0\u001b[0m.\n",
       "   \u001b[1;36m333.33333333\u001b[0m    \u001b[1;36m0\u001b[0m.            \u001b[1;36m0\u001b[0m.            \u001b[1;36m0\u001b[0m.            \u001b[1;36m0\u001b[0m.\n",
       "     \u001b[1;36m0\u001b[0m.            \u001b[1;36m0\u001b[0m.        \u001b[1m]\u001b[0m\n",
       " \u001b[1m[\u001b[0m\u001b[1;36m-250\u001b[0m.            \u001b[1;36m0\u001b[0m.            \u001b[1;36m0\u001b[0m.            \u001b[1;36m0\u001b[0m.            \u001b[1;36m0\u001b[0m.\n",
       "     \u001b[1;36m0\u001b[0m.          \u001b[1;36m250\u001b[0m.            \u001b[1;36m0\u001b[0m.            \u001b[1;36m0\u001b[0m.            \u001b[1;36m0\u001b[0m.\n",
       "     \u001b[1;36m0\u001b[0m.            \u001b[1;36m0\u001b[0m.        \u001b[1m]\u001b[0m\n",
       " \u001b[1m[\u001b[0m   \u001b[1;36m0\u001b[0m.            \u001b[1;36m0\u001b[0m.            \u001b[1;36m0\u001b[0m.            \u001b[1;36m0\u001b[0m.            \u001b[1;36m0\u001b[0m.\n",
       "     \u001b[1;36m0\u001b[0m.            \u001b[1;36m0\u001b[0m.            \u001b[1;36m0\u001b[0m.            \u001b[1;36m0\u001b[0m.            \u001b[1;36m0\u001b[0m.\n",
       "     \u001b[1;36m0\u001b[0m.            \u001b[1;36m0\u001b[0m.        \u001b[1m]\u001b[0m\n",
       " \u001b[1m[\u001b[0m   \u001b[1;36m0\u001b[0m.            \u001b[1;36m0\u001b[0m.            \u001b[1;36m0\u001b[0m.            \u001b[1;36m0\u001b[0m.            \u001b[1;36m0\u001b[0m.\n",
       "     \u001b[1;36m0\u001b[0m.            \u001b[1;36m0\u001b[0m.            \u001b[1;36m0\u001b[0m.            \u001b[1;36m0\u001b[0m.            \u001b[1;36m0\u001b[0m.\n",
       "     \u001b[1;36m0\u001b[0m.            \u001b[1;36m0\u001b[0m.        \u001b[1m]\u001b[0m\n",
       " \u001b[1m[\u001b[0m\u001b[1;36m-128\u001b[0m.            \u001b[1;36m0\u001b[0m.           \u001b[1;36m96\u001b[0m.            \u001b[1;36m0\u001b[0m.            \u001b[1;36m0\u001b[0m.\n",
       "     \u001b[1;36m0\u001b[0m.            \u001b[1;36m0\u001b[0m.            \u001b[1;36m0\u001b[0m.            \u001b[1;36m0\u001b[0m.          \u001b[1;36m128\u001b[0m.\n",
       "     \u001b[1;36m0\u001b[0m.          \u001b[1;36m-96\u001b[0m.        \u001b[1m]\u001b[0m\n",
       " \u001b[1m[\u001b[0m   \u001b[1;36m0\u001b[0m.            \u001b[1;36m0\u001b[0m.            \u001b[1;36m0\u001b[0m.            \u001b[1;36m0\u001b[0m.            \u001b[1;36m0\u001b[0m.\n",
       "     \u001b[1;36m0\u001b[0m.            \u001b[1;36m0\u001b[0m.            \u001b[1;36m0\u001b[0m.            \u001b[1;36m0\u001b[0m.            \u001b[1;36m0\u001b[0m.\n",
       "     \u001b[1;36m0\u001b[0m.            \u001b[1;36m0\u001b[0m.        \u001b[1m]\u001b[0m\n",
       " \u001b[1m[\u001b[0m  \u001b[1;36m96\u001b[0m.            \u001b[1;36m0\u001b[0m.          \u001b[1;36m-72\u001b[0m.            \u001b[1;36m0\u001b[0m.            \u001b[1;36m0\u001b[0m.\n",
       "     \u001b[1;36m0\u001b[0m.            \u001b[1;36m0\u001b[0m.            \u001b[1;36m0\u001b[0m.            \u001b[1;36m0\u001b[0m.          \u001b[1;36m-96\u001b[0m.\n",
       "     \u001b[1;36m0\u001b[0m.           \u001b[1;36m72\u001b[0m.        \u001b[1m]\u001b[0m\u001b[1m]\u001b[0m\n"
      ]
     },
     "metadata": {},
     "output_type": "display_data"
    }
   ],
   "source": [
    "print(System.K_f)"
   ]
  },
  {
   "cell_type": "code",
   "execution_count": null,
   "metadata": {},
   "outputs": [
    {
     "data": {
      "text/html": [
       "<pre style=\"white-space:pre;overflow-x:auto;line-height:normal;font-family:Menlo,'DejaVu Sans Mono',consolas,'Courier New',monospace\"><span style=\"color: #800080; text-decoration-color: #800080; font-weight: bold\">array</span><span style=\"font-weight: bold\">([[</span> <span style=\"color: #008080; text-decoration-color: #008080; font-weight: bold\">378</span>.        ,    <span style=\"color: #008080; text-decoration-color: #008080; font-weight: bold\">0</span>.        ,  <span style=\"color: #008080; text-decoration-color: #008080; font-weight: bold\">-96</span>.        ,    <span style=\"color: #008080; text-decoration-color: #008080; font-weight: bold\">0</span>.        ,\n",
       "           <span style=\"color: #008080; text-decoration-color: #008080; font-weight: bold\">0</span>.        ,    <span style=\"color: #008080; text-decoration-color: #008080; font-weight: bold\">0</span>.        , <span style=\"color: #008080; text-decoration-color: #008080; font-weight: bold\">-250</span>.        ,    <span style=\"color: #008080; text-decoration-color: #008080; font-weight: bold\">0</span>.        ,\n",
       "           <span style=\"color: #008080; text-decoration-color: #008080; font-weight: bold\">0</span>.        , <span style=\"color: #008080; text-decoration-color: #008080; font-weight: bold\">-128</span>.        ,    <span style=\"color: #008080; text-decoration-color: #008080; font-weight: bold\">0</span>.        ,   <span style=\"color: #008080; text-decoration-color: #008080; font-weight: bold\">96</span>.        <span style=\"font-weight: bold\">]</span>,\n",
       "       <span style=\"font-weight: bold\">[</span>   <span style=\"color: #008080; text-decoration-color: #008080; font-weight: bold\">0</span>.        ,    <span style=\"color: #008080; text-decoration-color: #008080; font-weight: bold\">0</span>.        ,    <span style=\"color: #008080; text-decoration-color: #008080; font-weight: bold\">0</span>.        ,    <span style=\"color: #008080; text-decoration-color: #008080; font-weight: bold\">0</span>.        ,\n",
       "           <span style=\"color: #008080; text-decoration-color: #008080; font-weight: bold\">0</span>.        ,    <span style=\"color: #008080; text-decoration-color: #008080; font-weight: bold\">0</span>.        ,    <span style=\"color: #008080; text-decoration-color: #008080; font-weight: bold\">0</span>.        ,    <span style=\"color: #008080; text-decoration-color: #008080; font-weight: bold\">0</span>.        ,\n",
       "           <span style=\"color: #008080; text-decoration-color: #008080; font-weight: bold\">0</span>.        ,    <span style=\"color: #008080; text-decoration-color: #008080; font-weight: bold\">0</span>.        ,    <span style=\"color: #008080; text-decoration-color: #008080; font-weight: bold\">0</span>.        ,    <span style=\"color: #008080; text-decoration-color: #008080; font-weight: bold\">0</span>.        <span style=\"font-weight: bold\">]</span>,\n",
       "       <span style=\"font-weight: bold\">[</span> <span style=\"color: #008080; text-decoration-color: #008080; font-weight: bold\">-96</span>.        ,    <span style=\"color: #008080; text-decoration-color: #008080; font-weight: bold\">0</span>.        ,  <span style=\"color: #008080; text-decoration-color: #008080; font-weight: bold\">405.33333333</span>,    <span style=\"color: #008080; text-decoration-color: #008080; font-weight: bold\">0</span>.        ,\n",
       "           <span style=\"color: #008080; text-decoration-color: #008080; font-weight: bold\">0</span>.        , <span style=\"color: #008080; text-decoration-color: #008080; font-weight: bold\">-333.33333333</span>,    <span style=\"color: #008080; text-decoration-color: #008080; font-weight: bold\">0</span>.        ,    <span style=\"color: #008080; text-decoration-color: #008080; font-weight: bold\">0</span>.        ,\n",
       "           <span style=\"color: #008080; text-decoration-color: #008080; font-weight: bold\">0</span>.        ,   <span style=\"color: #008080; text-decoration-color: #008080; font-weight: bold\">96</span>.        ,    <span style=\"color: #008080; text-decoration-color: #008080; font-weight: bold\">0</span>.        ,  <span style=\"color: #008080; text-decoration-color: #008080; font-weight: bold\">-72</span>.        <span style=\"font-weight: bold\">]</span>,\n",
       "       <span style=\"font-weight: bold\">[</span>   <span style=\"color: #008080; text-decoration-color: #008080; font-weight: bold\">0</span>.        ,    <span style=\"color: #008080; text-decoration-color: #008080; font-weight: bold\">0</span>.        ,    <span style=\"color: #008080; text-decoration-color: #008080; font-weight: bold\">0</span>.        ,    <span style=\"color: #008080; text-decoration-color: #008080; font-weight: bold\">0</span>.        ,\n",
       "           <span style=\"color: #008080; text-decoration-color: #008080; font-weight: bold\">0</span>.        ,    <span style=\"color: #008080; text-decoration-color: #008080; font-weight: bold\">0</span>.        ,    <span style=\"color: #008080; text-decoration-color: #008080; font-weight: bold\">0</span>.        ,    <span style=\"color: #008080; text-decoration-color: #008080; font-weight: bold\">0</span>.        ,\n",
       "           <span style=\"color: #008080; text-decoration-color: #008080; font-weight: bold\">0</span>.        ,    <span style=\"color: #008080; text-decoration-color: #008080; font-weight: bold\">0</span>.        ,    <span style=\"color: #008080; text-decoration-color: #008080; font-weight: bold\">0</span>.        ,    <span style=\"color: #008080; text-decoration-color: #008080; font-weight: bold\">0</span>.        <span style=\"font-weight: bold\">]</span>,\n",
       "       <span style=\"font-weight: bold\">[</span>   <span style=\"color: #008080; text-decoration-color: #008080; font-weight: bold\">0</span>.        ,    <span style=\"color: #008080; text-decoration-color: #008080; font-weight: bold\">0</span>.        ,    <span style=\"color: #008080; text-decoration-color: #008080; font-weight: bold\">0</span>.        ,    <span style=\"color: #008080; text-decoration-color: #008080; font-weight: bold\">0</span>.        ,\n",
       "           <span style=\"color: #008080; text-decoration-color: #008080; font-weight: bold\">0</span>.        ,    <span style=\"color: #008080; text-decoration-color: #008080; font-weight: bold\">0</span>.        ,    <span style=\"color: #008080; text-decoration-color: #008080; font-weight: bold\">0</span>.        ,    <span style=\"color: #008080; text-decoration-color: #008080; font-weight: bold\">0</span>.        ,\n",
       "           <span style=\"color: #008080; text-decoration-color: #008080; font-weight: bold\">0</span>.        ,    <span style=\"color: #008080; text-decoration-color: #008080; font-weight: bold\">0</span>.        ,    <span style=\"color: #008080; text-decoration-color: #008080; font-weight: bold\">0</span>.        ,    <span style=\"color: #008080; text-decoration-color: #008080; font-weight: bold\">0</span>.        <span style=\"font-weight: bold\">]</span>,\n",
       "       <span style=\"font-weight: bold\">[</span>   <span style=\"color: #008080; text-decoration-color: #008080; font-weight: bold\">0</span>.        ,    <span style=\"color: #008080; text-decoration-color: #008080; font-weight: bold\">0</span>.        , <span style=\"color: #008080; text-decoration-color: #008080; font-weight: bold\">-333.33333333</span>,    <span style=\"color: #008080; text-decoration-color: #008080; font-weight: bold\">0</span>.        ,\n",
       "           <span style=\"color: #008080; text-decoration-color: #008080; font-weight: bold\">0</span>.        ,  <span style=\"color: #008080; text-decoration-color: #008080; font-weight: bold\">333.33333333</span>,    <span style=\"color: #008080; text-decoration-color: #008080; font-weight: bold\">0</span>.        ,    <span style=\"color: #008080; text-decoration-color: #008080; font-weight: bold\">0</span>.        ,\n",
       "           <span style=\"color: #008080; text-decoration-color: #008080; font-weight: bold\">0</span>.        ,    <span style=\"color: #008080; text-decoration-color: #008080; font-weight: bold\">0</span>.        ,    <span style=\"color: #008080; text-decoration-color: #008080; font-weight: bold\">0</span>.        ,    <span style=\"color: #008080; text-decoration-color: #008080; font-weight: bold\">0</span>.        <span style=\"font-weight: bold\">]</span>,\n",
       "       <span style=\"font-weight: bold\">[</span><span style=\"color: #008080; text-decoration-color: #008080; font-weight: bold\">-250</span>.        ,    <span style=\"color: #008080; text-decoration-color: #008080; font-weight: bold\">0</span>.        ,    <span style=\"color: #008080; text-decoration-color: #008080; font-weight: bold\">0</span>.        ,    <span style=\"color: #008080; text-decoration-color: #008080; font-weight: bold\">0</span>.        ,\n",
       "           <span style=\"color: #008080; text-decoration-color: #008080; font-weight: bold\">0</span>.        ,    <span style=\"color: #008080; text-decoration-color: #008080; font-weight: bold\">0</span>.        ,  <span style=\"color: #008080; text-decoration-color: #008080; font-weight: bold\">250</span>.        ,    <span style=\"color: #008080; text-decoration-color: #008080; font-weight: bold\">0</span>.        ,\n",
       "           <span style=\"color: #008080; text-decoration-color: #008080; font-weight: bold\">0</span>.        ,    <span style=\"color: #008080; text-decoration-color: #008080; font-weight: bold\">0</span>.        ,    <span style=\"color: #008080; text-decoration-color: #008080; font-weight: bold\">0</span>.        ,    <span style=\"color: #008080; text-decoration-color: #008080; font-weight: bold\">0</span>.        <span style=\"font-weight: bold\">]</span>,\n",
       "       <span style=\"font-weight: bold\">[</span>   <span style=\"color: #008080; text-decoration-color: #008080; font-weight: bold\">0</span>.        ,    <span style=\"color: #008080; text-decoration-color: #008080; font-weight: bold\">0</span>.        ,    <span style=\"color: #008080; text-decoration-color: #008080; font-weight: bold\">0</span>.        ,    <span style=\"color: #008080; text-decoration-color: #008080; font-weight: bold\">0</span>.        ,\n",
       "           <span style=\"color: #008080; text-decoration-color: #008080; font-weight: bold\">0</span>.        ,    <span style=\"color: #008080; text-decoration-color: #008080; font-weight: bold\">0</span>.        ,    <span style=\"color: #008080; text-decoration-color: #008080; font-weight: bold\">0</span>.        ,    <span style=\"color: #008080; text-decoration-color: #008080; font-weight: bold\">0</span>.        ,\n",
       "           <span style=\"color: #008080; text-decoration-color: #008080; font-weight: bold\">0</span>.        ,    <span style=\"color: #008080; text-decoration-color: #008080; font-weight: bold\">0</span>.        ,    <span style=\"color: #008080; text-decoration-color: #008080; font-weight: bold\">0</span>.        ,    <span style=\"color: #008080; text-decoration-color: #008080; font-weight: bold\">0</span>.        <span style=\"font-weight: bold\">]</span>,\n",
       "       <span style=\"font-weight: bold\">[</span>   <span style=\"color: #008080; text-decoration-color: #008080; font-weight: bold\">0</span>.        ,    <span style=\"color: #008080; text-decoration-color: #008080; font-weight: bold\">0</span>.        ,    <span style=\"color: #008080; text-decoration-color: #008080; font-weight: bold\">0</span>.        ,    <span style=\"color: #008080; text-decoration-color: #008080; font-weight: bold\">0</span>.        ,\n",
       "           <span style=\"color: #008080; text-decoration-color: #008080; font-weight: bold\">0</span>.        ,    <span style=\"color: #008080; text-decoration-color: #008080; font-weight: bold\">0</span>.        ,    <span style=\"color: #008080; text-decoration-color: #008080; font-weight: bold\">0</span>.        ,    <span style=\"color: #008080; text-decoration-color: #008080; font-weight: bold\">0</span>.        ,\n",
       "           <span style=\"color: #008080; text-decoration-color: #008080; font-weight: bold\">0</span>.        ,    <span style=\"color: #008080; text-decoration-color: #008080; font-weight: bold\">0</span>.        ,    <span style=\"color: #008080; text-decoration-color: #008080; font-weight: bold\">0</span>.        ,    <span style=\"color: #008080; text-decoration-color: #008080; font-weight: bold\">0</span>.        <span style=\"font-weight: bold\">]</span>,\n",
       "       <span style=\"font-weight: bold\">[</span><span style=\"color: #008080; text-decoration-color: #008080; font-weight: bold\">-128</span>.        ,    <span style=\"color: #008080; text-decoration-color: #008080; font-weight: bold\">0</span>.        ,   <span style=\"color: #008080; text-decoration-color: #008080; font-weight: bold\">96</span>.        ,    <span style=\"color: #008080; text-decoration-color: #008080; font-weight: bold\">0</span>.        ,\n",
       "           <span style=\"color: #008080; text-decoration-color: #008080; font-weight: bold\">0</span>.        ,    <span style=\"color: #008080; text-decoration-color: #008080; font-weight: bold\">0</span>.        ,    <span style=\"color: #008080; text-decoration-color: #008080; font-weight: bold\">0</span>.        ,    <span style=\"color: #008080; text-decoration-color: #008080; font-weight: bold\">0</span>.        ,\n",
       "           <span style=\"color: #008080; text-decoration-color: #008080; font-weight: bold\">0</span>.        ,  <span style=\"color: #008080; text-decoration-color: #008080; font-weight: bold\">128</span>.        ,    <span style=\"color: #008080; text-decoration-color: #008080; font-weight: bold\">0</span>.        ,  <span style=\"color: #008080; text-decoration-color: #008080; font-weight: bold\">-96</span>.        <span style=\"font-weight: bold\">]</span>,\n",
       "       <span style=\"font-weight: bold\">[</span>   <span style=\"color: #008080; text-decoration-color: #008080; font-weight: bold\">0</span>.        ,    <span style=\"color: #008080; text-decoration-color: #008080; font-weight: bold\">0</span>.        ,    <span style=\"color: #008080; text-decoration-color: #008080; font-weight: bold\">0</span>.        ,    <span style=\"color: #008080; text-decoration-color: #008080; font-weight: bold\">0</span>.        ,\n",
       "           <span style=\"color: #008080; text-decoration-color: #008080; font-weight: bold\">0</span>.        ,    <span style=\"color: #008080; text-decoration-color: #008080; font-weight: bold\">0</span>.        ,    <span style=\"color: #008080; text-decoration-color: #008080; font-weight: bold\">0</span>.        ,    <span style=\"color: #008080; text-decoration-color: #008080; font-weight: bold\">0</span>.        ,\n",
       "           <span style=\"color: #008080; text-decoration-color: #008080; font-weight: bold\">0</span>.        ,    <span style=\"color: #008080; text-decoration-color: #008080; font-weight: bold\">0</span>.        ,    <span style=\"color: #008080; text-decoration-color: #008080; font-weight: bold\">0</span>.        ,    <span style=\"color: #008080; text-decoration-color: #008080; font-weight: bold\">0</span>.        <span style=\"font-weight: bold\">]</span>,\n",
       "       <span style=\"font-weight: bold\">[</span>  <span style=\"color: #008080; text-decoration-color: #008080; font-weight: bold\">96</span>.        ,    <span style=\"color: #008080; text-decoration-color: #008080; font-weight: bold\">0</span>.        ,  <span style=\"color: #008080; text-decoration-color: #008080; font-weight: bold\">-72</span>.        ,    <span style=\"color: #008080; text-decoration-color: #008080; font-weight: bold\">0</span>.        ,\n",
       "           <span style=\"color: #008080; text-decoration-color: #008080; font-weight: bold\">0</span>.        ,    <span style=\"color: #008080; text-decoration-color: #008080; font-weight: bold\">0</span>.        ,    <span style=\"color: #008080; text-decoration-color: #008080; font-weight: bold\">0</span>.        ,    <span style=\"color: #008080; text-decoration-color: #008080; font-weight: bold\">0</span>.        ,\n",
       "           <span style=\"color: #008080; text-decoration-color: #008080; font-weight: bold\">0</span>.        ,  <span style=\"color: #008080; text-decoration-color: #008080; font-weight: bold\">-96</span>.        ,    <span style=\"color: #008080; text-decoration-color: #008080; font-weight: bold\">0</span>.        ,   <span style=\"color: #008080; text-decoration-color: #008080; font-weight: bold\">72</span>.        <span style=\"font-weight: bold\">]])</span>\n",
       "</pre>\n"
      ],
      "text/plain": [
       "\u001b[1;35marray\u001b[0m\u001b[1m(\u001b[0m\u001b[1m[\u001b[0m\u001b[1m[\u001b[0m \u001b[1;36m378\u001b[0m.        ,    \u001b[1;36m0\u001b[0m.        ,  \u001b[1;36m-96\u001b[0m.        ,    \u001b[1;36m0\u001b[0m.        ,\n",
       "           \u001b[1;36m0\u001b[0m.        ,    \u001b[1;36m0\u001b[0m.        , \u001b[1;36m-250\u001b[0m.        ,    \u001b[1;36m0\u001b[0m.        ,\n",
       "           \u001b[1;36m0\u001b[0m.        , \u001b[1;36m-128\u001b[0m.        ,    \u001b[1;36m0\u001b[0m.        ,   \u001b[1;36m96\u001b[0m.        \u001b[1m]\u001b[0m,\n",
       "       \u001b[1m[\u001b[0m   \u001b[1;36m0\u001b[0m.        ,    \u001b[1;36m0\u001b[0m.        ,    \u001b[1;36m0\u001b[0m.        ,    \u001b[1;36m0\u001b[0m.        ,\n",
       "           \u001b[1;36m0\u001b[0m.        ,    \u001b[1;36m0\u001b[0m.        ,    \u001b[1;36m0\u001b[0m.        ,    \u001b[1;36m0\u001b[0m.        ,\n",
       "           \u001b[1;36m0\u001b[0m.        ,    \u001b[1;36m0\u001b[0m.        ,    \u001b[1;36m0\u001b[0m.        ,    \u001b[1;36m0\u001b[0m.        \u001b[1m]\u001b[0m,\n",
       "       \u001b[1m[\u001b[0m \u001b[1;36m-96\u001b[0m.        ,    \u001b[1;36m0\u001b[0m.        ,  \u001b[1;36m405.33333333\u001b[0m,    \u001b[1;36m0\u001b[0m.        ,\n",
       "           \u001b[1;36m0\u001b[0m.        , \u001b[1;36m-333.33333333\u001b[0m,    \u001b[1;36m0\u001b[0m.        ,    \u001b[1;36m0\u001b[0m.        ,\n",
       "           \u001b[1;36m0\u001b[0m.        ,   \u001b[1;36m96\u001b[0m.        ,    \u001b[1;36m0\u001b[0m.        ,  \u001b[1;36m-72\u001b[0m.        \u001b[1m]\u001b[0m,\n",
       "       \u001b[1m[\u001b[0m   \u001b[1;36m0\u001b[0m.        ,    \u001b[1;36m0\u001b[0m.        ,    \u001b[1;36m0\u001b[0m.        ,    \u001b[1;36m0\u001b[0m.        ,\n",
       "           \u001b[1;36m0\u001b[0m.        ,    \u001b[1;36m0\u001b[0m.        ,    \u001b[1;36m0\u001b[0m.        ,    \u001b[1;36m0\u001b[0m.        ,\n",
       "           \u001b[1;36m0\u001b[0m.        ,    \u001b[1;36m0\u001b[0m.        ,    \u001b[1;36m0\u001b[0m.        ,    \u001b[1;36m0\u001b[0m.        \u001b[1m]\u001b[0m,\n",
       "       \u001b[1m[\u001b[0m   \u001b[1;36m0\u001b[0m.        ,    \u001b[1;36m0\u001b[0m.        ,    \u001b[1;36m0\u001b[0m.        ,    \u001b[1;36m0\u001b[0m.        ,\n",
       "           \u001b[1;36m0\u001b[0m.        ,    \u001b[1;36m0\u001b[0m.        ,    \u001b[1;36m0\u001b[0m.        ,    \u001b[1;36m0\u001b[0m.        ,\n",
       "           \u001b[1;36m0\u001b[0m.        ,    \u001b[1;36m0\u001b[0m.        ,    \u001b[1;36m0\u001b[0m.        ,    \u001b[1;36m0\u001b[0m.        \u001b[1m]\u001b[0m,\n",
       "       \u001b[1m[\u001b[0m   \u001b[1;36m0\u001b[0m.        ,    \u001b[1;36m0\u001b[0m.        , \u001b[1;36m-333.33333333\u001b[0m,    \u001b[1;36m0\u001b[0m.        ,\n",
       "           \u001b[1;36m0\u001b[0m.        ,  \u001b[1;36m333.33333333\u001b[0m,    \u001b[1;36m0\u001b[0m.        ,    \u001b[1;36m0\u001b[0m.        ,\n",
       "           \u001b[1;36m0\u001b[0m.        ,    \u001b[1;36m0\u001b[0m.        ,    \u001b[1;36m0\u001b[0m.        ,    \u001b[1;36m0\u001b[0m.        \u001b[1m]\u001b[0m,\n",
       "       \u001b[1m[\u001b[0m\u001b[1;36m-250\u001b[0m.        ,    \u001b[1;36m0\u001b[0m.        ,    \u001b[1;36m0\u001b[0m.        ,    \u001b[1;36m0\u001b[0m.        ,\n",
       "           \u001b[1;36m0\u001b[0m.        ,    \u001b[1;36m0\u001b[0m.        ,  \u001b[1;36m250\u001b[0m.        ,    \u001b[1;36m0\u001b[0m.        ,\n",
       "           \u001b[1;36m0\u001b[0m.        ,    \u001b[1;36m0\u001b[0m.        ,    \u001b[1;36m0\u001b[0m.        ,    \u001b[1;36m0\u001b[0m.        \u001b[1m]\u001b[0m,\n",
       "       \u001b[1m[\u001b[0m   \u001b[1;36m0\u001b[0m.        ,    \u001b[1;36m0\u001b[0m.        ,    \u001b[1;36m0\u001b[0m.        ,    \u001b[1;36m0\u001b[0m.        ,\n",
       "           \u001b[1;36m0\u001b[0m.        ,    \u001b[1;36m0\u001b[0m.        ,    \u001b[1;36m0\u001b[0m.        ,    \u001b[1;36m0\u001b[0m.        ,\n",
       "           \u001b[1;36m0\u001b[0m.        ,    \u001b[1;36m0\u001b[0m.        ,    \u001b[1;36m0\u001b[0m.        ,    \u001b[1;36m0\u001b[0m.        \u001b[1m]\u001b[0m,\n",
       "       \u001b[1m[\u001b[0m   \u001b[1;36m0\u001b[0m.        ,    \u001b[1;36m0\u001b[0m.        ,    \u001b[1;36m0\u001b[0m.        ,    \u001b[1;36m0\u001b[0m.        ,\n",
       "           \u001b[1;36m0\u001b[0m.        ,    \u001b[1;36m0\u001b[0m.        ,    \u001b[1;36m0\u001b[0m.        ,    \u001b[1;36m0\u001b[0m.        ,\n",
       "           \u001b[1;36m0\u001b[0m.        ,    \u001b[1;36m0\u001b[0m.        ,    \u001b[1;36m0\u001b[0m.        ,    \u001b[1;36m0\u001b[0m.        \u001b[1m]\u001b[0m,\n",
       "       \u001b[1m[\u001b[0m\u001b[1;36m-128\u001b[0m.        ,    \u001b[1;36m0\u001b[0m.        ,   \u001b[1;36m96\u001b[0m.        ,    \u001b[1;36m0\u001b[0m.        ,\n",
       "           \u001b[1;36m0\u001b[0m.        ,    \u001b[1;36m0\u001b[0m.        ,    \u001b[1;36m0\u001b[0m.        ,    \u001b[1;36m0\u001b[0m.        ,\n",
       "           \u001b[1;36m0\u001b[0m.        ,  \u001b[1;36m128\u001b[0m.        ,    \u001b[1;36m0\u001b[0m.        ,  \u001b[1;36m-96\u001b[0m.        \u001b[1m]\u001b[0m,\n",
       "       \u001b[1m[\u001b[0m   \u001b[1;36m0\u001b[0m.        ,    \u001b[1;36m0\u001b[0m.        ,    \u001b[1;36m0\u001b[0m.        ,    \u001b[1;36m0\u001b[0m.        ,\n",
       "           \u001b[1;36m0\u001b[0m.        ,    \u001b[1;36m0\u001b[0m.        ,    \u001b[1;36m0\u001b[0m.        ,    \u001b[1;36m0\u001b[0m.        ,\n",
       "           \u001b[1;36m0\u001b[0m.        ,    \u001b[1;36m0\u001b[0m.        ,    \u001b[1;36m0\u001b[0m.        ,    \u001b[1;36m0\u001b[0m.        \u001b[1m]\u001b[0m,\n",
       "       \u001b[1m[\u001b[0m  \u001b[1;36m96\u001b[0m.        ,    \u001b[1;36m0\u001b[0m.        ,  \u001b[1;36m-72\u001b[0m.        ,    \u001b[1;36m0\u001b[0m.        ,\n",
       "           \u001b[1;36m0\u001b[0m.        ,    \u001b[1;36m0\u001b[0m.        ,    \u001b[1;36m0\u001b[0m.        ,    \u001b[1;36m0\u001b[0m.        ,\n",
       "           \u001b[1;36m0\u001b[0m.        ,  \u001b[1;36m-96\u001b[0m.        ,    \u001b[1;36m0\u001b[0m.        ,   \u001b[1;36m72\u001b[0m.        \u001b[1m]\u001b[0m\u001b[1m]\u001b[0m\u001b[1m)\u001b[0m\n"
      ]
     },
     "metadata": {},
     "output_type": "display_data"
    }
   ],
   "source": [
    "print(System.K_f.__repr__())"
   ]
  },
  {
   "cell_type": "code",
   "execution_count": null,
   "metadata": {},
   "outputs": [
    {
     "data": {
      "text/html": [
       "<div>\n",
       "<style scoped>\n",
       "    .dataframe tbody tr th:only-of-type {\n",
       "        vertical-align: middle;\n",
       "    }\n",
       "\n",
       "    .dataframe tbody tr th {\n",
       "        vertical-align: top;\n",
       "    }\n",
       "\n",
       "    .dataframe thead th {\n",
       "        text-align: right;\n",
       "    }\n",
       "</style>\n",
       "<table border=\"1\" class=\"dataframe\">\n",
       "  <thead>\n",
       "    <tr style=\"text-align: right;\">\n",
       "      <th></th>\n",
       "      <th>Node</th>\n",
       "      <th>Coordinate_X</th>\n",
       "      <th>Coordinate_Y</th>\n",
       "      <th>Coordinate_Z</th>\n",
       "      <th>Translational_X</th>\n",
       "      <th>Translational_Y</th>\n",
       "      <th>Translational_Z</th>\n",
       "      <th>Degrees_of_freedom</th>\n",
       "    </tr>\n",
       "  </thead>\n",
       "  <tbody>\n",
       "    <tr>\n",
       "      <th>0</th>\n",
       "      <td>2</td>\n",
       "      <td>0.0</td>\n",
       "      <td>0.0</td>\n",
       "      <td>3000.0</td>\n",
       "      <td>False</td>\n",
       "      <td>True</td>\n",
       "      <td>False</td>\n",
       "      <td>[0, 1, 2]</td>\n",
       "    </tr>\n",
       "    <tr>\n",
       "      <th>1</th>\n",
       "      <td>1</td>\n",
       "      <td>0.0</td>\n",
       "      <td>0.0</td>\n",
       "      <td>0.0</td>\n",
       "      <td>True</td>\n",
       "      <td>True</td>\n",
       "      <td>True</td>\n",
       "      <td>[3, 4, 5]</td>\n",
       "    </tr>\n",
       "    <tr>\n",
       "      <th>2</th>\n",
       "      <td>3</td>\n",
       "      <td>-4000.0</td>\n",
       "      <td>0.0</td>\n",
       "      <td>3000.0</td>\n",
       "      <td>True</td>\n",
       "      <td>True</td>\n",
       "      <td>True</td>\n",
       "      <td>[6, 7, 8]</td>\n",
       "    </tr>\n",
       "    <tr>\n",
       "      <th>3</th>\n",
       "      <td>4</td>\n",
       "      <td>-4000.0</td>\n",
       "      <td>0.0</td>\n",
       "      <td>6000.0</td>\n",
       "      <td>True</td>\n",
       "      <td>True</td>\n",
       "      <td>True</td>\n",
       "      <td>[9, 10, 11]</td>\n",
       "    </tr>\n",
       "  </tbody>\n",
       "</table>\n",
       "</div>"
      ],
      "text/plain": [
       "   Node  Coordinate_X  Coordinate_Y  Coordinate_Z  Translational_X  \\\n",
       "0     2           0.0           0.0        3000.0            False   \n",
       "1     1           0.0           0.0           0.0             True   \n",
       "2     3       -4000.0           0.0        3000.0             True   \n",
       "3     4       -4000.0           0.0        6000.0             True   \n",
       "\n",
       "   Translational_Y  Translational_Z Degrees_of_freedom  \n",
       "0             True            False          [0, 1, 2]  \n",
       "1             True             True          [3, 4, 5]  \n",
       "2             True             True          [6, 7, 8]  \n",
       "3             True             True        [9, 10, 11]  "
      ]
     },
     "execution_count": null,
     "metadata": {},
     "output_type": "execute_result"
    }
   ],
   "source": [
    "System.nodes"
   ]
  },
  {
   "cell_type": "code",
   "execution_count": null,
   "metadata": {},
   "outputs": [],
   "source": [
    "# | export\n",
    "@patch\n",
    "def create_force_vector(\n",
    "    self: DirectStiffnessMethod,\n",
    "):\n",
    "    self.F_f = np.zeros(self.number_of_degrees_of_freedom)\n",
    "\n",
    "    self.point_loads_extended = pd.merge(\n",
    "        self.point_loads,\n",
    "        self.nodes[[\"Node\", \"Degrees_of_freedom\"]],\n",
    "        on=\"Node\",\n",
    "    )\n",
    "\n",
    "    np.add.at(\n",
    "        self.F_f,\n",
    "        np.concatenate(\n",
    "            self.point_loads_extended[\"Degrees_of_freedom\"].values\n",
    "        ),\n",
    "        np.concatenate(\n",
    "            self.point_loads_extended[\n",
    "                [\"Force_X\", \"Force_Y\", \"Force_Z\"]\n",
    "            ].values\n",
    "        ),\n",
    "    )"
   ]
  },
  {
   "cell_type": "code",
   "execution_count": null,
   "metadata": {},
   "outputs": [],
   "source": [
    "System.create_force_vector()"
   ]
  },
  {
   "cell_type": "code",
   "execution_count": null,
   "metadata": {},
   "outputs": [
    {
     "data": {
      "text/plain": [
       "array([ 100000.,       0., -100000.,       0.,       0.,       0.,\n",
       "             0.,       0.,       0.,  150000.,       0.,   50000.])"
      ]
     },
     "execution_count": null,
     "metadata": {},
     "output_type": "execute_result"
    }
   ],
   "source": [
    "System.F_f"
   ]
  },
  {
   "cell_type": "code",
   "execution_count": null,
   "metadata": {},
   "outputs": [],
   "source": [
    "X_d = np.concatenate(\n",
    "    System.point_loads_extended[\"Degrees_of_freedom\"].values\n",
    ")"
   ]
  },
  {
   "cell_type": "code",
   "execution_count": null,
   "metadata": {},
   "outputs": [],
   "source": [
    "X = np.concatenate(\n",
    "    System.point_loads_extended[[\"Force_X\", \"Force_Y\", \"Force_Z\"]].values\n",
    ")"
   ]
  },
  {
   "cell_type": "code",
   "execution_count": null,
   "metadata": {},
   "outputs": [],
   "source": [
    "F_f = np.zeros(System.number_of_rows * System.dimensions)"
   ]
  },
  {
   "cell_type": "code",
   "execution_count": null,
   "metadata": {},
   "outputs": [
    {
     "data": {
      "text/plain": [
       "array([0., 0., 0., 0., 0., 0., 0., 0., 0., 0., 0., 0.])"
      ]
     },
     "execution_count": null,
     "metadata": {},
     "output_type": "execute_result"
    }
   ],
   "source": [
    "F_f"
   ]
  },
  {
   "cell_type": "code",
   "execution_count": null,
   "metadata": {},
   "outputs": [],
   "source": [
    "np.add.at(F_f, X_d, X)"
   ]
  },
  {
   "cell_type": "code",
   "execution_count": null,
   "metadata": {},
   "outputs": [
    {
     "data": {
      "text/plain": [
       "array([ 100000.,       0., -100000.,       0.,       0.,       0.,\n",
       "             0.,       0.,       0.,  150000.,       0.,   50000.])"
      ]
     },
     "execution_count": null,
     "metadata": {},
     "output_type": "execute_result"
    }
   ],
   "source": [
    "F_f"
   ]
  },
  {
   "cell_type": "code",
   "execution_count": null,
   "metadata": {},
   "outputs": [
    {
     "data": {
      "text/plain": [
       "array([ 100000.,       0., -100000.,       0.,       0.,       0.,\n",
       "             0.,       0.,       0.,  150000.,       0.,   50000.])"
      ]
     },
     "execution_count": null,
     "metadata": {},
     "output_type": "execute_result"
    }
   ],
   "source": [
    "System.F_f"
   ]
  },
  {
   "cell_type": "code",
   "execution_count": null,
   "metadata": {},
   "outputs": [
    {
     "data": {
      "text/html": [
       "<div>\n",
       "<style scoped>\n",
       "    .dataframe tbody tr th:only-of-type {\n",
       "        vertical-align: middle;\n",
       "    }\n",
       "\n",
       "    .dataframe tbody tr th {\n",
       "        vertical-align: top;\n",
       "    }\n",
       "\n",
       "    .dataframe thead th {\n",
       "        text-align: right;\n",
       "    }\n",
       "</style>\n",
       "<table border=\"1\" class=\"dataframe\">\n",
       "  <thead>\n",
       "    <tr style=\"text-align: right;\">\n",
       "      <th></th>\n",
       "      <th>Point_Load</th>\n",
       "      <th>Node</th>\n",
       "      <th>Force_X</th>\n",
       "      <th>Force_Y</th>\n",
       "      <th>Force_Z</th>\n",
       "      <th>Degrees_of_freedom</th>\n",
       "    </tr>\n",
       "  </thead>\n",
       "  <tbody>\n",
       "    <tr>\n",
       "      <th>0</th>\n",
       "      <td>1</td>\n",
       "      <td>2</td>\n",
       "      <td>100000.0</td>\n",
       "      <td>0.0</td>\n",
       "      <td>-100000.0</td>\n",
       "      <td>[0, 1, 2]</td>\n",
       "    </tr>\n",
       "    <tr>\n",
       "      <th>1</th>\n",
       "      <td>2</td>\n",
       "      <td>4</td>\n",
       "      <td>100000.0</td>\n",
       "      <td>0.0</td>\n",
       "      <td>0.0</td>\n",
       "      <td>[9, 10, 11]</td>\n",
       "    </tr>\n",
       "    <tr>\n",
       "      <th>2</th>\n",
       "      <td>3</td>\n",
       "      <td>4</td>\n",
       "      <td>50000.0</td>\n",
       "      <td>0.0</td>\n",
       "      <td>50000.0</td>\n",
       "      <td>[9, 10, 11]</td>\n",
       "    </tr>\n",
       "  </tbody>\n",
       "</table>\n",
       "</div>"
      ],
      "text/plain": [
       "   Point_Load  Node   Force_X  Force_Y   Force_Z Degrees_of_freedom\n",
       "0           1     2  100000.0      0.0 -100000.0          [0, 1, 2]\n",
       "1           2     4  100000.0      0.0       0.0        [9, 10, 11]\n",
       "2           3     4   50000.0      0.0   50000.0        [9, 10, 11]"
      ]
     },
     "execution_count": null,
     "metadata": {},
     "output_type": "execute_result"
    }
   ],
   "source": [
    "System.point_loads_extended"
   ]
  },
  {
   "cell_type": "code",
   "execution_count": null,
   "metadata": {},
   "outputs": [],
   "source": [
    "translationals = [True, False, True]"
   ]
  },
  {
   "cell_type": "code",
   "execution_count": null,
   "metadata": {},
   "outputs": [
    {
     "data": {
      "text/plain": [
       "array([[ 1,  2, 30],\n",
       "       [ 6,  4, 80],\n",
       "       [ 5,  8, 70]])"
      ]
     },
     "execution_count": null,
     "metadata": {},
     "output_type": "execute_result"
    }
   ],
   "source": [
    "test"
   ]
  },
  {
   "cell_type": "code",
   "execution_count": null,
   "metadata": {},
   "outputs": [
    {
     "data": {
      "text/plain": [
       "array([[ 1, 30],\n",
       "       [ 5, 70]])"
      ]
     },
     "execution_count": null,
     "metadata": {},
     "output_type": "execute_result"
    }
   ],
   "source": [
    "test[:, translationals][translationals]"
   ]
  },
  {
   "cell_type": "code",
   "execution_count": null,
   "metadata": {},
   "outputs": [
    {
     "data": {
      "text/html": [
       "<div>\n",
       "<style scoped>\n",
       "    .dataframe tbody tr th:only-of-type {\n",
       "        vertical-align: middle;\n",
       "    }\n",
       "\n",
       "    .dataframe tbody tr th {\n",
       "        vertical-align: top;\n",
       "    }\n",
       "\n",
       "    .dataframe thead th {\n",
       "        text-align: right;\n",
       "    }\n",
       "</style>\n",
       "<table border=\"1\" class=\"dataframe\">\n",
       "  <thead>\n",
       "    <tr style=\"text-align: right;\">\n",
       "      <th></th>\n",
       "      <th>Node</th>\n",
       "      <th>Coordinate_X</th>\n",
       "      <th>Coordinate_Y</th>\n",
       "      <th>Coordinate_Z</th>\n",
       "      <th>Translational_X</th>\n",
       "      <th>Translational_Y</th>\n",
       "      <th>Translational_Z</th>\n",
       "      <th>Degrees_of_freedom</th>\n",
       "    </tr>\n",
       "  </thead>\n",
       "  <tbody>\n",
       "    <tr>\n",
       "      <th>0</th>\n",
       "      <td>2</td>\n",
       "      <td>0.0</td>\n",
       "      <td>0.0</td>\n",
       "      <td>3000.0</td>\n",
       "      <td>False</td>\n",
       "      <td>True</td>\n",
       "      <td>False</td>\n",
       "      <td>[0, 1, 2]</td>\n",
       "    </tr>\n",
       "    <tr>\n",
       "      <th>1</th>\n",
       "      <td>1</td>\n",
       "      <td>0.0</td>\n",
       "      <td>0.0</td>\n",
       "      <td>0.0</td>\n",
       "      <td>True</td>\n",
       "      <td>True</td>\n",
       "      <td>True</td>\n",
       "      <td>[3, 4, 5]</td>\n",
       "    </tr>\n",
       "    <tr>\n",
       "      <th>2</th>\n",
       "      <td>3</td>\n",
       "      <td>-4000.0</td>\n",
       "      <td>0.0</td>\n",
       "      <td>3000.0</td>\n",
       "      <td>True</td>\n",
       "      <td>True</td>\n",
       "      <td>True</td>\n",
       "      <td>[6, 7, 8]</td>\n",
       "    </tr>\n",
       "    <tr>\n",
       "      <th>3</th>\n",
       "      <td>4</td>\n",
       "      <td>-4000.0</td>\n",
       "      <td>0.0</td>\n",
       "      <td>6000.0</td>\n",
       "      <td>True</td>\n",
       "      <td>True</td>\n",
       "      <td>True</td>\n",
       "      <td>[9, 10, 11]</td>\n",
       "    </tr>\n",
       "  </tbody>\n",
       "</table>\n",
       "</div>"
      ],
      "text/plain": [
       "   Node  Coordinate_X  Coordinate_Y  Coordinate_Z  Translational_X  \\\n",
       "0     2           0.0           0.0        3000.0            False   \n",
       "1     1           0.0           0.0           0.0             True   \n",
       "2     3       -4000.0           0.0        3000.0             True   \n",
       "3     4       -4000.0           0.0        6000.0             True   \n",
       "\n",
       "   Translational_Y  Translational_Z Degrees_of_freedom  \n",
       "0             True            False          [0, 1, 2]  \n",
       "1             True             True          [3, 4, 5]  \n",
       "2             True             True          [6, 7, 8]  \n",
       "3             True             True        [9, 10, 11]  "
      ]
     },
     "execution_count": null,
     "metadata": {},
     "output_type": "execute_result"
    }
   ],
   "source": [
    "System.nodes"
   ]
  },
  {
   "cell_type": "code",
   "execution_count": null,
   "metadata": {},
   "outputs": [
    {
     "data": {
      "text/plain": [
       "array([[False,  True, False],\n",
       "       [ True,  True,  True],\n",
       "       [ True,  True,  True],\n",
       "       [ True,  True,  True]])"
      ]
     },
     "execution_count": null,
     "metadata": {},
     "output_type": "execute_result"
    }
   ],
   "source": [
    "System.nodes[\n",
    "    [\n",
    "        \"Translational_X\",\n",
    "        \"Translational_Y\",\n",
    "        \"Translational_Z\",\n",
    "    ]\n",
    "].values"
   ]
  },
  {
   "cell_type": "code",
   "execution_count": null,
   "metadata": {},
   "outputs": [
    {
     "data": {
      "text/plain": [
       "array([ True, False,  True, False, False, False, False, False, False,\n",
       "       False, False, False])"
      ]
     },
     "execution_count": null,
     "metadata": {},
     "output_type": "execute_result"
    }
   ],
   "source": [
    "np.logical_not(\n",
    "    System.nodes[\n",
    "        [\n",
    "            \"Translational_X\",\n",
    "            \"Translational_Y\",\n",
    "            \"Translational_Z\",\n",
    "        ]\n",
    "    ].values.flatten()\n",
    ")"
   ]
  },
  {
   "cell_type": "code",
   "execution_count": null,
   "metadata": {},
   "outputs": [],
   "source": [
    "# | export\n",
    "@patch\n",
    "def create_reduced_system_stiffness_matrice_and_reduced_force_vector(\n",
    "    self: DirectStiffnessMethod,\n",
    "):\n",
    "    self.translationals = np.logical_not(\n",
    "        self.nodes[\n",
    "            [\n",
    "                \"Translational_X\",\n",
    "                \"Translational_Y\",\n",
    "                \"Translational_Z\",\n",
    "            ]\n",
    "        ].values.flatten()\n",
    "    )\n",
    "    self.K_f_reduced = self.K_f[:, self.translationals][self.translationals]\n",
    "    self.F_f_reduced = self.F_f[self.translationals]"
   ]
  },
  {
   "cell_type": "code",
   "execution_count": null,
   "metadata": {},
   "outputs": [],
   "source": [
    "System.create_reduced_system_stiffness_matrice_and_reduced_force_vector()"
   ]
  },
  {
   "cell_type": "code",
   "execution_count": null,
   "metadata": {},
   "outputs": [
    {
     "data": {
      "text/plain": [
       "array([ True, False,  True, False, False, False, False, False, False,\n",
       "       False, False, False])"
      ]
     },
     "execution_count": null,
     "metadata": {},
     "output_type": "execute_result"
    }
   ],
   "source": [
    "System.translationals"
   ]
  },
  {
   "cell_type": "code",
   "execution_count": null,
   "metadata": {},
   "outputs": [
    {
     "data": {
      "text/plain": [
       "array([ 100000., -100000.])"
      ]
     },
     "execution_count": null,
     "metadata": {},
     "output_type": "execute_result"
    }
   ],
   "source": [
    "System.F_f_reduced"
   ]
  },
  {
   "cell_type": "code",
   "execution_count": null,
   "metadata": {},
   "outputs": [
    {
     "data": {
      "text/plain": [
       "array([[378.        , -96.        ],\n",
       "       [-96.        , 405.33333333]])"
      ]
     },
     "execution_count": null,
     "metadata": {},
     "output_type": "execute_result"
    }
   ],
   "source": [
    "System.K_f_reduced"
   ]
  },
  {
   "cell_type": "markdown",
   "metadata": {},
   "source": [
    "$$K_{f,reduced}^{-1} \\cdot F_{f,reduced} = u_{f,reduced}$$"
   ]
  },
  {
   "cell_type": "code",
   "execution_count": null,
   "metadata": {},
   "outputs": [],
   "source": []
  },
  {
   "cell_type": "code",
   "execution_count": null,
   "metadata": {},
   "outputs": [],
   "source": [
    "# | export\n",
    "@patch\n",
    "def calculate_displacement_vector(\n",
    "    self: DirectStiffnessMethod,\n",
    "):\n",
    "    try:\n",
    "        self.u_f_reduced = (\n",
    "            np.linalg.inv(self.K_f_reduced) @ self.F_f_reduced\n",
    "        )\n",
    "    except np.linalg.LinAlgError as l:\n",
    "        if str(l) == \"Singular matrix\":\n",
    "            raise DirectStiffnessMethodException(\n",
    "                \"Mechanism - The system is unstable\"\n",
    "            )\n",
    "        else:\n",
    "            raise l\n",
    "\n",
    "    self.degrees_of_freedom = np.concatenate(\n",
    "        self.nodes[\n",
    "            [\n",
    "                \"Degrees_of_freedom\",\n",
    "            ]\n",
    "        ].values.flatten()\n",
    "    )\n",
    "    self.u_f = np.zeros(\n",
    "        self.number_of_rows * self.dimensions,\n",
    "    )\n",
    "\n",
    "    self.u_f[self.translationals] = self.u_f_reduced"
   ]
  },
  {
   "cell_type": "code",
   "execution_count": null,
   "metadata": {},
   "outputs": [],
   "source": [
    "System.calculate_displacement_vector()"
   ]
  },
  {
   "cell_type": "code",
   "execution_count": null,
   "metadata": {},
   "outputs": [
    {
     "data": {
      "text/plain": [
       "array([ 214.81481481, -195.83333333])"
      ]
     },
     "execution_count": null,
     "metadata": {},
     "output_type": "execute_result"
    }
   ],
   "source": [
    "System.u_f_reduced"
   ]
  },
  {
   "cell_type": "code",
   "execution_count": null,
   "metadata": {},
   "outputs": [
    {
     "data": {
      "text/plain": [
       "array([ 214.81481481,    0.        , -195.83333333,    0.        ,\n",
       "          0.        ,    0.        ,    0.        ,    0.        ,\n",
       "          0.        ,    0.        ,    0.        ,    0.        ])"
      ]
     },
     "execution_count": null,
     "metadata": {},
     "output_type": "execute_result"
    }
   ],
   "source": [
    "System.u_f"
   ]
  },
  {
   "cell_type": "markdown",
   "metadata": {},
   "source": [
    "$$K_{f} \\cdot u_{f} = F_{f}$$"
   ]
  },
  {
   "cell_type": "code",
   "execution_count": null,
   "metadata": {},
   "outputs": [],
   "source": [
    "# | export\n",
    "@patch\n",
    "def calculate_force_vector(\n",
    "    self: DirectStiffnessMethod,\n",
    "):\n",
    "    self.F_f_calculated = self.K_f @ self.u_f"
   ]
  },
  {
   "cell_type": "code",
   "execution_count": null,
   "metadata": {},
   "outputs": [],
   "source": [
    "System.calculate_force_vector()"
   ]
  },
  {
   "cell_type": "code",
   "execution_count": null,
   "metadata": {},
   "outputs": [
    {
     "data": {
      "text/plain": [
       "array([ 100000.        ,       0.        , -100000.        ,\n",
       "             0.        ,       0.        ,   65277.77777778,\n",
       "        -53703.7037037 ,       0.        ,       0.        ,\n",
       "        -46296.2962963 ,       0.        ,   34722.22222222])"
      ]
     },
     "execution_count": null,
     "metadata": {},
     "output_type": "execute_result"
    }
   ],
   "source": [
    "System.F_f_calculated"
   ]
  },
  {
   "cell_type": "markdown",
   "metadata": {},
   "source": [
    "If the user has defined a point load in the support, this force must be considered in the support forces. This is achieved with the function `correct_force_vector`."
   ]
  },
  {
   "cell_type": "code",
   "execution_count": null,
   "metadata": {},
   "outputs": [],
   "source": [
    "# | export\n",
    "@patch\n",
    "def correct_force_vector(\n",
    "    self: DirectStiffnessMethod,\n",
    "):\n",
    "    self.F_f_nodes = self.F_f.copy()\n",
    "    self.F_f_nodes[self.translationals] = 0\n",
    "\n",
    "    self.F_f_corrected = self.F_f_calculated - self.F_f_nodes"
   ]
  },
  {
   "cell_type": "code",
   "execution_count": null,
   "metadata": {},
   "outputs": [
    {
     "data": {
      "text/plain": [
       "array([ True, False,  True, False, False, False, False, False, False,\n",
       "       False, False, False])"
      ]
     },
     "execution_count": null,
     "metadata": {},
     "output_type": "execute_result"
    }
   ],
   "source": [
    "System.translationals"
   ]
  },
  {
   "cell_type": "code",
   "execution_count": null,
   "metadata": {},
   "outputs": [
    {
     "data": {
      "text/plain": [
       "array([False,  True, False,  True,  True,  True,  True,  True,  True,\n",
       "        True,  True,  True])"
      ]
     },
     "execution_count": null,
     "metadata": {},
     "output_type": "execute_result"
    }
   ],
   "source": [
    "~System.translationals"
   ]
  },
  {
   "cell_type": "code",
   "execution_count": null,
   "metadata": {},
   "outputs": [],
   "source": [
    "System.correct_force_vector()"
   ]
  },
  {
   "cell_type": "code",
   "execution_count": null,
   "metadata": {},
   "outputs": [
    {
     "data": {
      "text/plain": [
       "array([ 100000.,       0., -100000.,       0.,       0.,       0.,\n",
       "             0.,       0.,       0.,  150000.,       0.,   50000.])"
      ]
     },
     "execution_count": null,
     "metadata": {},
     "output_type": "execute_result"
    }
   ],
   "source": [
    "System.F_f"
   ]
  },
  {
   "cell_type": "code",
   "execution_count": null,
   "metadata": {},
   "outputs": [
    {
     "data": {
      "text/plain": [
       "array([     0.,      0.,      0.,      0.,      0.,      0.,      0.,\n",
       "            0.,      0., 150000.,      0.,  50000.])"
      ]
     },
     "execution_count": null,
     "metadata": {},
     "output_type": "execute_result"
    }
   ],
   "source": [
    "System.F_f_nodes"
   ]
  },
  {
   "cell_type": "code",
   "execution_count": null,
   "metadata": {},
   "outputs": [
    {
     "data": {
      "text/plain": [
       "array([ 100000.        ,       0.        , -100000.        ,\n",
       "             0.        ,       0.        ,   65277.77777778,\n",
       "        -53703.7037037 ,       0.        ,       0.        ,\n",
       "        -46296.2962963 ,       0.        ,   34722.22222222])"
      ]
     },
     "execution_count": null,
     "metadata": {},
     "output_type": "execute_result"
    }
   ],
   "source": [
    "System.F_f_calculated"
   ]
  },
  {
   "cell_type": "code",
   "execution_count": null,
   "metadata": {},
   "outputs": [
    {
     "data": {
      "text/plain": [
       "array([ 100000.        ,       0.        , -100000.        ,\n",
       "             0.        ,       0.        ,   65277.77777778,\n",
       "        -53703.7037037 ,       0.        ,       0.        ,\n",
       "       -196296.2962963 ,       0.        ,  -15277.77777778])"
      ]
     },
     "execution_count": null,
     "metadata": {},
     "output_type": "execute_result"
    }
   ],
   "source": [
    "System.F_f_corrected"
   ]
  },
  {
   "cell_type": "markdown",
   "metadata": {},
   "source": [
    "$$S_e = \\frac{E \\cdot A}{l^2} \\cdot \\begin{bmatrix} -l_x & -l_y & -l_z & l_x & l_y & l_z \\end{bmatrix} $$\n"
   ]
  },
  {
   "cell_type": "code",
   "execution_count": null,
   "metadata": {},
   "outputs": [],
   "source": [
    "# | export\n",
    "@patch\n",
    "def create_internal_force_matrice(\n",
    "    self: DirectStiffnessMethod, E, A, x_1, y_1, z_1, x_2, y_2, z_2\n",
    "):\n",
    "    l_x, l_y, l_z = self.calculate_differences(x_1, y_1, z_1, x_2, y_2, z_2)\n",
    "\n",
    "    l = self.calculate_distance(l_x, l_y, l_z)\n",
    "\n",
    "    S_e = (E * A / (l**2)) * np.array([[-l_x, -l_y, -l_z, l_x, l_y, l_z]])\n",
    "\n",
    "    return S_e"
   ]
  },
  {
   "cell_type": "code",
   "execution_count": null,
   "metadata": {},
   "outputs": [],
   "source": [
    "# | export\n",
    "@patch\n",
    "def create_internal_force_matrice_in_df(self: DirectStiffnessMethod, row):\n",
    "    E = row[\"Modulus_of_elasticity\"]\n",
    "    A = row[\"Cross-sectional_area\"]\n",
    "    x_1 = row[\"x_1\"]\n",
    "    y_1 = row[\"y_1\"]\n",
    "    z_1 = row[\"z_1\"]\n",
    "    x_2 = row[\"x_2\"]\n",
    "    y_2 = row[\"y_2\"]\n",
    "    z_2 = row[\"z_2\"]\n",
    "\n",
    "    S_e = self.create_internal_force_matrice(\n",
    "        E, A, x_1, y_1, z_1, x_2, y_2, z_2\n",
    "    )\n",
    "    return S_e"
   ]
  },
  {
   "cell_type": "code",
   "execution_count": null,
   "metadata": {},
   "outputs": [],
   "source": [
    "# | export\n",
    "@patch\n",
    "def create_internal_force_matrices(self: DirectStiffnessMethod):\n",
    "    self.bars_extended[\"Internal_force_matrice\"] = self.bars_extended.apply(\n",
    "        self.create_internal_force_matrice_in_df, axis=1\n",
    "    )"
   ]
  },
  {
   "cell_type": "code",
   "execution_count": null,
   "metadata": {},
   "outputs": [],
   "source": [
    "System.create_internal_force_matrices()"
   ]
  },
  {
   "cell_type": "code",
   "execution_count": null,
   "metadata": {},
   "outputs": [
    {
     "data": {
      "text/plain": [
       "0    [[-0.0, -0.0, 333.3333333333333, 0.0, 0.0, -33...\n",
       "1              [[250.0, -0.0, -0.0, -250.0, 0.0, 0.0]]\n",
       "2          [[160.0, -0.0, -120.0, -160.0, 0.0, 120.0]]\n",
       "Name: Internal_force_matrice, dtype: object"
      ]
     },
     "execution_count": null,
     "metadata": {},
     "output_type": "execute_result"
    }
   ],
   "source": [
    "System.bars_extended[\"Internal_force_matrice\"]"
   ]
  },
  {
   "cell_type": "code",
   "execution_count": null,
   "metadata": {},
   "outputs": [
    {
     "data": {
      "text/plain": [
       "array([ 214.81481481,    0.        , -195.83333333,    0.        ,\n",
       "          0.        ,    0.        ,    0.        ,    0.        ,\n",
       "          0.        ,    0.        ,    0.        ,    0.        ])"
      ]
     },
     "execution_count": null,
     "metadata": {},
     "output_type": "execute_result"
    }
   ],
   "source": [
    "System.u_f"
   ]
  },
  {
   "cell_type": "code",
   "execution_count": null,
   "metadata": {},
   "outputs": [
    {
     "data": {
      "text/html": [
       "<div>\n",
       "<style scoped>\n",
       "    .dataframe tbody tr th:only-of-type {\n",
       "        vertical-align: middle;\n",
       "    }\n",
       "\n",
       "    .dataframe tbody tr th {\n",
       "        vertical-align: top;\n",
       "    }\n",
       "\n",
       "    .dataframe thead th {\n",
       "        text-align: right;\n",
       "    }\n",
       "</style>\n",
       "<table border=\"1\" class=\"dataframe\">\n",
       "  <thead>\n",
       "    <tr style=\"text-align: right;\">\n",
       "      <th></th>\n",
       "      <th>Bar</th>\n",
       "      <th>Start_node</th>\n",
       "      <th>End_node</th>\n",
       "      <th>Cross-sectional_area</th>\n",
       "      <th>Modulus_of_elasticity</th>\n",
       "      <th>x_1</th>\n",
       "      <th>y_1</th>\n",
       "      <th>z_1</th>\n",
       "      <th>Degrees_of_freedom_1</th>\n",
       "      <th>x_2</th>\n",
       "      <th>y_2</th>\n",
       "      <th>z_2</th>\n",
       "      <th>Degrees_of_freedom_2</th>\n",
       "      <th>Internal_force_matrice</th>\n",
       "    </tr>\n",
       "  </thead>\n",
       "  <tbody>\n",
       "    <tr>\n",
       "      <th>0</th>\n",
       "      <td>1</td>\n",
       "      <td>2</td>\n",
       "      <td>1</td>\n",
       "      <td>1000.0</td>\n",
       "      <td>1000.0</td>\n",
       "      <td>0.0</td>\n",
       "      <td>0.0</td>\n",
       "      <td>3000.0</td>\n",
       "      <td>[0, 1, 2]</td>\n",
       "      <td>0.0</td>\n",
       "      <td>0.0</td>\n",
       "      <td>0.0</td>\n",
       "      <td>[3, 4, 5]</td>\n",
       "      <td>[[-0.0, -0.0, 333.3333333333333, 0.0, 0.0, -33...</td>\n",
       "    </tr>\n",
       "    <tr>\n",
       "      <th>1</th>\n",
       "      <td>2</td>\n",
       "      <td>2</td>\n",
       "      <td>3</td>\n",
       "      <td>1000.0</td>\n",
       "      <td>1000.0</td>\n",
       "      <td>0.0</td>\n",
       "      <td>0.0</td>\n",
       "      <td>3000.0</td>\n",
       "      <td>[0, 1, 2]</td>\n",
       "      <td>-4000.0</td>\n",
       "      <td>0.0</td>\n",
       "      <td>3000.0</td>\n",
       "      <td>[6, 7, 8]</td>\n",
       "      <td>[[250.0, -0.0, -0.0, -250.0, 0.0, 0.0]]</td>\n",
       "    </tr>\n",
       "    <tr>\n",
       "      <th>2</th>\n",
       "      <td>3</td>\n",
       "      <td>2</td>\n",
       "      <td>4</td>\n",
       "      <td>1000.0</td>\n",
       "      <td>1000.0</td>\n",
       "      <td>0.0</td>\n",
       "      <td>0.0</td>\n",
       "      <td>3000.0</td>\n",
       "      <td>[0, 1, 2]</td>\n",
       "      <td>-4000.0</td>\n",
       "      <td>0.0</td>\n",
       "      <td>6000.0</td>\n",
       "      <td>[9, 10, 11]</td>\n",
       "      <td>[[160.0, -0.0, -120.0, -160.0, 0.0, 120.0]]</td>\n",
       "    </tr>\n",
       "  </tbody>\n",
       "</table>\n",
       "</div>"
      ],
      "text/plain": [
       "   Bar  Start_node  End_node  Cross-sectional_area  Modulus_of_elasticity  x_1  y_1  \\\n",
       "0    1           2         1        1000.0                 1000.0  0.0  0.0   \n",
       "1    2           2         3        1000.0                 1000.0  0.0  0.0   \n",
       "2    3           2         4        1000.0                 1000.0  0.0  0.0   \n",
       "\n",
       "      z_1 Degrees_of_freedom_1     x_2  y_2     z_2 Degrees_of_freedom_2  \\\n",
       "0  3000.0            [0, 1, 2]     0.0  0.0     0.0            [3, 4, 5]   \n",
       "1  3000.0            [0, 1, 2] -4000.0  0.0  3000.0            [6, 7, 8]   \n",
       "2  3000.0            [0, 1, 2] -4000.0  0.0  6000.0          [9, 10, 11]   \n",
       "\n",
       "                              Internal_force_matrice  \n",
       "0  [[-0.0, -0.0, 333.3333333333333, 0.0, 0.0, -33...  \n",
       "1            [[250.0, -0.0, -0.0, -250.0, 0.0, 0.0]]  \n",
       "2        [[160.0, -0.0, -120.0, -160.0, 0.0, 120.0]]  "
      ]
     },
     "execution_count": null,
     "metadata": {},
     "output_type": "execute_result"
    }
   ],
   "source": [
    "System.bars_extended"
   ]
  },
  {
   "cell_type": "markdown",
   "metadata": {},
   "source": [
    "$$N = S_e \\cdot u_e $$"
   ]
  },
  {
   "cell_type": "code",
   "execution_count": null,
   "metadata": {},
   "outputs": [],
   "source": [
    "# | export\n",
    "@patch\n",
    "def calculate_normal_force_in_df(self: DirectStiffnessMethod, row):\n",
    "    degrees_of_freedom = np.concatenate(\n",
    "        (row[\"Degrees_of_freedom_1\"], row[\"Degrees_of_freedom_2\"])\n",
    "    )\n",
    "    N = row[\"Internal_force_matrice\"] @ self.u_f[degrees_of_freedom]\n",
    "    return N[0]"
   ]
  },
  {
   "cell_type": "code",
   "execution_count": null,
   "metadata": {},
   "outputs": [],
   "source": [
    "# | export\n",
    "@patch\n",
    "def calculate_normal_force(self: DirectStiffnessMethod):\n",
    "    self.bars_extended[\"Normal_force\"] = self.bars_extended.apply(\n",
    "        self.calculate_normal_force_in_df, axis=1\n",
    "    )"
   ]
  },
  {
   "cell_type": "code",
   "execution_count": null,
   "metadata": {},
   "outputs": [],
   "source": [
    "System.calculate_normal_force()"
   ]
  },
  {
   "cell_type": "code",
   "execution_count": null,
   "metadata": {},
   "outputs": [
    {
     "data": {
      "text/html": [
       "<div>\n",
       "<style scoped>\n",
       "    .dataframe tbody tr th:only-of-type {\n",
       "        vertical-align: middle;\n",
       "    }\n",
       "\n",
       "    .dataframe tbody tr th {\n",
       "        vertical-align: top;\n",
       "    }\n",
       "\n",
       "    .dataframe thead th {\n",
       "        text-align: right;\n",
       "    }\n",
       "</style>\n",
       "<table border=\"1\" class=\"dataframe\">\n",
       "  <thead>\n",
       "    <tr style=\"text-align: right;\">\n",
       "      <th></th>\n",
       "      <th>Bar</th>\n",
       "      <th>Start_node</th>\n",
       "      <th>End_node</th>\n",
       "      <th>Cross-sectional_area</th>\n",
       "      <th>Modulus_of_elasticity</th>\n",
       "      <th>x_1</th>\n",
       "      <th>y_1</th>\n",
       "      <th>z_1</th>\n",
       "      <th>Degrees_of_freedom_1</th>\n",
       "      <th>x_2</th>\n",
       "      <th>y_2</th>\n",
       "      <th>z_2</th>\n",
       "      <th>Degrees_of_freedom_2</th>\n",
       "      <th>Internal_force_matrice</th>\n",
       "      <th>Normal_force</th>\n",
       "    </tr>\n",
       "  </thead>\n",
       "  <tbody>\n",
       "    <tr>\n",
       "      <th>0</th>\n",
       "      <td>1</td>\n",
       "      <td>2</td>\n",
       "      <td>1</td>\n",
       "      <td>1000.0</td>\n",
       "      <td>1000.0</td>\n",
       "      <td>0.0</td>\n",
       "      <td>0.0</td>\n",
       "      <td>3000.0</td>\n",
       "      <td>[0, 1, 2]</td>\n",
       "      <td>0.0</td>\n",
       "      <td>0.0</td>\n",
       "      <td>0.0</td>\n",
       "      <td>[3, 4, 5]</td>\n",
       "      <td>[[-0.0, -0.0, 333.3333333333333, 0.0, 0.0, -33...</td>\n",
       "      <td>-65277.777778</td>\n",
       "    </tr>\n",
       "    <tr>\n",
       "      <th>1</th>\n",
       "      <td>2</td>\n",
       "      <td>2</td>\n",
       "      <td>3</td>\n",
       "      <td>1000.0</td>\n",
       "      <td>1000.0</td>\n",
       "      <td>0.0</td>\n",
       "      <td>0.0</td>\n",
       "      <td>3000.0</td>\n",
       "      <td>[0, 1, 2]</td>\n",
       "      <td>-4000.0</td>\n",
       "      <td>0.0</td>\n",
       "      <td>3000.0</td>\n",
       "      <td>[6, 7, 8]</td>\n",
       "      <td>[[250.0, -0.0, -0.0, -250.0, 0.0, 0.0]]</td>\n",
       "      <td>53703.703704</td>\n",
       "    </tr>\n",
       "    <tr>\n",
       "      <th>2</th>\n",
       "      <td>3</td>\n",
       "      <td>2</td>\n",
       "      <td>4</td>\n",
       "      <td>1000.0</td>\n",
       "      <td>1000.0</td>\n",
       "      <td>0.0</td>\n",
       "      <td>0.0</td>\n",
       "      <td>3000.0</td>\n",
       "      <td>[0, 1, 2]</td>\n",
       "      <td>-4000.0</td>\n",
       "      <td>0.0</td>\n",
       "      <td>6000.0</td>\n",
       "      <td>[9, 10, 11]</td>\n",
       "      <td>[[160.0, -0.0, -120.0, -160.0, 0.0, 120.0]]</td>\n",
       "      <td>57870.370370</td>\n",
       "    </tr>\n",
       "  </tbody>\n",
       "</table>\n",
       "</div>"
      ],
      "text/plain": [
       "   Bar  Start_node  End_node  Cross-sectional_area  Modulus_of_elasticity  x_1  y_1  \\\n",
       "0    1           2         1        1000.0                 1000.0  0.0  0.0   \n",
       "1    2           2         3        1000.0                 1000.0  0.0  0.0   \n",
       "2    3           2         4        1000.0                 1000.0  0.0  0.0   \n",
       "\n",
       "      z_1 Degrees_of_freedom_1     x_2  y_2     z_2 Degrees_of_freedom_2  \\\n",
       "0  3000.0            [0, 1, 2]     0.0  0.0     0.0            [3, 4, 5]   \n",
       "1  3000.0            [0, 1, 2] -4000.0  0.0  3000.0            [6, 7, 8]   \n",
       "2  3000.0            [0, 1, 2] -4000.0  0.0  6000.0          [9, 10, 11]   \n",
       "\n",
       "                              Internal_force_matrice  Normal_force  \n",
       "0  [[-0.0, -0.0, 333.3333333333333, 0.0, 0.0, -33... -65277.777778  \n",
       "1            [[250.0, -0.0, -0.0, -250.0, 0.0, 0.0]]  53703.703704  \n",
       "2        [[160.0, -0.0, -120.0, -160.0, 0.0, 120.0]]  57870.370370  "
      ]
     },
     "execution_count": null,
     "metadata": {},
     "output_type": "execute_result"
    }
   ],
   "source": [
    "System.bars_extended"
   ]
  },
  {
   "cell_type": "code",
   "execution_count": null,
   "metadata": {},
   "outputs": [
    {
     "data": {
      "text/plain": [
       "0   -65277.777778\n",
       "1    53703.703704\n",
       "2    57870.370370\n",
       "Name: Normal_force, dtype: float64"
      ]
     },
     "execution_count": null,
     "metadata": {},
     "output_type": "execute_result"
    }
   ],
   "source": [
    "System.bars_extended[\"Normal_force\"]"
   ]
  },
  {
   "cell_type": "code",
   "execution_count": null,
   "metadata": {},
   "outputs": [
    {
     "data": {
      "text/plain": [
       "array([ 0,  1,  2,  3,  4,  5,  6,  7,  8,  9, 10, 11])"
      ]
     },
     "execution_count": null,
     "metadata": {},
     "output_type": "execute_result"
    }
   ],
   "source": [
    "System.degrees_of_freedom"
   ]
  },
  {
   "cell_type": "code",
   "execution_count": null,
   "metadata": {},
   "outputs": [
    {
     "data": {
      "text/plain": [
       "array([ True, False,  True, False, False, False, False, False, False,\n",
       "       False, False, False])"
      ]
     },
     "execution_count": null,
     "metadata": {},
     "output_type": "execute_result"
    }
   ],
   "source": [
    "System.translationals"
   ]
  },
  {
   "cell_type": "code",
   "execution_count": null,
   "metadata": {},
   "outputs": [
    {
     "data": {
      "text/plain": [
       "array([ 214.81481481,    0.        , -195.83333333,    0.        ,\n",
       "          0.        ,    0.        ,    0.        ,    0.        ,\n",
       "          0.        ,    0.        ,    0.        ,    0.        ])"
      ]
     },
     "execution_count": null,
     "metadata": {},
     "output_type": "execute_result"
    }
   ],
   "source": [
    "System.u_f"
   ]
  },
  {
   "cell_type": "code",
   "execution_count": null,
   "metadata": {},
   "outputs": [
    {
     "data": {
      "text/plain": [
       "array([0, 2])"
      ]
     },
     "execution_count": null,
     "metadata": {},
     "output_type": "execute_result"
    }
   ],
   "source": [
    "System.degrees_of_freedom[System.translationals]"
   ]
  },
  {
   "cell_type": "code",
   "execution_count": null,
   "metadata": {},
   "outputs": [
    {
     "data": {
      "text/plain": [
       "array([ 214.81481481, -195.83333333])"
      ]
     },
     "execution_count": null,
     "metadata": {},
     "output_type": "execute_result"
    }
   ],
   "source": [
    "System.u_f[System.translationals]"
   ]
  },
  {
   "cell_type": "code",
   "execution_count": null,
   "metadata": {},
   "outputs": [
    {
     "data": {
      "text/plain": [
       "array([-195.83333333,    0.        ,    0.        ,    0.        ])"
      ]
     },
     "execution_count": null,
     "metadata": {},
     "output_type": "execute_result"
    }
   ],
   "source": [
    "System.u_f[2::3]"
   ]
  },
  {
   "cell_type": "code",
   "execution_count": null,
   "metadata": {},
   "outputs": [
    {
     "data": {
      "text/html": [
       "<div>\n",
       "<style scoped>\n",
       "    .dataframe tbody tr th:only-of-type {\n",
       "        vertical-align: middle;\n",
       "    }\n",
       "\n",
       "    .dataframe tbody tr th {\n",
       "        vertical-align: top;\n",
       "    }\n",
       "\n",
       "    .dataframe thead th {\n",
       "        text-align: right;\n",
       "    }\n",
       "</style>\n",
       "<table border=\"1\" class=\"dataframe\">\n",
       "  <thead>\n",
       "    <tr style=\"text-align: right;\">\n",
       "      <th></th>\n",
       "      <th>Node</th>\n",
       "      <th>Coordinate_X</th>\n",
       "      <th>Coordinate_Y</th>\n",
       "      <th>Coordinate_Z</th>\n",
       "      <th>Translational_X</th>\n",
       "      <th>Translational_Y</th>\n",
       "      <th>Translational_Z</th>\n",
       "      <th>Degrees_of_freedom</th>\n",
       "    </tr>\n",
       "  </thead>\n",
       "  <tbody>\n",
       "    <tr>\n",
       "      <th>0</th>\n",
       "      <td>2</td>\n",
       "      <td>0.0</td>\n",
       "      <td>0.0</td>\n",
       "      <td>3000.0</td>\n",
       "      <td>False</td>\n",
       "      <td>True</td>\n",
       "      <td>False</td>\n",
       "      <td>[0, 1, 2]</td>\n",
       "    </tr>\n",
       "    <tr>\n",
       "      <th>1</th>\n",
       "      <td>1</td>\n",
       "      <td>0.0</td>\n",
       "      <td>0.0</td>\n",
       "      <td>0.0</td>\n",
       "      <td>True</td>\n",
       "      <td>True</td>\n",
       "      <td>True</td>\n",
       "      <td>[3, 4, 5]</td>\n",
       "    </tr>\n",
       "    <tr>\n",
       "      <th>2</th>\n",
       "      <td>3</td>\n",
       "      <td>-4000.0</td>\n",
       "      <td>0.0</td>\n",
       "      <td>3000.0</td>\n",
       "      <td>True</td>\n",
       "      <td>True</td>\n",
       "      <td>True</td>\n",
       "      <td>[6, 7, 8]</td>\n",
       "    </tr>\n",
       "    <tr>\n",
       "      <th>3</th>\n",
       "      <td>4</td>\n",
       "      <td>-4000.0</td>\n",
       "      <td>0.0</td>\n",
       "      <td>6000.0</td>\n",
       "      <td>True</td>\n",
       "      <td>True</td>\n",
       "      <td>True</td>\n",
       "      <td>[9, 10, 11]</td>\n",
       "    </tr>\n",
       "  </tbody>\n",
       "</table>\n",
       "</div>"
      ],
      "text/plain": [
       "   Node  Coordinate_X  Coordinate_Y  Coordinate_Z  Translational_X  \\\n",
       "0     2           0.0           0.0        3000.0            False   \n",
       "1     1           0.0           0.0           0.0             True   \n",
       "2     3       -4000.0           0.0        3000.0             True   \n",
       "3     4       -4000.0           0.0        6000.0             True   \n",
       "\n",
       "   Translational_Y  Translational_Z Degrees_of_freedom  \n",
       "0             True            False          [0, 1, 2]  \n",
       "1             True             True          [3, 4, 5]  \n",
       "2             True             True          [6, 7, 8]  \n",
       "3             True             True        [9, 10, 11]  "
      ]
     },
     "execution_count": null,
     "metadata": {},
     "output_type": "execute_result"
    }
   ],
   "source": [
    "System.nodes"
   ]
  },
  {
   "cell_type": "code",
   "execution_count": null,
   "metadata": {},
   "outputs": [],
   "source": [
    "# | export\n",
    "@patch\n",
    "def create_displacment_df(self: DirectStiffnessMethod):\n",
    "    self.dimensions_names = [\"X\", \"Y\", \"Z\"]\n",
    "    for index, name in enumerate(self.dimensions_names):\n",
    "        self.nodes[f\"Displacement_{name}\"] = self.u_f[\n",
    "            index :: self.dimensions\n",
    "        ]\n",
    "\n",
    "    self.translational_names = [\n",
    "        \"Translational_X\",\n",
    "        \"Translational_X\",\n",
    "        \"Translational_X\",\n",
    "    ]\n",
    "    self.displacment_df = self.nodes[\n",
    "        ~(self.nodes[self.translational_names].all(axis=1))\n",
    "    ]\n",
    "\n",
    "    self.displacment_df = self.displacment_df[\n",
    "        [\"Node\", \"Displacement_X\", \"Displacement_Y\", \"Displacement_Z\"]\n",
    "    ]"
   ]
  },
  {
   "cell_type": "code",
   "execution_count": null,
   "metadata": {},
   "outputs": [],
   "source": [
    "System.create_displacment_df()"
   ]
  },
  {
   "cell_type": "code",
   "execution_count": null,
   "metadata": {},
   "outputs": [
    {
     "data": {
      "text/html": [
       "<style type=\"text/css\">\n",
       "</style>\n",
       "<table id=\"T_8f9cb\">\n",
       "  <thead>\n",
       "    <tr>\n",
       "      <th id=\"T_8f9cb_level0_col0\" class=\"col_heading level0 col0\" >Node</th>\n",
       "      <th id=\"T_8f9cb_level0_col1\" class=\"col_heading level0 col1\" >Displacement_X</th>\n",
       "      <th id=\"T_8f9cb_level0_col2\" class=\"col_heading level0 col2\" >Displacement_Y</th>\n",
       "      <th id=\"T_8f9cb_level0_col3\" class=\"col_heading level0 col3\" >Displacement_Z</th>\n",
       "    </tr>\n",
       "  </thead>\n",
       "  <tbody>\n",
       "    <tr>\n",
       "      <td id=\"T_8f9cb_row0_col0\" class=\"data row0 col0\" >2</td>\n",
       "      <td id=\"T_8f9cb_row0_col1\" class=\"data row0 col1\" >214.814815</td>\n",
       "      <td id=\"T_8f9cb_row0_col2\" class=\"data row0 col2\" >0.000000</td>\n",
       "      <td id=\"T_8f9cb_row0_col3\" class=\"data row0 col3\" >-195.833333</td>\n",
       "    </tr>\n",
       "  </tbody>\n",
       "</table>\n"
      ],
      "text/plain": [
       "<pandas.io.formats.style.Styler>"
      ]
     },
     "execution_count": null,
     "metadata": {},
     "output_type": "execute_result"
    }
   ],
   "source": [
    "System.displacment_df.style.hide(axis=\"index\")"
   ]
  },
  {
   "cell_type": "code",
   "execution_count": null,
   "metadata": {},
   "outputs": [
    {
     "data": {
      "text/plain": [
       "array([ 100000.        ,       0.        , -100000.        ,\n",
       "             0.        ,       0.        ,   65277.77777778,\n",
       "        -53703.7037037 ,       0.        ,       0.        ,\n",
       "       -196296.2962963 ,       0.        ,  -15277.77777778])"
      ]
     },
     "execution_count": null,
     "metadata": {},
     "output_type": "execute_result"
    }
   ],
   "source": [
    "System.F_f_corrected"
   ]
  },
  {
   "cell_type": "code",
   "execution_count": null,
   "metadata": {},
   "outputs": [],
   "source": [
    "# | export\n",
    "@patch\n",
    "def create_force_df(self: DirectStiffnessMethod):\n",
    "    for index, name in enumerate(self.dimensions_names):\n",
    "        self.nodes[f\"Force_{name}\"] = self.F_f_corrected[\n",
    "            index :: self.dimensions\n",
    "        ]\n",
    "\n",
    "    self.force_df = self.nodes[\n",
    "        (self.nodes[self.translational_names].all(axis=1))\n",
    "    ]\n",
    "\n",
    "    self.force_df = self.force_df[[\"Node\", \"Force_X\", \"Force_Y\", \"Force_Z\"]]"
   ]
  },
  {
   "cell_type": "code",
   "execution_count": null,
   "metadata": {},
   "outputs": [],
   "source": [
    "System.create_force_df()"
   ]
  },
  {
   "cell_type": "code",
   "execution_count": null,
   "metadata": {},
   "outputs": [
    {
     "data": {
      "text/html": [
       "<style type=\"text/css\">\n",
       "</style>\n",
       "<table id=\"T_7b357\">\n",
       "  <thead>\n",
       "    <tr>\n",
       "      <th id=\"T_7b357_level0_col0\" class=\"col_heading level0 col0\" >Node</th>\n",
       "      <th id=\"T_7b357_level0_col1\" class=\"col_heading level0 col1\" >Force_X</th>\n",
       "      <th id=\"T_7b357_level0_col2\" class=\"col_heading level0 col2\" >Force_Y</th>\n",
       "      <th id=\"T_7b357_level0_col3\" class=\"col_heading level0 col3\" >Force_Z</th>\n",
       "    </tr>\n",
       "  </thead>\n",
       "  <tbody>\n",
       "    <tr>\n",
       "      <td id=\"T_7b357_row0_col0\" class=\"data row0 col0\" >1</td>\n",
       "      <td id=\"T_7b357_row0_col1\" class=\"data row0 col1\" >0.000000</td>\n",
       "      <td id=\"T_7b357_row0_col2\" class=\"data row0 col2\" >0.000000</td>\n",
       "      <td id=\"T_7b357_row0_col3\" class=\"data row0 col3\" >65277.777778</td>\n",
       "    </tr>\n",
       "    <tr>\n",
       "      <td id=\"T_7b357_row1_col0\" class=\"data row1 col0\" >3</td>\n",
       "      <td id=\"T_7b357_row1_col1\" class=\"data row1 col1\" >-53703.703704</td>\n",
       "      <td id=\"T_7b357_row1_col2\" class=\"data row1 col2\" >0.000000</td>\n",
       "      <td id=\"T_7b357_row1_col3\" class=\"data row1 col3\" >0.000000</td>\n",
       "    </tr>\n",
       "    <tr>\n",
       "      <td id=\"T_7b357_row2_col0\" class=\"data row2 col0\" >4</td>\n",
       "      <td id=\"T_7b357_row2_col1\" class=\"data row2 col1\" >-196296.296296</td>\n",
       "      <td id=\"T_7b357_row2_col2\" class=\"data row2 col2\" >0.000000</td>\n",
       "      <td id=\"T_7b357_row2_col3\" class=\"data row2 col3\" >-15277.777778</td>\n",
       "    </tr>\n",
       "  </tbody>\n",
       "</table>\n"
      ],
      "text/plain": [
       "<pandas.io.formats.style.Styler>"
      ]
     },
     "execution_count": null,
     "metadata": {},
     "output_type": "execute_result"
    }
   ],
   "source": [
    "System.force_df.style.hide(axis=\"index\")"
   ]
  },
  {
   "cell_type": "code",
   "execution_count": null,
   "metadata": {},
   "outputs": [],
   "source": [
    "# | export\n",
    "@patch\n",
    "def create_normal_force_df(self: DirectStiffnessMethod):\n",
    "    self.normal_force_df = self.bars_extended[\n",
    "        [\"Bar\", \"Normal_force\"]\n",
    "    ].copy()\n",
    "    self.normal_force_df[\"Type_of_normal_force\"] = self.normal_force_df[\n",
    "        \"Normal_force\"\n",
    "    ].apply(\n",
    "        lambda x: (\n",
    "            \"Tensile force\"\n",
    "            if x > 0\n",
    "            else (\"Compressive force\" if x < 0 else \"Zero-force\")\n",
    "        )\n",
    "    )"
   ]
  },
  {
   "cell_type": "code",
   "execution_count": null,
   "metadata": {},
   "outputs": [],
   "source": [
    "System.create_normal_force_df()"
   ]
  },
  {
   "cell_type": "code",
   "execution_count": null,
   "metadata": {},
   "outputs": [
    {
     "data": {
      "text/html": [
       "<style type=\"text/css\">\n",
       "</style>\n",
       "<table id=\"T_81883\">\n",
       "  <thead>\n",
       "    <tr>\n",
       "      <th id=\"T_81883_level0_col0\" class=\"col_heading level0 col0\" >Bar</th>\n",
       "      <th id=\"T_81883_level0_col1\" class=\"col_heading level0 col1\" >Normal_force</th>\n",
       "      <th id=\"T_81883_level0_col2\" class=\"col_heading level0 col2\" >Type_of_normal_force</th>\n",
       "    </tr>\n",
       "  </thead>\n",
       "  <tbody>\n",
       "    <tr>\n",
       "      <td id=\"T_81883_row0_col0\" class=\"data row0 col0\" >1</td>\n",
       "      <td id=\"T_81883_row0_col1\" class=\"data row0 col1\" >-65277.777778</td>\n",
       "      <td id=\"T_81883_row0_col2\" class=\"data row0 col2\" >Compressive force</td>\n",
       "    </tr>\n",
       "    <tr>\n",
       "      <td id=\"T_81883_row1_col0\" class=\"data row1 col0\" >2</td>\n",
       "      <td id=\"T_81883_row1_col1\" class=\"data row1 col1\" >53703.703704</td>\n",
       "      <td id=\"T_81883_row1_col2\" class=\"data row1 col2\" >Tensile force</td>\n",
       "    </tr>\n",
       "    <tr>\n",
       "      <td id=\"T_81883_row2_col0\" class=\"data row2 col0\" >3</td>\n",
       "      <td id=\"T_81883_row2_col1\" class=\"data row2 col1\" >57870.370370</td>\n",
       "      <td id=\"T_81883_row2_col2\" class=\"data row2 col2\" >Tensile force</td>\n",
       "    </tr>\n",
       "  </tbody>\n",
       "</table>\n"
      ],
      "text/plain": [
       "<pandas.io.formats.style.Styler>"
      ]
     },
     "execution_count": null,
     "metadata": {},
     "output_type": "execute_result"
    }
   ],
   "source": [
    "System.normal_force_df.style.hide(axis=\"index\")"
   ]
  },
  {
   "cell_type": "code",
   "execution_count": null,
   "metadata": {},
   "outputs": [],
   "source": [
    "# | hide\n",
    "nbdev.nbdev_export()"
   ]
  },
  {
   "cell_type": "code",
   "execution_count": null,
   "metadata": {},
   "outputs": [],
   "source": []
  }
 ],
 "metadata": {
  "kernelspec": {
   "display_name": "python3",
   "language": "python",
   "name": "python3"
  }
 },
 "nbformat": 4,
 "nbformat_minor": 4
}
