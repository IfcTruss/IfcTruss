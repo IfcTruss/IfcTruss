{
 "cells": [
  {
   "cell_type": "markdown",
   "id": "051e31f9-53da-4ddb-9622-b28c88c38cfe",
   "metadata": {},
   "source": [
    "# Save Result in IFC\n",
    "\n",
    "> Save the results you get as DataFrame in IFC"
   ]
  },
  {
   "cell_type": "code",
   "execution_count": null,
   "id": "1f070577-9629-4c0f-ae32-333033eb7543",
   "metadata": {},
   "outputs": [],
   "source": [
    "# | default_exp _save_result"
   ]
  },
  {
   "cell_type": "code",
   "execution_count": null,
   "id": "487d3786-1ea7-4690-924b-de8dc956b2c0",
   "metadata": {},
   "outputs": [],
   "source": [
    "# | export\n",
    "\n",
    "# Copyright © 2023-2024  IfcTruss Contributors\n",
    "#\n",
    "# This program is free software: you can redistribute it and/or modify\n",
    "# it under the terms of the GNU Lesser General Public License as published by\n",
    "# the Free Software Foundation, either version 3 of the License, or\n",
    "# (at your option) any later version.\n",
    "#\n",
    "# This program is distributed in the hope that it will be useful,\n",
    "# but WITHOUT ANY WARRANTY; without even the implied warranty of\n",
    "# MERCHANTABILITY or FITNESS FOR A PARTICULAR PURPOSE.  See the\n",
    "# GNU Lesser General Public License for more details.\n",
    "#\n",
    "# You should have received a copy of the GNU Lesser General Public License\n",
    "# along with this program.  If not, see <https://www.gnu.org/licenses/>."
   ]
  },
  {
   "cell_type": "code",
   "execution_count": null,
   "id": "3218856a-5aa1-46b5-8d4d-7d38c0a9171b",
   "metadata": {},
   "outputs": [],
   "source": [
    "# | hide\n",
    "import nbdev\n",
    "import nbdev.showdoc"
   ]
  },
  {
   "cell_type": "code",
   "execution_count": null,
   "id": "29da2390-7b2d-463a-8f94-e2a65df23852",
   "metadata": {},
   "outputs": [],
   "source": [
    "# | export\n",
    "from fastcore.basics import patch\n",
    "import ifcopenshell\n",
    "import numpy as np\n",
    "import pandas as pd"
   ]
  },
  {
   "cell_type": "code",
   "execution_count": null,
   "id": "8d04bf4d-1e2c-4dcc-a6ba-f5e406b46711",
   "metadata": {},
   "outputs": [],
   "source": [
    "import ifctruss._example\n",
    "import ifctruss.ifctruss"
   ]
  },
  {
   "cell_type": "code",
   "execution_count": null,
   "id": "0065f3e8-3f8c-45d1-bed9-94d6d3134f87",
   "metadata": {},
   "outputs": [],
   "source": [
    "dfs = {\n",
    "    \"nodes\": ifctruss._example.nodes,\n",
    "    \"bars\": ifctruss._example.bars,\n",
    "    \"point_loads\": ifctruss._example.point_loads,\n",
    "}"
   ]
  },
  {
   "cell_type": "code",
   "execution_count": null,
   "id": "ca0a9667-c102-4a66-8a51-dcb7b28ce13d",
   "metadata": {},
   "outputs": [],
   "source": [
    "model = ifctruss.ifctruss.build(**dfs)"
   ]
  },
  {
   "cell_type": "code",
   "execution_count": null,
   "id": "20aee1d4-6dd8-40b8-a338-6e789aedbb23",
   "metadata": {},
   "outputs": [],
   "source": [
    "dfs = ifctruss.ifctruss.view(model)._asdict()"
   ]
  },
  {
   "cell_type": "code",
   "execution_count": null,
   "id": "0484b655-b7f1-4bb4-8ab0-1f1f1c5043bd",
   "metadata": {},
   "outputs": [],
   "source": [
    "results = ifctruss.solver.direct_stiffness_method(**dfs)._asdict()"
   ]
  },
  {
   "cell_type": "code",
   "execution_count": null,
   "id": "8607f0ce-6476-41f2-8f8a-c878ddc874bd",
   "metadata": {},
   "outputs": [
    {
     "data": {
      "text/html": [
       "<div>\n",
       "<style scoped>\n",
       "    .dataframe tbody tr th:only-of-type {\n",
       "        vertical-align: middle;\n",
       "    }\n",
       "\n",
       "    .dataframe tbody tr th {\n",
       "        vertical-align: top;\n",
       "    }\n",
       "\n",
       "    .dataframe thead th {\n",
       "        text-align: right;\n",
       "    }\n",
       "</style>\n",
       "<table border=\"1\" class=\"dataframe\">\n",
       "  <thead>\n",
       "    <tr style=\"text-align: right;\">\n",
       "      <th></th>\n",
       "      <th>Node</th>\n",
       "      <th>Displacement_X</th>\n",
       "      <th>Displacement_Y</th>\n",
       "      <th>Displacement_Z</th>\n",
       "    </tr>\n",
       "  </thead>\n",
       "  <tbody>\n",
       "    <tr>\n",
       "      <th>0</th>\n",
       "      <td>0CV4cH5iP6SwCseG64$pib</td>\n",
       "      <td>214.814815</td>\n",
       "      <td>0.0</td>\n",
       "      <td>-195.833333</td>\n",
       "    </tr>\n",
       "  </tbody>\n",
       "</table>\n",
       "</div>"
      ],
      "text/plain": [
       "                     Node  Displacement_X  Displacement_Y  Displacement_Z\n",
       "0  0CV4cH5iP6SwCseG64$pib      214.814815             0.0     -195.833333"
      ]
     },
     "execution_count": null,
     "metadata": {},
     "output_type": "execute_result"
    }
   ],
   "source": [
    "results[\"displacments\"]"
   ]
  },
  {
   "cell_type": "code",
   "execution_count": null,
   "id": "fbdf6e9f-2c96-4725-a622-f9e453fde978",
   "metadata": {},
   "outputs": [
    {
     "data": {
      "text/html": [
       "<div>\n",
       "<style scoped>\n",
       "    .dataframe tbody tr th:only-of-type {\n",
       "        vertical-align: middle;\n",
       "    }\n",
       "\n",
       "    .dataframe tbody tr th {\n",
       "        vertical-align: top;\n",
       "    }\n",
       "\n",
       "    .dataframe thead th {\n",
       "        text-align: right;\n",
       "    }\n",
       "</style>\n",
       "<table border=\"1\" class=\"dataframe\">\n",
       "  <thead>\n",
       "    <tr style=\"text-align: right;\">\n",
       "      <th></th>\n",
       "      <th>Node</th>\n",
       "      <th>Force_X</th>\n",
       "      <th>Force_Y</th>\n",
       "      <th>Force_Z</th>\n",
       "    </tr>\n",
       "  </thead>\n",
       "  <tbody>\n",
       "    <tr>\n",
       "      <th>1</th>\n",
       "      <td>3J7tRX7yb17wDVifRR_qgU</td>\n",
       "      <td>0.000000</td>\n",
       "      <td>0.0</td>\n",
       "      <td>65277.777778</td>\n",
       "    </tr>\n",
       "    <tr>\n",
       "      <th>2</th>\n",
       "      <td>34w8f6zkPApPZfWTKgvbUK</td>\n",
       "      <td>-53703.703704</td>\n",
       "      <td>0.0</td>\n",
       "      <td>0.000000</td>\n",
       "    </tr>\n",
       "    <tr>\n",
       "      <th>3</th>\n",
       "      <td>306azRYJT07wE6fH29mNtN</td>\n",
       "      <td>-46296.296296</td>\n",
       "      <td>0.0</td>\n",
       "      <td>34722.222222</td>\n",
       "    </tr>\n",
       "  </tbody>\n",
       "</table>\n",
       "</div>"
      ],
      "text/plain": [
       "                     Node       Force_X  Force_Y       Force_Z\n",
       "1  3J7tRX7yb17wDVifRR_qgU      0.000000      0.0  65277.777778\n",
       "2  34w8f6zkPApPZfWTKgvbUK -53703.703704      0.0      0.000000\n",
       "3  306azRYJT07wE6fH29mNtN -46296.296296      0.0  34722.222222"
      ]
     },
     "execution_count": null,
     "metadata": {},
     "output_type": "execute_result"
    }
   ],
   "source": [
    "results[\"forces\"]"
   ]
  },
  {
   "cell_type": "code",
   "execution_count": null,
   "id": "3612c8c9-166f-409c-8dbe-5214b40f433b",
   "metadata": {},
   "outputs": [
    {
     "data": {
      "text/html": [
       "<div>\n",
       "<style scoped>\n",
       "    .dataframe tbody tr th:only-of-type {\n",
       "        vertical-align: middle;\n",
       "    }\n",
       "\n",
       "    .dataframe tbody tr th {\n",
       "        vertical-align: top;\n",
       "    }\n",
       "\n",
       "    .dataframe thead th {\n",
       "        text-align: right;\n",
       "    }\n",
       "</style>\n",
       "<table border=\"1\" class=\"dataframe\">\n",
       "  <thead>\n",
       "    <tr style=\"text-align: right;\">\n",
       "      <th></th>\n",
       "      <th>Bar</th>\n",
       "      <th>Normal_force</th>\n",
       "      <th>Type_of_normal_force</th>\n",
       "    </tr>\n",
       "  </thead>\n",
       "  <tbody>\n",
       "    <tr>\n",
       "      <th>0</th>\n",
       "      <td>1JhZi2bnLCkA7QZzjWN_Cu</td>\n",
       "      <td>-65277.777778</td>\n",
       "      <td>Compressive force</td>\n",
       "    </tr>\n",
       "    <tr>\n",
       "      <th>1</th>\n",
       "      <td>2Zy_gy04j21OdzTrdIUh5z</td>\n",
       "      <td>53703.703704</td>\n",
       "      <td>Tensile force</td>\n",
       "    </tr>\n",
       "    <tr>\n",
       "      <th>2</th>\n",
       "      <td>0c0bjRSZPEkAptR1IgVoVV</td>\n",
       "      <td>57870.370370</td>\n",
       "      <td>Tensile force</td>\n",
       "    </tr>\n",
       "  </tbody>\n",
       "</table>\n",
       "</div>"
      ],
      "text/plain": [
       "                      Bar  Normal_force Type_of_normal_force\n",
       "0  1JhZi2bnLCkA7QZzjWN_Cu -65277.777778    Compressive force\n",
       "1  2Zy_gy04j21OdzTrdIUh5z  53703.703704        Tensile force\n",
       "2  0c0bjRSZPEkAptR1IgVoVV  57870.370370        Tensile force"
      ]
     },
     "execution_count": null,
     "metadata": {},
     "output_type": "execute_result"
    }
   ],
   "source": [
    "results[\"normal_forces\"]"
   ]
  },
  {
   "cell_type": "code",
   "execution_count": null,
   "id": "7989dec5-535d-4ecd-8a0c-ca281f6321f7",
   "metadata": {},
   "outputs": [],
   "source": [
    "ifc_structural_analysis_model = model.by_type(\"IfcStructuralAnalysisModel\")[\n",
    "    0\n",
    "]\n",
    "structural_analysis_model = ifc_structural_analysis_model.GlobalId\n",
    "load_group = ifc_structural_analysis_model.LoadedBy[0].GlobalId"
   ]
  },
  {
   "cell_type": "code",
   "execution_count": null,
   "id": "3e4ae1cf-447f-412f-9c06-1048db3a9a0d",
   "metadata": {},
   "outputs": [],
   "source": [
    "# | export\n",
    "class SaveResult:\n",
    "    def __init__(\n",
    "        self,\n",
    "        *,\n",
    "        model: ifcopenshell.file,\n",
    "        structural_analysis_model,\n",
    "        load_group,\n",
    "        theory_type,\n",
    "        is_linear: bool,\n",
    "        displacments,\n",
    "        forces,\n",
    "        normal_forces\n",
    "    ):\n",
    "        self.ifc_model = model\n",
    "        self.displacment = displacments\n",
    "        self.force = forces\n",
    "        self.normal_force = normal_forces\n",
    "\n",
    "        self.structural_analysis_model = self.ifc_model.by_guid(\n",
    "            structural_analysis_model\n",
    "        )\n",
    "        self.load_group = self.ifc_model.by_guid(load_group)\n",
    "        self.theory_type = theory_type\n",
    "        self.is_linear = is_linear"
   ]
  },
  {
   "cell_type": "code",
   "execution_count": null,
   "id": "b124d2ca-ea92-4476-b22c-beaf61e33ef9",
   "metadata": {},
   "outputs": [],
   "source": [
    "save_result_object = SaveResult(\n",
    "    model=model,\n",
    "    structural_analysis_model=structural_analysis_model,\n",
    "    load_group=load_group,\n",
    "    **results\n",
    ")"
   ]
  },
  {
   "cell_type": "code",
   "execution_count": null,
   "id": "50ed5b98-0b9d-473b-89fd-70edb1fefe1a",
   "metadata": {},
   "outputs": [],
   "source": [
    "# | export\n",
    "@patch\n",
    "def create_structural_result_group(\n",
    "    self: SaveResult,\n",
    "):\n",
    "    self.structural_result_group = (\n",
    "        self.ifc_model.createIfcStructuralResultGroup(\n",
    "            ifcopenshell.guid.new(),\n",
    "            None,\n",
    "            None,\n",
    "            None,\n",
    "            None,\n",
    "            self.theory_type,\n",
    "            self.load_group,\n",
    "            self.is_linear,\n",
    "        )\n",
    "    )\n",
    "\n",
    "    if self.structural_analysis_model.HasResults is not None:\n",
    "        self.structural_analysis_model.HasResults += (\n",
    "            self.structural_result_group,\n",
    "        )\n",
    "    elif self.structural_analysis_model.HasResults is None:\n",
    "        self.structural_analysis_model.HasResults = (\n",
    "            self.structural_result_group,\n",
    "        )\n",
    "\n",
    "    self.ifc_results = []"
   ]
  },
  {
   "cell_type": "code",
   "execution_count": null,
   "id": "ebe94664-76ef-4d0f-a8c8-609ea24bd1a4",
   "metadata": {},
   "outputs": [],
   "source": [
    "save_result_object.create_structural_result_group()"
   ]
  },
  {
   "cell_type": "code",
   "execution_count": null,
   "id": "dd0e6c9c-825d-4aeb-ac5a-317576ac6333",
   "metadata": {},
   "outputs": [
    {
     "data": {
      "text/plain": [
       "(#77=IfcStructuralResultGroup('3zAO6xs_54VAEKNOI84cBw',$,$,$,$,.FIRST_ORDER_THEORY.,#66,.T.),)"
      ]
     },
     "execution_count": null,
     "metadata": {},
     "output_type": "execute_result"
    }
   ],
   "source": [
    "save_result_object.structural_analysis_model.HasResults"
   ]
  },
  {
   "cell_type": "code",
   "execution_count": null,
   "id": "d6a05e3f-adf1-4aed-9bdb-0087cb655f2f",
   "metadata": {},
   "outputs": [
    {
     "data": {
      "text/plain": [
       "[#77=IfcStructuralResultGroup('3zAO6xs_54VAEKNOI84cBw',$,$,$,$,.FIRST_ORDER_THEORY.,#66,.T.)]"
      ]
     },
     "execution_count": null,
     "metadata": {},
     "output_type": "execute_result"
    }
   ],
   "source": [
    "model.by_type(\"IfcStructuralResultGroup\")"
   ]
  },
  {
   "cell_type": "code",
   "execution_count": null,
   "id": "6ee87769-7d05-4f6d-8ce2-58bd0d71a1a9",
   "metadata": {},
   "outputs": [
    {
     "data": {
      "text/plain": [
       "(#77=IfcStructuralResultGroup('3zAO6xs_54VAEKNOI84cBw',$,$,$,$,.FIRST_ORDER_THEORY.,#66,.T.),)"
      ]
     },
     "execution_count": null,
     "metadata": {},
     "output_type": "execute_result"
    }
   ],
   "source": [
    "save_result_object.load_group.SourceOfResultGroup"
   ]
  },
  {
   "cell_type": "code",
   "execution_count": null,
   "id": "9b486e2f-5cd9-44b7-8e22-bb2398ade6b8",
   "metadata": {},
   "outputs": [
    {
     "data": {
      "text/plain": [
       "[]"
      ]
     },
     "execution_count": null,
     "metadata": {},
     "output_type": "execute_result"
    }
   ],
   "source": [
    "save_result_object.ifc_results"
   ]
  },
  {
   "cell_type": "code",
   "execution_count": null,
   "id": "349e6136-bfcd-4392-8f17-74edab47bc21",
   "metadata": {},
   "outputs": [],
   "source": [
    "# | export\n",
    "@patch\n",
    "def create_displacment_for_one_node(self: SaveResult, row):\n",
    "    node = row[\"Node\"]\n",
    "    displacement_x = row[\"Displacement_X\"]\n",
    "    displacement_y = row[\"Displacement_Y\"]\n",
    "    displacement_z = row[\"Displacement_Z\"]\n",
    "\n",
    "    name = \"Result_Displacement\"\n",
    "    structural_load_single_displacement = (\n",
    "        self.ifc_model.createIfcStructuralLoadSingleDisplacement(\n",
    "            name,\n",
    "            displacement_x,\n",
    "            displacement_y,\n",
    "            displacement_z,\n",
    "            None,\n",
    "            None,\n",
    "            None,\n",
    "        )\n",
    "    )\n",
    "\n",
    "    global_or_local = \"GLOBAL_COORDS\"\n",
    "    structural_point_reaction = (\n",
    "        self.ifc_model.createIfcStructuralPointReaction(\n",
    "            ifcopenshell.guid.new(),\n",
    "            None,\n",
    "            name,\n",
    "            None,\n",
    "            None,\n",
    "            None,\n",
    "            None,\n",
    "            structural_load_single_displacement,\n",
    "            global_or_local,\n",
    "        )\n",
    "    )\n",
    "\n",
    "    self.ifc_model.createIfcRelConnectsStructuralActivity(\n",
    "        ifcopenshell.guid.new(),\n",
    "        None,\n",
    "        None,\n",
    "        None,\n",
    "        self.ifc_model.by_guid(node),\n",
    "        structural_point_reaction,\n",
    "    )\n",
    "\n",
    "    return structural_point_reaction"
   ]
  },
  {
   "cell_type": "code",
   "execution_count": null,
   "id": "214d5f96-62fb-4201-9d3f-dae4b9d0d5b9",
   "metadata": {},
   "outputs": [],
   "source": [
    "# | export\n",
    "@patch\n",
    "def create_displacments(\n",
    "    self: SaveResult,\n",
    "):\n",
    "    self.ifc_results += (\n",
    "        self.displacment.apply(self.create_displacment_for_one_node, axis=1)\n",
    "    ).tolist()"
   ]
  },
  {
   "cell_type": "code",
   "execution_count": null,
   "id": "46d1bdb6-a806-4e5a-a7e7-8e1c6e23b4d8",
   "metadata": {},
   "outputs": [
    {
     "data": {
      "text/html": [
       "<div>\n",
       "<style scoped>\n",
       "    .dataframe tbody tr th:only-of-type {\n",
       "        vertical-align: middle;\n",
       "    }\n",
       "\n",
       "    .dataframe tbody tr th {\n",
       "        vertical-align: top;\n",
       "    }\n",
       "\n",
       "    .dataframe thead th {\n",
       "        text-align: right;\n",
       "    }\n",
       "</style>\n",
       "<table border=\"1\" class=\"dataframe\">\n",
       "  <thead>\n",
       "    <tr style=\"text-align: right;\">\n",
       "      <th></th>\n",
       "      <th>Node</th>\n",
       "      <th>Displacement_X</th>\n",
       "      <th>Displacement_Y</th>\n",
       "      <th>Displacement_Z</th>\n",
       "    </tr>\n",
       "  </thead>\n",
       "  <tbody>\n",
       "    <tr>\n",
       "      <th>0</th>\n",
       "      <td>0CV4cH5iP6SwCseG64$pib</td>\n",
       "      <td>214.814815</td>\n",
       "      <td>0.0</td>\n",
       "      <td>-195.833333</td>\n",
       "    </tr>\n",
       "  </tbody>\n",
       "</table>\n",
       "</div>"
      ],
      "text/plain": [
       "                     Node  Displacement_X  Displacement_Y  Displacement_Z\n",
       "0  0CV4cH5iP6SwCseG64$pib      214.814815             0.0     -195.833333"
      ]
     },
     "execution_count": null,
     "metadata": {},
     "output_type": "execute_result"
    }
   ],
   "source": [
    "save_result_object.displacment"
   ]
  },
  {
   "cell_type": "code",
   "execution_count": null,
   "id": "2be538f5-d609-45fb-8ec3-fdcd95b47efc",
   "metadata": {},
   "outputs": [],
   "source": [
    "save_result_object.create_displacments()"
   ]
  },
  {
   "cell_type": "code",
   "execution_count": null,
   "id": "d1192dea-ba4b-4050-b9fc-8e55efe90f38",
   "metadata": {},
   "outputs": [
    {
     "data": {
      "text/plain": [
       "[#78=IfcStructuralLoadSingleDisplacement('Result_Displacement',214.814814814815,0.,-195.833333333333,$,$,$)]"
      ]
     },
     "execution_count": null,
     "metadata": {},
     "output_type": "execute_result"
    }
   ],
   "source": [
    "model.by_type(\"IfcStructuralLoadSingleDisplacement\")"
   ]
  },
  {
   "cell_type": "code",
   "execution_count": null,
   "id": "d305cb7f-6aee-4fb9-bca5-712ff642b7d3",
   "metadata": {},
   "outputs": [
    {
     "data": {
      "text/plain": [
       "[#79=IfcStructuralPointReaction('2YxV$$kHbFN9OjI4Ad5bnm',$,'Result_Displacement',$,$,$,$,#78,.GLOBAL_COORDS.)]"
      ]
     },
     "execution_count": null,
     "metadata": {},
     "output_type": "execute_result"
    }
   ],
   "source": [
    "model.by_type(\"IfcStructuralPointReaction\")"
   ]
  },
  {
   "cell_type": "code",
   "execution_count": null,
   "id": "bdb50710-e398-484d-846b-a4aec0ee8161",
   "metadata": {},
   "outputs": [
    {
     "data": {
      "text/plain": [
       "[#79=IfcStructuralPointReaction('2YxV$$kHbFN9OjI4Ad5bnm',$,'Result_Displacement',$,$,$,$,#78,.GLOBAL_COORDS.)]"
      ]
     },
     "execution_count": null,
     "metadata": {},
     "output_type": "execute_result"
    }
   ],
   "source": [
    "save_result_object.ifc_results"
   ]
  },
  {
   "cell_type": "code",
   "execution_count": null,
   "id": "e23346d6-b99c-4f07-bd50-a3f93de797ae",
   "metadata": {},
   "outputs": [],
   "source": [
    "# | export\n",
    "@patch\n",
    "def create_force_for_one_node(self: SaveResult, row):\n",
    "    node = row[\"Node\"]\n",
    "    force_x = row[\"Force_X\"]\n",
    "    force_y = row[\"Force_Y\"]\n",
    "    force_z = row[\"Force_Z\"]\n",
    "    name = \"Result_Force\"\n",
    "    structural_load_single_force = (\n",
    "        self.ifc_model.createIfcStructuralLoadSingleForce(\n",
    "            name, force_x, force_y, force_z, None, None, None\n",
    "        )\n",
    "    )\n",
    "\n",
    "    global_or_local = \"GLOBAL_COORDS\"\n",
    "\n",
    "    structural_point_reaction = (\n",
    "        self.ifc_model.createIfcStructuralPointReaction(\n",
    "            ifcopenshell.guid.new(),\n",
    "            None,\n",
    "            name,\n",
    "            None,\n",
    "            None,\n",
    "            None,\n",
    "            None,\n",
    "            structural_load_single_force,\n",
    "            global_or_local,\n",
    "        )\n",
    "    )\n",
    "\n",
    "    self.ifc_model.createIfcRelConnectsStructuralActivity(\n",
    "        ifcopenshell.guid.new(),\n",
    "        None,\n",
    "        None,\n",
    "        None,\n",
    "        self.ifc_model.by_guid(node),\n",
    "        structural_point_reaction,\n",
    "    )\n",
    "\n",
    "    return structural_point_reaction"
   ]
  },
  {
   "cell_type": "code",
   "execution_count": null,
   "id": "b0b98e16-c943-4d87-bb5f-6e38fe238eac",
   "metadata": {},
   "outputs": [],
   "source": [
    "# | export\n",
    "@patch\n",
    "def create_forces(\n",
    "    self: SaveResult,\n",
    "):\n",
    "    self.ifc_results += (\n",
    "        self.force.apply(self.create_force_for_one_node, axis=1)\n",
    "    ).tolist()"
   ]
  },
  {
   "cell_type": "code",
   "execution_count": null,
   "id": "ce1fb107-3354-47e3-bae9-ff01db42bd99",
   "metadata": {},
   "outputs": [
    {
     "data": {
      "text/html": [
       "<div>\n",
       "<style scoped>\n",
       "    .dataframe tbody tr th:only-of-type {\n",
       "        vertical-align: middle;\n",
       "    }\n",
       "\n",
       "    .dataframe tbody tr th {\n",
       "        vertical-align: top;\n",
       "    }\n",
       "\n",
       "    .dataframe thead th {\n",
       "        text-align: right;\n",
       "    }\n",
       "</style>\n",
       "<table border=\"1\" class=\"dataframe\">\n",
       "  <thead>\n",
       "    <tr style=\"text-align: right;\">\n",
       "      <th></th>\n",
       "      <th>Node</th>\n",
       "      <th>Force_X</th>\n",
       "      <th>Force_Y</th>\n",
       "      <th>Force_Z</th>\n",
       "    </tr>\n",
       "  </thead>\n",
       "  <tbody>\n",
       "    <tr>\n",
       "      <th>1</th>\n",
       "      <td>3J7tRX7yb17wDVifRR_qgU</td>\n",
       "      <td>0.000000</td>\n",
       "      <td>0.0</td>\n",
       "      <td>65277.777778</td>\n",
       "    </tr>\n",
       "    <tr>\n",
       "      <th>2</th>\n",
       "      <td>34w8f6zkPApPZfWTKgvbUK</td>\n",
       "      <td>-53703.703704</td>\n",
       "      <td>0.0</td>\n",
       "      <td>0.000000</td>\n",
       "    </tr>\n",
       "    <tr>\n",
       "      <th>3</th>\n",
       "      <td>306azRYJT07wE6fH29mNtN</td>\n",
       "      <td>-46296.296296</td>\n",
       "      <td>0.0</td>\n",
       "      <td>34722.222222</td>\n",
       "    </tr>\n",
       "  </tbody>\n",
       "</table>\n",
       "</div>"
      ],
      "text/plain": [
       "                     Node       Force_X  Force_Y       Force_Z\n",
       "1  3J7tRX7yb17wDVifRR_qgU      0.000000      0.0  65277.777778\n",
       "2  34w8f6zkPApPZfWTKgvbUK -53703.703704      0.0      0.000000\n",
       "3  306azRYJT07wE6fH29mNtN -46296.296296      0.0  34722.222222"
      ]
     },
     "execution_count": null,
     "metadata": {},
     "output_type": "execute_result"
    }
   ],
   "source": [
    "save_result_object.force"
   ]
  },
  {
   "cell_type": "code",
   "execution_count": null,
   "id": "dea8bccc-54a9-45f3-9be4-bcb31066d32a",
   "metadata": {},
   "outputs": [],
   "source": [
    "save_result_object.create_forces()"
   ]
  },
  {
   "cell_type": "code",
   "execution_count": null,
   "id": "b42585a1-86ed-4e1f-8450-241e2aac7f1b",
   "metadata": {},
   "outputs": [
    {
     "data": {
      "text/plain": [
       "[#63=IfcStructuralLoadSingleForce('Point Load 1',100000.,0.,-100000.,$,$,$),\n",
       " #81=IfcStructuralLoadSingleForce('Result_Force',0.,0.,65277.7777777778,$,$,$),\n",
       " #84=IfcStructuralLoadSingleForce('Result_Force',-53703.7037037037,0.,0.,$,$,$),\n",
       " #87=IfcStructuralLoadSingleForce('Result_Force',-46296.2962962963,0.,34722.2222222222,$,$,$)]"
      ]
     },
     "execution_count": null,
     "metadata": {},
     "output_type": "execute_result"
    }
   ],
   "source": [
    "model.by_type(\"IfcStructuralLoadSingleForce\")"
   ]
  },
  {
   "cell_type": "code",
   "execution_count": null,
   "id": "d5647541-b983-47a4-9322-728a293462f3",
   "metadata": {},
   "outputs": [
    {
     "data": {
      "text/plain": [
       "[#79=IfcStructuralPointReaction('2YxV$$kHbFN9OjI4Ad5bnm',$,'Result_Displacement',$,$,$,$,#78,.GLOBAL_COORDS.),\n",
       " #82=IfcStructuralPointReaction('0hGQ$$VkT0dg1q5C$$xjwi',$,'Result_Force',$,$,$,$,#81,.GLOBAL_COORDS.),\n",
       " #85=IfcStructuralPointReaction('0wdM6c9Q14UBzvwCKWkc_Y',$,'Result_Force',$,$,$,$,#84,.GLOBAL_COORDS.),\n",
       " #88=IfcStructuralPointReaction('3FjOmBDLzECejkbWUuvPTd',$,'Result_Force',$,$,$,$,#87,.GLOBAL_COORDS.)]"
      ]
     },
     "execution_count": null,
     "metadata": {},
     "output_type": "execute_result"
    }
   ],
   "source": [
    "model.by_type(\"IfcStructuralPointReaction\")"
   ]
  },
  {
   "cell_type": "code",
   "execution_count": null,
   "id": "d14c128d-7f0e-4646-8695-324e8b7758e2",
   "metadata": {},
   "outputs": [
    {
     "data": {
      "text/plain": [
       "[#79=IfcStructuralPointReaction('2YxV$$kHbFN9OjI4Ad5bnm',$,'Result_Displacement',$,$,$,$,#78,.GLOBAL_COORDS.),\n",
       " #82=IfcStructuralPointReaction('0hGQ$$VkT0dg1q5C$$xjwi',$,'Result_Force',$,$,$,$,#81,.GLOBAL_COORDS.),\n",
       " #85=IfcStructuralPointReaction('0wdM6c9Q14UBzvwCKWkc_Y',$,'Result_Force',$,$,$,$,#84,.GLOBAL_COORDS.),\n",
       " #88=IfcStructuralPointReaction('3FjOmBDLzECejkbWUuvPTd',$,'Result_Force',$,$,$,$,#87,.GLOBAL_COORDS.)]"
      ]
     },
     "execution_count": null,
     "metadata": {},
     "output_type": "execute_result"
    }
   ],
   "source": [
    "save_result_object.ifc_results"
   ]
  },
  {
   "cell_type": "markdown",
   "id": "13e95a22-1e96-4131-9236-e8a6a890f64f",
   "metadata": {},
   "source": [
    "$$l_x = x_2 - x_1, \\quad l_y = y_2 - y_1, \\quad l_z = z_2 - z_1$$"
   ]
  },
  {
   "cell_type": "code",
   "execution_count": null,
   "id": "a2012490-93c4-48c1-b75f-6c82af7a08c2",
   "metadata": {},
   "outputs": [],
   "source": [
    "# | export\n",
    "@patch\n",
    "def calculate_differences(self: SaveResult, x_1, y_1, z_1, x_2, y_2, z_2):\n",
    "    # copied from DirectStiffnessMethod class\n",
    "    l_x = x_2 - x_1\n",
    "    l_y = y_2 - y_1\n",
    "    l_z = z_2 - z_1\n",
    "    return l_x, l_y, l_z"
   ]
  },
  {
   "cell_type": "markdown",
   "id": "10415c29-d41d-4aed-9f3d-77474559a313",
   "metadata": {},
   "source": [
    "$$l = \\sqrt{l_x^2 + l_y^2 + l_z^2}$$"
   ]
  },
  {
   "cell_type": "code",
   "execution_count": null,
   "id": "78f64c88-80de-4d70-bcce-7e8f1c7198fd",
   "metadata": {},
   "outputs": [],
   "source": [
    "# | export\n",
    "@patch\n",
    "def calculate_distance(self: SaveResult, l_x, l_y, l_z):\n",
    "    # copied from DirectStiffnessMethod class\n",
    "    vector = np.array([l_x, l_y, l_z])\n",
    "    l = np.linalg.norm(vector)\n",
    "    return l"
   ]
  },
  {
   "cell_type": "code",
   "execution_count": null,
   "id": "6251fb90-71b1-4a01-8c8f-327ab2ae83ad",
   "metadata": {},
   "outputs": [],
   "source": [
    "# | export\n",
    "@patch\n",
    "def get_coordinates(self: SaveResult, node):\n",
    "    # copied from View class and modified\n",
    "    coordinates = node.VertexGeometry.Coordinates\n",
    "    return coordinates"
   ]
  },
  {
   "cell_type": "code",
   "execution_count": null,
   "id": "997bee5e-afd5-4321-a6fe-cf5e1d8c4c7b",
   "metadata": {},
   "outputs": [],
   "source": [
    "# | export\n",
    "@patch\n",
    "def get_start_node(self: SaveResult, bar):\n",
    "    # copied from View class and modified\n",
    "    start_node = bar.Representation.Representations[0].Items[0].EdgeStart\n",
    "    return start_node"
   ]
  },
  {
   "cell_type": "code",
   "execution_count": null,
   "id": "7acbe8c1-78aa-49c6-afa9-89294b8189db",
   "metadata": {},
   "outputs": [],
   "source": [
    "# | export\n",
    "@patch\n",
    "def get_end_node(self: SaveResult, bar):\n",
    "    # copied from View class and modified\n",
    "    end_node = bar.Representation.Representations[0].Items[0].EdgeEnd\n",
    "    return end_node"
   ]
  },
  {
   "cell_type": "markdown",
   "id": "0505ad9b-9b87-4956-bd8e-6def5a2de698",
   "metadata": {},
   "source": [
    "$$F_2=-F_1=N$$"
   ]
  },
  {
   "cell_type": "code",
   "execution_count": null,
   "id": "44c7273c-2df1-46e1-b54c-886cb7de0590",
   "metadata": {},
   "outputs": [],
   "source": []
  },
  {
   "cell_type": "code",
   "execution_count": null,
   "id": "b4a30a47-c8a7-47da-a59a-1696682f929b",
   "metadata": {},
   "outputs": [],
   "source": [
    "# | export\n",
    "@patch\n",
    "def get_length(self: SaveResult, row):\n",
    "    bar = row[\"Bar\"]\n",
    "    normal_force = row[\"Normal_force\"]\n",
    "\n",
    "    ifc_bar = self.ifc_model.by_guid(bar)\n",
    "\n",
    "    start_node = self.get_start_node(ifc_bar)\n",
    "    end_node = self.get_end_node(ifc_bar)\n",
    "\n",
    "    start_node_coordinates = self.get_coordinates(start_node)\n",
    "    end_node_coordinates = self.get_coordinates(end_node)\n",
    "\n",
    "    l_x, l_y, l_z = self.calculate_differences(\n",
    "        *start_node_coordinates, *end_node_coordinates\n",
    "    )\n",
    "\n",
    "    length = self.calculate_distance(l_x, l_y, l_z)\n",
    "\n",
    "    return length"
   ]
  },
  {
   "cell_type": "code",
   "execution_count": null,
   "id": "7693e7b7-05b1-4664-b12d-d0f6c4cfe52f",
   "metadata": {},
   "outputs": [],
   "source": [
    "# | export\n",
    "@patch\n",
    "def create_normal_force_for_one_bar(self: SaveResult, row):\n",
    "    bar = row[\"Bar\"]\n",
    "    normal_force = row[\"Normal_force\"]\n",
    "    name = \"Result_Normal_Force\"\n",
    "    length = self.get_length(row)\n",
    "\n",
    "    structural_load_single_force_tail = (\n",
    "        self.ifc_model.createIfcStructuralLoadSingleForce(\n",
    "            Name=\"Tail\",\n",
    "            ForceX=normal_force,\n",
    "        )\n",
    "    )\n",
    "\n",
    "    structural_load_single_force_head = (\n",
    "        self.ifc_model.createIfcStructuralLoadSingleForce(\n",
    "            Name=\"Head\",\n",
    "            ForceX=-normal_force,\n",
    "        )\n",
    "    )\n",
    "\n",
    "    structural_load_configuration = (\n",
    "        self.ifc_model.createIfcStructuralLoadConfiguration(\n",
    "            Name=\"Member End Reactions\",\n",
    "            Values=(\n",
    "                structural_load_single_force_head,\n",
    "                structural_load_single_force_tail,\n",
    "            ),\n",
    "            Locations=[\n",
    "                [0.0],\n",
    "                [float(length)],\n",
    "            ],\n",
    "        )\n",
    "    )\n",
    "    global_or_local = \"LOCAL_COORDS\"\n",
    "    predefined_type = \"DISCRETE\"\n",
    "    structural_curve_reaction = (\n",
    "        self.ifc_model.createIfcStructuralCurveReaction(\n",
    "            ifcopenshell.guid.new(),\n",
    "            None,\n",
    "            name,\n",
    "            None,\n",
    "            None,\n",
    "            None,\n",
    "            None,\n",
    "            structural_load_configuration,\n",
    "            global_or_local,\n",
    "            predefined_type,\n",
    "        )\n",
    "    )\n",
    "\n",
    "    self.ifc_model.createIfcRelConnectsStructuralActivity(\n",
    "        ifcopenshell.guid.new(),\n",
    "        None,\n",
    "        None,\n",
    "        None,\n",
    "        self.ifc_model.by_guid(bar),\n",
    "        structural_curve_reaction,\n",
    "    )\n",
    "\n",
    "    return structural_curve_reaction"
   ]
  },
  {
   "cell_type": "code",
   "execution_count": null,
   "id": "8c6d1971-dc3c-4afe-9d34-6609d91273ef",
   "metadata": {},
   "outputs": [],
   "source": [
    "# | export\n",
    "@patch\n",
    "def create_normal_forces(\n",
    "    self: SaveResult,\n",
    "):\n",
    "    self.ifc_results += (\n",
    "        self.normal_force.apply(\n",
    "            self.create_normal_force_for_one_bar, axis=1\n",
    "        )\n",
    "    ).tolist()"
   ]
  },
  {
   "cell_type": "code",
   "execution_count": null,
   "id": "cc118f3f-5ebc-42a3-85fc-504bb1f17ee3",
   "metadata": {},
   "outputs": [],
   "source": [
    "save_result_object.create_normal_forces()"
   ]
  },
  {
   "cell_type": "code",
   "execution_count": null,
   "id": "14b295ab-6953-4a17-ad22-e56153cde963",
   "metadata": {},
   "outputs": [
    {
     "data": {
      "text/plain": [
       "[#79=IfcStructuralPointReaction('2YxV$$kHbFN9OjI4Ad5bnm',$,'Result_Displacement',$,$,$,$,#78,.GLOBAL_COORDS.),\n",
       " #82=IfcStructuralPointReaction('0hGQ$$VkT0dg1q5C$$xjwi',$,'Result_Force',$,$,$,$,#81,.GLOBAL_COORDS.),\n",
       " #85=IfcStructuralPointReaction('0wdM6c9Q14UBzvwCKWkc_Y',$,'Result_Force',$,$,$,$,#84,.GLOBAL_COORDS.),\n",
       " #88=IfcStructuralPointReaction('3FjOmBDLzECejkbWUuvPTd',$,'Result_Force',$,$,$,$,#87,.GLOBAL_COORDS.),\n",
       " #93=IfcStructuralCurveReaction('0lfG6QPhr6lwRHGBDC6$bJ',$,'Result_Normal_Force',$,$,$,$,#92,.LOCAL_COORDS.,.DISCRETE.),\n",
       " #98=IfcStructuralCurveReaction('0uBFrc5ar2PgyVZ9ZEzDBP',$,'Result_Normal_Force',$,$,$,$,#97,.LOCAL_COORDS.,.DISCRETE.),\n",
       " #103=IfcStructuralCurveReaction('2L6k$YfKn4QPtGSt_L7cJX',$,'Result_Normal_Force',$,$,$,$,#102,.LOCAL_COORDS.,.DISCRETE.)]"
      ]
     },
     "execution_count": null,
     "metadata": {},
     "output_type": "execute_result"
    }
   ],
   "source": [
    "save_result_object.ifc_results"
   ]
  },
  {
   "cell_type": "code",
   "execution_count": null,
   "id": "e7bc2e37-2511-4ac7-bc0e-712a9fe89e7e",
   "metadata": {},
   "outputs": [
    {
     "data": {
      "text/plain": [
       "[#93=IfcStructuralCurveReaction('0lfG6QPhr6lwRHGBDC6$bJ',$,'Result_Normal_Force',$,$,$,$,#92,.LOCAL_COORDS.,.DISCRETE.),\n",
       " #98=IfcStructuralCurveReaction('0uBFrc5ar2PgyVZ9ZEzDBP',$,'Result_Normal_Force',$,$,$,$,#97,.LOCAL_COORDS.,.DISCRETE.),\n",
       " #103=IfcStructuralCurveReaction('2L6k$YfKn4QPtGSt_L7cJX',$,'Result_Normal_Force',$,$,$,$,#102,.LOCAL_COORDS.,.DISCRETE.)]"
      ]
     },
     "execution_count": null,
     "metadata": {},
     "output_type": "execute_result"
    }
   ],
   "source": [
    "model.by_type(\"IfcStructuralCurveReaction\")"
   ]
  },
  {
   "cell_type": "code",
   "execution_count": null,
   "id": "09cb82c1-b09e-4a0a-a9aa-062d8acec9bb",
   "metadata": {},
   "outputs": [
    {
     "data": {
      "text/plain": [
       "[#92=IfcStructuralLoadConfiguration('Member End Reactions',(#91,#90),((0.),(3000.))),\n",
       " #97=IfcStructuralLoadConfiguration('Member End Reactions',(#96,#95),((0.),(4000.))),\n",
       " #102=IfcStructuralLoadConfiguration('Member End Reactions',(#101,#100),((0.),(5000.)))]"
      ]
     },
     "execution_count": null,
     "metadata": {},
     "output_type": "execute_result"
    }
   ],
   "source": [
    "model.by_type(\"IfcStructuralLoadConfiguration\")"
   ]
  },
  {
   "cell_type": "code",
   "execution_count": null,
   "id": "81ee287c-6ab5-45c1-ab5a-7a7ad515e2e0",
   "metadata": {},
   "outputs": [
    {
     "data": {
      "text/plain": [
       "[(#91=IfcStructuralLoadSingleForce('Head',65277.7777777778,$,$,$,$,$),\n",
       "  #90=IfcStructuralLoadSingleForce('Tail',-65277.7777777778,$,$,$,$,$)),\n",
       " (#96=IfcStructuralLoadSingleForce('Head',-53703.7037037037,$,$,$,$,$),\n",
       "  #95=IfcStructuralLoadSingleForce('Tail',53703.7037037037,$,$,$,$,$)),\n",
       " (#101=IfcStructuralLoadSingleForce('Head',-57870.3703703704,$,$,$,$,$),\n",
       "  #100=IfcStructuralLoadSingleForce('Tail',57870.3703703704,$,$,$,$,$))]"
      ]
     },
     "execution_count": null,
     "metadata": {},
     "output_type": "execute_result"
    }
   ],
   "source": [
    "[\n",
    "    member.Values\n",
    "    for member in model.by_type(\"IfcStructuralLoadConfiguration\")\n",
    "]"
   ]
  },
  {
   "cell_type": "code",
   "execution_count": null,
   "id": "2787705a-f24f-46a6-8a00-f8565d6feec1",
   "metadata": {},
   "outputs": [],
   "source": [
    "# | export\n",
    "@patch\n",
    "def assign_to_the_result_group(\n",
    "    self: SaveResult,\n",
    "):\n",
    "    self.ifc_model.createIfcRelAssignsToGroup(\n",
    "        ifcopenshell.guid.new(),\n",
    "        None,\n",
    "        None,\n",
    "        None,\n",
    "        self.ifc_results,\n",
    "        None,\n",
    "        self.structural_result_group,\n",
    "    )"
   ]
  },
  {
   "cell_type": "code",
   "execution_count": null,
   "id": "fed73520-5671-4ced-b305-bae6a36e9bfd",
   "metadata": {},
   "outputs": [],
   "source": [
    "save_result_object.assign_to_the_result_group()"
   ]
  },
  {
   "cell_type": "code",
   "execution_count": null,
   "id": "d393d5fe-aeb0-490d-8840-1baa421f151e",
   "metadata": {},
   "outputs": [],
   "source": [
    "save_result_object.ifc_model.write(\"truss_result.ifc\")"
   ]
  },
  {
   "cell_type": "code",
   "execution_count": null,
   "id": "223d15b2-937d-4237-9a52-796de78cb24a",
   "metadata": {},
   "outputs": [],
   "source": [
    "import ifcopenshell.validate\n",
    "from rich import print"
   ]
  },
  {
   "cell_type": "code",
   "execution_count": null,
   "id": "41a17368-0c4b-4bee-a528-58b0953885bd",
   "metadata": {},
   "outputs": [],
   "source": [
    "json_logger = ifcopenshell.validate.json_logger()\n",
    "ifcopenshell.validate.validate(save_result_object.ifc_model, json_logger)\n",
    "json_list = json_logger.statements\n",
    "if json_list:\n",
    "    for i in json_list:\n",
    "        print(i)"
   ]
  },
  {
   "cell_type": "markdown",
   "id": "b29b24b0-8fce-462f-89c7-46c91ef0298c",
   "metadata": {},
   "source": [
    "An empty list will evaluate to False."
   ]
  },
  {
   "cell_type": "code",
   "execution_count": null,
   "id": "4ce1610c-cfd6-46cb-91e1-f352d2668dea",
   "metadata": {},
   "outputs": [],
   "source": [
    "assert not json_list"
   ]
  },
  {
   "cell_type": "code",
   "execution_count": null,
   "id": "294de88d-179b-4445-b690-3a7385244d3e",
   "metadata": {},
   "outputs": [],
   "source": [
    "# | hide\n",
    "nbdev.nbdev_export()"
   ]
  },
  {
   "cell_type": "code",
   "execution_count": null,
   "id": "d150f836-b45a-408b-94ac-c52276afda15",
   "metadata": {},
   "outputs": [],
   "source": []
  }
 ],
 "metadata": {
  "kernelspec": {
   "display_name": "python3",
   "language": "python",
   "name": "python3"
  }
 },
 "nbformat": 4,
 "nbformat_minor": 5
}
