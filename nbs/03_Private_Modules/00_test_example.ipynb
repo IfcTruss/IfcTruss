{
 "cells": [
  {
   "cell_type": "markdown",
   "id": "051e31f9-53da-4ddb-9622-b28c88c38cfe",
   "metadata": {},
   "source": [
    "# Example for unit test\n",
    "\n",
    "> Example Pandas DataFrame for unit test"
   ]
  },
  {
   "cell_type": "code",
   "execution_count": null,
   "id": "74dc1236-98bc-4948-ba94-06bc40e3d98d",
   "metadata": {},
   "outputs": [],
   "source": [
    "# | default_exp _example"
   ]
  },
  {
   "cell_type": "code",
   "execution_count": null,
   "id": "487d3786-1ea7-4690-924b-de8dc956b2c0",
   "metadata": {},
   "outputs": [],
   "source": [
    "# | export\n",
    "\n",
    "# Copyright © 2023-2024  IfcTruss Contributors\n",
    "#\n",
    "# This program is free software: you can redistribute it and/or modify\n",
    "# it under the terms of the GNU Lesser General Public License as published by\n",
    "# the Free Software Foundation, either version 3 of the License, or\n",
    "# (at your option) any later version.\n",
    "#\n",
    "# This program is distributed in the hope that it will be useful,\n",
    "# but WITHOUT ANY WARRANTY; without even the implied warranty of\n",
    "# MERCHANTABILITY or FITNESS FOR A PARTICULAR PURPOSE.  See the\n",
    "# GNU Lesser General Public License for more details.\n",
    "#\n",
    "# You should have received a copy of the GNU Lesser General Public License\n",
    "# along with this program.  If not, see <https://www.gnu.org/licenses/>."
   ]
  },
  {
   "cell_type": "code",
   "execution_count": null,
   "id": "5f71cac8-5fdf-48a9-b010-53fde4925109",
   "metadata": {},
   "outputs": [],
   "source": [
    "# | hide\n",
    "import nbdev\n",
    "import nbdev.showdoc"
   ]
  },
  {
   "cell_type": "code",
   "execution_count": null,
   "id": "8fa21444-84e0-4469-a43b-5e6d722aecd2",
   "metadata": {},
   "outputs": [],
   "source": [
    "# | export\n",
    "import pandas as pd"
   ]
  },
  {
   "cell_type": "code",
   "execution_count": null,
   "id": "f00f0ad1-4719-4b79-914d-9f2c7070b851",
   "metadata": {},
   "outputs": [],
   "source": [
    "# | export\n",
    "nodes = pd.DataFrame(\n",
    "    {\n",
    "        \"Node\": pd.Series([2, 1, 3, 4], dtype=int),\n",
    "        \"Coordinate_X\": pd.Series([0, 0, -4e3, -4e3], dtype=float),\n",
    "        \"Coordinate_Y\": pd.Series([0, 0, 0, 0], dtype=float),\n",
    "        \"Coordinate_Z\": pd.Series([3e3, 0, 3e3, 6e3], dtype=float),\n",
    "        \"Translational_X\": pd.Series([0, 1, 1, 1], dtype=bool),\n",
    "        \"Translational_Y\": pd.Series([1, 1, 1, 1], dtype=bool),\n",
    "        \"Translational_Z\": pd.Series([0, 1, 1, 1], dtype=bool),\n",
    "    }\n",
    ")"
   ]
  },
  {
   "cell_type": "code",
   "execution_count": null,
   "id": "a11815c0-cc06-423f-b2f8-c03b4d0def1e",
   "metadata": {},
   "outputs": [
    {
     "data": {
      "text/html": [
       "<style type=\"text/css\">\n",
       "</style>\n",
       "<table id=\"T_db33f\">\n",
       "  <thead>\n",
       "    <tr>\n",
       "      <th id=\"T_db33f_level0_col0\" class=\"col_heading level0 col0\" >Node</th>\n",
       "      <th id=\"T_db33f_level0_col1\" class=\"col_heading level0 col1\" >Coordinate_X</th>\n",
       "      <th id=\"T_db33f_level0_col2\" class=\"col_heading level0 col2\" >Coordinate_Y</th>\n",
       "      <th id=\"T_db33f_level0_col3\" class=\"col_heading level0 col3\" >Coordinate_Z</th>\n",
       "      <th id=\"T_db33f_level0_col4\" class=\"col_heading level0 col4\" >Translational_X</th>\n",
       "      <th id=\"T_db33f_level0_col5\" class=\"col_heading level0 col5\" >Translational_Y</th>\n",
       "      <th id=\"T_db33f_level0_col6\" class=\"col_heading level0 col6\" >Translational_Z</th>\n",
       "    </tr>\n",
       "  </thead>\n",
       "  <tbody>\n",
       "    <tr>\n",
       "      <td id=\"T_db33f_row0_col0\" class=\"data row0 col0\" >2</td>\n",
       "      <td id=\"T_db33f_row0_col1\" class=\"data row0 col1\" >0.000000</td>\n",
       "      <td id=\"T_db33f_row0_col2\" class=\"data row0 col2\" >0.000000</td>\n",
       "      <td id=\"T_db33f_row0_col3\" class=\"data row0 col3\" >3000.000000</td>\n",
       "      <td id=\"T_db33f_row0_col4\" class=\"data row0 col4\" >False</td>\n",
       "      <td id=\"T_db33f_row0_col5\" class=\"data row0 col5\" >True</td>\n",
       "      <td id=\"T_db33f_row0_col6\" class=\"data row0 col6\" >False</td>\n",
       "    </tr>\n",
       "    <tr>\n",
       "      <td id=\"T_db33f_row1_col0\" class=\"data row1 col0\" >1</td>\n",
       "      <td id=\"T_db33f_row1_col1\" class=\"data row1 col1\" >0.000000</td>\n",
       "      <td id=\"T_db33f_row1_col2\" class=\"data row1 col2\" >0.000000</td>\n",
       "      <td id=\"T_db33f_row1_col3\" class=\"data row1 col3\" >0.000000</td>\n",
       "      <td id=\"T_db33f_row1_col4\" class=\"data row1 col4\" >True</td>\n",
       "      <td id=\"T_db33f_row1_col5\" class=\"data row1 col5\" >True</td>\n",
       "      <td id=\"T_db33f_row1_col6\" class=\"data row1 col6\" >True</td>\n",
       "    </tr>\n",
       "    <tr>\n",
       "      <td id=\"T_db33f_row2_col0\" class=\"data row2 col0\" >3</td>\n",
       "      <td id=\"T_db33f_row2_col1\" class=\"data row2 col1\" >-4000.000000</td>\n",
       "      <td id=\"T_db33f_row2_col2\" class=\"data row2 col2\" >0.000000</td>\n",
       "      <td id=\"T_db33f_row2_col3\" class=\"data row2 col3\" >3000.000000</td>\n",
       "      <td id=\"T_db33f_row2_col4\" class=\"data row2 col4\" >True</td>\n",
       "      <td id=\"T_db33f_row2_col5\" class=\"data row2 col5\" >True</td>\n",
       "      <td id=\"T_db33f_row2_col6\" class=\"data row2 col6\" >True</td>\n",
       "    </tr>\n",
       "    <tr>\n",
       "      <td id=\"T_db33f_row3_col0\" class=\"data row3 col0\" >4</td>\n",
       "      <td id=\"T_db33f_row3_col1\" class=\"data row3 col1\" >-4000.000000</td>\n",
       "      <td id=\"T_db33f_row3_col2\" class=\"data row3 col2\" >0.000000</td>\n",
       "      <td id=\"T_db33f_row3_col3\" class=\"data row3 col3\" >6000.000000</td>\n",
       "      <td id=\"T_db33f_row3_col4\" class=\"data row3 col4\" >True</td>\n",
       "      <td id=\"T_db33f_row3_col5\" class=\"data row3 col5\" >True</td>\n",
       "      <td id=\"T_db33f_row3_col6\" class=\"data row3 col6\" >True</td>\n",
       "    </tr>\n",
       "  </tbody>\n",
       "</table>\n"
      ],
      "text/plain": [
       "<pandas.io.formats.style.Styler>"
      ]
     },
     "execution_count": null,
     "metadata": {},
     "output_type": "execute_result"
    }
   ],
   "source": [
    "nodes.style.hide(axis=\"index\")"
   ]
  },
  {
   "cell_type": "code",
   "execution_count": null,
   "id": "bccb4dc7-bd8e-4998-a947-1418371e14f6",
   "metadata": {},
   "outputs": [],
   "source": [
    "# | export\n",
    "bars = pd.DataFrame(\n",
    "    {\n",
    "        \"Bar\": pd.Series([1, 2, 3], dtype=int),\n",
    "        \"Start_node\": pd.Series([2, 2, 2], dtype=int),\n",
    "        \"End_node\": pd.Series([1, 3, 4], dtype=int),\n",
    "        \"Cross-sectional_area\": pd.Series([1e3, 1e3, 1e3], dtype=float),\n",
    "        \"Modulus_of_elasticity\": pd.Series([1e3, 1e3, 1e3], dtype=float),\n",
    "    }\n",
    ")"
   ]
  },
  {
   "cell_type": "code",
   "execution_count": null,
   "id": "d225b3f2-23f6-4655-8d82-d6fa6c674a23",
   "metadata": {},
   "outputs": [
    {
     "data": {
      "text/html": [
       "<style type=\"text/css\">\n",
       "</style>\n",
       "<table id=\"T_ebf93\">\n",
       "  <thead>\n",
       "    <tr>\n",
       "      <th id=\"T_ebf93_level0_col0\" class=\"col_heading level0 col0\" >Bar</th>\n",
       "      <th id=\"T_ebf93_level0_col1\" class=\"col_heading level0 col1\" >Start_node</th>\n",
       "      <th id=\"T_ebf93_level0_col2\" class=\"col_heading level0 col2\" >End_node</th>\n",
       "      <th id=\"T_ebf93_level0_col3\" class=\"col_heading level0 col3\" >Cross-sectional_area</th>\n",
       "      <th id=\"T_ebf93_level0_col4\" class=\"col_heading level0 col4\" >Modulus_of_elasticity</th>\n",
       "    </tr>\n",
       "  </thead>\n",
       "  <tbody>\n",
       "    <tr>\n",
       "      <td id=\"T_ebf93_row0_col0\" class=\"data row0 col0\" >1</td>\n",
       "      <td id=\"T_ebf93_row0_col1\" class=\"data row0 col1\" >2</td>\n",
       "      <td id=\"T_ebf93_row0_col2\" class=\"data row0 col2\" >1</td>\n",
       "      <td id=\"T_ebf93_row0_col3\" class=\"data row0 col3\" >1000.000000</td>\n",
       "      <td id=\"T_ebf93_row0_col4\" class=\"data row0 col4\" >1000.000000</td>\n",
       "    </tr>\n",
       "    <tr>\n",
       "      <td id=\"T_ebf93_row1_col0\" class=\"data row1 col0\" >2</td>\n",
       "      <td id=\"T_ebf93_row1_col1\" class=\"data row1 col1\" >2</td>\n",
       "      <td id=\"T_ebf93_row1_col2\" class=\"data row1 col2\" >3</td>\n",
       "      <td id=\"T_ebf93_row1_col3\" class=\"data row1 col3\" >1000.000000</td>\n",
       "      <td id=\"T_ebf93_row1_col4\" class=\"data row1 col4\" >1000.000000</td>\n",
       "    </tr>\n",
       "    <tr>\n",
       "      <td id=\"T_ebf93_row2_col0\" class=\"data row2 col0\" >3</td>\n",
       "      <td id=\"T_ebf93_row2_col1\" class=\"data row2 col1\" >2</td>\n",
       "      <td id=\"T_ebf93_row2_col2\" class=\"data row2 col2\" >4</td>\n",
       "      <td id=\"T_ebf93_row2_col3\" class=\"data row2 col3\" >1000.000000</td>\n",
       "      <td id=\"T_ebf93_row2_col4\" class=\"data row2 col4\" >1000.000000</td>\n",
       "    </tr>\n",
       "  </tbody>\n",
       "</table>\n"
      ],
      "text/plain": [
       "<pandas.io.formats.style.Styler>"
      ]
     },
     "execution_count": null,
     "metadata": {},
     "output_type": "execute_result"
    }
   ],
   "source": [
    "bars.style.hide(axis=\"index\")"
   ]
  },
  {
   "cell_type": "code",
   "execution_count": null,
   "id": "1a05da7c-060a-4ea4-85a7-da76bb9ab4c8",
   "metadata": {},
   "outputs": [],
   "source": [
    "# | export\n",
    "point_loads = pd.DataFrame(\n",
    "    {\n",
    "        \"Point_Load\": pd.Series(\n",
    "            [\n",
    "                1,\n",
    "            ],\n",
    "            dtype=int,\n",
    "        ),\n",
    "        \"Node\": pd.Series(\n",
    "            [\n",
    "                2,\n",
    "            ],\n",
    "            dtype=int,\n",
    "        ),\n",
    "        \"Force_X\": pd.Series(\n",
    "            [\n",
    "                100e3,\n",
    "            ],\n",
    "            dtype=float,\n",
    "        ),\n",
    "        \"Force_Y\": pd.Series(\n",
    "            [\n",
    "                0,\n",
    "            ],\n",
    "            dtype=float,\n",
    "        ),\n",
    "        \"Force_Z\": pd.Series(\n",
    "            [\n",
    "                -100e3,\n",
    "            ],\n",
    "            dtype=float,\n",
    "        ),\n",
    "    }\n",
    ")"
   ]
  },
  {
   "cell_type": "code",
   "execution_count": null,
   "id": "115c336a-347c-4ff3-8bb3-9194d5e49bf4",
   "metadata": {},
   "outputs": [
    {
     "data": {
      "text/html": [
       "<style type=\"text/css\">\n",
       "</style>\n",
       "<table id=\"T_d8818\">\n",
       "  <thead>\n",
       "    <tr>\n",
       "      <th id=\"T_d8818_level0_col0\" class=\"col_heading level0 col0\" >Point_Load</th>\n",
       "      <th id=\"T_d8818_level0_col1\" class=\"col_heading level0 col1\" >Node</th>\n",
       "      <th id=\"T_d8818_level0_col2\" class=\"col_heading level0 col2\" >Force_X</th>\n",
       "      <th id=\"T_d8818_level0_col3\" class=\"col_heading level0 col3\" >Force_Y</th>\n",
       "      <th id=\"T_d8818_level0_col4\" class=\"col_heading level0 col4\" >Force_Z</th>\n",
       "    </tr>\n",
       "  </thead>\n",
       "  <tbody>\n",
       "    <tr>\n",
       "      <td id=\"T_d8818_row0_col0\" class=\"data row0 col0\" >1</td>\n",
       "      <td id=\"T_d8818_row0_col1\" class=\"data row0 col1\" >2</td>\n",
       "      <td id=\"T_d8818_row0_col2\" class=\"data row0 col2\" >100000.000000</td>\n",
       "      <td id=\"T_d8818_row0_col3\" class=\"data row0 col3\" >0.000000</td>\n",
       "      <td id=\"T_d8818_row0_col4\" class=\"data row0 col4\" >-100000.000000</td>\n",
       "    </tr>\n",
       "  </tbody>\n",
       "</table>\n"
      ],
      "text/plain": [
       "<pandas.io.formats.style.Styler>"
      ]
     },
     "execution_count": null,
     "metadata": {},
     "output_type": "execute_result"
    }
   ],
   "source": [
    "point_loads.style.hide(axis=\"index\")"
   ]
  },
  {
   "cell_type": "code",
   "execution_count": null,
   "id": "65e49a03-fe3a-43f4-81b2-c20495253e1c",
   "metadata": {},
   "outputs": [],
   "source": [
    "# | export\n",
    "load_groups = pd.DataFrame(\n",
    "    {\n",
    "        \"Load_Group\": pd.Series(\n",
    "            [\n",
    "                1,\n",
    "            ],\n",
    "            dtype=int,\n",
    "        ),\n",
    "        \"Point_Load\": pd.Series(\n",
    "            [\n",
    "                1,\n",
    "            ],\n",
    "            dtype=int,\n",
    "        ),\n",
    "    }\n",
    ")"
   ]
  },
  {
   "cell_type": "code",
   "execution_count": null,
   "id": "73e6458f-85ad-439b-91e8-06f9eabd047c",
   "metadata": {},
   "outputs": [
    {
     "data": {
      "text/html": [
       "<style type=\"text/css\">\n",
       "</style>\n",
       "<table id=\"T_2525f\">\n",
       "  <thead>\n",
       "    <tr>\n",
       "      <th id=\"T_2525f_level0_col0\" class=\"col_heading level0 col0\" >Load_Group</th>\n",
       "      <th id=\"T_2525f_level0_col1\" class=\"col_heading level0 col1\" >Point_Load</th>\n",
       "    </tr>\n",
       "  </thead>\n",
       "  <tbody>\n",
       "    <tr>\n",
       "      <td id=\"T_2525f_row0_col0\" class=\"data row0 col0\" >1</td>\n",
       "      <td id=\"T_2525f_row0_col1\" class=\"data row0 col1\" >1</td>\n",
       "    </tr>\n",
       "  </tbody>\n",
       "</table>\n"
      ],
      "text/plain": [
       "<pandas.io.formats.style.Styler>"
      ]
     },
     "execution_count": null,
     "metadata": {},
     "output_type": "execute_result"
    }
   ],
   "source": [
    "load_groups.style.hide(axis=\"index\")"
   ]
  },
  {
   "cell_type": "code",
   "execution_count": null,
   "id": "9aefde38-0e19-41f2-b7a3-34a10c395282",
   "metadata": {},
   "outputs": [],
   "source": [
    "# | export\n",
    "dfs = {\n",
    "    \"nodes\": nodes,\n",
    "    \"bars\": bars,\n",
    "    \"point_loads\": point_loads,\n",
    "    \"load_groups\": load_groups,\n",
    "}"
   ]
  },
  {
   "cell_type": "code",
   "execution_count": null,
   "id": "6fc47dae-14e1-407e-a267-9b94cd5f02df",
   "metadata": {},
   "outputs": [],
   "source": [
    "# | hide\n",
    "nbdev.nbdev_export()"
   ]
  }
 ],
 "metadata": {
  "kernelspec": {
   "display_name": "python3",
   "language": "python",
   "name": "python3"
  }
 },
 "nbformat": 4,
 "nbformat_minor": 5
}
