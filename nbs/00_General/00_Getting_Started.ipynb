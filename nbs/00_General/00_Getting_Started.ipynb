{
 "cells": [
  {
   "cell_type": "markdown",
   "id": "fda42cd1-9e58-4a12-b956-1479ae6d795e",
   "metadata": {},
   "source": [
    "# Getting Started\n",
    "\n",
    "> This guide will help you to get started with IfcTruss\n"
   ]
  },
  {
   "cell_type": "markdown",
   "id": "e0f5034d-29a7-4997-aa5b-8f9f8e3c5c22",
   "metadata": {},
   "source": [
    "## Installation\n",
    "\n",
    "The only thing you need to install IfcTruss is Python itself. The minimum Python version required is 3.11.\n",
    "\n",
    "```sh\n",
    "pip install ifctruss\n",
    "```\n",
    "\n",
    "For more information, see [Installation](01_Installation.ipynb)"
   ]
  },
  {
   "cell_type": "markdown",
   "id": "920e6d0e-4180-4796-b872-7fd165df0fe2",
   "metadata": {},
   "source": [
    "## Tutorial"
   ]
  },
  {
   "cell_type": "markdown",
   "id": "a8cd30ed-5612-4592-97df-a8c87ed41dc8",
   "metadata": {},
   "source": [
    "Here, we will show you how to use this library. First import the following library."
   ]
  },
  {
   "cell_type": "code",
   "execution_count": null,
   "id": "afb88798-63cc-4943-9acb-95436d29b8c5",
   "metadata": {},
   "outputs": [],
   "source": [
    "import ifcopenshell\n",
    "import ifctruss\n",
    "import pandas as pd"
   ]
  },
  {
   "cell_type": "markdown",
   "id": "9e2d070b-363f-4e1d-b291-62d3423cec99",
   "metadata": {},
   "source": [
    "### Build"
   ]
  },
  {
   "cell_type": "markdown",
   "id": "e09f7705-2128-43b2-b229-2a4802fe88ea",
   "metadata": {},
   "source": [
    "To construct an IFC from scratch, we will utilize the `build` function of `ifctruss`. For this aim, we need first to create three DataFrame's with information regarding the nodes, bars, and point loads:"
   ]
  },
  {
   "cell_type": "code",
   "execution_count": null,
   "id": "87689741-1ac5-44d9-ada8-5fa17b63e0c6",
   "metadata": {},
   "outputs": [
    {
     "data": {
      "text/html": [
       "<div>\n",
       "<style scoped>\n",
       "    .dataframe tbody tr th:only-of-type {\n",
       "        vertical-align: middle;\n",
       "    }\n",
       "\n",
       "    .dataframe tbody tr th {\n",
       "        vertical-align: top;\n",
       "    }\n",
       "\n",
       "    .dataframe thead th {\n",
       "        text-align: right;\n",
       "    }\n",
       "</style>\n",
       "<table border=\"1\" class=\"dataframe\">\n",
       "  <thead>\n",
       "    <tr style=\"text-align: right;\">\n",
       "      <th></th>\n",
       "      <th>Node</th>\n",
       "      <th>Coordinate_X</th>\n",
       "      <th>Coordinate_Y</th>\n",
       "      <th>Coordinate_Z</th>\n",
       "      <th>Translational_X</th>\n",
       "      <th>Translational_Y</th>\n",
       "      <th>Translational_Z</th>\n",
       "    </tr>\n",
       "  </thead>\n",
       "  <tbody>\n",
       "    <tr>\n",
       "      <th>0</th>\n",
       "      <td>2</td>\n",
       "      <td>0.0</td>\n",
       "      <td>0.0</td>\n",
       "      <td>3000.0</td>\n",
       "      <td>False</td>\n",
       "      <td>True</td>\n",
       "      <td>False</td>\n",
       "    </tr>\n",
       "    <tr>\n",
       "      <th>1</th>\n",
       "      <td>1</td>\n",
       "      <td>0.0</td>\n",
       "      <td>0.0</td>\n",
       "      <td>0.0</td>\n",
       "      <td>True</td>\n",
       "      <td>True</td>\n",
       "      <td>True</td>\n",
       "    </tr>\n",
       "    <tr>\n",
       "      <th>2</th>\n",
       "      <td>3</td>\n",
       "      <td>-4000.0</td>\n",
       "      <td>0.0</td>\n",
       "      <td>3000.0</td>\n",
       "      <td>True</td>\n",
       "      <td>True</td>\n",
       "      <td>True</td>\n",
       "    </tr>\n",
       "    <tr>\n",
       "      <th>3</th>\n",
       "      <td>4</td>\n",
       "      <td>-4000.0</td>\n",
       "      <td>0.0</td>\n",
       "      <td>6000.0</td>\n",
       "      <td>True</td>\n",
       "      <td>True</td>\n",
       "      <td>True</td>\n",
       "    </tr>\n",
       "  </tbody>\n",
       "</table>\n",
       "</div>"
      ],
      "text/plain": [
       "   Node  Coordinate_X  Coordinate_Y  Coordinate_Z  Translational_X  \\\n",
       "0     2           0.0           0.0        3000.0            False   \n",
       "1     1           0.0           0.0           0.0             True   \n",
       "2     3       -4000.0           0.0        3000.0             True   \n",
       "3     4       -4000.0           0.0        6000.0             True   \n",
       "\n",
       "   Translational_Y  Translational_Z  \n",
       "0             True            False  \n",
       "1             True             True  \n",
       "2             True             True  \n",
       "3             True             True  "
      ]
     },
     "execution_count": null,
     "metadata": {},
     "output_type": "execute_result"
    }
   ],
   "source": [
    "nodes = pd.DataFrame(\n",
    "    {\n",
    "        \"Node\": pd.Series([2, 1, 3, 4], dtype=int),\n",
    "        \"Coordinate_X\": pd.Series([0, 0, -4e3, -4e3], dtype=float),\n",
    "        \"Coordinate_Y\": pd.Series([0, 0, 0, 0], dtype=float),\n",
    "        \"Coordinate_Z\": pd.Series([3e3, 0, 3e3, 6e3], dtype=float),\n",
    "        \"Translational_X\": pd.Series([0, 1, 1, 1], dtype=bool),\n",
    "        \"Translational_Y\": pd.Series([1, 1, 1, 1], dtype=bool),\n",
    "        \"Translational_Z\": pd.Series([0, 1, 1, 1], dtype=bool),\n",
    "    }\n",
    ")\n",
    "\n",
    "nodes"
   ]
  },
  {
   "cell_type": "code",
   "execution_count": null,
   "id": "b36821a6-71e7-46a9-ae82-f5557b25afec",
   "metadata": {},
   "outputs": [
    {
     "data": {
      "text/html": [
       "<div>\n",
       "<style scoped>\n",
       "    .dataframe tbody tr th:only-of-type {\n",
       "        vertical-align: middle;\n",
       "    }\n",
       "\n",
       "    .dataframe tbody tr th {\n",
       "        vertical-align: top;\n",
       "    }\n",
       "\n",
       "    .dataframe thead th {\n",
       "        text-align: right;\n",
       "    }\n",
       "</style>\n",
       "<table border=\"1\" class=\"dataframe\">\n",
       "  <thead>\n",
       "    <tr style=\"text-align: right;\">\n",
       "      <th></th>\n",
       "      <th>Bar</th>\n",
       "      <th>Start_node</th>\n",
       "      <th>End_node</th>\n",
       "      <th>Cross-sectional_area</th>\n",
       "      <th>Modulus_of_elasticity</th>\n",
       "    </tr>\n",
       "  </thead>\n",
       "  <tbody>\n",
       "    <tr>\n",
       "      <th>0</th>\n",
       "      <td>1</td>\n",
       "      <td>2</td>\n",
       "      <td>1</td>\n",
       "      <td>1000.0</td>\n",
       "      <td>1000.0</td>\n",
       "    </tr>\n",
       "    <tr>\n",
       "      <th>1</th>\n",
       "      <td>2</td>\n",
       "      <td>2</td>\n",
       "      <td>3</td>\n",
       "      <td>1000.0</td>\n",
       "      <td>1000.0</td>\n",
       "    </tr>\n",
       "    <tr>\n",
       "      <th>2</th>\n",
       "      <td>3</td>\n",
       "      <td>2</td>\n",
       "      <td>4</td>\n",
       "      <td>1000.0</td>\n",
       "      <td>1000.0</td>\n",
       "    </tr>\n",
       "  </tbody>\n",
       "</table>\n",
       "</div>"
      ],
      "text/plain": [
       "   Bar  Start_node  End_node  Cross-sectional_area  Modulus_of_elasticity\n",
       "0    1           2         1                1000.0                 1000.0\n",
       "1    2           2         3                1000.0                 1000.0\n",
       "2    3           2         4                1000.0                 1000.0"
      ]
     },
     "execution_count": null,
     "metadata": {},
     "output_type": "execute_result"
    }
   ],
   "source": [
    "bars = pd.DataFrame(\n",
    "    {\n",
    "        \"Bar\": pd.Series([1, 2, 3], dtype=int),\n",
    "        \"Start_node\": pd.Series([2, 2, 2], dtype=int),\n",
    "        \"End_node\": pd.Series([1, 3, 4], dtype=int),\n",
    "        \"Cross-sectional_area\": pd.Series([1e3, 1e3, 1e3], dtype=float),\n",
    "        \"Modulus_of_elasticity\": pd.Series([1e3, 1e3, 1e3], dtype=float),\n",
    "    }\n",
    ")\n",
    "\n",
    "bars"
   ]
  },
  {
   "cell_type": "code",
   "execution_count": null,
   "id": "c12f9966-d066-4555-9a70-69c36fcebe56",
   "metadata": {},
   "outputs": [
    {
     "data": {
      "text/html": [
       "<div>\n",
       "<style scoped>\n",
       "    .dataframe tbody tr th:only-of-type {\n",
       "        vertical-align: middle;\n",
       "    }\n",
       "\n",
       "    .dataframe tbody tr th {\n",
       "        vertical-align: top;\n",
       "    }\n",
       "\n",
       "    .dataframe thead th {\n",
       "        text-align: right;\n",
       "    }\n",
       "</style>\n",
       "<table border=\"1\" class=\"dataframe\">\n",
       "  <thead>\n",
       "    <tr style=\"text-align: right;\">\n",
       "      <th></th>\n",
       "      <th>Point_Load</th>\n",
       "      <th>Node</th>\n",
       "      <th>Force_X</th>\n",
       "      <th>Force_Y</th>\n",
       "      <th>Force_Z</th>\n",
       "    </tr>\n",
       "  </thead>\n",
       "  <tbody>\n",
       "    <tr>\n",
       "      <th>0</th>\n",
       "      <td>1</td>\n",
       "      <td>2</td>\n",
       "      <td>100000.0</td>\n",
       "      <td>0.0</td>\n",
       "      <td>-100000.0</td>\n",
       "    </tr>\n",
       "  </tbody>\n",
       "</table>\n",
       "</div>"
      ],
      "text/plain": [
       "   Point_Load  Node   Force_X  Force_Y   Force_Z\n",
       "0           1     2  100000.0      0.0 -100000.0"
      ]
     },
     "execution_count": null,
     "metadata": {},
     "output_type": "execute_result"
    }
   ],
   "source": [
    "point_loads = pd.DataFrame(\n",
    "    {\n",
    "        # fmt: off\n",
    "    \"Point_Load\": pd.Series([1,], dtype=int,),\n",
    "    \"Node\": pd.Series([2,], dtype=int,),\n",
    "    \"Force_X\": pd.Series([100e3,], dtype=float,),\n",
    "    \"Force_Y\": pd.Series([0,], dtype=float,),\n",
    "    \"Force_Z\": pd.Series([-100e3,], dtype=float,),\n",
    "        # fmt: on\n",
    "    }\n",
    ")\n",
    "point_loads"
   ]
  },
  {
   "cell_type": "markdown",
   "id": "2ca58409-a921-4fb8-950e-370850b3caf5",
   "metadata": {},
   "source": [
    "Important is that the column names are the same as in this tutorial, if not, the `build` function will not recognize the information in the DataFrame's. The right-hand rule is used for the coordinate system."
   ]
  },
  {
   "cell_type": "markdown",
   "id": "87616bed-9091-4454-b462-1adacb7e8b39",
   "metadata": {},
   "source": [
    "![Left and right handed coordinate systems (Qniemiec, CC0, via Wikimedia Commons)](Coordinate_system_R_L.svg){#fig-coor-system}"
   ]
  },
  {
   "cell_type": "code",
   "execution_count": null,
   "id": "6229b0c8-a68d-4c99-8910-c06ab5e4df9a",
   "metadata": {},
   "outputs": [],
   "source": [
    "model = ifctruss.build(nodes=nodes, bars=bars, point_loads=point_loads)"
   ]
  },
  {
   "cell_type": "code",
   "execution_count": null,
   "id": "2c0ca0b2-c252-4239-9ee1-1af70084ee48",
   "metadata": {},
   "outputs": [
    {
     "data": {
      "text/plain": [
       "ifcopenshell.file.file"
      ]
     },
     "execution_count": null,
     "metadata": {},
     "output_type": "execute_result"
    }
   ],
   "source": [
    "type(model)"
   ]
  },
  {
   "cell_type": "markdown",
   "id": "5f6f2599-e84f-4e18-ac66-0a6321f43568",
   "metadata": {},
   "source": [
    "That's it, now you got your ifc! You can also save it to disk."
   ]
  },
  {
   "cell_type": "code",
   "execution_count": null,
   "id": "21086650-ce6e-4113-9817-3eafe90341b0",
   "metadata": {},
   "outputs": [],
   "source": [
    "model.write(\"tutorial.ifc\")"
   ]
  },
  {
   "cell_type": "markdown",
   "id": "6d4f9f1d-a7a3-4782-924c-8946609c6447",
   "metadata": {},
   "source": [
    "::: {.callout-tip}\n",
    "IfcOpenShell provides other cool features you can use instead of simply saving the ifc model to the hard drive. See the [documentation of IfcOpenShell](https://blenderbim.org/docs-python/ifcopenshell-python/hello_world.html) for further examples.\n",
    ":::"
   ]
  },
  {
   "cell_type": "markdown",
   "id": "ce8db8a8-e59e-47f2-bc70-f0ffea73a1e1",
   "metadata": {},
   "source": [
    "To view the created ifc file, click [here](https://github.com/IfcTruss/IfcTruss/blob/main/nbs/00_General/tutorial.ifc)."
   ]
  },
  {
   "cell_type": "markdown",
   "id": "62b2473a-e962-4fd5-a312-7cb18d591e48",
   "metadata": {},
   "source": [
    "### Build using spreadsheet format ods and xlsx"
   ]
  },
  {
   "cell_type": "markdown",
   "id": "fab74bdb-4f72-482a-aae2-96d4ab7b7a32",
   "metadata": {},
   "source": [
    "There are many other way's to create a DataFrame that is possible with `pandas`. One of them is through .ods/.xlsx spreadsheet files. For this, this library provides some helper functions. First install the [optional dependencies](01_Installation.ipynb#optional-dependencies) for ods and xlsx. Subsequently, create a .ods/xlsx template file through this function:"
   ]
  },
  {
   "cell_type": "code",
   "execution_count": null,
   "id": "1d05d390-255e-4775-91ac-e32d76c4ca28",
   "metadata": {},
   "outputs": [],
   "source": [
    "ifctruss.save_ods_template(ods_path=\"tutorial.ods\")"
   ]
  },
  {
   "cell_type": "code",
   "execution_count": null,
   "id": "e37de6c7-bed7-4c53-afb8-a4a51850a74c",
   "metadata": {},
   "outputs": [],
   "source": [
    "ifctruss.save_xlsx_template(xlsx_path=\"tutorial.xlsx\")"
   ]
  },
  {
   "cell_type": "markdown",
   "id": "23672ee4-ff10-43b9-9f0f-fe9308280efc",
   "metadata": {},
   "source": [
    "Now you can change in your spreadsheet application the values in the rows or create new rows. Don't change the column name!"
   ]
  },
  {
   "cell_type": "code",
   "execution_count": null,
   "id": "96737882-3c5b-4d5e-936b-6b232e00bdd9",
   "metadata": {},
   "outputs": [],
   "source": [
    "model = ifctruss.build_from_ods(ods_path=\"tutorial.ods\")"
   ]
  },
  {
   "cell_type": "code",
   "execution_count": null,
   "id": "35ace07b-6dea-4575-81e8-2c5274d1c12b",
   "metadata": {},
   "outputs": [],
   "source": [
    "model = ifctruss.build_from_xlsx(xlsx_path=\"tutorial.xlsx\")"
   ]
  },
  {
   "cell_type": "code",
   "execution_count": null,
   "id": "2ade1320-b089-406d-afee-942e28e7c30b",
   "metadata": {},
   "outputs": [
    {
     "data": {
      "text/plain": [
       "ifcopenshell.file.file"
      ]
     },
     "execution_count": null,
     "metadata": {},
     "output_type": "execute_result"
    }
   ],
   "source": [
    "type(model)"
   ]
  },
  {
   "cell_type": "markdown",
   "id": "48774e61-eb95-48e1-b16e-53b73ab6539b",
   "metadata": {},
   "source": [
    "### View"
   ]
  },
  {
   "cell_type": "markdown",
   "id": "e49d5d04-c29f-4a50-91e7-391591484be5",
   "metadata": {},
   "source": [
    "So now you got your ifc file. However, it is really difficult to view your ifc file in a text editor and understand the information from the ifc file regarding your truss model. For this aim, there is the `view` function from `ifctruss`."
   ]
  },
  {
   "cell_type": "code",
   "execution_count": null,
   "id": "7eb13f5d-66d6-49fc-915a-7bee929e8b63",
   "metadata": {},
   "outputs": [],
   "source": [
    "model = ifcopenshell.open(\"tutorial.ifc\")"
   ]
  },
  {
   "cell_type": "code",
   "execution_count": null,
   "id": "1855ce71-a8d6-417c-b138-8a4697cfd16d",
   "metadata": {},
   "outputs": [],
   "source": [
    "dfs = ifctruss.view(model)"
   ]
  },
  {
   "cell_type": "code",
   "execution_count": null,
   "id": "554209d5-c25f-4af2-805e-cfafd2d4f334",
   "metadata": {},
   "outputs": [
    {
     "data": {
      "text/html": [
       "<div>\n",
       "<style scoped>\n",
       "    .dataframe tbody tr th:only-of-type {\n",
       "        vertical-align: middle;\n",
       "    }\n",
       "\n",
       "    .dataframe tbody tr th {\n",
       "        vertical-align: top;\n",
       "    }\n",
       "\n",
       "    .dataframe thead th {\n",
       "        text-align: right;\n",
       "    }\n",
       "</style>\n",
       "<table border=\"1\" class=\"dataframe\">\n",
       "  <thead>\n",
       "    <tr style=\"text-align: right;\">\n",
       "      <th></th>\n",
       "      <th>Node</th>\n",
       "      <th>Coordinate_X</th>\n",
       "      <th>Coordinate_Y</th>\n",
       "      <th>Coordinate_Z</th>\n",
       "      <th>Translational_X</th>\n",
       "      <th>Translational_Y</th>\n",
       "      <th>Translational_Z</th>\n",
       "    </tr>\n",
       "  </thead>\n",
       "  <tbody>\n",
       "    <tr>\n",
       "      <th>0</th>\n",
       "      <td>0B1vdFdYn6OAtmCzta63Fv</td>\n",
       "      <td>0.0</td>\n",
       "      <td>0.0</td>\n",
       "      <td>3000.0</td>\n",
       "      <td>False</td>\n",
       "      <td>True</td>\n",
       "      <td>False</td>\n",
       "    </tr>\n",
       "    <tr>\n",
       "      <th>1</th>\n",
       "      <td>20teRywIv32PIVE_QfcH5$</td>\n",
       "      <td>0.0</td>\n",
       "      <td>0.0</td>\n",
       "      <td>0.0</td>\n",
       "      <td>True</td>\n",
       "      <td>True</td>\n",
       "      <td>True</td>\n",
       "    </tr>\n",
       "    <tr>\n",
       "      <th>2</th>\n",
       "      <td>386TUURITCQgK4gvU3ZUev</td>\n",
       "      <td>-4000.0</td>\n",
       "      <td>0.0</td>\n",
       "      <td>3000.0</td>\n",
       "      <td>True</td>\n",
       "      <td>True</td>\n",
       "      <td>True</td>\n",
       "    </tr>\n",
       "    <tr>\n",
       "      <th>3</th>\n",
       "      <td>0jpZm3fSf68vqfLl5AXCjn</td>\n",
       "      <td>-4000.0</td>\n",
       "      <td>0.0</td>\n",
       "      <td>6000.0</td>\n",
       "      <td>True</td>\n",
       "      <td>True</td>\n",
       "      <td>True</td>\n",
       "    </tr>\n",
       "  </tbody>\n",
       "</table>\n",
       "</div>"
      ],
      "text/plain": [
       "                     Node  Coordinate_X  Coordinate_Y  Coordinate_Z  \\\n",
       "0  0B1vdFdYn6OAtmCzta63Fv           0.0           0.0        3000.0   \n",
       "1  20teRywIv32PIVE_QfcH5$           0.0           0.0           0.0   \n",
       "2  386TUURITCQgK4gvU3ZUev       -4000.0           0.0        3000.0   \n",
       "3  0jpZm3fSf68vqfLl5AXCjn       -4000.0           0.0        6000.0   \n",
       "\n",
       "   Translational_X  Translational_Y  Translational_Z  \n",
       "0            False             True            False  \n",
       "1             True             True             True  \n",
       "2             True             True             True  \n",
       "3             True             True             True  "
      ]
     },
     "execution_count": null,
     "metadata": {},
     "output_type": "execute_result"
    }
   ],
   "source": [
    "dfs.nodes"
   ]
  },
  {
   "cell_type": "code",
   "execution_count": null,
   "id": "606d9069-ee73-4927-95ea-8f23573eb9df",
   "metadata": {},
   "outputs": [
    {
     "data": {
      "text/html": [
       "<div>\n",
       "<style scoped>\n",
       "    .dataframe tbody tr th:only-of-type {\n",
       "        vertical-align: middle;\n",
       "    }\n",
       "\n",
       "    .dataframe tbody tr th {\n",
       "        vertical-align: top;\n",
       "    }\n",
       "\n",
       "    .dataframe thead th {\n",
       "        text-align: right;\n",
       "    }\n",
       "</style>\n",
       "<table border=\"1\" class=\"dataframe\">\n",
       "  <thead>\n",
       "    <tr style=\"text-align: right;\">\n",
       "      <th></th>\n",
       "      <th>Bar</th>\n",
       "      <th>Start_node</th>\n",
       "      <th>End_node</th>\n",
       "      <th>Cross-sectional_area</th>\n",
       "      <th>Modulus_of_elasticity</th>\n",
       "    </tr>\n",
       "  </thead>\n",
       "  <tbody>\n",
       "    <tr>\n",
       "      <th>0</th>\n",
       "      <td>2WXZhASeL2vgX6m7R1Fz4m</td>\n",
       "      <td>0B1vdFdYn6OAtmCzta63Fv</td>\n",
       "      <td>20teRywIv32PIVE_QfcH5$</td>\n",
       "      <td>1000.0</td>\n",
       "      <td>1000.0</td>\n",
       "    </tr>\n",
       "    <tr>\n",
       "      <th>1</th>\n",
       "      <td>0sDI9H53fBhP4Qiq7QSKzj</td>\n",
       "      <td>0B1vdFdYn6OAtmCzta63Fv</td>\n",
       "      <td>386TUURITCQgK4gvU3ZUev</td>\n",
       "      <td>1000.0</td>\n",
       "      <td>1000.0</td>\n",
       "    </tr>\n",
       "    <tr>\n",
       "      <th>2</th>\n",
       "      <td>1nr3Q4pkDEjeG6YjaSgwtj</td>\n",
       "      <td>0B1vdFdYn6OAtmCzta63Fv</td>\n",
       "      <td>0jpZm3fSf68vqfLl5AXCjn</td>\n",
       "      <td>1000.0</td>\n",
       "      <td>1000.0</td>\n",
       "    </tr>\n",
       "  </tbody>\n",
       "</table>\n",
       "</div>"
      ],
      "text/plain": [
       "                      Bar              Start_node                End_node  \\\n",
       "0  2WXZhASeL2vgX6m7R1Fz4m  0B1vdFdYn6OAtmCzta63Fv  20teRywIv32PIVE_QfcH5$   \n",
       "1  0sDI9H53fBhP4Qiq7QSKzj  0B1vdFdYn6OAtmCzta63Fv  386TUURITCQgK4gvU3ZUev   \n",
       "2  1nr3Q4pkDEjeG6YjaSgwtj  0B1vdFdYn6OAtmCzta63Fv  0jpZm3fSf68vqfLl5AXCjn   \n",
       "\n",
       "   Cross-sectional_area  Modulus_of_elasticity  \n",
       "0                1000.0                 1000.0  \n",
       "1                1000.0                 1000.0  \n",
       "2                1000.0                 1000.0  "
      ]
     },
     "execution_count": null,
     "metadata": {},
     "output_type": "execute_result"
    }
   ],
   "source": [
    "dfs.bars"
   ]
  },
  {
   "cell_type": "code",
   "execution_count": null,
   "id": "ca19771a-3b2e-4112-93ac-0929881736de",
   "metadata": {},
   "outputs": [
    {
     "data": {
      "text/html": [
       "<div>\n",
       "<style scoped>\n",
       "    .dataframe tbody tr th:only-of-type {\n",
       "        vertical-align: middle;\n",
       "    }\n",
       "\n",
       "    .dataframe tbody tr th {\n",
       "        vertical-align: top;\n",
       "    }\n",
       "\n",
       "    .dataframe thead th {\n",
       "        text-align: right;\n",
       "    }\n",
       "</style>\n",
       "<table border=\"1\" class=\"dataframe\">\n",
       "  <thead>\n",
       "    <tr style=\"text-align: right;\">\n",
       "      <th></th>\n",
       "      <th>Point_Load</th>\n",
       "      <th>Node</th>\n",
       "      <th>Force_X</th>\n",
       "      <th>Force_Y</th>\n",
       "      <th>Force_Z</th>\n",
       "    </tr>\n",
       "  </thead>\n",
       "  <tbody>\n",
       "    <tr>\n",
       "      <th>0</th>\n",
       "      <td>0hodc_yBv7sByAX4IJNWYZ</td>\n",
       "      <td>0B1vdFdYn6OAtmCzta63Fv</td>\n",
       "      <td>100000.0</td>\n",
       "      <td>0.0</td>\n",
       "      <td>-100000.0</td>\n",
       "    </tr>\n",
       "  </tbody>\n",
       "</table>\n",
       "</div>"
      ],
      "text/plain": [
       "               Point_Load                    Node   Force_X  Force_Y   Force_Z\n",
       "0  0hodc_yBv7sByAX4IJNWYZ  0B1vdFdYn6OAtmCzta63Fv  100000.0      0.0 -100000.0"
      ]
     },
     "execution_count": null,
     "metadata": {},
     "output_type": "execute_result"
    }
   ],
   "source": [
    "dfs.point_loads"
   ]
  },
  {
   "cell_type": "markdown",
   "id": "bfa0c0f2-98e3-4646-945e-f50acf46a97f",
   "metadata": {},
   "source": [
    "Voilà! You can view your data in DataFrame's. "
   ]
  },
  {
   "cell_type": "markdown",
   "id": "94af45b5-98ca-4803-a5e8-d356d9290b25",
   "metadata": {},
   "source": [
    "### Solve"
   ]
  },
  {
   "cell_type": "markdown",
   "id": "a2702238-1b9e-4641-ac01-d128d935c20c",
   "metadata": {},
   "source": [
    "With `ifctruss` it is also possible to solve your truss model! Simply do:"
   ]
  },
  {
   "cell_type": "code",
   "execution_count": null,
   "id": "d919e4da-46b4-47eb-9e75-54be6f8f8882",
   "metadata": {},
   "outputs": [],
   "source": [
    "ifctruss.solve(model)"
   ]
  },
  {
   "cell_type": "markdown",
   "id": "8e6f1738-158b-46a9-a052-9ec3f5493d8c",
   "metadata": {},
   "source": [
    "And now view the result:"
   ]
  },
  {
   "cell_type": "code",
   "execution_count": null,
   "id": "a3e89d01-b7c5-4a7f-a648-142b8ee4ab05",
   "metadata": {},
   "outputs": [],
   "source": [
    "dfs = ifctruss.view(model, result_group=True)"
   ]
  },
  {
   "cell_type": "code",
   "execution_count": null,
   "id": "2a43ee13-e530-410d-8c60-e4349fd00d8e",
   "metadata": {},
   "outputs": [
    {
     "data": {
      "text/html": [
       "<div>\n",
       "<style scoped>\n",
       "    .dataframe tbody tr th:only-of-type {\n",
       "        vertical-align: middle;\n",
       "    }\n",
       "\n",
       "    .dataframe tbody tr th {\n",
       "        vertical-align: top;\n",
       "    }\n",
       "\n",
       "    .dataframe thead th {\n",
       "        text-align: right;\n",
       "    }\n",
       "</style>\n",
       "<table border=\"1\" class=\"dataframe\">\n",
       "  <thead>\n",
       "    <tr style=\"text-align: right;\">\n",
       "      <th></th>\n",
       "      <th>Node</th>\n",
       "      <th>Displacement_X</th>\n",
       "      <th>Displacement_Y</th>\n",
       "      <th>Displacement_Z</th>\n",
       "    </tr>\n",
       "  </thead>\n",
       "  <tbody>\n",
       "    <tr>\n",
       "      <th>0</th>\n",
       "      <td>0B1vdFdYn6OAtmCzta63Fv</td>\n",
       "      <td>214.814815</td>\n",
       "      <td>0.0</td>\n",
       "      <td>-195.833333</td>\n",
       "    </tr>\n",
       "  </tbody>\n",
       "</table>\n",
       "</div>"
      ],
      "text/plain": [
       "                     Node  Displacement_X  Displacement_Y  Displacement_Z\n",
       "0  0B1vdFdYn6OAtmCzta63Fv      214.814815             0.0     -195.833333"
      ]
     },
     "execution_count": null,
     "metadata": {},
     "output_type": "execute_result"
    }
   ],
   "source": [
    "dfs.displacments"
   ]
  },
  {
   "cell_type": "code",
   "execution_count": null,
   "id": "4a190d50-f937-4b62-a43e-71c4bc70660e",
   "metadata": {},
   "outputs": [
    {
     "data": {
      "text/html": [
       "<div>\n",
       "<style scoped>\n",
       "    .dataframe tbody tr th:only-of-type {\n",
       "        vertical-align: middle;\n",
       "    }\n",
       "\n",
       "    .dataframe tbody tr th {\n",
       "        vertical-align: top;\n",
       "    }\n",
       "\n",
       "    .dataframe thead th {\n",
       "        text-align: right;\n",
       "    }\n",
       "</style>\n",
       "<table border=\"1\" class=\"dataframe\">\n",
       "  <thead>\n",
       "    <tr style=\"text-align: right;\">\n",
       "      <th></th>\n",
       "      <th>Node</th>\n",
       "      <th>Force_X</th>\n",
       "      <th>Force_Y</th>\n",
       "      <th>Force_Z</th>\n",
       "    </tr>\n",
       "  </thead>\n",
       "  <tbody>\n",
       "    <tr>\n",
       "      <th>0</th>\n",
       "      <td>20teRywIv32PIVE_QfcH5$</td>\n",
       "      <td>0.000000</td>\n",
       "      <td>0.0</td>\n",
       "      <td>65277.777778</td>\n",
       "    </tr>\n",
       "    <tr>\n",
       "      <th>1</th>\n",
       "      <td>386TUURITCQgK4gvU3ZUev</td>\n",
       "      <td>-53703.703704</td>\n",
       "      <td>0.0</td>\n",
       "      <td>0.000000</td>\n",
       "    </tr>\n",
       "    <tr>\n",
       "      <th>2</th>\n",
       "      <td>0jpZm3fSf68vqfLl5AXCjn</td>\n",
       "      <td>-46296.296296</td>\n",
       "      <td>0.0</td>\n",
       "      <td>34722.222222</td>\n",
       "    </tr>\n",
       "  </tbody>\n",
       "</table>\n",
       "</div>"
      ],
      "text/plain": [
       "                     Node       Force_X  Force_Y       Force_Z\n",
       "0  20teRywIv32PIVE_QfcH5$      0.000000      0.0  65277.777778\n",
       "1  386TUURITCQgK4gvU3ZUev -53703.703704      0.0      0.000000\n",
       "2  0jpZm3fSf68vqfLl5AXCjn -46296.296296      0.0  34722.222222"
      ]
     },
     "execution_count": null,
     "metadata": {},
     "output_type": "execute_result"
    }
   ],
   "source": [
    "dfs.forces"
   ]
  },
  {
   "cell_type": "code",
   "execution_count": null,
   "id": "53bbb426-72b5-4a21-8d5c-bdfcd4b6b24f",
   "metadata": {},
   "outputs": [
    {
     "data": {
      "text/html": [
       "<div>\n",
       "<style scoped>\n",
       "    .dataframe tbody tr th:only-of-type {\n",
       "        vertical-align: middle;\n",
       "    }\n",
       "\n",
       "    .dataframe tbody tr th {\n",
       "        vertical-align: top;\n",
       "    }\n",
       "\n",
       "    .dataframe thead th {\n",
       "        text-align: right;\n",
       "    }\n",
       "</style>\n",
       "<table border=\"1\" class=\"dataframe\">\n",
       "  <thead>\n",
       "    <tr style=\"text-align: right;\">\n",
       "      <th></th>\n",
       "      <th>Bar</th>\n",
       "      <th>Normal_force</th>\n",
       "      <th>Type_of_normal_force</th>\n",
       "    </tr>\n",
       "  </thead>\n",
       "  <tbody>\n",
       "    <tr>\n",
       "      <th>0</th>\n",
       "      <td>2WXZhASeL2vgX6m7R1Fz4m</td>\n",
       "      <td>-65277.777778</td>\n",
       "      <td>Compressive force</td>\n",
       "    </tr>\n",
       "    <tr>\n",
       "      <th>1</th>\n",
       "      <td>0sDI9H53fBhP4Qiq7QSKzj</td>\n",
       "      <td>53703.703704</td>\n",
       "      <td>Tensile force</td>\n",
       "    </tr>\n",
       "    <tr>\n",
       "      <th>2</th>\n",
       "      <td>1nr3Q4pkDEjeG6YjaSgwtj</td>\n",
       "      <td>57870.370370</td>\n",
       "      <td>Tensile force</td>\n",
       "    </tr>\n",
       "  </tbody>\n",
       "</table>\n",
       "</div>"
      ],
      "text/plain": [
       "                      Bar  Normal_force Type_of_normal_force\n",
       "0  2WXZhASeL2vgX6m7R1Fz4m -65277.777778    Compressive force\n",
       "1  0sDI9H53fBhP4Qiq7QSKzj  53703.703704        Tensile force\n",
       "2  1nr3Q4pkDEjeG6YjaSgwtj  57870.370370        Tensile force"
      ]
     },
     "execution_count": null,
     "metadata": {},
     "output_type": "execute_result"
    }
   ],
   "source": [
    "dfs.normal_forces"
   ]
  },
  {
   "cell_type": "code",
   "execution_count": null,
   "id": "1700a913-0f2b-495b-bd19-0afb58af10d4",
   "metadata": {},
   "outputs": [
    {
     "data": {
      "text/plain": [
       "'FIRST_ORDER_THEORY'"
      ]
     },
     "execution_count": null,
     "metadata": {},
     "output_type": "execute_result"
    }
   ],
   "source": [
    "dfs.theory_type"
   ]
  },
  {
   "cell_type": "code",
   "execution_count": null,
   "id": "58c63b58-8add-4102-be62-96789ef1f684",
   "metadata": {},
   "outputs": [
    {
     "data": {
      "text/plain": [
       "True"
      ]
     },
     "execution_count": null,
     "metadata": {},
     "output_type": "execute_result"
    }
   ],
   "source": [
    "dfs.is_linear"
   ]
  },
  {
   "cell_type": "code",
   "execution_count": null,
   "id": "b1f9bea0-19db-4dfa-84cf-6638323593a4",
   "metadata": {},
   "outputs": [],
   "source": [
    "model.write(\"tutorial-with-resutls.ifc\")"
   ]
  },
  {
   "cell_type": "markdown",
   "id": "710faa7b-d0a9-46aa-8296-5f093db3273b",
   "metadata": {},
   "source": [
    "To view the created ifc file, click [here](https://github.com/IfcTruss/IfcTruss/blob/main/nbs/00_General/tutorial-with-resutls.ifc)."
   ]
  }
 ],
 "metadata": {
  "kernelspec": {
   "display_name": "python3",
   "language": "python",
   "name": "python3"
  }
 },
 "nbformat": 4,
 "nbformat_minor": 5
}
