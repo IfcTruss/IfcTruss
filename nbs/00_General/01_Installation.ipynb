{
 "cells": [
  {
   "cell_type": "markdown",
   "id": "42f234bb-59b0-4879-95f2-a40a8ddb56d9",
   "metadata": {},
   "source": [
    "# Installation\n",
    "\n",
    "> All the different ways to install IfcTruss"
   ]
  },
  {
   "cell_type": "markdown",
   "id": "b52ad7ed-c496-449a-91c4-dc215f8e3439",
   "metadata": {},
   "source": [
    "The minimum Python version required is 3.11."
   ]
  },
  {
   "cell_type": "markdown",
   "id": "03b8e44a-a6b7-4fd0-b782-eaee34787411",
   "metadata": {},
   "source": [
    "## pip\n",
    "\n",
    "IfcTruss can be installed via pip from [PyPI](https://pypi.org/).\n",
    "\n",
    "\n",
    "```sh\n",
    "pip install ifctruss\n",
    "```\n",
    "\n",
    "This will install the following minimal dependencies:\n",
    "\n",
    "|    Name    |     Licence    |\n",
    "| -----------| ---------------|\n",
    "| factcore | Apache-2.0 |\n",
    "| IfcOpenShell  | LGPL-3.0-or-later |\n",
    "| Lark | MIT |\n",
    "| NumPy      | Modified BSD-3-Clause |\n",
    "| pandas     | BSD-3-Clause  |\n"
   ]
  },
  {
   "cell_type": "markdown",
   "id": "4076307b-7328-46be-aefb-9d869396a87e",
   "metadata": {},
   "source": [
    "### Optional dependencies"
   ]
  },
  {
   "cell_type": "markdown",
   "id": "76a8d328-9053-4dd5-a952-f15e675f7e0e",
   "metadata": {},
   "source": [
    "#### CALFEM solver\n",
    "\n",
    "```sh\n",
    "pip install \"ifctruss[calfem]\"\n",
    "```\n",
    "\n",
    "This will install in addition to the minimal install dependencies the following dependence:\n",
    "\n",
    "|    Name    |     Licence    |\n",
    "| -----------| ---------------|\n",
    "| CALFEM     | MIT |\n"
   ]
  },
  {
   "cell_type": "markdown",
   "id": "e3a2dfac-1690-4f2c-903c-b4de4481f077",
   "metadata": {},
   "source": [
    "#### OpenDocument Spreadsheet .ods support\n",
    "\n",
    "```sh\n",
    "pip install \"ifctruss[ods]\"\n",
    "```\n",
    "\n",
    "This will install in addition to the minimal install dependencies the following dependence:\n",
    "\n",
    "|    Name    |     Licence    |\n",
    "| -----------| ---------------|\n",
    "| ODFPY     | GPL-2.0-or-later or Apache-2.0 |"
   ]
  },
  {
   "cell_type": "markdown",
   "id": "5240d8a1-3805-4ec9-99da-3ee3d5a127b8",
   "metadata": {},
   "source": [
    "#### Office Open XML Workbook .xlsx support\n",
    "\n",
    "```sh\n",
    "pip install \"ifctruss[xlsx]\"\n",
    "```\n",
    "\n",
    "This will install in addition to the minimal install dependencies the following dependence:\n",
    "\n",
    "|    Name    |     Licence    |\n",
    "| -----------| ---------------|\n",
    "| openpyxl     | MIT |"
   ]
  },
  {
   "cell_type": "code",
   "execution_count": null,
   "id": "e7df1f9d-e4fa-4069-baec-4d5619218345",
   "metadata": {},
   "outputs": [],
   "source": []
  }
 ],
 "metadata": {
  "kernelspec": {
   "display_name": "python3",
   "language": "python",
   "name": "python3"
  }
 },
 "nbformat": 4,
 "nbformat_minor": 5
}
