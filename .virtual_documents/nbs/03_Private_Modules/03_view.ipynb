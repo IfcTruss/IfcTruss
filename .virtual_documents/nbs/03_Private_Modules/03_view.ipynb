


# | default_exp _view


# | export

# Copyright © 2023-2024  IfcTruss Contributors
#
# This program is free software: you can redistribute it and/or modify
# it under the terms of the GNU Lesser General Public License as published by
# the Free Software Foundation, either version 3 of the License, or
# (at your option) any later version.
#
# This program is distributed in the hope that it will be useful,
# but WITHOUT ANY WARRANTY; without even the implied warranty of
# MERCHANTABILITY or FITNESS FOR A PARTICULAR PURPOSE.  See the
# GNU Lesser General Public License for more details.
#
# You should have received a copy of the GNU Lesser General Public License
# along with this program.  If not, see <https://www.gnu.org/licenses/>.


# | hide
import nbdev
import nbdev.showdoc


# | export
from fastcore.basics import patch
import ifcopenshell
import numpy as np
import pandas as pd


import ifctruss._example
import ifctruss.ifctruss


# | export
class View:
    def __init__(
        self,
        model: ifcopenshell.file,
        *,
        structural_analysis_model: str,
        load_group: str
    ):
        self.ifc_model = model
        self.ifc_structural_analysis_model = self.ifc_model.by_guid(
            structural_analysis_model
        )
        self.load_group = self.ifc_model.by_guid(load_group)


dfs = {
    "nodes": ifctruss._example.nodes,
    "bars": ifctruss._example.bars,
    "point_loads": ifctruss._example.point_loads,
}


model = ifctruss.ifctruss.build(**dfs)


model.by_type("IfcStructuralAnalysisModel")


structural_analysis_model = model.by_type("IfcStructuralAnalysisModel")[
    0
].GlobalId


model.by_type("IfcStructuralAnalysisModel")[0].LoadedBy


load_group = (
    model.by_type("IfcStructuralAnalysisModel")[0].LoadedBy[0].GlobalId
)


System = View(
    model,
    structural_analysis_model=structural_analysis_model,
    load_group=load_group,
)


System.load_group


nodes_and_bars = System.ifc_structural_analysis_model.IsGroupedBy[
    0
].RelatedObjects


nodes_and_bars


nodes = [
    (node.GlobalId, node, node.AppliedCondition)
    for node in nodes_and_bars
    if node.is_a("IfcStructuralPointConnection")
]


nodes[0][1].Representation.Representations[0].Items[
    0
].VertexGeometry.Coordinates


type(
    nodes[0][1]
    .Representation.Representations[0]
    .Items[0]
    .VertexGeometry.Coordinates
)


np.array(
    nodes[0][1]
    .Representation.Representations[0]
    .Items[0]
    .VertexGeometry.Coordinates
)


pd.DataFrame(
    nodes, columns=["Node_GlobalId", "Ifc_Nodee", "Node_AppliedCondition"]
)


bars = [
    (bar.GlobalId, bar)
    for bar in nodes_and_bars
    if bar.is_a("IfcStructuralCurveMember")
]


bars[1][1].ConnectedBy


bars[1][1].Representation.Representations[0].Items[
    0
].EdgeStart.VertexGeometry.Coordinates


bars[1][1].HasAssociations[0].RelatingMaterial.MaterialProfiles


# | export
@patch
def get_coordinates(self: View, node):
    coordinates = (
        node.Representation.Representations[0]
        .Items[0]
        .VertexGeometry.Coordinates
    )
    return coordinates


# | export
@patch
def get_translational_x(self: View, node):
    translational_x = node.AppliedCondition.TranslationalStiffnessX[0]
    return translational_x


# | export
@patch
def get_translational_y(self: View, node):
    translational_y = node.AppliedCondition.TranslationalStiffnessY[0]
    return translational_y


# | export
@patch
def get_translational_z(self: View, node):
    translational_z = node.AppliedCondition.TranslationalStiffnessZ[0]
    return translational_z


# | export
@patch
def get_start_node(self: View, bar):
    # This implementation cannot guarantee that it is really the start_node
    # defined by EdgeStart
    start_node = bar.ConnectedBy[0].RelatedStructuralConnection.GlobalId
    return start_node


# | export
@patch
def get_end_node(self: View, bar):
    # This implementation cannot guarantee that it is really the end_node
    # defined by EdgeEnd
    end_node = bar.ConnectedBy[1].RelatedStructuralConnection.GlobalId
    return end_node


(
    bars[1][1]
    .HasAssociations[0]
    .RelatingMaterial.MaterialProfiles[0]
    .Profile.HasProperties[0]
    .Properties[0]
    .NominalValue[0]
)


(
    bars[1][1]
    .HasAssociations[0]
    .RelatingMaterial.MaterialProfiles[0]
    .Profile.HasProperties[0]
    .Properties[0]
    .Unit
)


# | export
@patch
def get_surface_area(self: View, bar):
    surface_area = (
        bar.HasAssociations[0]
        .RelatingMaterial.MaterialProfiles[0]
        .Profile.HasProperties[0]
        .Properties[0]
        .NominalValue[0]
    )
    return surface_area


(
    bars[1][1]
    .HasAssociations[0]
    .RelatingMaterial.MaterialProfiles[0]
    .Material.HasProperties[0]
    .Properties[0]
    .NominalValue[0]
)


(
    bars[1][1]
    .HasAssociations[0]
    .RelatingMaterial.MaterialProfiles[0]
    .Material.HasProperties[0]
    .Properties[0]
)


# | export
@patch
def get_modulus_of_elasticity(self: View, bar):
    modulus_of_elasticity = (
        bar.HasAssociations[0]
        .RelatingMaterial.MaterialProfiles[0]
        .Material.HasProperties[0]
        .Properties[0]
        .NominalValue[0]
    )
    return modulus_of_elasticity


# | export
@patch
def get_nodes_and_bars(self: View):
    self.nodes_and_bars = self.ifc_structural_analysis_model.IsGroupedBy[
        0
    ].RelatedObjects
    self.nodes = [
        (
            node.GlobalId,
            *self.get_coordinates(node),
            self.get_translational_x(node),
            self.get_translational_y(node),
            self.get_translational_z(node),
        )
        for node in self.nodes_and_bars
        if node.is_a("IfcStructuralPointConnection")
    ]
    self.bars = [
        (
            bar.GlobalId,
            self.get_start_node(bar),
            self.get_end_node(bar),
            self.get_surface_area(bar),
            self.get_modulus_of_elasticity(bar),
        )
        for bar in self.nodes_and_bars
        if bar.is_a("IfcStructuralCurveMember")
    ]
    self.nodes_df = pd.DataFrame(
        self.nodes,
        columns=[
            "Node",
            "Coordinate_X",
            "Coordinate_Y",
            "Coordinate_Z",
            "Translational_X",
            "Translational_Y",
            "Translational_Z",
        ],
    )
    self.bars_df = pd.DataFrame(
        self.bars,
        columns=[
            "Bar",
            "Start_node",
            "End_node",
            "Cross-sectional_area",
            "Modulus_of_elasticity",
        ],
    )


System.get_nodes_and_bars()


System.nodes_df.style.hide(axis="index")


System.bars_df.style.hide(axis="index")


point_load = System.load_group.IsGroupedBy[0].RelatedObjects[0]


point_load.AssignedToStructuralItem[0].RelatingElement


point_load.AppliedLoad.ForceX


# | export
@patch
def get_force_x(self: View, point_load):
    force_x = point_load.AppliedLoad.ForceX
    return force_x


# | export
@patch
def get_force_y(self: View, point_load):
    force_y = point_load.AppliedLoad.ForceY
    return force_y


# | export
@patch
def get_force_z(self: View, point_load):
    force_z = point_load.AppliedLoad.ForceZ
    return force_z


# | export
@patch
def get_node_for_point_load(self: View, point_load):
    node = point_load.AssignedToStructuralItem[0].RelatingElement.GlobalId
    return node


# | export
@patch
def get_point_loads(self: View):
    self.point_loads = [
        (
            point_load.GlobalId,
            self.get_node_for_point_load(point_load),
            self.get_force_x(point_load),
            self.get_force_y(point_load),
            self.get_force_z(point_load),
        )
        for point_load in self.load_group.IsGroupedBy[0].RelatedObjects
    ]

    self.point_loads_df = pd.DataFrame(
        self.point_loads,
        columns=["Point_Load", "Node", "Force_X", "Force_Y", "Force_Z"],
    )


System.get_point_loads()


System.point_loads_df.style.hide(axis="index")





ifctruss.ifctruss.solve(model)


# | export
@patch
def get_result_group(self: View, result_group):
    self.result_group = self.ifc_model.by_guid(result_group)
    self.theory_type = self.result_group.TheoryType
    self.is_linear = self.result_group.IsLinear


result_group = model.by_type("IfcStructuralResultGroup")[0].GlobalId


System.get_result_group(result_group)


System.theory_type


System.is_linear


System.result_group.IsGroupedBy[0].RelatedObjects


System.result_group.IsGroupedBy[0].RelatedObjects[0].AppliedLoad


System.result_group.IsGroupedBy[0].RelatedObjects[
    0
].AssignedToStructuralItem[0].RelatingElement


# | export
@patch
def get_displacement_x(self: View, point_reaction):
    displacement_x = point_reaction.AppliedLoad.DisplacementX
    return displacement_x


# | export
@patch
def get_displacement_y(self: View, point_reaction):
    displacement_y = point_reaction.AppliedLoad.DisplacementY
    return displacement_y


# | export
@patch
def get_displacement_z(self: View, point_reaction):
    displacement_z = point_reaction.AppliedLoad.DisplacementZ
    return displacement_z


# | export
@patch
def get_node_for_displacement(self: View, point_reaction):
    node = point_reaction.AssignedToStructuralItem[
        0
    ].RelatingElement.GlobalId
    return node


# | export
@patch
def get_displacements(self: View):
    self.point_reactions = [
        point_reaction
        for point_reaction in self.result_group.IsGroupedBy[
            0
        ].RelatedObjects
        if point_reaction.is_a("IfcStructuralPointReaction")
    ]

    self.displacments = [
        (
            self.get_node_for_displacement(point_reaction),
            self.get_displacement_x(point_reaction),
            self.get_displacement_y(point_reaction),
            self.get_displacement_z(point_reaction),
        )
        for point_reaction in self.point_reactions
        if point_reaction.AppliedLoad.is_a(
            "IfcStructuralLoadSingleDisplacement"
        )
    ]

    self.displacments_df = pd.DataFrame(
        self.displacments,
        columns=[
            "Node",
            "Displacement_X",
            "Displacement_Y",
            "Displacement_Z",
        ],
    )


System.get_displacements()


System.point_reactions


System.displacments


System.displacments_df


# | export
@patch
def get_forces(self: View):
    self.forces = [
        (
            # Since they are similar relationships,
            # the methods used for Point_load are reused.
            self.get_node_for_point_load(point_reaction),
            self.get_force_x(point_reaction),
            self.get_force_y(point_reaction),
            self.get_force_z(point_reaction),
        )
        for point_reaction in self.point_reactions
        if point_reaction.AppliedLoad.is_a("IfcStructuralLoadSingleForce")
    ]

    self.forces_df = pd.DataFrame(
        self.forces,
        columns=[
            "Node",
            "Force_X",
            "Force_Y",
            "Force_Z",
        ],
    )


System.get_forces()


System.forces_df


# | export
@patch
def get_normal_force(self: View, curve_reaction):
    first_location = curve_reaction.AppliedLoad.Locations[0][0]
    second_location = curve_reaction.AppliedLoad.Locations[1][0]

    first_value = curve_reaction.AppliedLoad.Values[0]
    second_value = curve_reaction.AppliedLoad.Values[1]

    if first_location < second_location:
        normal_force = second_value.ForceX
    elif first_location > second_location:
        normal_force = first_value.ForceX

    if normal_force > 0:
        type_of_normal_force = "Tensile force"
    elif normal_force < 0:
        type_of_normal_force = "Compressive force"
    elif normal_force == 0:
        type_of_normal_force = "Zero-force"

    return normal_force, type_of_normal_force


# | export
@patch
def get_normal_forces(self: View):
    self.curve_reactions = [
        curve_reaction
        for curve_reaction in self.result_group.IsGroupedBy[
            0
        ].RelatedObjects
        if curve_reaction.is_a("IfcStructuralCurveReaction")
    ]

    self.normal_forces = [
        (
            # Since they are similar relationships,
            # the methods used for Point_load are reused.
            self.get_node_for_point_load(curve_reaction),
            *self.get_normal_force(curve_reaction),
        )
        for curve_reaction in self.curve_reactions
    ]

    self.normal_forces_df = pd.DataFrame(
        self.normal_forces,
        columns=[
            "Bar",
            "Normal_force",
            "Type_of_normal_force",
        ],
    )


System.get_normal_forces()


System.normal_forces_df


System.curve_reactions


test_value = System.get_node_for_point_load(System.curve_reactions[0])


(test_value, *System.get_normal_force(System.curve_reactions[0]))


System.curve_reactions[0].AppliedLoad.Locations[1][0]


System.curve_reactions[0].AppliedLoad.Values[1].ForceX


# | hide
nbdev.nbdev_export()
