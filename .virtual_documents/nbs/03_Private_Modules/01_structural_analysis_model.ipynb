


# | default_exp _structural_analysis_model


# | export

# Copyright © 2023-2024  IfcTruss Contributors
#
# This program is free software: you can redistribute it and/or modify
# it under the terms of the GNU Lesser General Public License as published by
# the Free Software Foundation, either version 3 of the License, or
# (at your option) any later version.
#
# This program is distributed in the hope that it will be useful,
# but WITHOUT ANY WARRANTY; without even the implied warranty of
# MERCHANTABILITY or FITNESS FOR A PARTICULAR PURPOSE.  See the
# GNU Lesser General Public License for more details.
#
# You should have received a copy of the GNU Lesser General Public License
# along with this program.  If not, see <https://www.gnu.org/licenses/>.


# | hide
import nbdev
import nbdev.showdoc





# | export
from fastcore.basics import patch
import ifcopenshell
import numpy as np
import pandas as pd


# | export
from ifctruss import __version__ as ifctruss_version
from ifctruss._truss_creation import TrussCreation





# | export
class StructuralAnalysisModelCreation:
    def __init__(self, version: str = "IFC4X3_ADD2"):
        self.ifc_model: ifcopenshell.file = ifcopenshell.file(
            schema=version
        )

        # IFC HEADER
        self.VIEW_DEFINITION: str = "ViewDefinition[]"

        # IfcProject
        self.PROJECT_NAME: str = "Structural analysis models"
        self.PROJECT_COORDINATE_SYSTEM = {
            "ORIGIN": (0.0, 0.0, 0.0),
            "LOCAL_Z_AXIS": (0.0, 0.0, 1.0),
            "LOCAL_X_AXIS": (1.0, 0.0, 0.0),
            "COORDINATE_SPACE_DIMENSION": 3,
            "PRECISION": 0.00001,
        }

        # IfcSIUnit
        self.SI_UNITS = (
            ("FORCEUNIT", "KILO", "NEWTON"),
            ("PRESSUREUNIT", "KILO", "PASCAL"),
            ("LENGTHUNIT", None, "METRE"),
            ("AREAUNIT", None, "SQUARE_METRE"),
        )

        # IfcStructuralAnalysisModels
        self.structural_analysis_models = []








# | export
@patch
def create_basic_structure(self: StructuralAnalysisModelCreation):
    # IFC Header
    self.ifc_model.wrapped_data.header.file_description.description = (
        self.VIEW_DEFINITION,
    )

    self.ifc_model.wrapped_data.header.file_name.originating_system = (
        f"IfcTruss v{ifctruss_version}"
    )

    # IFC Body
    ## Unit
    unit = []
    for SI_UNIT in self.SI_UNITS:
        unit.append(self.ifc_model.createIfcSIUnit(None, *SI_UNIT))
    units_in_context = self.ifc_model.createIfcUnitAssignment(unit)

    ## Project coordinate system
    origin = self.ifc_model.createIfcCartesianPoint(
        self.PROJECT_COORDINATE_SYSTEM["ORIGIN"]
    )
    z_axis = self.ifc_model.createIfcDirection(
        self.PROJECT_COORDINATE_SYSTEM["LOCAL_Z_AXIS"]
    )
    x_axis = self.ifc_model.createIfcDirection(
        self.PROJECT_COORDINATE_SYSTEM["LOCAL_X_AXIS"]
    )
    self.world_coordinate_system = self.ifc_model.createIfcAxis2Placement3D(
        origin, z_axis, x_axis
    )
    self.representation_contexts = (
        self.ifc_model.createIfcGeometricRepresentationContext(
            "3D",
            "Model",
            self.PROJECT_COORDINATE_SYSTEM["COORDINATE_SPACE_DIMENSION"],
            self.PROJECT_COORDINATE_SYSTEM["PRECISION"],
            self.world_coordinate_system,
            None,
        )
    )

    ## Project
    self.ifc_project = self.ifc_model.createIfcProject(
        ifcopenshell.guid.new(),
        None,
        self.PROJECT_NAME,
        None,
        None,
        None,
        None,
        [self.representation_contexts],
        units_in_context,
    )


# | export
@patch
def create_from_DataFrame_a_truss_model(
    self: StructuralAnalysisModelCreation,
    *,
    Bars,
    Nodes,
    Point_Loads,
    Load_Groups,
):
    truss_model = TrussCreation(
        model=self.ifc_model,
        representation_contexts=self.representation_contexts,
        world_coordinate_system=self.world_coordinate_system,
        relating_context=self.ifc_project,
        Bars=Bars,
        Nodes=Nodes,
        Point_Loads=Point_Loads,
        Load_Groups=Load_Groups,
    )

    truss_model.create_structural_analysis_model()
    truss_model.create_nodes()
    truss_model.create_bars()
    truss_model.assignment_of_nodes_and_bars_to_the_analysis_model()
    truss_model.create_point_loads()
    truss_model.create_load_groups()
    truss_model.create_modulus_of_elasticitys()
    truss_model.create_surface_areas()
    truss_model.create_material_profiles()

    self.structural_analysis_models.append(truss_model)


Nodes_data = {
    "Node": pd.Series([1, 2, 3, 4], dtype=int),
    "Coordinate_X": pd.Series([0, 0, -4e3, -4e3], dtype=float),
    "Coordinate_Y": pd.Series([0, 0, 0, 0], dtype=float),
    "Coordinate_Z": pd.Series([0, 3e3, 3e3, 6e3], dtype=float),
    "Translational_X": pd.Series([1, 0, 1, 1], dtype=bool),
    "Translational_Y": pd.Series([1, 0, 1, 1], dtype=bool),
    "Translational_Z": pd.Series([1, 0, 1, 1], dtype=bool),
}

Nodes = pd.DataFrame(Nodes_data)
Nodes.style.hide(axis="index")


Bars_data = {
    "Bar": pd.Series([1, 2, 3], dtype=int),
    "Start_node": pd.Series([2, 2, 2], dtype=int),
    "End_node": pd.Series([1, 3, 4], dtype=int),
    "Cross-sectional_area": pd.Series([1e3, 1e3, 1e3], dtype=float),
    "Modulus_of_elasticity": pd.Series([1e3, 1e3, 1e3], dtype=float),
}
Bars = pd.DataFrame(Bars_data)
Bars.style.hide(axis="index")


Point_Loads_data = {
    "Point_Load": pd.Series(
        [
            1,
        ],
        dtype=int,
    ),
    "Node": pd.Series(
        [
            2,
        ],
        dtype=int,
    ),
    "Force_X": pd.Series(
        [
            100e3,
        ],
        dtype=float,
    ),
    "Force_Y": pd.Series(
        [
            0,
        ],
        dtype=float,
    ),
    "Force_Z": pd.Series(
        [
            -100e3,
        ],
        dtype=float,
    ),
}
Point_Loads = pd.DataFrame(Point_Loads_data)
Point_Loads.style.hide(axis="index")


Load_Groups_data = {
    "Load_Group": pd.Series(
        [
            1,
        ],
        dtype=int,
    ),
    "Point_Load": pd.Series(
        [
            1,
        ],
        dtype=int,
    ),
}
Load_Groups = pd.DataFrame(Load_Groups_data)
Load_Groups.style.hide(axis="index")


truss_test = StructuralAnalysisModelCreation()
truss_test.create_basic_structure()


truss_test.create_from_DataFrame_a_truss_model(
    Bars=Bars, Nodes=Nodes, Point_Loads=Point_Loads, Load_Groups=Load_Groups
)


truss_test.ifc_model.write("truss_excel_example.ifc")


assert isinstance(truss_test.ifc_model, ifcopenshell.file)


get_ipython().getoutput("cat "truss_excel_example.ifc"")





import ifcopenshell.validate
from rich import print


json_logger = ifcopenshell.validate.json_logger()
ifcopenshell.validate.validate(truss_test.ifc_model, json_logger)
json_list = json_logger.statements
if json_list:
    for i in json_list:
        print(i)





assert not json_list


# | hide
nbdev.nbdev_export()



