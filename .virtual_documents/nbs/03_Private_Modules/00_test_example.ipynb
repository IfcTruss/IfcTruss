


# | default_exp _example


# | export

# Copyright © 2023-2024  IfcTruss Contributors
#
# This program is free software: you can redistribute it and/or modify
# it under the terms of the GNU Lesser General Public License as published by
# the Free Software Foundation, either version 3 of the License, or
# (at your option) any later version.
#
# This program is distributed in the hope that it will be useful,
# but WITHOUT ANY WARRANTY; without even the implied warranty of
# MERCHANTABILITY or FITNESS FOR A PARTICULAR PURPOSE.  See the
# GNU Lesser General Public License for more details.
#
# You should have received a copy of the GNU Lesser General Public License
# along with this program.  If not, see <https://www.gnu.org/licenses/>.


# | hide
import nbdev
import nbdev.showdoc


# | export
import pandas as pd


# | export
nodes = pd.DataFrame(
    {
        "Node": pd.Series([2, 1, 3, 4], dtype=int),
        "Coordinate_X": pd.Series([0, 0, -4e3, -4e3], dtype=float),
        "Coordinate_Y": pd.Series([0, 0, 0, 0], dtype=float),
        "Coordinate_Z": pd.Series([3e3, 0, 3e3, 6e3], dtype=float),
        "Translational_X": pd.Series([0, 1, 1, 1], dtype=bool),
        "Translational_Y": pd.Series([1, 1, 1, 1], dtype=bool),
        "Translational_Z": pd.Series([0, 1, 1, 1], dtype=bool),
    }
)


nodes.style.hide(axis="index")


# | export
bars = pd.DataFrame(
    {
        "Bar": pd.Series([1, 2, 3], dtype=int),
        "Start_node": pd.Series([2, 2, 2], dtype=int),
        "End_node": pd.Series([1, 3, 4], dtype=int),
        "Cross-sectional_area": pd.Series([1e3, 1e3, 1e3], dtype=float),
        "Modulus_of_elasticity": pd.Series([1e3, 1e3, 1e3], dtype=float),
    }
)


bars.style.hide(axis="index")


# | export
point_loads = pd.DataFrame(
    {
        "Point_Load": pd.Series(
            [
                1,
            ],
            dtype=int,
        ),
        "Node": pd.Series(
            [
                2,
            ],
            dtype=int,
        ),
        "Force_X": pd.Series(
            [
                100e3,
            ],
            dtype=float,
        ),
        "Force_Y": pd.Series(
            [
                0,
            ],
            dtype=float,
        ),
        "Force_Z": pd.Series(
            [
                -100e3,
            ],
            dtype=float,
        ),
    }
)


point_loads.style.hide(axis="index")


# | export
load_groups = pd.DataFrame(
    {
        "Load_Group": pd.Series(
            [
                1,
            ],
            dtype=int,
        ),
        "Point_Load": pd.Series(
            [
                1,
            ],
            dtype=int,
        ),
    }
)


load_groups.style.hide(axis="index")


# | export
dfs = {
    "nodes": nodes,
    "bars": bars,
    "point_loads": point_loads,
    "load_groups": load_groups,
}


# | hide
nbdev.nbdev_export()
