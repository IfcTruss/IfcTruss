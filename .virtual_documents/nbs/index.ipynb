# | hide
import ifctruss











# | echo: false
for i in ifctruss.ifctruss.__all__:
    if len(i.split("_")) != 1:
        continue
    print(f"ifctruss.{i}")





# | echo: false
for i in ifctruss.ifctruss.__all__:
    if len(i.split("_")) == 1:
        continue
    print(f"ifctruss.{i}")





# | echo: false
for i in ifctruss.solver.__all__:
    print(f"ifctruss.solver.{i}")


















