











import ifcopenshell
import ifctruss
import pandas as pd








nodes = pd.DataFrame(
    {
        "Node": pd.Series([2, 1, 3, 4], dtype=int),
        "Coordinate_X": pd.Series([0, 0, -4e3, -4e3], dtype=float),
        "Coordinate_Y": pd.Series([0, 0, 0, 0], dtype=float),
        "Coordinate_Z": pd.Series([3e3, 0, 3e3, 6e3], dtype=float),
        "Translational_X": pd.Series([0, 1, 1, 1], dtype=bool),
        "Translational_Y": pd.Series([1, 1, 1, 1], dtype=bool),
        "Translational_Z": pd.Series([0, 1, 1, 1], dtype=bool),
    }
)

nodes


bars = pd.DataFrame(
    {
        "Bar": pd.Series([1, 2, 3], dtype=int),
        "Start_node": pd.Series([2, 2, 2], dtype=int),
        "End_node": pd.Series([1, 3, 4], dtype=int),
        "Cross-sectional_area": pd.Series([1e3, 1e3, 1e3], dtype=float),
        "Modulus_of_elasticity": pd.Series([1e3, 1e3, 1e3], dtype=float),
    }
)

bars


point_loads = pd.DataFrame(
    {
        # fmt: off
    "Point_Load": pd.Series([1,], dtype=int,),
    "Node": pd.Series([2,], dtype=int,),
    "Force_X": pd.Series([100e3,], dtype=float,),
    "Force_Y": pd.Series([0,], dtype=float,),
    "Force_Z": pd.Series([-100e3,], dtype=float,),
        # fmt: on
    }
)
point_loads








model = ifctruss.build(nodes=nodes, bars=bars, point_loads=point_loads)


type(model)





model.write("tutorial.ifc")














ifctruss.save_ods_template(ods_path="tutorial.ods")


ifctruss.save_xlsx_template(xlsx_path="tutorial.xlsx")





model = ifctruss.build_from_ods(ods_path="tutorial.ods")


model = ifctruss.build_from_xlsx(xlsx_path="tutorial.xlsx")


type(model)








model = ifcopenshell.open("tutorial.ifc")


dfs = ifctruss.view(model)


dfs.nodes


dfs.bars


dfs.point_loads











ifctruss.solve(model)





dfs = ifctruss.view(model, result_group=True)


dfs.displacments


dfs.forces


dfs.normal_forces


dfs.theory_type


dfs.is_linear


model.write("tutorial-with-resutls.ifc")



